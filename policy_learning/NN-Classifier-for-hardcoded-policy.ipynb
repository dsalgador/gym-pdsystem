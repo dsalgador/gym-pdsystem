{
 "cells": [
  {
   "cell_type": "code",
   "execution_count": 1,
   "metadata": {},
   "outputs": [
    {
     "name": "stderr",
     "output_type": "stream",
     "text": [
      "/home/dsalgador/anaconda3/envs/tensorflow/lib/python3.5/site-packages/h5py/__init__.py:36: FutureWarning: Conversion of the second argument of issubdtype from `float` to `np.floating` is deprecated. In future, it will be treated as `np.float64 == np.dtype(float).type`.\n",
      "  from ._conv import register_converters as _register_converters\n"
     ]
    }
   ],
   "source": [
    "\"\"\" \n",
    "The algorithm is tested on the PDSystemEnv  gym task \n",
    "and developed with Tensorflow\n",
    "\n",
    "Author: Daniel Salgado Rojo\n",
    "\"\"\"\n",
    "import tensorflow as tf\n",
    "import numpy as np\n",
    "import gym\n",
    "import gym_pdsystem\n",
    "from gym import wrappers\n",
    "#import tflearn\n",
    "import argparse\n",
    "import pprint as pp\n",
    "\n",
    "#from ddpg.replay_buffer import ReplayBuffer\n",
    "\n",
    "from datetime import datetime\n",
    "\n",
    "import random\n",
    "from gym_pdsystem.envs.pdsystem_env import PDSystemEnv\n",
    "\n",
    "import gym_pdsystem.utils.utilsq as ut\n",
    "import gym_pdsystem.utils.constants as ct\n",
    "\n",
    "\n",
    "from matplotlib import animation, rc\n",
    "import matplotlib.pyplot as plt\n",
    "from IPython.display import HTML\n",
    "\n",
    "\n",
    "#TO OMMIT WARNINGS\n",
    "import warnings\n",
    "warnings.filterwarnings('ignore')"
   ]
  },
  {
   "cell_type": "code",
   "execution_count": 2,
   "metadata": {},
   "outputs": [
    {
     "name": "stdout",
     "output_type": "stream",
     "text": [
      "\u001b[33mWARN: gym.spaces.Box autodetected dtype as <class 'numpy.float32'>. Please provide explicit dtype.\u001b[0m\n",
      "\u001b[33mWARN: gym.spaces.Box autodetected dtype as <class 'numpy.float32'>. Please provide explicit dtype.\u001b[0m\n",
      "\u001b[33mWARN: gym.spaces.Box autodetected dtype as <class 'numpy.float32'>. Please provide explicit dtype.\u001b[0m\n",
      "\u001b[33mWARN: gym.spaces.Box autodetected dtype as <class 'numpy.float32'>. Please provide explicit dtype.\u001b[0m\n"
     ]
    },
    {
     "data": {
      "text/plain": [
       "[42]"
      ]
     },
     "execution_count": 2,
     "metadata": {},
     "output_type": "execute_result"
    }
   ],
   "source": [
    "episode_length = 30\n",
    "seed = 42\n",
    "\n",
    "system = PDSystemEnv()\n",
    "env = gym.make(\"PDSystemEnv-v0\")\n",
    "env._max_episode_steps = episode_length\n",
    "\n",
    "np.random.seed(seed)\n",
    "tf.set_random_seed(seed)\n",
    "env.seed(seed)\n"
   ]
  },
  {
   "cell_type": "code",
   "execution_count": 3,
   "metadata": {},
   "outputs": [],
   "source": [
    "def leftmost_emptiest_tank_policy(s, system):\n",
    "    min_boolean_indexes = np.isin(s, np.min(s))\n",
    "    min_indexes = np.where(min_boolean_indexes)\n",
    "    min_indexes = min_indexes[0]\n",
    "    #n_min = len(min_indexes)\n",
    "\n",
    "    possible_indexes = []\n",
    "    \n",
    "    for tank_visited in min_indexes:\n",
    "        hypothetical_next_tank_state = s[tank_visited] + system.truck_max_loads\n",
    "        #print(hypothetical_next_tank_state, system.tank_max_loads[tank_visited])\n",
    "        if hypothetical_next_tank_state <= system.tank_max_loads[tank_visited]:\n",
    "                    possible_indexes.append(tank_visited)\n",
    "    \n",
    "    \n",
    "    if len(possible_indexes) != 0:\n",
    "        tank_to_go = possible_indexes[0] # THIS IS WHAT CHANGES WITH RESPECT TO THE emptiest_tank_policy()\n",
    "        return tank_to_go\n",
    "    else:\n",
    "        return system.n #stay in the depot"
   ]
  },
  {
   "cell_type": "markdown",
   "metadata": {},
   "source": [
    "# Creating train, validation and test sets"
   ]
  },
  {
   "cell_type": "code",
   "execution_count": 4,
   "metadata": {},
   "outputs": [],
   "source": [
    "################################################################################\n",
    "# ENSURE THIS PARAMETER VALUES ARE SET AT THE BEGINNING OF THE pdsystem_env.py!!\n",
    "################################################################################\n",
    "\n",
    "# Example k = 1 (trucks), n = 3 (tanks)\n",
    "TANK_MAX_LOADS = np.array([100., 200, 100.])\n",
    "LEVEL_PERCENTAGES = np.array([ #b , c, e\n",
    "                                                [0.02, 0.31, 0.9],\n",
    "                                                [0.01, 0.03, 0.9],\n",
    "                                                [0.05, 0.16, 0.9]\n",
    "                                                   ])\n",
    "TRUCK_MAX_LOADS = np.array([50.])\n",
    "GRAPH_WEIGHTS = np.array([32., 159., 162., 0.])\n",
    "\n",
    "DISCRETE = False\n",
    "########################################"
   ]
  },
  {
   "cell_type": "code",
   "execution_count": 5,
   "metadata": {},
   "outputs": [
    {
     "name": "stdout",
     "output_type": "stream",
     "text": [
      "\u001b[33mWARN: gym.spaces.Box autodetected dtype as <class 'numpy.float32'>. Please provide explicit dtype.\u001b[0m\n",
      "\u001b[33mWARN: gym.spaces.Box autodetected dtype as <class 'numpy.float32'>. Please provide explicit dtype.\u001b[0m\n"
     ]
    }
   ],
   "source": [
    "seed = 42\n",
    "np.random.seed(seed)\n",
    "system = PDSystemEnv()\n",
    "\n",
    "N_TRAIN = 10**4; SEED_TRAIN = 42; train_file = 'train.txt'\n",
    "N_VAL = 10**3; SEED_VAL = 50; validation_file = 'validation.txt'\n",
    "N_TEST = 10**3; SEED_TEST = 58; test_file = 'test.txt'\n",
    "\n",
    "round_decimals = 5\n",
    "\n",
    "CREATE_DATASETS = False\n",
    "\n",
    "def create_datasets(outputfile, n_observations, seed = None):   \n",
    "    if seed != None:\n",
    "        np.random.seed(seed)\n",
    "        \n",
    "    with open('{}'.format(outputfile),'w') as f:\n",
    "        np.savetxt(f, [np.array(['tank1', 'tank2', 'tank3', 'target'])], fmt = \"%s\", delimiter=',')\n",
    "        for i in range(n_observations):\n",
    "            obs = []\n",
    "            for max_load in TANK_MAX_LOADS:\n",
    "                random_load = np.random.random() * max_load\n",
    "                obs.append(np.round(random_load,round_decimals)  )\n",
    "\n",
    "            obs.append(leftmost_emptiest_tank_policy(np.array(obs), system))   \n",
    "            np.savetxt(f, [np.array(obs)], fmt = ('%f','%f', '%f', '%d'), delimiter=',')  #!! fmt only for n=3\n",
    "\n",
    "if CREATE_DATASETS:          \n",
    "    create_datasets(train_file, N_TRAIN, SEED_TRAIN) \n",
    "    create_datasets(validation_file, N_VAL, SEED_VAL)      \n",
    "    create_datasets(test_file, N_TEST, SEED_TEST)            "
   ]
  },
  {
   "cell_type": "markdown",
   "metadata": {},
   "source": [
    "# Exploring data sets"
   ]
  },
  {
   "cell_type": "code",
   "execution_count": 6,
   "metadata": {},
   "outputs": [],
   "source": [
    "import pandas as pd"
   ]
  },
  {
   "cell_type": "code",
   "execution_count": 7,
   "metadata": {},
   "outputs": [],
   "source": [
    "train = pd.read_table(train_file, sep = \",\")\n",
    "test = pd.read_table(test_file, sep = \",\")\n",
    "validation = pd.read_table(validation_file, sep = \",\")"
   ]
  },
  {
   "cell_type": "code",
   "execution_count": 8,
   "metadata": {},
   "outputs": [
    {
     "data": {
      "image/png": "[encoded data removed]",
      "text/plain": [
       "<matplotlib.figure.Figure at 0x7f727127d668>"
      ]
     },
     "metadata": {},
     "output_type": "display_data"
    }
   ],
   "source": [
    "train.hist()\n",
    "plt.show()"
   ]
  },
  {
   "cell_type": "code",
   "execution_count": 9,
   "metadata": {},
   "outputs": [
    {
     "data": {
      "image/png": "[encoded data removed]",
      "text/plain": [
       "<matplotlib.figure.Figure at 0x7f724285ec50>"
      ]
     },
     "metadata": {},
     "output_type": "display_data"
    },
    {
     "data": {
      "image/png": "[encoded data removed]",
      "text/plain": [
       "<matplotlib.figure.Figure at 0x7f723ef2f978>"
      ]
     },
     "metadata": {},
     "output_type": "display_data"
    }
   ],
   "source": [
    "test.hist()\n",
    "validation.hist()\n",
    "\n",
    "plt.show()"
   ]
  },
  {
   "cell_type": "code",
   "execution_count": 10,
   "metadata": {},
   "outputs": [],
   "source": [
    "y_train = train[\"target\"].values#.reshape((N_TRAIN, ))\n",
    "X_train = train[[\"tank1\", \"tank2\",\"tank3\"]].values\n",
    "\n",
    "y_test = test[\"target\"].values#.reshape((N_TEST, ))\n",
    "X_test = test[[\"tank1\", \"tank2\",\"tank3\"]].values\n",
    "\n",
    "y_val = validation[\"target\"]#.reshape((N_VAL, ))\n",
    "X_val = validation[[\"tank1\", \"tank2\",\"tank3\"]].values"
   ]
  },
  {
   "cell_type": "code",
   "execution_count": 11,
   "metadata": {},
   "outputs": [],
   "source": [
    "X_train = X_train.astype('float32')\n",
    "X_test = X_test.astype('float32')\n",
    "X_val = X_val.astype('float32')"
   ]
  },
  {
   "cell_type": "markdown",
   "metadata": {},
   "source": [
    "# Stochastic gradient descent classifier "
   ]
  },
  {
   "cell_type": "code",
   "execution_count": 12,
   "metadata": {},
   "outputs": [],
   "source": [
    "from sklearn.linear_model import SGDClassifier"
   ]
  },
  {
   "cell_type": "code",
   "execution_count": 13,
   "metadata": {},
   "outputs": [],
   "source": [
    "from sklearn.model_selection import cross_val_predict, cross_val_score\n",
    "from sklearn.metrics import confusion_matrix"
   ]
  },
  {
   "cell_type": "code",
   "execution_count": 14,
   "metadata": {},
   "outputs": [],
   "source": [
    "sgd_clf = SGDClassifier(random_state = 42)\n",
    "sgd_clf.fit(X_train, y_train);"
   ]
  },
  {
   "cell_type": "markdown",
   "metadata": {},
   "source": [
    "## Cross validation accuracy"
   ]
  },
  {
   "cell_type": "code",
   "execution_count": 15,
   "metadata": {},
   "outputs": [],
   "source": [
    "CV = 10"
   ]
  },
  {
   "cell_type": "code",
   "execution_count": 16,
   "metadata": {
    "scrolled": true
   },
   "outputs": [
    {
     "name": "stdout",
     "output_type": "stream",
     "text": [
      "Average cross validation score:  0.805050233881416\n"
     ]
    }
   ],
   "source": [
    "cvs = cross_val_score(sgd_clf, X_train, y_train, cv = CV, scoring = \"accuracy\")\n",
    "print(\"Average cross validation score: \", np.mean(cvs))"
   ]
  },
  {
   "cell_type": "code",
   "execution_count": 17,
   "metadata": {},
   "outputs": [],
   "source": [
    "from sklearn.preprocessing import StandardScaler\n"
   ]
  },
  {
   "cell_type": "code",
   "execution_count": 18,
   "metadata": {},
   "outputs": [],
   "source": [
    "scaler = StandardScaler()\n",
    "X_train_scaled = scaler.fit_transform(X_train.astype(np.float64))"
   ]
  },
  {
   "cell_type": "code",
   "execution_count": 19,
   "metadata": {},
   "outputs": [
    {
     "name": "stdout",
     "output_type": "stream",
     "text": [
      "Average cross validation score for scaled train data:  0.9026149060019663\n"
     ]
    }
   ],
   "source": [
    "cvs = cross_val_score(sgd_clf, X_train_scaled, y_train, cv = CV, scoring = \"accuracy\")\n",
    "print(\"Average cross validation score for scaled train data: \", np.mean(cvs));"
   ]
  },
  {
   "cell_type": "markdown",
   "metadata": {},
   "source": [
    "## Error Analysis"
   ]
  },
  {
   "cell_type": "code",
   "execution_count": 20,
   "metadata": {},
   "outputs": [
    {
     "data": {
      "text/plain": [
       "array([[3218,   33,   64,    8],\n",
       "       [ 112, 1420,   45,   66],\n",
       "       [ 198,   89, 3027,   52],\n",
       "       [ 188,   64,   55, 1361]])"
      ]
     },
     "execution_count": 20,
     "metadata": {},
     "output_type": "execute_result"
    }
   ],
   "source": [
    "y_train_pred = cross_val_predict(sgd_clf, X_train_scaled, y_train, cv = CV)\n",
    "conf_mx = confusion_matrix(y_train, y_train_pred)\n",
    "conf_mx"
   ]
  },
  {
   "cell_type": "code",
   "execution_count": 21,
   "metadata": {},
   "outputs": [
    {
     "data": {
      "image/png": "[encoded data removed]",
      "text/plain": [
       "<matplotlib.figure.Figure at 0x7f723b1f0198>"
      ]
     },
     "metadata": {},
     "output_type": "display_data"
    }
   ],
   "source": [
    "plt.matshow(conf_mx, cmap = plt.cm.gray)\n",
    "plt.show()"
   ]
  },
  {
   "cell_type": "code",
   "execution_count": 22,
   "metadata": {},
   "outputs": [],
   "source": [
    "row_sums = conf_mx.sum(axis = 1, keepdims = True)\n",
    "norm_conf_mx = conf_mx / row_sums"
   ]
  },
  {
   "cell_type": "code",
   "execution_count": 23,
   "metadata": {},
   "outputs": [
    {
     "data": {
      "image/png": "[encoded data removed]",
      "text/plain": [
       "<matplotlib.figure.Figure at 0x7f723b1f00f0>"
      ]
     },
     "metadata": {},
     "output_type": "display_data"
    }
   ],
   "source": [
    "np.fill_diagonal(norm_conf_mx, 0)\n",
    "plt.matshow(norm_conf_mx, cmap = plt.cm.gray)\n",
    "plt.show()"
   ]
  },
  {
   "cell_type": "markdown",
   "metadata": {},
   "source": [
    "## Test prediction accuracy of the model trained on the whole train set"
   ]
  },
  {
   "cell_type": "code",
   "execution_count": 24,
   "metadata": {},
   "outputs": [],
   "source": [
    "y_test_pred = sgd_clf.predict(X_test)"
   ]
  },
  {
   "cell_type": "code",
   "execution_count": 25,
   "metadata": {},
   "outputs": [
    {
     "data": {
      "text/plain": [
       "array([[344,  10,   0,   0],\n",
       "       [  9, 119,  13,   0],\n",
       "       [ 30,  14, 300,   0],\n",
       "       [ 73,  25,  16,  47]])"
      ]
     },
     "execution_count": 25,
     "metadata": {},
     "output_type": "execute_result"
    }
   ],
   "source": [
    "conf_mx = confusion_matrix(y_test, y_test_pred)\n",
    "conf_mx"
   ]
  },
  {
   "cell_type": "code",
   "execution_count": 26,
   "metadata": {},
   "outputs": [
    {
     "data": {
      "text/plain": [
       "0.81"
      ]
     },
     "execution_count": 26,
     "metadata": {},
     "output_type": "execute_result"
    }
   ],
   "source": [
    "test_accuracy = np.trace(np.asarray(conf_mx))/conf_mx.sum()\n",
    "test_accuracy"
   ]
  },
  {
   "cell_type": "code",
   "execution_count": 27,
   "metadata": {},
   "outputs": [
    {
     "data": {
      "text/plain": [
       "0.928"
      ]
     },
     "execution_count": 27,
     "metadata": {},
     "output_type": "execute_result"
    }
   ],
   "source": [
    "sgdscaled_clf = SGDClassifier(random_state = 42)\n",
    "sgdscaled_clf.fit(X_train_scaled, y_train);\n",
    "\n",
    "scaler = StandardScaler()\n",
    "X_test_scaled = scaler.fit_transform(X_test.astype(np.float64))\n",
    "\n",
    "y_test_scaled_pred = sgdscaled_clf.predict(X_test_scaled)\n",
    "conf_mx = confusion_matrix(y_test, y_test_scaled_pred)\n",
    "test_accuracy = np.trace(np.asarray(conf_mx))/conf_mx.sum()\n",
    "test_accuracy"
   ]
  },
  {
   "cell_type": "code",
   "execution_count": 28,
   "metadata": {},
   "outputs": [
    {
     "data": {
      "image/png": "[encoded data removed]",
      "text/plain": [
       "<matplotlib.figure.Figure at 0x7f7232b48cf8>"
      ]
     },
     "metadata": {},
     "output_type": "display_data"
    }
   ],
   "source": [
    "plt.matshow(conf_mx, cmap = plt.cm.gray)\n",
    "plt.show()"
   ]
  },
  {
   "cell_type": "code",
   "execution_count": 29,
   "metadata": {},
   "outputs": [],
   "source": [
    "row_sums = conf_mx.sum(axis = 1, keepdims = True)\n",
    "norm_conf_mx = conf_mx / row_sums"
   ]
  },
  {
   "cell_type": "code",
   "execution_count": 30,
   "metadata": {},
   "outputs": [
    {
     "data": {
      "image/png": "[encoded data removed]",
      "text/plain": [
       "<matplotlib.figure.Figure at 0x7f7232b13470>"
      ]
     },
     "metadata": {},
     "output_type": "display_data"
    }
   ],
   "source": [
    "np.fill_diagonal(norm_conf_mx, 0)\n",
    "plt.matshow(norm_conf_mx, cmap = plt.cm.gray)\n",
    "plt.show()"
   ]
  },
  {
   "cell_type": "markdown",
   "metadata": {},
   "source": [
    "# Random forest classifier"
   ]
  },
  {
   "cell_type": "code",
   "execution_count": 31,
   "metadata": {},
   "outputs": [],
   "source": [
    "from sklearn.ensemble import RandomForestClassifier\n",
    "\n",
    "rf_clf = RandomForestClassifier(random_state = 42)\n",
    "rf_clf.fit(X_train, y_train);"
   ]
  },
  {
   "cell_type": "markdown",
   "metadata": {},
   "source": [
    "## Cross validation accuracy"
   ]
  },
  {
   "cell_type": "code",
   "execution_count": 32,
   "metadata": {},
   "outputs": [],
   "source": [
    "CV = 10"
   ]
  },
  {
   "cell_type": "code",
   "execution_count": 33,
   "metadata": {
    "scrolled": true
   },
   "outputs": [
    {
     "name": "stdout",
     "output_type": "stream",
     "text": [
      "Average cross validation score:  0.9851987684034821\n"
     ]
    }
   ],
   "source": [
    "cvs = cross_val_score(rf_clf, X_train, y_train, cv = CV, scoring = \"accuracy\")\n",
    "print(\"Average cross validation score: \", np.mean(cvs))"
   ]
  },
  {
   "cell_type": "code",
   "execution_count": 34,
   "metadata": {},
   "outputs": [],
   "source": [
    "from sklearn.preprocessing import StandardScaler\n"
   ]
  },
  {
   "cell_type": "code",
   "execution_count": 35,
   "metadata": {},
   "outputs": [],
   "source": [
    "scaler = StandardScaler()\n",
    "X_train_scaled = scaler.fit_transform(X_train.astype(np.float64))"
   ]
  },
  {
   "cell_type": "code",
   "execution_count": 36,
   "metadata": {},
   "outputs": [
    {
     "name": "stdout",
     "output_type": "stream",
     "text": [
      "Average cross validation score for scaled train data:  0.9851987684034821\n"
     ]
    }
   ],
   "source": [
    "cvs = cross_val_score(rf_clf, X_train_scaled, y_train, cv = CV, scoring = \"accuracy\")\n",
    "print(\"Average cross validation score for scaled train data: \", np.mean(cvs));"
   ]
  },
  {
   "cell_type": "markdown",
   "metadata": {},
   "source": [
    "## Error Analysis"
   ]
  },
  {
   "cell_type": "code",
   "execution_count": null,
   "metadata": {},
   "outputs": [],
   "source": []
  },
  {
   "cell_type": "code",
   "execution_count": 37,
   "metadata": {},
   "outputs": [
    {
     "data": {
      "text/plain": [
       "array([[3285,   17,   20,    1],\n",
       "       [  23, 1594,   13,   13],\n",
       "       [  32,   19, 3315,    0],\n",
       "       [   0,   10,    0, 1658]])"
      ]
     },
     "execution_count": 37,
     "metadata": {},
     "output_type": "execute_result"
    }
   ],
   "source": [
    "y_train_pred = cross_val_predict(rf_clf, X_train_scaled, y_train, cv = CV)\n",
    "conf_mx = confusion_matrix(y_train, y_train_pred)\n",
    "conf_mx"
   ]
  },
  {
   "cell_type": "code",
   "execution_count": 38,
   "metadata": {},
   "outputs": [
    {
     "data": {
      "image/png": "[encoded data removed]",
      "text/plain": [
       "<matplotlib.figure.Figure at 0x7f7231b1aeb8>"
      ]
     },
     "metadata": {},
     "output_type": "display_data"
    }
   ],
   "source": [
    "plt.matshow(conf_mx, cmap = plt.cm.gray)\n",
    "plt.show()"
   ]
  },
  {
   "cell_type": "code",
   "execution_count": 39,
   "metadata": {},
   "outputs": [],
   "source": [
    "row_sums = conf_mx.sum(axis = 1, keepdims = True)\n",
    "norm_conf_mx = conf_mx / row_sums"
   ]
  },
  {
   "cell_type": "code",
   "execution_count": 40,
   "metadata": {},
   "outputs": [
    {
     "data": {
      "image/png": "[encoded data removed]",
      "text/plain": [
       "<matplotlib.figure.Figure at 0x7f7231b1abe0>"
      ]
     },
     "metadata": {},
     "output_type": "display_data"
    }
   ],
   "source": [
    "np.fill_diagonal(norm_conf_mx, 0)\n",
    "plt.matshow(norm_conf_mx, cmap = plt.cm.gray)\n",
    "plt.show()"
   ]
  },
  {
   "cell_type": "markdown",
   "metadata": {},
   "source": [
    "## Test prediction accuracy of the model trained on the whole train set"
   ]
  },
  {
   "cell_type": "code",
   "execution_count": 41,
   "metadata": {},
   "outputs": [],
   "source": [
    "y_test_pred = rf_clf.predict(X_test)"
   ]
  },
  {
   "cell_type": "code",
   "execution_count": 42,
   "metadata": {},
   "outputs": [
    {
     "data": {
      "text/plain": [
       "array([[349,   3,   2,   0],\n",
       "       [  0, 140,   0,   1],\n",
       "       [  2,   0, 342,   0],\n",
       "       [  0,   2,   0, 159]])"
      ]
     },
     "execution_count": 42,
     "metadata": {},
     "output_type": "execute_result"
    }
   ],
   "source": [
    "conf_mx = confusion_matrix(y_test, y_test_pred)\n",
    "conf_mx"
   ]
  },
  {
   "cell_type": "code",
   "execution_count": 43,
   "metadata": {},
   "outputs": [
    {
     "data": {
      "text/plain": [
       "0.99"
      ]
     },
     "execution_count": 43,
     "metadata": {},
     "output_type": "execute_result"
    }
   ],
   "source": [
    "test_accuracy = np.trace(np.asarray(conf_mx))/conf_mx.sum()\n",
    "test_accuracy"
   ]
  },
  {
   "cell_type": "code",
   "execution_count": 44,
   "metadata": {},
   "outputs": [
    {
     "data": {
      "text/plain": [
       "0.977"
      ]
     },
     "execution_count": 44,
     "metadata": {},
     "output_type": "execute_result"
    }
   ],
   "source": [
    "rfscaled_clf = RandomForestClassifier(random_state = 42)\n",
    "rfscaled_clf.fit(X_train_scaled, y_train);\n",
    "\n",
    "scaler = StandardScaler()\n",
    "X_test_scaled = scaler.fit_transform(X_test.astype(np.float64))\n",
    "\n",
    "y_test_scaled_pred = rfscaled_clf.predict(X_test_scaled)\n",
    "conf_mx = confusion_matrix(y_test, y_test_scaled_pred)\n",
    "test_accuracy = np.trace(np.asarray(conf_mx))/conf_mx.sum()\n",
    "test_accuracy"
   ]
  },
  {
   "cell_type": "code",
   "execution_count": 45,
   "metadata": {},
   "outputs": [
    {
     "data": {
      "image/png": "[encoded data removed]",
      "text/plain": [
       "<matplotlib.figure.Figure at 0x7f7231ae8080>"
      ]
     },
     "metadata": {},
     "output_type": "display_data"
    }
   ],
   "source": [
    "plt.matshow(conf_mx, cmap = plt.cm.gray)\n",
    "plt.show()"
   ]
  },
  {
   "cell_type": "code",
   "execution_count": 46,
   "metadata": {},
   "outputs": [],
   "source": [
    "row_sums = conf_mx.sum(axis = 1, keepdims = True)\n",
    "norm_conf_mx = conf_mx / row_sums"
   ]
  },
  {
   "cell_type": "code",
   "execution_count": 47,
   "metadata": {},
   "outputs": [
    {
     "data": {
      "image/png": "[encoded data removed]",
      "text/plain": [
       "<matplotlib.figure.Figure at 0x7f7231a9d518>"
      ]
     },
     "metadata": {},
     "output_type": "display_data"
    }
   ],
   "source": [
    "np.fill_diagonal(norm_conf_mx, 0)\n",
    "plt.matshow(norm_conf_mx, cmap = plt.cm.gray)\n",
    "plt.show()"
   ]
  },
  {
   "cell_type": "markdown",
   "metadata": {},
   "source": [
    "# Neural Network Classifier"
   ]
  },
  {
   "cell_type": "code",
   "execution_count": 48,
   "metadata": {},
   "outputs": [],
   "source": [
    "def reset_graph(seed=42):\n",
    "    tf.reset_default_graph()\n",
    "    tf.set_random_seed(seed)\n",
    "    np.random.seed(seed)\n"
   ]
  },
  {
   "cell_type": "code",
   "execution_count": 49,
   "metadata": {},
   "outputs": [],
   "source": [
    "class NNClassifier(object):\n",
    "    \"\"\"\n",
    "    Input to the network is the state, output is the action\n",
    "    under a deterministic policy.\n",
    "    \"\"\"\n",
    "\n",
    "    def __init__(self, sess, learning_rate, model_file = None):\n",
    "        self.sess = sess\n",
    "        self.learning_rate = learning_rate\n",
    "\n",
    "        # Network architecture\n",
    "        #self.action, self.y, self.X = self.create_network()\n",
    "        self.action = self.create_network()\n",
    "\n",
    "        self.network_params = tf.trainable_variables()\n",
    "        \n",
    "    def create_network(self):\n",
    "       \n",
    "        with tf.name_scope(\"dnn\"):\n",
    "            #inputs = tflearn.input_data(shape=[None, self.s_dim])\n",
    "            tf.set_random_seed(seed)\n",
    "            # 1. Parameters to determine the NN architecture\n",
    "\n",
    "            n_inputs = env.observation_space.shape[1]\n",
    "            n_hidden1 = 20; activation1 = tf.nn.elu\n",
    "            n_hidden2 = 6; activation2 = tf.nn.elu\n",
    "            n_outputs = env.action_space.shape[1]\n",
    "\n",
    "            self.initializer = tf.contrib.layers.variance_scaling_initializer()\n",
    "\n",
    "            # 2. Build the Neural Network\n",
    "            \n",
    "            self.X = tf.placeholder(tf.float32, shape = (None, n_inputs), name = \"X\")\n",
    "            self.y = tf.placeholder(tf.int64, shape = (None), name = \"y\")\n",
    "            \n",
    "            hidden1 = tf.layers.dense(self.X, n_hidden1, activation = activation1,\n",
    "                                     kernel_initializer = self.initializer)\n",
    "            hidden2 = tf.layers.dense(hidden1, n_hidden2, activation = activation2,\n",
    "                                     kernel_initializer = self.initializer)\n",
    "            logits = tf.layers.dense(hidden2, n_outputs,kernel_initializer = self.initializer)\n",
    "            \n",
    "        with tf.name_scope(\"loss\"):\n",
    "            xentropy = tf.nn.sparse_softmax_cross_entropy_with_logits(labels = self.y,\n",
    "                                                                      logits = logits)\n",
    "            loss = tf.reduce_mean(xentropy, name = \"loss\")\n",
    "            \n",
    "        with tf.name_scope(\"train\"):\n",
    "            # Optimization Op\n",
    "            optimizer = tf.train.AdamOptimizer(self.learning_rate)\n",
    "            self.optimize = optimizer.minimize(loss)\n",
    "            \n",
    "        with tf.name_scope(\"eval\"):\n",
    "            correct = tf.nn.in_top_k(logits, self.y, 1)\n",
    "            self.accuracy = tf.reduce_mean(tf.cast(correct,tf.float32))\n",
    "      \n",
    "        with tf.name_scope(\"action\"):\n",
    "            outputs = tf.nn.softmax(logits)\n",
    "            # 3. Select a random action (where to go) based on the estimated probabilities\n",
    "            self.action = tf.multinomial(tf.log(outputs), num_samples = 1)\n",
    "\n",
    "        self.init = tf.global_variables_initializer()\n",
    "        \n",
    "        if model_file != None:\n",
    "            self.saver = tf.train.Saver()\n",
    "        \n",
    "        return self.action#, y, X\n",
    "\n",
    "    def train(self,X,y):\n",
    "        self.sess.run(self.optimize, feed_dict={\n",
    "            self.y: y,\n",
    "            self.X: X\n",
    "        })\n",
    "\n",
    "    def predict_action(self, X, y):\n",
    "        return self.sess.run(self.action, feed_dict={\n",
    "            self.X: X,\n",
    "            self.y: y\n",
    "        })\n",
    "    \n",
    "    def get_accuracy(self, X, y):\n",
    "        return self.sess.run(self.accuracy, feed_dict={\n",
    "            self.X: X,\n",
    "            self.y: y\n",
    "        })\n",
    "\n",
    "    def get_num_trainable_vars(self):\n",
    "        return self.num_trainable_vars\n",
    "    \n",
    "    def fetch_batch(self, X,y,epoch, batch_index, batch_size, data_size, n_batches):\n",
    "        #np.random.seed(epoch * n_batches + batch_index)  # not shown in the book\n",
    "        indices = np.random.randint(data_size, size=batch_size)  # not shown\n",
    "        X_batch = X[indices] # not shown\n",
    "        y_batch = y[indices] # not shown\n",
    "        return X_batch, y_batch\n",
    "\n",
    "    def fit(self, X_train, y_train, X_val, y_val, epochs = 10, batch_size = 50, summary_freq = None):\n",
    "        N_TRAIN = X_train.shape[0]\n",
    "        m = y_train.shape[0]\n",
    "        \n",
    "        n_batches = int(np.ceil(N_TRAIN/ batch_size))\n",
    "        #print(n_batches)\n",
    "             \n",
    "        for epoch in range(epochs+1):\n",
    "            for batch_index in range(n_batches):\n",
    "                X_batch, y_batch = self.fetch_batch(X_train,y_train,epoch, batch_index, batch_size, m, n_batches)\n",
    "                #print(\"Xbatch shape\",X_batch.shape, \"y_batch shape\", y_batch.shape)\n",
    "                self.train(X_batch, y_batch)\n",
    "            if summary_freq != None:    \n",
    "                acc_train = self.get_accuracy(X_batch, y_batch)\n",
    "                acc_val = self.get_accuracy(X_val, y_val)\n",
    "                if epoch % summary_freq  == 0:\n",
    "                    print(\"Epoch: \", epoch, \" Train (batch) accuracy: \", acc_train, \" Validation accuracy: \", acc_val)\n"
   ]
  },
  {
   "cell_type": "code",
   "execution_count": 50,
   "metadata": {},
   "outputs": [
    {
     "name": "stdout",
     "output_type": "stream",
     "text": [
      "WARNING:tensorflow:From /home/dsalgador/anaconda3/envs/tensorflow/lib/python3.5/site-packages/tensorflow/contrib/learn/python/learn/datasets/base.py:198: retry (from tensorflow.contrib.learn.python.learn.datasets.base) is deprecated and will be removed in a future version.\n",
      "Instructions for updating:\n",
      "Use the retry module or similar alternatives.\n",
      "Epoch:  0  Train (batch) accuracy:  0.82  Validation accuracy:  0.868\n",
      "Epoch:  1  Train (batch) accuracy:  0.89  Validation accuracy:  0.895\n",
      "All Train accuracy 0.9092  Test accuracy:  0.901\n"
     ]
    }
   ],
   "source": [
    "reset_graph()\n",
    "\n",
    "seed = 43\n",
    "np.random.seed(seed)\n",
    "\n",
    "epochs = 1\n",
    "batch_size = 100\n",
    "\n",
    "learning_rate = 0.01\n",
    "summary_freq = np.ceil(epochs/10)\n",
    "\n",
    "\n",
    "model_file = None#'./final_nn_classifier.ckpt'\n",
    "\n",
    "\n",
    "with tf.Session() as sess:\n",
    "\n",
    "                nn_clf = NNClassifier(sess, learning_rate, model_file)\n",
    "                nn_clf.init.run()\n",
    "                nn_clf.fit(X_train, y_train, X_val, y_val, epochs = epochs, batch_size = batch_size, summary_freq = summary_freq)\n",
    "                acc_test = nn_clf.get_accuracy(X_test, y_test)\n",
    "                acc_train = nn_clf.get_accuracy(X_train, y_train)\n",
    "\n",
    "                print(\"All Train accuracy\", acc_train, \" Test accuracy: \", acc_test)"
   ]
  },
  {
   "cell_type": "code",
   "execution_count": null,
   "metadata": {
    "scrolled": true
   },
   "outputs": [],
   "source": []
  },
  {
   "cell_type": "code",
   "execution_count": null,
   "metadata": {},
   "outputs": [],
   "source": []
  },
  {
   "cell_type": "code",
   "execution_count": 51,
   "metadata": {},
   "outputs": [
    {
     "name": "stdout",
     "output_type": "stream",
     "text": [
      "0.01\n"
     ]
    }
   ],
   "source": [
    "reset_graph()\n",
    "\n",
    "# sess = tf.Session() \n",
    "with tf.Session() as sess:\n",
    "    #reset_graph()\n",
    "    #nn_clf = NNClassifier(sess, learning_rate, model_file)\n",
    "    #nn_clf.init.run()\n",
    "    #saver = tf.train.import_meta_graph('./final_nn_classifier.ckpt.meta')\n",
    "    print(    nn_clf.learning_rate)\n",
    "    nn_clf.sess = sess\n",
    "    nn_clf.create_network()\n",
    "    \n",
    "    #nn_clf.saver.restore(sess, './final_nn_classifier.ckpt')\n",
    "    #print(    nn_clf.learning_rate)\n",
    "    #acc_test = nn_clf.get_accuracy(X_test, y_test)\n",
    "    #print(\" Test accuracy: \", acc_test)"
   ]
  },
  {
   "cell_type": "markdown",
   "metadata": {},
   "source": [
    "## Saving and restoring models"
   ]
  },
  {
   "cell_type": "code",
   "execution_count": null,
   "metadata": {},
   "outputs": [],
   "source": []
  },
  {
   "cell_type": "code",
   "execution_count": null,
   "metadata": {},
   "outputs": [
    {
     "name": "stdout",
     "output_type": "stream",
     "text": [
      "Epoch:  0  Train (batch) accuracy:  0.94  Validation accuracy:  0.899\n",
      "Saved model with validation accuracy  0.899\n",
      "Epoch:  200  Train (batch) accuracy:  0.98  Validation accuracy:  0.976\n",
      "Saved model with validation accuracy  0.976\n",
      "Epoch:  400  Train (batch) accuracy:  0.98  Validation accuracy:  0.989\n",
      "Saved model with validation accuracy  0.989\n",
      "Epoch:  600  Train (batch) accuracy:  1.0  Validation accuracy:  0.985\n",
      "Epoch:  800  Train (batch) accuracy:  1.0  Validation accuracy:  0.982\n",
      "Epoch:  1000  Train (batch) accuracy:  1.0  Validation accuracy:  0.991\n",
      "Saved model with validation accuracy  0.991\n",
      "Epoch:  1200  Train (batch) accuracy:  1.0  Validation accuracy:  0.994\n",
      "Saved model with validation accuracy  0.994\n",
      "Epoch:  1400  Train (batch) accuracy:  1.0  Validation accuracy:  0.995\n",
      "Saved model with validation accuracy  0.995\n",
      "Epoch:  1600  Train (batch) accuracy:  1.0  Validation accuracy:  0.987\n"
     ]
    }
   ],
   "source": [
    "reset_graph()\n",
    "\n",
    "seed = 42\n",
    "learning_rate = 0.01\n",
    "\n",
    "model_file = './final_nn_classifier_{}.ckpt'.format(learning_rate)\n",
    "graph_file =  '{}.meta'.format(model_file)\n",
    "epochs = 2000\n",
    "batch_size = 50\n",
    "\n",
    "summary_freq = np.ceil(epochs/10)\n",
    "\n",
    "\n",
    "hidden1_neurons = 100\n",
    "hidden2_neurons = 50\n",
    "\n",
    "\n",
    "with tf.name_scope(\"dnn\"):\n",
    "            #inputs = tflearn.input_data(shape=[None, self.s_dim])\n",
    "            tf.set_random_seed(seed)\n",
    "            # 1. Parameters to determine the NN architecture\n",
    "\n",
    "            n_inputs = env.observation_space.shape[1]\n",
    "            n_hidden1 = hidden1_neurons; activation1 = tf.nn.elu\n",
    "            n_hidden2 = hidden2_neurons; activation2 = tf.nn.elu\n",
    "            n_outputs = env.action_space.shape[1]\n",
    "\n",
    "            initializer = tf.contrib.layers.variance_scaling_initializer()\n",
    "\n",
    "            # 2. Build the Neural Network\n",
    "            \n",
    "            X = tf.placeholder(tf.float32, shape = (None, n_inputs), name = \"X\")\n",
    "            y = tf.placeholder(tf.int64, shape = (None), name = \"y\")\n",
    "            \n",
    "            hidden1 = tf.layers.dense(X, n_hidden1, activation = activation1,\n",
    "                                     kernel_initializer = initializer)\n",
    "            hidden2 = tf.layers.dense(hidden1, n_hidden2, activation = activation2,\n",
    "                                     kernel_initializer = initializer)\n",
    "            logits = tf.layers.dense(hidden2, n_outputs,kernel_initializer = initializer)\n",
    "            \n",
    "with tf.name_scope(\"loss\"):\n",
    "            xentropy = tf.nn.sparse_softmax_cross_entropy_with_logits(labels = y,\n",
    "                                                                      logits = logits)\n",
    "            loss = tf.reduce_mean(xentropy, name = \"loss\")\n",
    "            \n",
    "with tf.name_scope(\"train\"):\n",
    "            # Optimization Op\n",
    "            optimizer = tf.train.AdamOptimizer(learning_rate)\n",
    "            optimize = optimizer.minimize(loss)\n",
    "            \n",
    "with tf.name_scope(\"eval\"):\n",
    "            correct = tf.nn.in_top_k(logits, y, 1)\n",
    "            accuracy = tf.reduce_mean(tf.cast(correct,tf.float32))\n",
    "            \n",
    "with tf.name_scope(\"action\"):\n",
    "            outputs = tf.nn.softmax(logits)\n",
    "            # 3. Select a random action (where to go) based on the estimated probabilities\n",
    "            action = tf.multinomial(tf.log(outputs), num_samples = 1)\n",
    "\n",
    "init = tf.global_variables_initializer()\n",
    "        \n",
    "if model_file != None:\n",
    "            saver = tf.train.Saver()\n",
    "        \n",
    "\n",
    "def fetch_batch(X,y,epoch, batch_index, batch_size, data_size, n_batches):\n",
    "        #np.random.seed(epoch * n_batches + batch_index)  # not shown in the book\n",
    "        indices = np.random.randint(data_size, size=batch_size)  # not shown\n",
    "        X_batch = X[indices] # not shown\n",
    "        y_batch = y[indices] # not shown\n",
    "        return X_batch, y_batch\n",
    "    \n",
    "    \n",
    "best_acc_val = 0\n",
    "acc_val = 0\n",
    "# early_stopping = True\n",
    "# stopping_counter = 0\n",
    "# max_stopping_counter = 100\n",
    "\n",
    "with tf.Session() as sess:\n",
    "        init.run()\n",
    "        N_TRAIN = X_train.shape[0]\n",
    "        m = y_train.shape[0]\n",
    "        \n",
    "        n_batches = int(np.ceil(N_TRAIN/ batch_size))\n",
    "        #print(n_batches)\n",
    "             \n",
    "        for epoch in range(epochs+1):\n",
    "            for batch_index in range(n_batches):\n",
    "                X_batch, y_batch = fetch_batch(X_train,y_train,epoch, batch_index, batch_size, m, n_batches)\n",
    "                #print(\"Xbatch shape\",X_batch.shape, \"y_batch shape\", y_batch.shape)\n",
    "                sess.run(optimize, feed_dict={\n",
    "                                    y: y_batch,\n",
    "                                    X: X_batch\n",
    "                                })\n",
    "    \n",
    "            if summary_freq != None: \n",
    "                            \n",
    "                if epoch % summary_freq  == 0:\n",
    "                    \n",
    "\n",
    "                    acc_train = sess.run(accuracy, feed_dict={\n",
    "                                        y: y_batch,\n",
    "                                        X: X_batch\n",
    "                                    })\n",
    "                    acc_val = sess.run(accuracy, feed_dict={\n",
    "                                        y: y_val,\n",
    "                                        X: X_val\n",
    "                                    }) \n",
    "                                    \n",
    "                    \n",
    "                    best_acc_val = max(best_acc_val, acc_val)\n",
    "\n",
    "                    #print(acc_val, best_acc_val)\n",
    "\n",
    "                    print(\"Epoch: \", epoch, \" Train (batch) accuracy: \", acc_train, \n",
    "                          \" Validation accuracy: \", acc_val)\n",
    "                    if best_acc_val <= acc_val:                        \n",
    "                        save_path = saver.save(sess, model_file)\n",
    "                        print(\"Saved model with validation accuracy \", acc_val)\n",
    "                                     \n",
    "        #save_path = saver.save(sess, model_file)   "
   ]
  },
  {
   "cell_type": "code",
   "execution_count": 74,
   "metadata": {},
   "outputs": [
    {
     "name": "stdout",
     "output_type": "stream",
     "text": [
      "INFO:tensorflow:Restoring parameters from ./final_nn_classifier_0.01.ckpt\n",
      " Test accuracy of the best model saved (according to validation accuracy):  0.985\n"
     ]
    }
   ],
   "source": [
    "learning_rate = 0.01\n",
    "\n",
    "model_file = './final_nn_classifier_{}.ckpt'.format(learning_rate)\n",
    "graph_file =  '{}.meta'.format(model_file)\n",
    "\n",
    "#saver = tf.train.import_meta_graph(graph_file)\n",
    "#y = tf.get_default_graph().get_tensor_by_name(\"dnn/y:0\") # not shown in the book\n",
    "#X = tf.get_default_graph().get_tensor_by_name(\"dnn/X:0\")\n",
    "\n",
    "with tf.Session() as sess: \n",
    "    saver.restore(sess, model_file)\n",
    "    acc_test = sess.run(accuracy, feed_dict={\n",
    "                                    y: y_test,\n",
    "                                    X: X_test\n",
    "                               })\n",
    "    print(\" Test accuracy of the best model saved (according to validation accuracy): \", acc_test)\n",
    "    \n",
    "    "
   ]
  },
  {
   "cell_type": "markdown",
   "metadata": {},
   "source": [
    "## \"Playing\" the product delivery game with the learnt policy"
   ]
  },
  {
   "cell_type": "code",
   "execution_count": 69,
   "metadata": {},
   "outputs": [
    {
     "name": "stdout",
     "output_type": "stream",
     "text": [
      "\u001b[33mWARN: gym.spaces.Box autodetected dtype as <class 'numpy.float32'>. Please provide explicit dtype.\u001b[0m\n",
      "\u001b[33mWARN: gym.spaces.Box autodetected dtype as <class 'numpy.float32'>. Please provide explicit dtype.\u001b[0m\n",
      "\u001b[33mWARN: gym.spaces.Box autodetected dtype as <class 'numpy.float32'>. Please provide explicit dtype.\u001b[0m\n",
      "\u001b[33mWARN: gym.spaces.Box autodetected dtype as <class 'numpy.float32'>. Please provide explicit dtype.\u001b[0m\n"
     ]
    }
   ],
   "source": [
    "episode_length = 30\n",
    "seed = 42\n",
    "\n",
    "system = PDSystemEnv()\n",
    "env = gym.make(\"PDSystemEnv-v0\")\n",
    "env._max_episode_steps = episode_length\n",
    "\n",
    "test  = True"
   ]
  },
  {
   "cell_type": "code",
   "execution_count": 70,
   "metadata": {},
   "outputs": [],
   "source": [
    "def leftmost_emptiest_tank_policy(s, system):\n",
    "    min_boolean_indexes = np.isin(s, np.min(s))\n",
    "    min_indexes = np.where(min_boolean_indexes)\n",
    "    min_indexes = min_indexes[0]\n",
    "    #n_min = len(min_indexes)\n",
    "\n",
    "    possible_indexes = []\n",
    "    \n",
    "    for tank_visited in min_indexes:\n",
    "        hypothetical_next_tank_state = s[tank_visited] + system.truck_max_loads\n",
    "        #print(hypothetical_next_tank_state, system.tank_max_loads[tank_visited])\n",
    "        if hypothetical_next_tank_state <= system.tank_max_loads[tank_visited]:\n",
    "                    possible_indexes.append(tank_visited)\n",
    "    \n",
    "    \n",
    "    if len(possible_indexes) != 0:\n",
    "        tank_to_go = possible_indexes[0] # THIS IS WHAT CHANGES WITH RESPECT TO THE emptiest_tank_policy()\n",
    "        return np.array([tank_to_go])\n",
    "    else:\n",
    "        return np.array([system.n]) #stay in the depot"
   ]
  },
  {
   "cell_type": "code",
   "execution_count": 71,
   "metadata": {},
   "outputs": [
    {
     "name": "stdout",
     "output_type": "stream",
     "text": [
      "INFO:tensorflow:Restoring parameters from ./final_nn_classifier_0.01.ckpt\n"
     ]
    }
   ],
   "source": [
    "frames = []\n",
    "n_episodes = 10\n",
    "\n",
    "with tf.Session() as sess:\n",
    "        sess.run(init)\n",
    "        saver.restore(sess, model_file)\n",
    "        for episode in range(n_episodes):\n",
    "            state = env.reset()\n",
    "            for step in range(episode_length):\n",
    "                system.state = state\n",
    "                img = system.visualize()\n",
    "                frames.append(img)\n",
    "\n",
    "                action_val = action.eval(feed_dict={X: state.reshape(1, n_inputs)})\n",
    " \n",
    "                state, reward, done, info = env.step(action_val[0])\n",
    "                #print(action_val[0],emptiest_tank_policy(state, system))\n",
    "        \n",
    "                if done:\n",
    "                    break\n",
    "        env.close()\n",
    "    "
   ]
  },
  {
   "cell_type": "code",
   "execution_count": 72,
   "metadata": {},
   "outputs": [
    {
     "data": {
      "text/html": [
       "<video width=\"432\" height=\"288\" controls autoplay>\n",
       "  <source type=\"video/mp4\" src=\"data:video/mp4;base64,AAAAHGZ0eXBNNFYgAAACAGlzb21pc28yYXZjMQAAAAhmcmVlAADACm1kYXQAAAKuBgX//6rcRem9\n",
       "5tlIt5Ys2CDZI+7veDI2NCAtIGNvcmUgMTUyIHIyODU0IGU5YTU5MDMgLSBILjI2NC9NUEVHLTQg\n",
       "QVZDIGNvZGVjIC0gQ29weWxlZnQgMjAwMy0yMDE3IC0gaHR0cDovL3d3dy52aWRlb2xhbi5vcmcv\n",
       "eDI2NC5odG1sIC0gb3B0aW9uczogY2FiYWM9MSByZWY9MyBkZWJsb2NrPTE6MDowIGFuYWx5c2U9\n",
       "MHgzOjB4MTEzIG1lPWhleCBzdWJtZT03IHBzeT0xIHBzeV9yZD0xLjAwOjAuMDAgbWl4ZWRfcmVm\n",
       "PTEgbWVfcmFuZ2U9MTYgY2hyb21hX21lPTEgdHJlbGxpcz0xIDh4OGRjdD0xIGNxbT0wIGRlYWR6\n",
       "b25lPTIxLDExIGZhc3RfcHNraXA9MSBjaHJvbWFfcXBfb2Zmc2V0PS0yIHRocmVhZHM9OSBsb29r\n",
       "YWhlYWRfdGhyZWFkcz0xIHNsaWNlZF90aHJlYWRzPTAgbnI9MCBkZWNpbWF0ZT0xIGludGVybGFj\n",
       "ZWQ9MCBibHVyYXlfY29tcGF0PTAgY29uc3RyYWluZWRfaW50cmE9MCBiZnJhbWVzPTMgYl9weXJh\n",
       "bWlkPTIgYl9hZGFwdD0xIGJfYmlhcz0wIGRpcmVjdD0xIHdlaWdodGI9MSBvcGVuX2dvcD0wIHdl\n",
       "aWdodHA9MiBrZXlpbnQ9MjUwIGtleWludF9taW49MTAgc2NlbmVjdXQ9NDAgaW50cmFfcmVmcmVz\n",
       "aD0wIHJjX2xvb2thaGVhZD00MCByYz1jcmYgbWJ0cmVlPTEgY3JmPTIzLjAgcWNvbXA9MC42MCBx\n",
       "cG1pbj0wIHFwbWF4PTY5IHFwc3RlcD00IGlwX3JhdGlvPTEuNDAgYXE9MToxLjAwAIAAAA03ZYiE\n",
       "ABD//veBvzLLXyK6yXH5530srM885DxyXYmuuNAAAAMADN2InuDwrXQ9FeAAIdqvwV2uIFyuvHMD\n",
       "yR5pPdHJHFBuHRRiPYVnF3K+jIXExkxwoCmIwV4EYu9rnjS16428Eowic5JEEljxCw/4mtrWylKu\n",
       "lpJX++XTo7Ee4Q+YEHLkDwBvY0JxicwScY5Y/Dz3oa3ympps0kTL7ZPKZhgOc4DEZk6AGEzuakcu\n",
       "4tRrz/sBJkEC+F9raUJl3V9XkBVHDdlmzh+9/Lm1F+fJ+ib6xO+7lVAjrUJoFfaXd/itIyCbdTrM\n",
       "5qeqxnLf16NEO5087mqJPOJikgKAlaYhbXOsPJJa3kJigM2Z84kEbYzqUBvyJjfq3SPFbqK2AWOH\n",
       "KGDEs6rNekZIbIS5onZTOHT+zQTcYzqnW+2Qnty1dWMQ921OeZ9SEQaaffXHmkjpKC8cKop+ib0B\n",
       "xnksRL3EGbN6CXuRiQo/aevwmiYsiaBTKODaTJpXIAX8qHkChpKXagSecXZdJLQf58WC/HO1StYI\n",
       "pUIUoqhDR+i/yFrImUkU0N/xyP7wBM65hX8WUCN9TVOfAs9yoT2CpRdAAT64FGT1DXUE9+htVXly\n",
       "T6m2XsTwCxpPXFM+wGDjKX1C9h4xWf6WkcCPIAY3yTFxzRfD5DF+IFJIEk1tLwq4iAd9rKy1Qpvz\n",
       "vmlo6+2cI+HNjz4RO3T+RMvaiSCscs74dxkA/ST7+qQGbIdfI6heVt70TaA5spx+iue7gb3umsOl\n",
       "ImESwHSuopTkcz4ApVbF996IeUmkM5NQqIbRbEsIldFN/QMgalPOhUTR4KnYj7crtPPg6BcWvmL5\n",
       "96BsZBO3mxGZEsho0WrN0Khj/s5x10k2e1RVqT67Sss+3BLfurVnEwRI/3+eHmS1wOSeMMIwT+Da\n",
       "PbArdgQPOY8bQstPlQ0krg5Rsszevy9NknJg5+uOh7d+pOxl3AHTTIY20UCPvx22X5hDK+98PT5a\n",
       "pu5ZrgTRZm3DcaHiBeahUD/WJUPKgWOpdPDXshIv/CXBPOGk1tV4RczyJTZbjhvbsIA0F4QPFA4c\n",
       "jpen2Xme6Ka3Ncp7OwyE5yjqRIpWkTQ89k1JUxqjyFnw9TupcfZqjd/qgcNrjCIiamHJMGuV5lEz\n",
       "KP5t1IncDfMuPt6j6QGKwqNssZ+wfFEdX5i+Ci8zo4c66/X4EhhcKlTM8M6MNBXsVTfHY5RnsbYx\n",
       "U3/+auG7YUBLfPoPvxIyqLUE/BWKCUrFBZIQ+px+iscjolFeR/9udN4PnUehBlo9i90tckaLecSd\n",
       "JmH0ntvx8h/uo+ErRdYKB/Sf6jcZCqfjkVdyLVFPr2XcaMOqPKh6R2iPTZFxwG6YY3cNrjy4qziW\n",
       "CCQXKnNQzU39qV5u0XGm98iCIKLKoxfuVG0lxPqZpKFgokHcyeQXEBYy2Hlyy8siVonWId1grM47\n",
       "ki+A1+U2i6d3WMHoyZnIp2kCDJN5nGHA258e2cxTUXFr+UNHLlAfhXH128p71z8sbgKM/nEWdXoz\n",
       "dwAAAwAD9rsaQagwfSysIDFnSIk8K3GErAD5gAZ8V0+Wr/rBijxQLPxolvGbhlrY9K+ymuNZya2q\n",
       "Yviwm6DcK6XBY77Ln7WBLGxvRQ/vO/SqyVGW5QA1uqZAfaj+JUFw3DUt9kVZEO0xsDvOJYiFNNoI\n",
       "wfFafZ7pv7SzvKeEZkmxvMBTqCWL+5g0+piWFXX4fm2msuRSEiaFWN/wA8isjR4nY3c0Lj+7ezHm\n",
       "PHBysW8gvwvYKianIvkkhxGLocuze60x++T8zF7qDqrzNK/apJHfAEtBX8ERhn+frmdTwOBsIrHN\n",
       "cdX52531NNYswRToXYGZizVaf83ENg0m+rP//8ABRTsyF5CEn9fT2IIMAI/mt4NJX4/oQu9NKWvP\n",
       "snkmnnIIyuessU91Yy+B0J228B4BXwIuHplF3FrIdD4i9p1C34vfBDFI2/I/vq+kdOS0vBEWf0sP\n",
       "j/vsTBfWjKpCrZuX6S6crAKq7zUryxDy32l63C+JV/XX+9n128DbpEX+Ld2Odf/GhqiJ/d69Q/W+\n",
       "eUKUeyjsYK9yTv02g8WLoJWS9sS/0EH3f9T07kbvIJhzNKvKmaGIckVWAHrltjxGgFIyUxyjPft/\n",
       "V8citEB4CAcYd3T6oQ7xd9WyfPQr5jkhJSzO260cdfCsXJNhXhjE3FJK6Gde42NHbpyJGZstDzJ6\n",
       "m3N7kO40oBeV7QQLn+abJIS45h9RJXvnCj3/NAF5SWDR4MxlaPdO0V+dNEtfSHVYOGd+H8/jvbbx\n",
       "3nKIu3XjTh4Qkj36nxv48yuEjvbINcJt3p1EDlM1U81Y9DbpmzdL21fwnokwMLB9tBsajhLdizKr\n",
       "AnhnW8NiHokqNfsIYPFU4vJlaUMGbQNPD3bySIqkvjT48clRkYDebk8CjqfOHRuYbSu++K4D5Kfy\n",
       "1ZFTHX63KTLYPP+MPARiDD08LOEiTyjIVVplHEUEeHPl+BBbjZiMxPLJHiuNgS2K1M0RCbjrAsNc\n",
       "I0zea/SI2y1zZz4sdTxpgymIl2sj2L5Y4r55vLaVAOfEAizeDiI2ASy41KS0hWX57bqRNkz8W01s\n",
       "FyhT8YzQlRncJQrCiYmZNqAgHIL2vw3i8y8qaOOaOlOixb2JJFTZrYZPdI35pBpghE3wzmDRR6f2\n",
       "RVM0c+G90lBlBE/P+aIt6MIc6DUZITaGtEcLoZw2wZcwExMqwvJV7vf+hKHg+GQkFkqpJC+u0D6z\n",
       "c7wzEQyZBFo3FvWBbOuyTOWikE79qcWXrFBrZvL4NQnE8qQOdUsk5gkPXMJXrM2lhb9ChZhqk8C6\n",
       "MW09ZZSRAzHKKgJUIB8PDOfUQWUT8HBSYunFYknVGMUqJVUtezvf/5TizSj25cTHWKZyki9K8GPM\n",
       "kwNCGRqiigfGkvoUT4egdrPYP0tijqpRu+vIFTmRhk5m2iAUIcJK5n2jvFJBh/+Yk2+mWB1b8f9I\n",
       "swx58QMa5gafPTzyVL9287LC0JzGPAjapUqzAk+j/qwP0p/Qc5HlpNB59DABlrTHsmZmrWt7/Hwj\n",
       "KO1FIQjLu0IIl0/6rcGJEFrgCZ0mf/rSet4Mfv8iEtr0zNwlU4SQ+w32SkXXO2+0P889Sm1tIcqO\n",
       "iYRmyMPdRwAcKIgp6Y/TeuP6l0Wu9C8TtgRqi7Cx3mjMxmX5cH81gShfT4uDv9YD7n6O9Nk0H7LG\n",
       "mCBhGkUNm4a3zeeT+uJMv157q9WgJNytvAZEa4WDOf1f/V/7lA5P7BtvenvuUDOl43bpKUPzbSjP\n",
       "AcNHGM9niox25aYeQHSR/8AWnRt4i/hHAwoNq9/aXmKCMpOCf3G3CvgdYFs1cQcy++KV74Cv+4Lp\n",
       "f90k2/J4UryIvHg14zvw0lKiO0QrdxFVsu+TGpkLlnWlA8wONpSNU0bAPvqGw2EXEWmY3JmKf2+h\n",
       "fMxWehK31icivh00EXxFq+MV8YbksvTj/06IOsFoN0jL9LXaHLh9kHmwfVtgEbPHtT8FD9QQ7Yr5\n",
       "LseqUrI5cLdFQuyH8ewkec5eZ1dZtVcHDvgCqmloJMcfEDyyWv87CACgzHFOQhkRhwlJtsnyJOBl\n",
       "flSfzrrc1tyIOlkNLLApopBnAZK//6g+K1Tc7KHA9H4IceLaHlhxGDuEUdc27ZPYTWBsHbS2+kF8\n",
       "zuwyaRTaWPcW/4JmeduWUnolrWFsJ/QNI8/vKUqKamiN3IahgsKj5rnnvlBqDqDUp6JZQ57kgA3c\n",
       "DOwf8s/LMEdEDK93Ta8kId666bQFU3C/YcGRpGLSZCgVimYwnHxhUvoYwKn6MoRwXxbwHVndcKUP\n",
       "kHssg70JwLYXLHLTKDDaJ1kVy/KKzmV90GT4KcYZXCYVK9xZ63E3CaWBXVBRBb1ldk+HfB+svZqE\n",
       "BgBqofUbBer+vXmPdDreVTLtCPoAgxjPb7a/mMl/zqRmKTADVqAPe71CsjI/YBWzT7AI9D54pRrq\n",
       "4TFnAKuonWZNTF67gsJDp2dKXtpIAV7oGxzRfxCvoYlqF5yJr99Mu0gAWaWVg3xt9b4/OjKt9Ejm\n",
       "E5PdKpN+K3rIcK/0G7UOHDgOqcU5c0S2V+MiPdfzWeFXYkWD73S5HUL52PYKCchbuf6OxQ24AQ62\n",
       "WYhx8MK9kyiQpeUs1igMco+XlITG1n/q2aD2fyiITaahpq88p+0TrYdk1cum/804tWB9jNyJAXag\n",
       "I9ebB+o5ZB/T9m/Xlmt5hgUsqJufR19UerCkhyzA2GR2sQPnWQWF5ZGj9dFc8tEJ6XKGRJr/7auW\n",
       "bdL+B+72lxcxTLJFDEG0Pt9wVjkiqI1/orpYL0iBlc6XFs6GOP0Dvijq1+ZGeON3Zw8Nobf7pw2z\n",
       "1x5KH0/K4ixIxHGF9x87oBNcd1V1cRDQtdkhDJV/+9OHa1ApBoIhBENhA70RNkjFEb6kxZayWjtq\n",
       "dswZsFU7K7PdRMvQ9QNB3+I8WAwGlMwBYouWMSKDPxkYuJExkWXQsHbx1sw77t0Gs2IDJ6PcK2Jx\n",
       "6YAA7rQbDi9iWjH880wCAa8AAAGIQZoibEEP/qpVADDgBhugAHLRi0g1gD24F/pbx/p7S3g5UIQ0\n",
       "11xjdwJENTCVMskQNGQM8GzBN8ZG83qGDk2RNCpfGDvWOvCJc47oXYDDx+S5bE91vbwj6zW82Nz1\n",
       "9+h/1piVfCGoPEKa7pGi/nhfAwBuwKMTDNAhY5PShEf8QlcEUOz29Fo18vPyJNUPKTe4ZjAL9R5i\n",
       "qmWVy55Irr2Q2vjJOny7pn/ZWMc7Bm+rxISUupYmNH3xdXs5nH6Q4y44tdZYdButAHx77FTGhW8I\n",
       "p+ekmN+YnFP9KK44+TTeTwxZNWp503khfDAdlFlz+zrcXJb/8tuhUeAmjMrLoBpBU+9QENqZuEkl\n",
       "zh7PK86uiZx4SX4Pt5EoH8w7Junh36E4Gf+kvbOLQQOiqAO55vgtMET6/IOhJtPRs4XICtJMpJ4n\n",
       "yyFmKsVGbB0n4LK3xfMnczlMx1/I6wEi9e9Fpwo25C9DLzmSymgnzaybajqDwp+ro95NY3yE4yDP\n",
       "zRvLGRS/t/mlJFm7NWkAAAC8AZ5BeQ3/AH9GkZUJZtNor5gEotziADLuC6/YeaklFcl3bnN6DH/l\n",
       "EaL73jTUSVjXm0XlJ5Uw/s95rF1D4JswcVQYNMoYEDs4Jbl8az3Gv+ILnL6R5SUGbBGeZTijIlqn\n",
       "84yNbxiqMtGIa2mminkiHEmYYRs/vvtzT6vkbLmx6h3DVFKd41oBK2d1xxpnx9b4zo3r4x44k4wS\n",
       "rABDTqjgafg7npxtKiRBIbGgJadJhO8eH8gZTkYBABTKgrMAAABXQZpFPCGTKYQQ//6qVQAAW/3/\n",
       "ArGZBOHQGKcJVeOYu3AGLgAxD7EF5xE79Drj3gyHz9gwwLy1lW9qBg/wAUUT1pKv7/YY33PquAkn\n",
       "GZ7Z/YsT3A9flo3pAAAAgkGeY2pTw38AAPi6cxJuKWl0C2v0SojPk1Pf9FhDONGoWZUbOQm9JTFb\n",
       "WiOKyuFrgbBF3HOazL+hGfocUKijnyf/zIAayZwNzloH9O8sVeqNgGpZ60f70r/BYYWUW+hK2fRR\n",
       "Vx26rhmgdGKLk70lpHvcp+3oNn9kCUMZPIOWx/YWLeEAAABzAZ6EakN/AAE2TlAA0bguv2HmpJRX\n",
       "Jd25zegx/5RGi+941G3Do4xtREtPuzgCHjxt0PgmzBxVBg0yhgQOzgluXxkxTQYDkll/sZg/xZb8\n",
       "fcrrF+XsHiveaOOcXYYtU7Jal6FUVXEFRBl6som6hYcHE7M7gQAAANRBmoZJqEFomUwIIf/+qlUA\n",
       "AFA8TeANjXg7qsZlSlzozVdziMw/drgxX+jSszd0JDb6UEqthw3WOZvGt1GJvq6f8vW6eYnvf506\n",
       "unNJQ3psTss+GoRU9kaDI86qE9UkPkiR2r//sgpCBt8cZnhBjd/x3GC+L426tkzsgsUeCgQ/LfbV\n",
       "u+hrbb+6T43sXF4cD0gUMA+T6yQwD1M2LrNStHwAQoXuXZfX6BjsT5hNcVbk69OawPaQ6a4SvuJn\n",
       "PUi4anEX6JopN3mi1WwYcHwECikfauxdwQAAAMJBmqlJ4QpSZTAgh//+qlUAAXb7dgACTZSk5ROc\n",
       "ds7++2JeNu3AkWtDOY/1dmKWs8ebkI54SlYO5QzoX6J6I6mOg1cy7fCMQjb/NvFDvHkmMymrNRIn\n",
       "dPfiOhgIwOPtVPWOa2FP8KOayezJYADwl/qr6cF9h2NxTX1G1ZdHcj88wFSVD1NWjJp9lCCsv8hL\n",
       "fRXAFSkLk7dMzUzqd4b3s187oKtrHOVmTIyW3BBM8a4x/AIfdiFOZvxw9tp9q3kGIDMyvwAAANRB\n",
       "nsdFNEw3/wACC16Ac56NIRFS5NIABkVrofY3kDbkgacZlkEjctIIgf/WE024iSAhT8CcfWXJH+fy\n",
       "rP1QP/lxvW3Ob3J89xlYQGfYG22Gr3NzUhXshKgumkuIV0ISbn4FWDAHz5p2aQCoer2asZrPN9YH\n",
       "tDcGMxAcdtoROjzTvwnq2x2WdbYpVEzNifSTj038bbUBbKQeV1I1+Llq/c2oH6nNNv6MKenL1L29\n",
       "qeHz8BjVV21BYfx2RZDa4hlu/MhxLen/Vu88vy1Ph7OYOG1iLmdgYAAAAF4BnuhqQ38AAgted9FI\n",
       "PFwALTC6Ngn14Osfx4vTrCBkk5aQqebivvkK7hZv7bNoB3aPldEVKBzArMf450Ixq7KgLzFDcxMR\n",
       "0TOxFuRYBM+EJKoT0UEbmBQCck2Va1j+AAAAlUGa6kmoQWiZTAgh//6qVQAAwXvSygQJWwj0RXnR\n",
       "7UmEOe7pdABvDhFaJLLGU7Q5az4fGSXHztc/+ubQH7f3/E9iUKh4wCoo571rhrMvFahXVw9OMVLY\n",
       "29CsG1GY01GcCuCzUAmI2H7T2kqbtnJ4xivR29arih1+3nNueCk0oYTIAEwiG3jWq67kXlpeCsiR\n",
       "Tm0BPX3BAAAAZkGbDEnhClJlMFESwQ/+qlUAALx8NCHn+3UGYiZdQC+8pTlxys9D9xCvQ7B7NfyY\n",
       "pr2vsp6ovFSaY+kPNO+7EVjCCk3TdyS9EBv8KAPD0pOfyta3bzSTblwHF63u/DJRBcpvBncndAAA\n",
       "AKABnytqQ38AAfvtZHgIq40zJMnTxjhB/mRPU/6kMCbEThuGstdIArG7jWSQ+QOUPKpPjHFyeG1p\n",
       "ZcGK97sz99aIz+/NouwBm4FT2BZkb8/f6TyBBNLxozhPr50b3EIPfJbn61xP8H3V8yB+oRO86I1O\n",
       "fYzUFyntrs7rHELMmQnKX4to/BNmDb8bZ/68ur6X7RflRStcleH2VMtPNzPg11U3AAAAgEGbL0nh\n",
       "DomUwIIf/qpVAABePjIQEfQJjf2yJQyv51wke1L3mFVjOzrCVWbNOP29dLAZQEITMzUDRqFVheAN\n",
       "JvkHelRJn769mEOPquqzXWdKbppfbyX/MS/V4VkX7qF4a01HZL8gohUFfAcCb+Wgz5fo/DsmOeOQ\n",
       "HcssCGSzLfuhAAAAfEGfTUUVPDf/AAE0/UY9YAGRc5EnjqZJH70Fl/OyBgYzorlpSIyZXaZPcrSZ\n",
       "BUb0YuHCDScW81FvSuPWqQImp4aKOd5Bb0kwxTQm/MD0mak2VX4fCy1d8CiAnoIbPtb6CnkDSa6Z\n",
       "1GuPJZQp/qD+nKKVqmAtLOX89uXIJD0AAABiAZ9uakN/AAE1jJSMNhgAG8A/DC9iE/1RGWfhoAXD\n",
       "Z97gAr6JdJGRdWw8sMJ8TzoxEiajiSn9VX6w882z9bBC2bfCuc3vQnARf61GTToXhKO4tK43vDzm\n",
       "4FvFvNu7X8tgWUEAAAC4QZtwSahBaJlMCCH//qpVAABQPE3gDcIC5HHWnDs3L3JAFUZs4dJZLCN0\n",
       "PN7gloV1uT/97UN/Jk3peVLKegG85E2NajkRk0gpwR/bdfqLp6T6cAtpLPTB3wf3RvfU+D5DgYOZ\n",
       "p9fxIVmDN6Nq/V12beLXUnJi0tebymJBgjn6ulF8sklaWlUCJFRP9xhZECWPFq9mr8ZMc/bFyK1J\n",
       "N6CMZ4ugi5Vm7NN0bN96XG2qT6XEyj+Zy3LBxwAAAGtBm5JJ4QpSZTBREsEP/qpVAABQRCkL6zur\n",
       "Rbk8T11AX9e7hyYVnYqmbE7A/7wwhnulmzRct0OfXy07XnahD3R33yVzsO8iXMSrvvq3BCeMZAni\n",
       "r+3owy2fqW6s5c6W9h3ZkkrStO5F5EtoQAAAAE4Bn7FqQ38AAN0AKGs6DBMqA+YLBvDwArKJdJB9\n",
       "Qyj4fgwvObwwDJDQ4QPumE/vRrPW9hqioITkNvyS7Ck5MMnZPNYtPZI4jDnw9NggW0EAAADIQZuz\n",
       "SeEOiZTAgh/+qlUAAG8ovEgB8TN7WX/kGZEzExSKvXm+5rVqijzFmdKK/NXnEnnLcuK2I3/g4dUj\n",
       "xgz7RQdpSESgOgPtfpk/Q2rJbr7/RHwr2Tv/564JIqWg0s1tA9E9rY2/mVJHlC6D4krIKxrFIsrp\n",
       "r0GeQes3Gn2F/NMGb3Ad3gbHx+2c68zVn0HDRK/KW070fNF+CFb4HNtCNSwtSGTx4Cc11TnTmYkj\n",
       "wBpujaM7ZxMFYs2yyuVBsBUtc3THyzfnvlMAAADTQZvVSeEPJlMFFTwQ//6qVQAAvGVl0nX/5qgA\n",
       "2juLVHt5CArs+1x1eObacf6NLAKu/YP7lJoxZMr/ojuaY7hOHTm1HAl9YawcRWJE1Is9NotzLslU\n",
       "kgxJYlxD2M4RJcRvKwjCh9Ba9JVT88xnrvbfKrgLuFkbL3BNZ2nAOrRNnvtjtniwwPYo1eSgZK56\n",
       "8F8r1A4gqVhnfCD3C0Bup+J3Qv7N7Tp73QoByRYATutYJ2IGW3sqYXD5nAJSO6bOWD1uM2PvS0rn\n",
       "jmNrDGIOH9tC6/0iHgAAAK4Bn/RqQ38AAfwoQHOejSHVFGXFuc9d2NgJAB+S1ptAB6x8YSGlMSxu\n",
       "AKcb9CGB8DpRwN3HjCu3k2OMLGJJtmns8iuvXuOUgkcIzkHmZfaQA2aqgu0M2Wcb6gyY2cZRdByg\n",
       "1XIrjhE2FZnsGgSZYNXRGq34os9q+aikQVpmcnYzl1jx60FrTxGhxiJNAS78GCn98Mg/kFoHo34K\n",
       "czvYq9ulPXAv04MlS+QSu4wTMLEAAABdQZv4SeEPJlMCCH/+qlUAALuIVK0BLrCutkwlfjRlb2ce\n",
       "voOJHMe2ykLtXLFqXu/1S6omGCtj6/zSTuDr8st995+uAVEUAQLhZkWXLzz2+5h+mj0dPtUueNYy\n",
       "1OzAAAAATkGeFkURPDf/AAH8CSW3ajCjnhiYV00qIl5yPPq+6qsCQ7g+Vm2ADS0kxr/MeUmdGq0j\n",
       "pj/G5KM7Wke+LzxHSE0cQno3PRPSbPUVWq8pIQAAAG8BnjdqQ38AAfwIymI0sbx4+pgnQRqhRlql\n",
       "wbXbAnj62xyUxGhbh9kU0IQHPlMkB9q6ttiZ89T/xRjRmmlkdchXVFSClc9R7QUbQJpehU8E8SdT\n",
       "A+TXRHYpOkCm2AMgW576dvPlcxKjrlbuu9eOUkEAAABwQZo7SahBaJlMCH///qmWAAFv/pAgGrX3\n",
       "6Ouoz+wlWLhXRZxm6tsQX9pSqD6bkvV/UQQZVrXUQLHn+jf+si9TXldzAbkaVU0mQKvVonzmXNeD\n",
       "2gyfN2WY2mxl2DrPjupMbp7tiYz2OKcvwCYMQEgfMAAAAH1BnllFESw3/wABNP0/3cPFIAOIp4fL\n",
       "adSHhc0wfGDhwfi0f/l5QZnT1UTghL9roEswCipbHJGkcngO4XszKOVXd5qhmJjr8lEhLufjOTO0\n",
       "02u2qBeHwaX5hXI6GCit6czISkrnTCO+OiQFgaub8NdMjf+KyuaygLglqRhhdwAAAF0BnnpqQ38A\n",
       "ATWMlIw2GCWS2ob7bZJP/WRC0gAB1nPPOLZUStf1GuiK8QQXUE06P5D8CoRiy+CVOwZqCq8qUcBH\n",
       "R2UJ6vW+3l1k3NyCK+3UXMl5m1w01KqcjrfElpAAAAB0QZp8SahBbJlMCCH//qpVAABvjGt4wAql\n",
       "MwtB8k3gMJ5UvVm7nxXkzmR/+c49deZyD4CE+cCvAT6UrgBr4vbJi7MOG8FxeaGKi9at/9rj0XnC\n",
       "fp2YGdXYXVVFEUGv3KNnGvgIG+mmr6ka/5/vEh9iuuWCLuEAAAC2QZqdSeEKUmUwIIf//qpVAABv\n",
       "MCGBXw/cgdr4xoC3WVeeoHTgMlOxBKjukWAoljfLUM645Rb1IInJcPMLn37W7dSANmh7CDMMQ398\n",
       "uBdqqvlJl8o79pD4w2ywwiiEQB8QhrHzDZKABgjbmwKn+4JzpzeEmSqlOskPx1MMYViqdXfcool9\n",
       "wVeU7FFCIboWYMF2bfPy25wW/TFnKJukYLtN5L9VgRC8SB5SfeItGcRU+kOgybZUjqkAAADQQZq/\n",
       "SeEOiZTBTRMEP/6qVQAAXjIif+ITNUAFLR0HgekrdnbeqBIWSAKnimOG/K7xOYb4ACIwL5QQX16W\n",
       "H1/1hVgLf3hihgJBm+awGfvXoK/N3cJrBjnIuA2zoKiISZS0+YYtBvFMffpr9Y6ZDAQxd7ql7l53\n",
       "2b4AvdUUcUrx1LDj4846j+m2Xa2PRtf+y55dLI8hqdMAA81Qo+thrSK94W4rj0UGj9nOp3hwkEEW\n",
       "QGV5MBkiRvxz0zQtiUW3NrK29VJxdFulG3w8r2o+0VD5gAAAAGMBnt5qQ38AAfwIyvM+JddxvPxF\n",
       "yuiKHDdKtRxQb7nvGXlAAAoboVaLxJp3Gs4iwNUqssnTBv2haUk9QAlSx8aKLhblToQ2iGGCBmXq\n",
       "eTgTKRY805Y7q18fl+DgZJSFBw7YW44AAACLQZrBSeEPJlMFPBD//qpVAABdwFwBgbE9mAC2zNa1\n",
       "LSThORGeiJVNVR9/2gl84MwA84F95orO9G25AMsvyAZQuBl97qLs74gE3ewhaHHToqNi+Dc+SWfQ\n",
       "cmkSI6mNbOYgJQ1gbv/vtE/IE2+7KzyDHT5Mm+rWbTlFx6y7EegEI+12R+ppuMoKTcLjjwAAAFUB\n",
       "nuBqQ38AAQXIvu9OdiKPbZ15aP1h4ly2I8fvapXpuBFAALi5N7kCZV38vFmYVMOzMYPRZwKiJrIe\n",
       "IAZebM17Xf+nYVEA20n78o6QVFj6RgZ3lQz4AAAA20Ga40nhDyZTBTwQ//6qVQAAXj4vXquxwEYJ\n",
       "pd3OALXcI0PhXc8CJdDzIs8pOoQHsKxsjHXzwlLMa0YaalhG6C8v/1RJYxtWPVfsUcRVRYiDip90\n",
       "0aM6bzEsrVsexIg24hwaQq0kr3hVdZBy4TlneLhf/+JMypDilXfU4qySv8J+XeksVI1xOup7ULE+\n",
       "DaXg+XPf3kBE7iAE3zdj/1JQqr69lNOXMt/fvDQQ1rM+mL2PFlEH5dAtUIhJsffNyJNMPTDRIGmm\n",
       "azdK1wZrFPWDErhfpBpzRmcwChBDwQAAAGQBnwJqQ38AAP4EZX66kypKg+462khpBiv6OnweFA3P\n",
       "BxW7YE8fW2OSpUXFfz4ZTQh/Y1n7OrLEOpE86EtI8su/UezMwfuEEP1vAmFLjGfWSQ/pOXAR3TQA\n",
       "EgAAowAbh0j8mB0wAAAAcEGbBEnhDyZTAgh//qpVAABQRCF7YAFYRp0zFcD7Z6aP2NJtjnGzalp8\n",
       "tqAzF+ag5JUlulLLMO6NqEYIsO/Q4U3XAj0iC1x/5D1bpnnWbso/jwE2k8LXLaTeqVriB/5WgjzP\n",
       "F1woeo1XSKJjBSLGD7UAAAB9QZsnSeEPJlMCCH/+qlUAAE4Y8KQPM/gSsu4vBJItXVTBdJRvxbQa\n",
       "MrevoIeahjfEvmq0Tensz3P5NxrUAfnEyYPHf/PlZAA2rAUx+qisXx7RhHhAb6RsuCvsORkxG/7s\n",
       "nPV6OzcEIqf5DtJR+ozYGstVM0WrN1m+0byTd90AAACfQZ9FRRE8N/8AAJlih0wStqwAOtoBlGzF\n",
       "dFYhKBvFjqNy0ckjP/rhz5a8sc8O/wMKGU1K1YTXWkjqEgQUwMipDRxQ13DUWlYl0qCQYRLcPAR3\n",
       "+ILBnvHFWCma+o47Dwtfx3SkV48U1SXRX8zBGK26DiEW99GOuBEFhTFcu66XttTV0mGth066dYmb\n",
       "qTLpJZYw710BVw9WsWXJNJZsZ845AAAAQgGfZmpDfwAAmsZKRhsMLy52tifbj6yqKTxAAgrso7Dg\n",
       "gBbFo1BdNpJYh7Rhj1kuE2iV6kd5QJ5tcWm1hwgjMPMCywAAAHlBm2pJqEFomUwIIf/+qlUAACgi\n",
       "5RSAC2WqMMapCQ4lETU9cXzjcdVB56ilprJUPHFt5XiQIZnSgMBYPGtEgZlb1YccfTn5SmOIdh58\n",
       "phF5d1mgsuTOboOaso/oZMuajjRxxTpC0Ecr8RI8Hc5n57PQ1YM/wylSzGtAAAAAekGfiEURLDf/\n",
       "AACa5IlgADpU4vb/WTvg/fp4v4vx0CQ5Kv+uv9BWtomHOmB5Bbap/7dVtKaCkVgpEAk4M+HGVFU2\n",
       "Jv5gb7UitdxxAkNNuzlpt7yAtL9rku0OYwzG/B5ZG1ik+v4xLkp4rUg836RFHaFFnJpVQrB6fl7A\n",
       "AAAASAGfqWpDfwAAmsZKRhsMK8dPWuZZEACs1wLGqvCjDPN2LaLzPBsHpIGlVTo22bKvQJJzqA8Y\n",
       "ga/0BHEYu5ddddwIXvSe0ygScQAAALFBm6xJqEFsmUwUTD///qmWAAFvy39zZf8yQAc12xnGeFCx\n",
       "Hr7/k13GVS0XrfoiUE5+EKnwdZwmduuS5JwmZAfgU8HruCdEyyjCM0uUZDybMvd9F9GrjgKwRjcO\n",
       "FQQZhadWuchb3IO3lK5CRgDZtYOJb7wvddUU4QtVjyAHi4bfAldOp32jQ5DCbgZ28tIFWA3V7nAU\n",
       "BC+mGM7WI9Xm+vGpE3qPnExAizgjA2m1IMFA8YAAAACFAZ/LakN/AAECjMB31us/HMexilIDkAC3\n",
       "1tXcKKilOYI53TGPjgr5Fci+bJM+gzF2UTh/qC10fnN8h9WnA0RS/B9EWOPARd4MQSErGhJrrER2\n",
       "+Q/FIQhNhKfFf6qZqcYejhKmRz0gYOoao2obYVZxXSSiVLDnSfcUkOsiszCaXSkK7CBSQAAAAKlB\n",
       "m81J4QpSZTAgh//+qlUAAGC9rlwpeLYqV429fj0CvaAAE8NUmIbU1GpBW0/iSddkfFbmdxFyD7De\n",
       "Q4SArc9kWmNYyA/79iOwSX/7Qioc/OKwR67XJl/ALynYKwu6x4XPhUf/+ZBZeMTof2upxGEK3QuB\n",
       "5sii5ALV9E7sMnGeau+2Qep431dBGbWSgmu+ZA+AH/SeP5P5mDZDX2PTuG4CKIAwb08VUImBAAAA\n",
       "j0Gb70nhDomUwU0TD//+qZYAAW4W29AP+e+eWZ6NC/w++Ov3vtCyKyq2atz+a6FD1cjeeHUDB90b\n",
       "zpvKZ6JdPTmEA/ECAWddPZfwfcZcZ46CGmGRl7AVnoVLiGujH/L5e0US12o13iRLBa0LQNxqA+Kg\n",
       "SszbMtJAft2sF7NMGhGejtO23HqXjyXXSOcbphqRAAAAbwGeDmpDfwAA/hr7a1LlPAK1oc8aY2dx\n",
       "p5AZThE60AHIL17coqKPS9HO6Yx8qx8g5N6ZKTPDJMq+IRqNHI8LVyFBYhh/dUS8hkprriusml4e\n",
       "mnDPP1HCU98P1npZmp4Mg1cc/xjeHkoDZeLBYpjJ8QAAAHRBmhBJ4Q8mUwIIf/6qVQAAW/3/ArGZ\n",
       "BOGDMPEQ20ZhABimZxyqL1tkI9SM8bv/VVecfzSOG7y09sCUW5ve21Aw4lx3lqRqLYGcFNhFEAMH\n",
       "UGDGmAqvU0FA3wExv2jg7k2TgHMdAYXNUnEb4/QhUWNStGVQJwAAAJtBmjFJ4Q8mUwIIf/6qVQAA\n",
       "N9p38mITNUAESTk9nvNY6SrahKx7FftePX3iW035XY+z6vdBhy/CNfC8XDHEs4JaK47jQH76C6ET\n",
       "efhnd2uPTQonRMbdsSeZK/jbTr2BC2mD0bFY5kmYzEXIE74h/T915dFjh+2rSWey384X+n41+FWd\n",
       "h0Nge77pL+2ahs2/G33bo/fA/ukym9j1gAAAAINBmlNJ4Q8mUwURPBD//qpVAAA3mBUrQEusK62S\n",
       "69mI9j1TACoecWYiCupykCUiXqeUHY/yKfvT92K3XYEgUQ1PRJGSWCLqU1kEY3/TSHe/r524NqFF\n",
       "lTectncnC95RYww0mzEtgEACdPF80p/KT4lwEw8D146ee1by3t25xUNxMb5IBwAAAJsBnnJqQ38A\n",
       "ANiHiAB2Wxu7EJB9TsXaouqEgr+KX1IBzw4yxkD9pMUX/K3mbD9pj+8tWMNO3jMg1x78I9CgPINX\n",
       "mEuEtSA4mXN7QkYhdXH4hMROW67r5psugv7XQqlmsWJRJ9NBk8nZrz/9Fuxdy8/hmFT6u8NvEYWe\n",
       "6NUZLbXgLhx/hfIVcLHSG+8sBK9JXwXHc6i57J1Xt64U0AAAAHpBmnVJ4Q8mUwU8P//+qZYAALf7\n",
       "+Bzr6mA8OZzpRBlV2K5sFWIIlkAFgE7NtbrkWZ+tK1QIBceZHLcD6JM0a28VixjU4rNonhtMgPmV\n",
       "3Tt/lvEQTouOhqS7JcXjRscmdikKS5iP/gvg/eHESCeLeDpHMkncCeZF5KFBNwAAAFgBnpRqQ38A\n",
       "AJrOeYHegAuPUz9LKqqsYasuKpcgKOOfWrhRXylQ2tqwUC0Uow4WycIfS2tjiLWpY6FQI27yFJT5\n",
       "+9JAfBFbpMYchOZNKvda3uHA77+0IDKhAAAAy0GalknhDyZTAh///qmWAAE4QP+AhV2UfV9+ypSb\n",
       "14mu6sPdj/SL8cH9b86PAm3A8n1B+8dV//C3amcxACFpA6nJ0v0esdHAf+CeI/py7kTnYudUXD5k\n",
       "N84F0hUHk70Av+P2ykaVDfbDf/iWo0JqMwOKyw0JEJqJd4VJ8s5FmNd3nmsHA+UkyFfl9SSnlioQ\n",
       "3dlea8BQ4yROu6qOm/iUHlMUArgPi4JE2Z4iakveVYuoThOH/EOP/Xyl+EioCFlj2/MVgr6Mtdpk\n",
       "wooIAAAAfUGat0nhDyZTAgh//qpVAABQRCF7YAFYd5xCVqD7Z6aP2NJt528mOITsBBwWvl//gFQW\n",
       "b05KW/qab0zM8Pg42rG+ayix/miR9O5ORLraNLm1N9a7f/ik3BvbqnB+nhHELgViaOe8r5Ix2y4X\n",
       "p9POfZs1iTADg7ornuKLwMvZAAAAwUGa2UnhDyZTBRE8P//+qZYAAW/Lf3Nl/zJABzZneFrBrnLF\n",
       "eyQZlOHuGq19UtcuTd2ityNwDGmfqIUml2zlMgXoQxxTemRtKWM8LRKCjoEd7aELIhSBAT34Q7b+\n",
       "TNWzbRuJvsCp9fl+UW+PzhKuhaXtRSypjoEAAjharw42ppuFBMHCvBRtxVdkiLyVNOimYoFFvf5h\n",
       "CHoLwBl5zDhFEYSXU+wEpVhrlI1VHRlmyKGKSW8RnpxfMgGIgZLcZZ6tQj8AAACNAZ74akN/AAD+\n",
       "BKF5o8AGrYx/bkO3sunKPvc4+1sq1PW/v5I1PJlhm9VNRu2q7YVI0qTSHvlAnhx0fh09CUhzz6V0\n",
       "OZcZyJkQ6JnHVl9RuGw1IyZrdh4mptMURi91IsfNwExjd9JPmQEVMal0SQGpv07l07ZwRCIhnepg\n",
       "rDkdKRVyGh3s5MNfTckAO2k3AAAAkkGa+knhDyZTAgh//qpVAABdwFI2TRuzABbZmtalpJwnIjPI\n",
       "3gaqqre5PytFpR1nIF2IPfBZR69/5/8W+9dbJvvpt3SKmHz4gPgqvSaHlSZq6Y2Pg4dEVYu6QYt+\n",
       "TdgFMfqorF8e0YR4QG+aUZD9pU9lnOQLsYppYQGSEwzkLRZ0ZG8bmMGQDdgMdw0vLrdHx7aBAAAA\n",
       "r0GbG0nhDyZTAgh//qpVAABePi9eq7HARgmuuuvR9F6k5yoAChUlmQzQAXrga1kT5br6jXPFWdaq\n",
       "qOgxadqmEHlvwzFrmdAW4SjRfmi8+hLgYou9EBeMWQVUuH6lAAuSwsP2AMSNCtVrqHw8VeoC0+wp\n",
       "D2J3lFJcYzlz/8ZtWxmV9ZR0DBEu1EPUCcAaPUuu/2TgBeKSlb4or2CpB85t1wJtOg2/PbQWyi8o\n",
       "e9C7B/gAAADwQZs+SeEPJlMCCH/+qlUABeMrn/j/OQ8AFR1Ohi3Y7IVMd41k7VT45D+QO7Rfd0pv\n",
       "C1YQYkluAmPqDVnh0KTQEiZKndp2vzZg8y1i/AacwgE3GtwMaht7n30Xwv3HlPTglXJ9KIY3WxiQ\n",
       "gTrWVK/gjq72Z+75e6/MrSLwMlaJH1Us0nCFAnOD5ha/p8XlShCcpv5f14XPIRENAibNlBsykMoF\n",
       "tVltGY9b3+jkThESzOV4MGTTduQwPNWfUtAFgkbnT1IdphtAbEQRnSd1t9ilOL1k3q4NpZi/t6yc\n",
       "Wc/hB0Z2+asIDLpUEX3ek7VIurm3AAAAUUGfXEURPDf/AA/gSS3m5ZLruN5+I6XdYbuiqUqcT4MU\n",
       "cvET063Tbq2yOi0Dc94CirxLMKWtqEqbxMvv6jbLD8QAlcuZIqlk/o3ViXsA3JBlQQAAAEsBn31q\n",
       "Q38AEFrymOkcRpaH9Bu6N7g5oLJUWxNBBXDAFXLS3trjFcoJHw21RBU2Z1cE3J2ruUK7PQ26zoi8\n",
       "iIw+bCqDq1C3dYUjKmAAAADKQZt/SahBaJlMCCH//qpVAAXj4yEAahAiJzd5UfbeEB/bQr2fC3f/\n",
       "hqXGyI3SsHdVjMqUudGarucRmH7tcGK/0aVmbuhIbfSglUhUSrQHe8a3UYmADZb19kZ5ie9/mRsU\n",
       "adJ61Vpw6LdaJSF4f6gic5CGOaO7SLC//sgqpbNlU/WhrjCnKWzPeu+6tk0z4oRyLS/g413um//3\n",
       "n8ZLugj+Jy5cRpsUvQvuJvWvwenCnM2++ARDl9CJuiYuoYsfp8AE4AZQR8ahqOPMWAAAAGJBm4JJ\n",
       "4QpSZTAh//6plgALcM/PziI+EALTr5b7mc/0dQJpG9/y86ZoRamvItL4FAh2Y8ycLxtbYjJ+TkJu\n",
       "EkliOWI5jFrHUh0LqBd54XXqkeuaaY5feTApH+ts8QAjclvFWwAAAINBn6BFNEw3/wAQW7vI700c\n",
       "1/o/gAK6WMtQHKU7X2I2iU57XyzdUOrNdwo0FtuEtE5VZd3Qu9+Dr/ceebAOmCV/qHmXMBJW/gH4\n",
       "b0XNse7Ox/IuLiPjFfJ+SIiCvlh36Ab/HqVMt+NsF2xTg8a1uSG6MFpIM3LtBtgQLVYiki+bCxiX\n",
       "gAAAAHEBn8FqQ38AEFr18bY8nVd6i/xEu9vDtQejnLPHQJ5guDoDz2svUFVkTy84kb4jaAV0LErq\n",
       "SfHlPsbdoVwLNqopGDASzhqaEtkrykuuebmk6UguwCfuB6CreHH9LqaDxl/MPezCItWUpydxOCi8\n",
       "N6qK2QAAAHJBm8NJqEFomUwIf//+qZYAC3/Ctrw9QTR2bWWhOy/2WMiPwTEutFCOIALMfO+X7EE7\n",
       "lX8zdy4u1/snwVqn57dIq/q7bOcr2TgBR51YAMQeB+710ESUpsLvSZBKgjr4xY7GdAlcguehvrW1\n",
       "n11Eq11dzQcAAADEQZvkSeEKUmUwIf/+qZYABbfk6oSAEH5XxuT+cfEGeX6MHVD3Ds4S7NQoQZnb\n",
       "cjhsuCtje6C4C18waBTS96TigaTY50h1sidJ6YSUyJEFgo4kV+zQEf5PmXmUfU2gLiIqeO6DcTD/\n",
       "wWoiSP/8R/Yj43dg7HTRuOriTrW/44Hvzs3eBikUUbqobZZ0JqANwMh9Kg2OJTGGcAG1pOPsLlOe\n",
       "Faq9sMT1b2MZklcpmVsMN8vae+tQhX343jdgqYMZb0P9aAuygQAAAHJBmgVJ4Q6JlMCH//6plgAF\n",
       "4+FMSdflNOYISv09mFc6qgH2GFjYSanw6iYH+EcwkQlkMPJDQGZpEwAIIEUdwwWD29iGjOlm5g4Y\n",
       "STHJawQfj2/ZJXSaUnOR/InJWKtTvMLWVPH/4m2/u4ZFmivuPwQNaU0AAADAQZomSeEPJlMCCH/+\n",
       "qlUAAXcBOYTMEmiOM6xalwf3vf9AAm5IcwCXJ1SKXgIcuNwNgSTyZ97nzmovxGGeWFvIbsI+q/wz\n",
       "Or/STJNeHINglb+EBiKczgmWWtJzLJk14qZjxQRqfvGYVOEpMut6HK4Yzsi09HTn2kt2A3lTXROB\n",
       "YlKiIc4uMEPGmPJCuVW5Fivej0lpLuhJxjspm1YR7BC9aAjI+GlgPdbC/Qp0OQH+covchJhWsWwg\n",
       "viTntcOVMwuBAAAAY0GaSEnhDyZTBRE8P//+qZYABb/fwOdfUwHhq04KtpsXSHs5gJLrr9U7QIS4\n",
       "4+4pnebO8nAACIHdqBGYJElSd+hTmwmVwqwkqyvDiADdprfkDvgp6UGgRa3ie20FX08AfCB8YQAA\n",
       "AJIBnmdqQ38AA/fawjDYYTlGrxwLAC2THnAsbh3HUfNeU/LQcg91UYwECsBj0EcQ//3eun1CQcwk\n",
       "OEbdFsHMyggL23j47+a8aWhSdQ0UxrPrSVXNOdBEveOOGusEBPl7tD/ZPPUI6s+05UHot/WpHheP\n",
       "oUpA/UuZM4MIJbvesUe/LbctfZYzrnQN4fsjNxLecXDLaAAAAHZBmmlJ4Q8mUwIIf/6qVQAAu4Cc\n",
       "wmXyCAEHkLPyGpm8uIgtRtwRDbgmHcCWXe1CzQPqXJTtYikQvcMsAxjLlb+0tZTQ15eSF+CHsLD6\n",
       "yfCEMUqKIPfHl6au9oo9zPAIhXZ1qk66I5jCWUqUX2v9pH0cBzAHrC3oAAAAe0Gai0nhDyZTBRE8\n",
       "P//+qZYAAt/wraopbO8Nb2ZMUxiF61PO1TIfvQb5/Fxrr2e3PptLwhF+gMRJ20ZtvARYxMJ/vdSg\n",
       "pSOUXyI/OqLfL23KCnzuvAA9nt9P9IV2KAIVHKkZIwkz2ABBhDlMhmr3CAoTS1+5Xtn0ZCBcQQAA\n",
       "AHsBnqpqQ38AAfvtZHgIrfJigRv/NgdcuTWA8FK/5bd2ROfhn9LaoSALTriF6xT0Ot2grEEMd+B6\n",
       "x9ngEfFZlZOA1r6K4K05NXDLCE8ow8vukz+3b6Lt9yyq7/7gze4GMlfm56nVqc5DXtBjUe2JuDiF\n",
       "rbbC+zX3rkY7a9IAAAB9QZqsSeEPJlMCH//+qZYAAbQxosagCe8nx5C5ikbM/Ei85HeIfi1ddWVC\n",
       "p7nLeW2s21KEjTG0H8M5/yARm4FqQF89tkVBKmzptNxpLHwQcHCNvaWbNwxW70hCUzc2HAGRV9QT\n",
       "H1MtHePohMVUVrRwYIVmOOhj5DQQJXaLEoIAAADrQZrNSeEPJlMCH//+qZYAAbK5giISYwwjeC89\n",
       "F4SGkmqiNAQq2lywXNcPH9bwzIrDk9vOMkpBTTKq199VtFNDdheoDdBZ//5o7UxtHOxPGFRKNY2m\n",
       "A2q4dH2nznCxOExhmGX/p95YXrG5CABYh/AUW0c158aHSzRLI//xNrI+AVB8qfvXkJUWkpgZOFc/\n",
       "tea56VMpHRAxphHC3R9DoUz127jh506NbvKGvBT51SqROS1ZraWMbeiPrn+TkTcq08YAIQMqknEH\n",
       "sPznEOuLh6yorrvAiAKSWxFnXkBTFdsL5ISr+59Ky3Z5vGjPgQAAAG1Bmu5J4Q8mUwIf//6plgAB\n",
       "bflKh2mgL80eGAX3tWoBQAOKSB6NDSEKklI81GEfx2E/4a5dqJPPeRDtNjLXT1bemPQ/iIUBvXEA\n",
       "TIWqMP5v/8dZ8SLcmBF3ADtUqHnHX/0A9Evlk9xpO7JwmNGzAAAAW0GbD0nhDyZTAgh//qpVAABv\n",
       "MudLj1lyXRQGfyHALFA/2GtRA1dln1XQlxKl0PwAAQR+TpGzgVJjNNXT3r+JZmu9sUcTs/P9q/Fx\n",
       "aJ48z5sfWSXKtA5JAs48oGEAAABuQZsxSeEPJlMFETw///6plgABsrmCIhJjDCJIv+lLNA0JBSeZ\n",
       "NvyYbiotlgiN2Iqs9YYyskcTEukB5MVcfjQADIGsi+N6+J03E5XXyRnXqPRpB4wAQ8i0rP0piCm8\n",
       "mofczbB6Br9vWfg6f++EC2gAAABuAZ9QakN/AAE1jJSMNhhPVOx9IyL+4PCwt+2JUBjt05uIAkMu\n",
       "3cFKfW2OSuAmtf0AcfQiIW3XD6VJ4nGXFV7vhtTIVjPMxgtnj7DEmfUaUvu3wlTi3qncweS2MkC6\n",
       "deBqUB1waw4gioFMFi5wEu4AAAB+QZtSSeEPJlMCH//+qZYAAbQxosagCe9EyFvSBvN623hK7Z6c\n",
       "mMOyyVL5vyLyumVRv5lcjGNLPS7PLz1HufGc11cj5ypmxPBrQcD/6L1apF6MRp/vZWMurMn0D7Jo\n",
       "kBXrB0LFSRzpsDvzvA6ZNh1qj1MGYcPDuWYYVJeHBiphAAAAaUGbc0nhDyZTAh///qmWAAGyuYIi\n",
       "EmMMIky49mJAK64wZKb9b4g2xfo0uxyvcIa3ks7KusAF9cO6W5y7EpVpNzc+sOcSDv14EulqEGoh\n",
       "XQpVG5GOc3KJ6duLbQaWrO0HUmSdxjggu7MN3QAAAGZBm5RJ4Q8mUwIf//6plgAA2nulHM/UE0dm\n",
       "1/JYT8LqnEGudgANMyVH4iflRnkHTyAo7qYCs1Zwq3qkNYJft5v/GPHZ1KaJ2/zM6LYPPjE5ZCcO\n",
       "BByX2L272f3o6aQ6EjHz+AIKocEAAABcQZu1SeEPJlMCH//+qZYAAbLHE9PvBQ8gyXv+3b13vsXc\n",
       "+NfpO2YPoXXTIJ7rv8f9FLZG5AUejoBJAB8OfUAGxQlFdem4f8apBbYMqiQamH/OfWHabFsNUzSU\n",
       "DAkAAABjQZvWSeEPJlMCH//+qZYAAbK5giISYwwiUWV2m/9fHbUP3RakH5NwnZ7b1XrJxWB8l0W8\n",
       "kAH8F2CXOdOx92GOfLimoaiTJlbBoJS1CCsSJtu3B6u++52ugAIjqLykbSr7uPMeAAAAr0Gb90nh\n",
       "DyZTAh///qmWAAE4PbaAUQlMsBCoeV4PGBoOJJrFr5g0Cml70nG3WOxz6XVmTpPTBrmTOxwlYEiv\n",
       "2ZshfvoFvMpCzOF0hUHk6HylbGyyFobnv//I/xrOnFoXQKipjfVtmN/yeGSQsIRvMvE//faGnVv7\n",
       "ijh4pesOUCPYR1xCo5KnUxl4MESZdxEfB4FWRaXYALLJlcIIjQr14ElN9atzA0zrJbbBpfAqxB0A\n",
       "AAB5QZoYSeEPJlMCCH/+qlUAAG+OOe3MAIXa0sn8AF//5ig7keAwnlS/H99iJtP6N5OJ245SWfpI\n",
       "bA26UDdrACbLC+x9WBPtzZSvnwEoqPU5lWs19Cy2tK9hy4m9hAIj09XOP31NfdJ5djoPeAI5A9Nv\n",
       "3wad5mmIy7mj4QAAAGxBmjlJ4Q8mUwIIf/6qVQAAbzAhgV8P3IHa+MaAt1lXnqBymqKADqegZPjH\n",
       "/ELPyB/jGXTAcuz/+EKF3UB/B29LuOWuFXwu+k1K6wn6SE/eJDAA08SPNm8xV68fEyaf2gn7823Z\n",
       "oFBb8JUqyoAAAADrQZpcSeEPJlMCCH/+qlUAADfGFVqQAQy0jbI2J3wX8oFJrj3WJjZloMUQ//bI\n",
       "+piFm3EXmFkMSFQwZaKH0BiZExzp74+//H7wHKblx5I3ifuGOb5ITye9IRV2lJ6lGjx+jTG8ddK7\n",
       "GX4FthVWZ1Hh6elMMrKOXDMwrVev14NIE+0+eKS2DIR6QLtdzkAmeLW4z/QV7N+sP4UZ8gnn/51I\n",
       "Z6jsS1d71emxChs+2we9CQkJFJJCVYa51nFIACHpcAze/yemaGqTM9Ifs4ZeuITAtoC9LOybzhaD\n",
       "Xz1L3g9KkcsKs0/YEyxn2yeDjwAAAHtBnnpFETw3/wAA/hsUyziVP/jRbf9rcStXCsrib63k/2LC\n",
       "TphoAH8v+wE+lBq4XdMh1gcFj+J9lvptgNofO+543CMIxurf19VAbqGKCWIrFoyrQ0EWTI3jrKy2\n",
       "EQCKNZSlmLihneEXg2k3hIEerYwH60P385AX1tvocCAAAACtAZ6bakN/AAE1snRQAWqL3yNdobCr\n",
       "P/etlsVAJsHg/BdReV0hQacLGltv+H5KSj50HBzjFVRlVs/qG/q6+zD5JNqVPcNXpQ7T4Y3tJFzQ\n",
       "R68zXQQ2cnXDqRGzzkZecCC1Y2oH7lODiFaJrP0+jlMJLlvblqxQWFqbPtispHDAo7BEUnuAU5Q7\n",
       "+pmCzcsD1mngI4C2OfRJxHsZbcVRoFxyYdNFcrutdQiS9RzxMWEAAAC1QZqdSahBaJlMCCH//qpV\n",
       "AABQPE3gDcE/XLgrafxJOujCa4vdYPcyOFIUUdJb3DTIQF36odgYkSVeHS6RDOK2CzztpR/InaP8\n",
       "Iwv/1di/clODt9eyhGEJ8cBxVX7pHYoF434xc1ynrb4iER/LR6RLgMWWY2OYM1Ffb8DQVddiyFMm\n",
       "CcIRlFzQV1yiB4ke+ErZPHEjFe0R5jt5gYHoDnYlA3kuGKQpmB93tktf3p/l3arXb/AdMQAAALtB\n",
       "mqBJ4QpSZTAgh//+qlUAALxlc/idufzwAXY7QV1SA79c990CpW8DWTtWLPlqvK5wt9uYb+TgLAb9\n",
       "+mTu8NZ5YAYXm+v1GjPlAQVKssOZTUgabaFhHU9JBmW60KG0tfIX5u1g4DJnOiE1pgyRkHVuDn8Q\n",
       "V47KYgX+r/IHqL8TOW0qhV3TmdYRWqsc7ybulgkiMI4Xb3Q1JJGWPjHCxHHDdk4IVXpZ31zHP00c\n",
       "DtsAWNT730Qvqf0/IF3AAAAAp0Ge3kU0TDf/AAH8KEBzno0h1X2TAAOAMfHp0nNhVn/vWy2KgE2D\n",
       "wfguovK6QoNOFjS23/D8lJR86Dr2ugCLuKJk7Nl/V19mHySbUqe4avSh2nwxvaSLmgj15mughs5O\n",
       "uHUiNnggb0U8RTzU40SiBX47ovYQTyMgyPefuGFAYJvwVlXFXfkxZxsAYhWtjcaOBBh7Y0hgy6YH\n",
       "+nprwaoUCJ7+2hWMPEfAAAAAWAGe/2pDfwACaxpGVf457TuNAnu2PEc64Z0YqEqjm/tKOVstg6Of\n",
       "mhnAnmC4OfTxrL0e9kTvIghs4+TSfEunbd+v52Es93mxDwsO0xJVWqvneMJBAqtYHHEAAADDQZrh\n",
       "SahBaJlMCCH//qpVAAC7gJzCZgk0RxnWLUuEMCVM4ACv0LMkp5VcmVEd/oZVSd+0uU/CH/crOKaL\n",
       "YVqizT924s91P96bTntb23RMNJMM4ifI8AAwnBbuB4kBYPG7/cyK2M22pWCHlrbP8un4V6ebQaiN\n",
       "/Vn5bUJV5NdUm6v8udjffU/yHMUqi+ByHtI761YZZMcMRFr9x+2mRBpFFW/f0EbCLOJRUIKj+dHX\n",
       "M4048qygCdQhqk0KC/adbFD9YWe0AAAAc0GbA0nhClJlMFESwQ/+qlUAALx8Xr1XY4CME111AL7v\n",
       "lcqhekWEvthlQAXrcg8MivsN8GaGkRZBoUbPV4ZTgqjO1VFNlij9eJZXpc+9AtOVE6ffCR1Ak0tA\n",
       "JvBBEWHxvhIbqQIoxehQ3Kt0DCcroeQwj4EAAACFAZ8iakN/AAH77WEYbDCnBtdmMiBq6WQwAaxT\n",
       "0Zu/3vC+oE1I1oAG9nMG1JyUYbPKo2BWxT2N3YhIPqdkjloXBxWHFL2151o6UhQEibYk6B8pwvs9\n",
       "pqOcdoWAGvJB2mdXWMVMKEPfqdUNOSsKe6X2i0f/WJL4Pl5ckvZLqOH0tNGf6viqpgAAAG1BmyVJ\n",
       "4Q6JlMFEwQ/+qlUAAF3AWwxN80nYrla7PTnOIX3nMJgoGgYX5j5FjYkFsADu5oEr/0B3uMiSg2Sh\n",
       "P9HevNZ3XAdm5qfVUVdN5jVBpiUAI1JziqX1+eFZxH+NekzyBGjmXTwHKk50STjhAAAAYAGfRGpD\n",
       "fwABNci9WnB9R+3ys2k0pzaHLKcW5Isb2Oj1cnxHqvyNFd81ZgAVlXrs8SjzOCoiIn7xjrf3CGKD\n",
       "eTc9DodE8Fkuu/HbyD4PwjmCnLC+Qw3OGaXAP80yC9MlYQAAAHNBm0dJ4Q8mUwU8EP/+qlUAAF4+\n",
       "L16rscBGCa765mwAKwjTpmKtmsSe5B73EUQKtW+HDIUf62iP1/Yb9ByEbruzNYK7NkM4RLgQQ/NJ\n",
       "oYwMpYlt7gAUIwdGaAOGpqoPWWs5j3vkQkWGVP04ByYs/14/IdJxAAAAyQGfZmpDfwAA/fawjDYY\n",
       "KXAgAnGMqbQAesfGEhpTEsbf+vDOnDA8zHTzV5TjCu3k2OMLGJJtmns8iuuw+FRTLtiHMnEU2kAN\n",
       "mqoLtDNlnG+oMmNnGUXQcoNVyK44ROqQyKQ27CUaT/KDAUIXS25vLS03aEAfUHx+EnZTJODjvrKJ\n",
       "W1/FAc0FlHaI0YWCq2AXdLx+d/grG1J3dUSh7GOWwhjnq9Sj3LA8mVVEvCBEPxNtnviR9ACfdnQq\n",
       "Suqhz6pVuy0U97/sVmrC2wAAAGdBm2pJ4Q8mUwIIf/6qVQAAThZmzL3qL1phs0NolUwAEgR/JtbT\n",
       "8+egAsCfTu6afAd81C76OGRHTzLF0hWFe0VtSWXoi1WfsuqmBTUh3eQ0OnICRJWAA7FhbKssdnP8\n",
       "hXjH7nT2ozLAAAAAUEGfiEURPDf/AACa5dr4354AV3cO+MZb7baBUdlUk6lahsWIbbg8yKKro5+z\n",
       "vnD5gUkPeNpA/aHMYwb6snVkuBc/AfF/7zMoAenQkyCurCVgAAAAQgGfqWpDfwAAmsZKRhsMEslt\n",
       "iH+qnwitbfmafAAcWCnTJkZwRHAdAh6tOMb3wJQadsck53hMxnnKGwUC9+HNM3U/+QAAAHdBm61J\n",
       "qEFomUwIIf/+qlUAAChKNwukb0f6s0oj1j+Bb3qAHy9KqchV8ifd9ultJUtIintSRV9nF0Smx+VX\n",
       "VVG5NDynlS79DxayKgoQHuqJueu6AE6EzBNrc9Wdxu9qrqj7rYQohbQ02n4OqM03owHByCcaJFyb\n",
       "gAAAAF5Bn8tFESw3/wAAmuRerTg+o/bQDygyXqtstbjW+r0oK33aO2TenKcm4qANcgBJwah+gxlB\n",
       "V4DaiLwRhYP5SBIabVADEZnv5bV9sctUOYwzAYWB0I56HhxR/h/4HsEXAAAARAGf7GpDfwAAmsZK\n",
       "RhsMK8dP1eZZEACs1wLGo4jSod9scjF33vd3TAk1cCUktJD4egDEhuwH+iutfhW2xCidruPQ4HrB\n",
       "AAAAwUGb70moQWyZTBRMP//+qZYAAW/Lf3Nl+3wAHZoWc+np+E3qT+FAefog/mB1r5hM00w4w0U3\n",
       "X7adDG/IagVPpFrpcO8YHcwemRtKWM+n5VVAWkFYROjZr421SewXb708vChCQsmDfSRu3RgeKsbb\n",
       "8CeYb8CZDi5fwH3Mv3VeD4Wuq2neWdDYql+qUGCDa4L8wJufowa/bKRlAK3DLkZ4Z6iuNihcl94B\n",
       "xVLEVVzD0PXWk5fEHoupcG2xIV6DBTcAKmEAAAB+AZ4OakN/AAECjMB31us/HMexV69SABx9fSjW\n",
       "FNfMWarEUAuc29ouImY9Lb1A+IPbCOlfMV1bn+9QiNeZuUOVzT3Ueam0VquBkZVtLHZOkn0t4UdV\n",
       "OS0hzICgs3bG6jNlCJt4wfavKGxIKM1v5GYI5BzPW8rCMl51sVa2OA9JAAAAwUGaEEnhClJlMCCH\n",
       "//6qVQAAYL2uXClsEwR6Irzo9qS97euALMVg7ddUmA+xYwM/RJOuyPiuAy5e9JxQNJ4qGYHWoDRp\n",
       "jWMgRSf/TsEkf3BFQ87MThhYuMAjjAmmHPrCK1Mlyi/Y5n/6yDLn19yagggaLVATCavQT3USWWGI\n",
       "ONKpSQ5uOg48+e1QRmp8FERID94fomKFQahR3y9VjmAjOxJ0dmt2wmVIIhc6KyMEL4R8/7teVpVB\n",
       "hREnqYVBupZIc/wAAACPQZoySeEOiZTBTRMP//6plgABbhbGwD/lA9GhjqvyjzUfD746/fAtR/zQ\n",
       "C2ux4K/S8Vn/DqBg+6N50RBzbpePSceNfECIzjqk9SajZfaXtTPZbZF9ZSxuNMcjCtmJkLnXuzWN\n",
       "fMc//pHicwjUFK6ED1fQAA89sp4TPIwqpbPkSK/fcZgsJWKj7o4AGQp0g1IAAABaAZ5RakN/AAD+\n",
       "BGV5nxLruN5+IuSiRvjm0665j7oAHH19KNYU1Loeiq69FV1u2IpDi1ME2lLnSWf3jK5mCCEBVE44\n",
       "pV39yCNGcFboSdXQAUSistlLLVWgrQYtAAAAbEGaU0nhDyZTAgh//qpVAABb/f8CsZkE4YMw5uBC\n",
       "t4kk3m8cD66coepjGH/WiY29hqCGZOMxuMnCgAEBbZV331beuqwUorkBlSMU/UmRf53uMATwYupk\n",
       "Z69biVp7mRBlSx9RGC1uwpfms76hJAAAAJVBmnRJ4Q8mUwIIf/6qVQAAN9p38mITNUAESBtHdXT9\n",
       "o71pIpu15dFJfJbt/9aA8m4LHcpPSs4N4JP074/D/6kIdlQ0B++g0hae8q8mNLPh0D1HPIIYOHgK\n",
       "FRwewd6G5TP35SuvttAFrf9RrgyaLZvnHHol772Hy2ccqWRXiYEQbQKCRt/7xNKl7RBtLJ2UMzLh\n",
       "i1cekAAAALpBmpdJ4Q8mUwIf//6plgAA2VzY+lIM/0F0fmwqcUG/yKCUngfmAAdcP9lnDN1u5jcA\n",
       "NbVovIlmJe5Gvx5NOsMQ4LLvfPCA6Ajc1xW2TBnjAAIMVa3gy9AOgXBNr6+9IbV878N1Dt4lOcg3\n",
       "oFN1NveMAmy7KKcchG03tyW14xKXFURKmJw6+S+5vLxep/RC59ZwkpEQc7UAfIelXaeJY3qARMoC\n",
       "jcVFE6jt//P+mFeBvYbbnLmNkXZTEesAAACIQZ61RRE8N/8AANiHiAB2Wxu7EJB9TsXaouqEgr+K\n",
       "X1IBzw4yxkD9pMUX/K3mbD9pj+8tWMNO3jMg1x78I9CgPINXl7YiXfxO9IjiGdaF2un+gtPj4Oto\n",
       "a0qiBe1odOL32mZQR0hSg6P1Pso5QmymRQEvLiUhwhkCgtyCbZn02J4Io1itpXq5jgAAAF0BntZq\n",
       "Q38AANgAKGs6DCnBtdmFhc9BG1gGmM3mYADRuWBGI2FJ6apjH8OLIxC0wxNVVITC8TCxni7olPeQ\n",
       "3D/3SYjjAt6HSljKJw/fSuL/e1dyxBpEnGxUkQeXtMEAAAD9QZrYSahBaJlMCCH//qpVAAXcUaIQ\n",
       "AfQMobRJQXPH7groJVnE8dYJWmzdgfYmmVxsTEx840aydqxYb6+p3N418M7vsEUw3laBSa0/gPDg\n",
       "56Gv057e+M1ljLIE5Z7ptecvli59Dtdfry4d06avss1JxG6h0Hn02uFDIihj7bg19CkfP/2psyWR\n",
       "lmyjsLl+8GCgoG+/5C1yNepYuswLCR0oNSJejhmhHlOq/qJ+FJ9MMOP7efTKhPMz4CIimyZwWaRL\n",
       "cC87ALLsxd7kyH6ByO5UUK8g6xlNjih5t1O0OFbCPYV8K66gsIl2waRnYCqoVQtotQdCUrrSrR5j\n",
       "3pzS2wAAALRBmvlJ4QpSZTAgh//+qlUAAu4CcwmYJNEcZ1i1Lg/fAtXDTnmv5JVHa3gi+gDYX65c\n",
       "FcV/7lIwoFpFt2YXdv/9vC34lAgGTEQPbmAkHw3qxrZ6UHvZc1zcKlghJlwGOEc7CwGBYxXLaOKc\n",
       "dlZNd+awuPufEUDmn+UAeMS2rYZni3HmH1xKbTgdp7p4Ip8ABCoyoXwpLeEHMzEp/eeHfnhOv+jA\n",
       "urJu/uf7931HW0DeZ3U+RNoAAABEQZscSeEOiZTAgh/+qlUAAvHw0IRS5AZhNoVLHyPR7RwiuA5N\n",
       "9ELqnQ4cuUJJdwH4rbmgVajWa1wr2UQlDL1N0NczwcEAAADVQZ86RRE8N/8AB++roAGodGKGjjoJ\n",
       "sLNSGoUS8ES4YzyTZ9npH7/dU4RkmadvFaU0BFnE5WJ41VZNw+O8/GbT/jUEsJX+cTLuDKNcv9WX\n",
       "0NzYJoBvJHCJlP+19vHuEaWf5T01j/Oe9OlSrQbGvIuCxyVLykJaFUZIX7iZNmJr76tGWqskybhk\n",
       "UD/BwnI9nStC5MQB9mLGOojx9s+WEHd4SlAYJ+odakri4bDAxhpULF14EANecEgrzspujPhZAAAF\n",
       "i9tl7pAAClTAnz/KPHP9uqA6PCLgAAAAeAGfW2pDfwAHxdOw0Cjjn1q4Fz0JUNrar8KmTeMOFqTI\n",
       "H0trH9MFIdGnzvEDNV9D25eJaB6pNPqh5SL3+H4AQbiQ2FiaD06K9Jg+5kTl12uCGL1I47CmCcSW\n",
       "5GDKu71FppzJQhShzVtoOQYTSNPrZjcoR0gKX8jjgQAAAG5Bm11JqEFomUwIIf/+qlUAAXcBOYfh\n",
       "Kb/mgpmKqEQ9PTHjth2vvEAFDQKMAB5cOyNoReumraxm3PW0CTsOUsSolcbj8mv6FwxeeyAbb7h+\n",
       "0AW8qT03rjwXsJz+4fAJh2q2YJQbGmP+/fy31ck44QAAAHpBm39J4QpSZTBREsEP/qpVAAF4+L16\n",
       "rscBGCa6Wpb/2oANIQOef/to9dc7VO5RmBzNCqsBhiCqpkD6Zvv7E+Imk8YxXrl6IlScJ1czppjc\n",
       "lojWetofxTIsBXE3iPutdVFD6I1o7s+FE4tbBxvyMI4r8gqAXxPKuShQ8AAAAH8Bn55qQ38AA/fa\n",
       "yPARVxpmSZOnjHCD/Miep/1IYEzfln1VWYDfy4BdFD1wuP4JUl1/nLokx0K/3wPjS1qmjXfhdnit\n",
       "f11A+mxpsHLpv/NDD4WYeFsJmL/WtuqIKObE7czpSZbZ+TtgNykJu8xaB+Qnz1FHq18zNzvmdA08\n",
       "3OLgAAAATkGbgknhDomUwIIf/qpVAAC8fF69V2OAjBNdLUvG+Hsshf8Mg4/IfBlvbIBA3+h/IqAC\n",
       "JHp1qgABlNpmJtrcrcBzZrI9DHtiaWDVEbkyqQAAAHxBn6BFFTw3/wACC5F2xKdRpUH3B45+7daw\n",
       "u8o1nN+AC310k0PKwsgLo/0T+GrothQIeEQzac8tpqYVMxeTe5f44rOMl+CV41ZoqS6W51bAGqbQ\n",
       "VUSOtMOghQDext8YtuEZlaKI17QpZRfgeI9ae5oe9UM/0l2JEApxVgyoAAAAagGfwWpDfwACC153\n",
       "yvzudBojiFmB+UUkksJ7E9RR+2NE2KusiYa83Ml0skw8CJlWeWgD1mLUFGu3XJS//DpE4f/gxpQA\n",
       "tCp2kmrnsm4V0jMRV6ovbUFZQ4LCttQHEXZUDi65p1HgizSSDxkAAABgQZvDSahBaJlMCCH//qpV\n",
       "AABdwE5q4oN/AUbEV8qJfe7U2llK1N3Tn6As752BA28WtlPT7wqIBi4OhQKIX21mk1Q42ITdVpYr\n",
       "PWUCNrFbnqVlWwHVj8dtsqCxBR1GxorYAAAAfkGb5UnhClJlMFESwR/+tSqAAC7mx3CvaZOlIdkt\n",
       "MNMws0HyhXFYAwuT3/X38yzUdEi4dSgvjuOJAAp/HRFqwie/coRDhru3y0+ZB6C80M0HMcihzvpK\n",
       "E486otDFXxluI+SfNpKsYUMJC0umaZjC8UY8uk2mMQ6nBNex8RO5lQAAAE8BngRqQ38AAP4EZTEa\n",
       "WN48fUwToI1Qoy1S82jViQ5d77TABcdhiBPSBFDv6QZBX7UkRGM6HBts2+DxYn5n9HLE/Rpu11ky\n",
       "rcISLkveLIGBAAAAXUGaCEnhDomUwIIf/qpVAABePi9eq7HARgmu+uZsACJWKwQlXoR2l2gBl4+d\n",
       "d3s6Xr77bK99oQHxqvv6YaOOcq7QMUEFlmBOawh+jTTjfdAT0PEUp+Va1JBoUvgm5QAAAF9BniZF\n",
       "FTw3/wAA/fawjDYYU5fUVsuC5KAInZgJayJKvVjeD2IpxqOSfvAsbdL94MVriVsoKJmxgAABGe/o\n",
       "dNoO4jeaaz5MXztRrj5gNxRR89N9cNRRQviRON7yFiaF7QAAAIcBnkdqQ38AAN2k+ACduCkw4It/\n",
       "EtecXfoCUrfaw25xBgNjQWzXimPYCMXPKo/rdYXnfWEKmQTJ3zHcdi61z9d3pe/2FBgmYS1c3yVZ\n",
       "b2vk4w4noUa0lytxksGg5Qptbh6oLTICIY7jY++pLmmTIMcV2gRQsZ6L2QYrz444ke0hlEkjwvCa\n",
       "rYAAAABsQZpLSahBaJlMCCH//qpVAABOGPCkDzP4OnK0WA5HJ2gI+b5A0lbQaMrewDfLHrGE1w1S\n",
       "wPO0RadIUsDCuiTncKcmIAE1Xc579orzdqN95arsEvRJetl2a8ZryxvZFK+2kUl0ngoKafSleFbA\n",
       "AAAAU0GeaUURLDf/AACa5F6tOD6j9g8+0r4a2seot5ybFna4gzxwAI24+iPLo02o/ft657T/z2Rw\n",
       "y1RuN7PB184+eDk/eevAtiBcQzt1U4AuMyBFyDMhAAAANAGeimpDfwAAmsZKRhsMLyFXZhkgBZqD\n",
       "TMYDyeDKMwDi/IGjfrr+kfe6etOCx4txSUH4PSAAAACVQZqOSahBbJlMCCH//qpVAAC7d52A8HeL\n",
       "ItdibIp7WgXvAxXCZ/4ZeWvZtgqRv/+BI7Y+aqV3/srhA5P/c3xK+OgSm8DitEDEJytX3DgG9iec\n",
       "P02BvSFy4dI7un22SXu+Unr/12ufP/PCilfX+BQgA19QrI0kTI6Ux/K92kT8lrfwzhpVR9djv4P2\n",
       "s5DK7X4S4QAIx+AAAACcQZ6sRRUsN/8AAfF0YLg6EgtpOD6FJK6AAhym0D85EANegZLoiQhYIi7x\n",
       "xnNGmNLOD3+b5DL9ZdBc2O7WOxi9ttTcwAAAIA4ihamSTQBVUVeiScIt8OlM7KrUMe8Y398O9Bav\n",
       "g9eXqgSjdh9njqbhsbqqqXzQu4z1w+OuGFlVb3UrhTSIZItBjFPhnrNK7kE9v9nO+AChEYawxWHz\n",
       "AAAAkQGezWpDfwAB8XTn5AmxV1kTFkPREYtMoOnOmVZ5aAQbXf+9Gt/lBK+lNlDVukR/owQ/fJbm\n",
       "KrTIgCm8hH6TNtm5nswY+7d5a+XJj7jTGgcwS0/iIcBkrBti1qwI8qJyZPJxgTMS669nyvxv976w\n",
       "Pd0rCEx4eluWPYZjTrk9yIvOP8xA0lvMFELv3LbGDRZZMZUAAAB0QZrQSahBbJlMFEw///6plgAC\n",
       "ze8IAnzPk5rVrmZbnv9Emg8l/NpSADwSdtGfUojY5fMmqUpLJHYljGRL9+83duxykYrI83TmDiio\n",
       "3zURwnGAUyaHzn0AI/GSONahoC5z2/zIpq6/l4h37OYOQUpZog8Y3EEAAABWAZ7vakN/AAHxdOfk\n",
       "CbCzUhp1x+ZLhjPI4IcqyWo/IPUUmaeV9MFIcxweotBUBhXz6RJFr+HABSldSzfKz4id81eoUbAA\n",
       "KuNPuducvswnW5qyLJMYUkAAAADYQZrxSeEKUmUwIIf//qpVAABeJr05hhioRw0gNjyt/XayABPB\n",
       "I0OYS6mJeIu4GRJZ29eeEpZjNH3blrMoGuysuf3SvoFhO4tjIb6B4iDFJO4gWgYpWJBOrzJK/J7M\n",
       "+3IHd0Py1xqMvh7ZTGdjdRRzHloyOsOYbFEK77qJj1X5KzJrbpXhmAQ8eq3L/n9HPQ8KFLIkxzSy\n",
       "SwKu9tf+5EPqBXdjIz3PMwebsgAAfV3KpNawta7Fb2JtHo2DL9a/buxE/VylzSdVbgcAv4NzaYv3\n",
       "ImE+026iciEvAAAA2EGbEknhDomUwIIf/qpVAABvKK8gCJrwEOXG4GwJJ5M+9aYlkWE8uKwW6Nth\n",
       "CPqv8MzrCQ+1+mT9DawH4hAYinM4JllROcyndNeKmY8UEan7xmFThKWLVAl3fz3GV8al3dTEXnsq\n",
       "a0JnRqezCtcwHWx41PeG+3Pjx716XaSv3Mub5N0rrPke3aJT4Q8g3LTtsvhKHc3EPD7qkfTqC5su\n",
       "rghG1F43U62sPl019wOMnR9kVzqNXUvGrp6Zxjzt/Nr2XRVuRVJssDZ9IRTcLAqAl7RhSDNqVPgE\n",
       "XQAAAJ5BmzVJ4Q8mUwIf//6plgABsrmCIhJjDCNj7JoCeg9rkxHhXlctQcN7smuQCNGs8AHaXiIS\n",
       "qKO/WvwiiYPYc11Rx0JA0PtZochEcQgoPi8ldG2j+zD2Az7yTaqjmknpntQlk8vRMjD31dj633CF\n",
       "+WEl43xsANuKLUAEeurN/DsLGvtoUgO15XOFvtpqv0qBY0w1JglIn0BtT1yilI2h6QAAAJpBn1NF\n",
       "ETw3/wABNYyUjDYYQZVIgnGikGFG1KdvJG5lQxvd+VvTMrW3RV9lYi2JEKUD5f2ISlOuXwgl3E+r\n",
       "iwJTCyAhzSXBMv93qQYelq5RFL0lki2vV5Ky0VW3fCeiaaiY4yiwPIaa/LH94Pb6yY3X/qerB2pC\n",
       "CZRRxup0xj0B3IGhOuDzJp8Lrbejd6iiZ8qBTAP1tjbO5gGBAAAAjwGfdGpDfwAAlvDGcaJsLNSG\n",
       "nXH5kuGM8jghyrJaj8g9RSZp6VahW8iWnC37RYsR4wIgidZhK5lQJMfv10ODrXyFBL9Jd5WXZNiJ\n",
       "G3WdXCexgN5VrF4CD1YADC1AleB2JrnzhpzfkvL8uT127I7FgAhP4VFBthrD2wQWfjL5v0HtQrQH\n",
       "06HyYwOTaUFOuIqrAAAAfkGbdkmoQWiZTAh///6plgAC3/CuK4Y4/tXN8AH3CBrnZqvS3j+fjKhk\n",
       "TMUuDfeRgAJEqJdf60qV3gWO1Ao23G4m+4AJYTRV1cy+G14fYjbTTeltsQYMv1lcK/WQ4Q528Apm\n",
       "Xlzlc/xOhTqQQJIwSZsYat9i9D9ONuHtmzZFwAAAAOpBm5dJ4QpSZTAgh//+qlUAAF3ATkpIAQWk\n",
       "TC4TRJrTwNx10xgFAYuEaHwrueBEuh5kWeUnUIiSUg4NbYf6NLMa0YaalhG6C8v/1RJYxtWPcVIb\n",
       "YXEBdsDiGcV2ds6bzEsrVsexIg24hwsiwvuOuY8lAGvPXslM7xcL//xJmVIcUq76nEfO7X6AiJ4G\n",
       "VSNcTrqe1CxPg2l4Plz395ARO4gBN83Y/9jEJL6f56+T+DLCAD2+QgCfvxuWAAFDgZh9P27skPMD\n",
       "dSXsn3EQ2nP/GrfqOW4H/XRg8FTR1xeiu6bvHodY6KrPhc1PSxkAAADEQZu4SeEOiZTAgh/+qlUA\n",
       "AG8ovEgCgn6NdbXaxCjrF//DpkkeZF77R9F1DMv/8oPBCr//q6CXBRLMk4DMPtfpk/Q2rWf/1q9T\n",
       "DvW3+X8uVZk94X8rGT9fectxnvtx+vw8je+NdVu2JAh0eQuA9IqZ8AkZNO2adeovdeKx0FjBJQ3+\n",
       "QAGjtqfR7WnrXPJLy07i06xv8ENcB5uPIwMfUOwOImUIoDzX54Fj+a+dK86YK6gc9oiI08AyaBEa\n",
       "8TeBhBo9vyuNnwAAAExBm9pJ4Q8mUwURPBD//qpVAABvMCGBXw/cgenmsBA0ReyVfDh3Y4pWLH0n\n",
       "ui8g2wTJzTJi72PhgAAAaxl6uzbaV7hmskRDfGfCbjGgAAAARAGf+WpDfwABNYyUjDYYTlNMtQr+\n",
       "uKiKAuRj3ZIfLU7YVxRe4w30uc4JADS0kxr/MeV3WcMqTgQ9N53nvd/MlDrPGARNAAAAXkGb+0nh\n",
       "DyZTAgh//qpVAABvMCGBXw/cgdrpa89NW/PEulUbOplKTeexezVfjiQ9zt7U9Emx85QRMwx9+LFs\n",
       "tzjVlygAsSexuGVQW0VpZPi4lblxJ1sjscbsAiAfbKAAAACDQZodSeEPJlMFETwQ//6qVQAAbzAh\n",
       "gV8P3IHa6bGaAx1lXnvuZHsUeZhq55v8AFP4KW0sDKEAdVmh86tJQyeT3D4BSfa8vvYEwIgG0Tzj\n",
       "Tq+P5xddQSrHNuxCap4afDTIHsQJ0PqPuiJEnwbQzOX2KKS113B/f2Lp7s0RqLtus0OhB4UAAACV\n",
       "AZ48akN/AAE1jJSMNhhXx/ogA8si5GQWCVH5lLbw/AuBFjOCsgOPDQ5822hYo8wCyxP5Kb8rSAmZ\n",
       "Fy00EfKssfemHBDRnQDizHymKUURr09ubGgSX23XwAGxMYfhn2D0YGaWQcb22dX1nKc1ZnWButG9\n",
       "LGgaR+1ZgkgKZj7OegY1hBKgpqV5AhPE0MSFXPTeFSTZI5cAAACcQZo+SeEPJlMCCH/+qlUAAG8x\n",
       "C24AR8i2XupZzNsyb/NFJZEwtaYtLH9Jzbo0KkIFgz+ooHjvX9WZJvnIT9DWvlnNGt5bvGmOBSDj\n",
       "+udxjBrzNn7xrkWrdXIbUdFcahpqsXULoyqjYbHBuTWDiYlmzJgDv1KDP7rdn6ofMW9R12qe41lT\n",
       "iZvdD2MgeIZ3E/hyUndgNIvZ1SU0lpQQAAABFEGaQUnhDyZTAgh//qpVAABvMCpadj98ZTx18OCw\n",
       "HX//M4AObBGCo0+AbaqwApmtIWMrQx0b7H4UIV31AeFr9p67uVNrPEmcR5zXQMhMP2VbQ5LB4T+a\n",
       "PFKqQrWw+ONusCYFaQ3EaaPN71MY52jq62/DLLO6MKLnU6yw2x5XdubuIzTGkawrwL+XrxEsd2dJ\n",
       "5qbUguL4ylziP43jrFG25M+MOUv/4knQ6qNRTs8JKISnbULJga0wDcRvQrd3Rr49U3cOLXAeGfOx\n",
       "0HMkkjn7mzpRWvJtk9NaGFcSaDzJJ+TfSvsHgmkhdVztqzAB9+sf0AoxLw8nIo/SLVGadciQWGCK\n",
       "tzL7yZCgdJDC9NNG980j/DBQQAAAAFFBnn9FETw3/wAB/AklvNy50ax0cR1yIQ9cNNvd78NvYRYB\n",
       "Gff3CmLTnGI4iNCDlACUBO04Vv1I0S0hLrhvoSDzZh2JdbMa4tOEJdo96hc2kjEAAACSAZ6AakN/\n",
       "AAH77WR4CK3yYoEb/zYHXLk1gPBSv+W3dkTn4Z/S2qEcJ9pK24et2iaqPdNKAprSijH3D9NwaVgA\n",
       "CafHq8/q/2uz2NM7UedXXWTCht0H0x1KaqFjb1mfk/ip8zt7rlwxslgrfwCNNa/yi6jrWL+eztVi\n",
       "7Prp5b2x41SaXrU1a86K6Xz9jT5DqMSAXcAAAABjQZqDSahBaJlMFPBD//6qVQAAYL2uXDtcHgA+\n",
       "4QQlZ//S0zXHxHM5QMW9tiwl7RwfIhECvZWd+kJzPfKHjaxF+FqnKoCv8WFaIEXtrxJoiLX8IUhZ\n",
       "kj5i5gnO+sFl69YQ5UTBAAAARQGeompDfwABBci7XI6jSoPuDxw8ta9WNqk2hrmWxAgic9rS9uaz\n",
       "hmACx5qv3JTue/eqhdrNm7BdrO9TZ1ExGMZbt1EEfAAAAGBBmqVJ4QpSZTBSwQ/+qlUAAF4+L16r\n",
       "scBGCa66g2nFk0AAHZbFd8W2KfEAdp8V6HNAvL/4Q6JzxN4QSf+vOPb1Nr7AAAAJWg4ISxa917bg\n",
       "7zLYJmcZ18aW7EhZWXowb9MAAADVAZ7EakN/AAE2v5AAOAMfHp0nNhVn/vWy2KgE2DwfguovK6Qo\n",
       "NOFjS23/D8lJR86Ddaxi2o7D3uSaV1dfZh8km1KnuGr0odp8Mb2ki5oI9eZroIbOTrh1IjZ6oJ4C\n",
       "2I83jM0l8bdkOS0ao8Z4UKM77NRw70nXkvz8Z29u06sMe9jswyG368J+IcZHPxgpbsfYnhTvVJdu\n",
       "LKZfmg5c7ovTBTq2vneOfa8ANdM+tWd758/ILuoXdGjAtQibiH5JZUj7s8uaFjgVe1r9qEx4NsWg\n",
       "tjZhBaNhAAAAqUGaxknhDomUwIIf/qpVAABgva80kabwBuEBcjjrTh2bl7kgCqM2cOkslhG6F1RU\n",
       "bmYc/Nmc53fk1iLkBsADdJUn7MmzJZ5NY0GL4ojTGLqiwRJhSGjhVU6590b31Pg4s5OR1VR7xo7L\n",
       "X6vfxn9b7pt0Ibc7pP9Fu1WtYOyPEWs24q9nuzVv7RDnq5xozltVpxdd1Pta2eBoXMK+dEN0F9/k\n",
       "LoVsd3fok4EAAABuQZrpSeEPJlMCCH/+qlUAAFBEIYFfD9x/ZCY+uEp0noGuU6N5mQLuDQPbhXKe\n",
       "/XJABpCBz0AGC6c5yQV4b8cp7rkgJ3mJ0u5N374zOxyn96G1Pg6Sdv/iLueCtxvgvxbZCHI6VtJ1\n",
       "/b8Q3sXrAWUAAACeQZ8HRRE8N/8AATa/kAA4Ax8enSc2FWf+9bLYqATYPB+C6i8rpCg04WNLbf8P\n",
       "yUlHzoN1rGLajsPe5JpXV19mHySbUqe4avSh2nwxvaSLmgj15mughs5OuHUiNnpBvqKjgo55B3Ga\n",
       "u9yLRAIY2VVo0B4EubWLF5OyvR/r2nvTBB5gfudUGPucnNK37EDwych1npkIIm3dWor25MOHLTcA\n",
       "AABqAZ8oakN/AAJrGkZT80+yTQEpEwQfzgAXVR8IH+ei7SEQ7ajDmoYOgTmBzgtFQJ5g96bcUABe\n",
       "BiyyIgHS1fGbZ8XLd1eqh89hVEja5vPM7tl79cANYRBbmazGL/uFciYOwMGzGbiC76wJeAAAAN5B\n",
       "mypJqEFomUwII//+tSqAACglVhAIR7lbDhXdEwuGh5kYSP4bo3iUg4n7dUjUqM2eJcs+LJdBzP/6\n",
       "oksY29uVZo6qQzmNpgNvljpIuWsb/FT/Yd34dFslV0oW+CNj5CL4GjrgqVz5krC8aSX//iYSe4GV\n",
       "BzKfvY0JUWkplUjhc/3kWB90hUjogY0wjhbpGR0KZ67OFE/rmuJbc3UN3+u+cjyMi5NLgIGODRsT\n",
       "bzqn5pMFG57nSteMRlrc5FxREnD6BGEvCFee2V3cr7RzFP7MCnbH9xLtTWKljFmlNd0AAAD9QZtO\n",
       "SeEKUmUwIIf//qpVAABeMrLpOv/m4ABorEmu0LYPfrn3jaw3cdS8uKzNt0UTfft+/DH0phHF20S9\n",
       "9c4Fe5Rtq/py8OiNAfvXDaAwDQ2SBFUJ5cHQM06WdXIZlhiHsYYPyBehk+QZQooLWuAYCXqbHaGG\n",
       "uOCmgrgtp5D+IYRvvHh4dFiP9opatI1tEvyIxbjlm9RYC3uwFK4+VLKn70REvm8Opi9V1RXCEWVN\n",
       "3rXULa4Vx32bGfPGJF9/cpVD7x8AMkEWWodjaIvADv83qsWHhCx1aGWVLQ8t2YlVHq0DnJs/uOe9\n",
       "Rjs1wvz7eeqf+ukfS9yvXP6zlT4BlQAAAJNBn2xFNEw7/wALnjBb4RZP/H+WaoAQ/RevM2QugXI7\n",
       "BlD0phfXLd8GaZIMWbwtBY4zD6vWzh0FQa6XQJaJnAPwhMYNCpsCM2nt7loF2nsdQX7UIYYizINw\n",
       "MUr8aYNvgS/3LFlNkZJgB/OlD/N9AunjP1HCMCIVZny2bWiOcUp7daRrRK554koUkIm28FaE+crl\n",
       "qcAAAABvAZ+LdEN/ABBX2TuGUFi6gHJvFg0qDCAoGWD5MxbQAFvrzTFdTovfBOZWk+50YOmqRYIN\n",
       "RlQtZoQWFy8ZCZ6V1WnpynGWSICDBOEMENPSekImK1Ls1rPRnZtPu79q0zdLE82CM9vnfeMURPnQ\n",
       "2SRVAAAAcAGfjWpDfwAQWvYbitCsZkqysD21HUAGtVyC21r2f9FN5TgAALqjZbX3IgweTr/RjHIL\n",
       "1ZQX7kjJNfhGq+1BMXG0Jo3zySaVypl+gMFCa/Jl2AAzVOO3pE5b0CmF0ZdNgdqLzVqGZbb3nhio\n",
       "AXusM0EAAAB6QZuQSahBaJlMFPBD//6qVQAAXcBbdDSN8W4rki7MTolpYhjAz+5KCtvRTdagD4An\n",
       "f31BEL3tfV6VYKqtbVLmCSPBbUOhCbXLeSWRdYR1RN1FlU6IxNnvgl2Vj+/W6Tmv2di2k8cXJ8tG\n",
       "QNWncQGWoXphNqo6DsRJCpkAAABzAZ+vakN/ABBcjJhVfA+0FNkHYP5TjA17VW1Bx2iACcYyptAB\n",
       "611XrPzKU0zKjYOPB6jEHtuzDaaVqPHeWgsd9OKL0e1VnD4EvNMM9tg2c+sUkh1qzPbKuOTn7weU\n",
       "HoghZAd3DsnMiBmCHwDzNM0PslSDlgAAAHlBm7NJ4QpSZTAgh//+qlUAAF4+L2G4e0eS9LBj4P8C\n",
       "9hBfMDOwLQ66j7/iU38YnhrRqEfviogAD192jA40BgWw9kJ3KrbnzFRAC4AYsBJU81LciXjYeNwo\n",
       "xkxHCKwz5TVcgbWglbCtZvuJgWsQl1gAnXjjfjKi4/mAAAAAUEGf0UU0TDf/ABBbu9LjCcfhoE/F\n",
       "5E9ULgWjgBXdw74oGC22MqdbyjfjQLT/3rAGRe6TF8plzYqObMJPoGJYTyMHvUfy8lLxW6T5fB/j\n",
       "sfi5AAAAQwGf8mpDfwAQWvYbitcMsVvgLx6Dk18d6O7Vr82tTC8hvyIBuSg2fY8FC40qWetsFYLN\n",
       "WIrD9xAC1wmZcSYj0lEfumAAAAD1QZv0SahBaJlMCCH//qpVAAvGVz/x/nIeADaUY8dYNqQkZEyk\n",
       "Kgssat6Zz2cvELKCP/5eAhW7/Z7QVhqgL+sNeeHRBskeh9iOt8nsUt2D3+84UvwHHmmCuNx0jOeb\n",
       "SoZvBNauRGuAc8kIpDRBK9kGV+84545AskDkAJxxASNuFNPkhD3GMNaL+c4eDo3Nfqti2ACtHQ27\n",
       "JjU/FjrrWxEPw9V+Sv6v0kJpbdJWwX8+EnosVAro5ZNDe5NeJYpwT4dcoIP+ZW2fklL2CsdrSBc6\n",
       "D0+8uhKncXtxO+H/NmKlQYQAnAjnP/fcAMYgwRGqqIQYMfq2YxwAAACBQZoWSeEKUmUwURLBD/6q\n",
       "VQALx8ZCAKFivXf4cNfgDQ4EzvFhyOjA91OMcqYJzGRg8554/rdL/CzUdMoxaqACjfq7fASQDfTL\n",
       "k580HWQmo110p7OMS3FkgBiyw0lnmz1i65ifbLCuqCA6aKmZ0AW52LzIhhSZHmptrXzuo3l4Gl3B\n",
       "AAAATQGeNWpDfwAfvtZHgIq40zJMnTxjhB/mRPU/6kMCXP71Qn4nKxPGpIh6C3FU6kxsAAAhJETu\n",
       "A3SAeo5scjJ9U+qI7GXqHzKJuLdSl4EHAAAAekGaOUnhDomUwIIf/qpVAAXcBeSdUAIgrmt/yKYz\n",
       "4fVcDwYanvMf+ncUi8fevPaWihleST/+Kovu5LrfM+foqdtU9c0Sp0Mf2l7qVAUzHPNflyQHsyIk\n",
       "X27prjeOiH9ncE6Dv4BYiPNoim9b5cd38vt4l+jyyxdIKBvxAAAAc0GeV0UVPDf/ABBci7YlOo0q\n",
       "D7g8dODkrdOct35PPH0C8ABWa4FjoT97wx/Jg/haQnbPE7jjTMSEJCkqoqCaNeOLXw6lg83g/vLx\n",
       "Wjirw9MaH6o0z+3egPXMOiLqaQgjHmWV+zdHQomvuFbRiavxpbPNcbsAAABNAZ54akN/AA/gRlMR\n",
       "pY3jx9Tasi/9j2nsGU5agXRSqJNTz8TgBXdw74HCw/GHkjNvEHAmx6R1sArqlznSzmi8ucyAZCvw\n",
       "JXjzGwtx1YAAAAB7QZp7SahBaJlMFPBD//6qVQAF4WOP9/QXC26wrBsW8aYTMAICqfmu8JVex+tv\n",
       "HCuiPDJPkX4MyHXYNr/9PvTZsmuTpR0LcxF3huj5EA3b/htRNLRI9MAWYk7Hd5bAStnVgPFDZDP7\n",
       "c3EJcI+tPJ7dGcyJbBukeeh/QtdVAAAAbgGemmpDfwAQXI2DBoTuT2E1R2HZqKWpB3GssjNZPcyq\n",
       "UHNehI5Z13APbe1xc3Ln9evtoCj8ysb73k16PMP8c1oNVsD97KSe1EPwwpe+nQZF/B+gXae4AV6E\n",
       "k5eY/d7UEug8VmLnP85HmTWMrhBwAAAAwEGanEnhClJlMCCH//6qVQAC7gJzCZgk0RxnWLUuEAe4\n",
       "W/ada8KG0Ik1O0d2DGiNsyrzg7qsZlSgqfpfTI+LRum5PqD95iwUbTXmoXEQVRjDXu8U6/f6csnF\n",
       "qzAfTmsW9cQ+rHF1LVRZd6NyLXG2dywgCXbjOu81cinWNwVG0FroMkE674VjDvrIaq8s/CYTUwbz\n",
       "+BFQvak8QU97dIQUHY9kAAtUXDumej49ekK2KuII4AREJ/ohZUs9tFwmrgHVEQAAAHhBmr9J4Q6J\n",
       "lMCCH/6qVQAC8fF69V2OAjBNdLUvG+HtLo9naz08ZBc/lO2UpKCBoQ7buuVvroSDeUiOe58jKAE7\n",
       "dRFKVHL3I97/BzAO/eHPHvnUirLfn7AROjPMZLWPFAvGowvL7m59hDQ4bx51KtPrqOXSQUbH1bEA\n",
       "AABqQZ7dRRE8N/8AEFu74Qdw9+YXtNFTtfli+UWpZ4kQ2gAAAwBPpVsv4AN4Ymp1eHZ9zDMAQAIO\n",
       "kJFu6sr1mUO3tbWAOwvcAnh7Gi5+BHOoUQ67rqRcK3A9ZNaFgsULii2RxtXMJ3Ql9nOltAAAADgB\n",
       "nv5qQ38AA/gRlMRpY3jx9TBOfzGDOYCjbx0QOj65/KG9stsmzY2raNf6/6ExY7NfnolGndOy2gAA\n",
       "AFtBmuJJqEFomUwIIf/+qlUAAXjqaICicN/NU63iRUonojfqNLByjFdHbV337gZ+0wnb4Z5WlQ8x\n",
       "K2BnMrdsJmVueUS+PED5HIqFFDPRZ9VG9lr59Wb85mIEzIBBAAAAUUGfAEURLDf/ABBcjJ8RyOBT\n",
       "TTCymrrgvj2D7nYLfYVuirpBQiYwAAK/t/JjJufcqB13pcajfTxCzvaTg1oAh4XhpIcs0BUwjB9X\n",
       "cAldrfp4wAAAAH0BnyFqQ38AA/fawjDYYUZOpVcyVdHOoLpGWZQ/eygAHIrNL72rjmbUKRSVuqgH\n",
       "xuBGKLBZxziIcmGaeFE8EVUYk5kcBPb4UxmtRYiKfLOVd4v7STNSgKU9ZZsMt0lLabqMjK3oDxup\n",
       "udzQGtg14Wxe2r5+8t3kmj8bxRCvgQAAAHBBmyRJqEFsmUwUTBD//qpVAAC7gLYYm+aTsVytdnpz\n",
       "odAHpxBATX76giF75feH+ugyJ7AN7tlzqf9SPO1Iotglpz9NzABCeaL1s4HXoJjWpKCaBJLBKhBM\n",
       "ioGYBUl/6yqQ1YoGUChz3U0cZ6A4KKbgAAAAagGfQ2pDfwAQXIyYVXsjrKLdXOi4oK3im6TUFj8Y\n",
       "8dtoAi4lsoLbf18dQETWy81SPjRgRXZQ2SXqQNS7QHEj/kyp/ITdDVjyb+X2Q3bqp7LYRFN9kyXg\n",
       "61fokY9gJRMnROER8AH+CmrT960AAADYQZtFSeEKUmUwIIf//qpVAAC8fF7Dcu6Pyu65jn8q2pOb\n",
       "D2WPQDCUwGb89ryUZCAHg8YJ+eq5XVZkHGza2o/0aV6dcxEcv/4WF2+YoKojaGFA//kAgMuJBqnp\n",
       "7HzE0ZNeP9qqdun+Y3crO3A4FVvWigB/HHHhKVIR//yRdTyXsv+UdlX67SIFkP4DlQT5siddUapy\n",
       "KnKPAl8ndnajj3XlkJYUdeJGyiQ7C04+4PJW1SbMnlYAARSBY7HToeogNPPSRirVYm4mXxCMfPq4\n",
       "UHWt734D69UROUOPAAAAWEGbaEnhDomUwIf//qmWAAFv/mbQFC141F2Cnb7ao3+cSq5mbzjp/uKE\n",
       "M8uOw81z1Il6knVBuCfvTzZyFZuYGM73sjNNb9L9BQ94opy7sfM/5krc7q8Zl6EAAAB2QZ+GRRE8\n",
       "N/8AEFu70uMJx+R/c0AAENXfzlgV3Hq+qc+jKBePbTxTF8JqxEr+c5LbVPA+UPVyc5HWGpZjklQ1\n",
       "/AeUl+iKEez9HntpMiSNaFJnqCFDqNJZCkWC6OtNE08ic3/3X1FGRX7mqqkeRpKwLsIqtLrD0wAA\n",
       "AGoBn6dqQ38AAgteyoXPTKkvAVxiw8wiIXjAPq9SZrnG0Nxd0Lty+73iMDDsnSAcQ5mFoh0AK2V9\n",
       "KZPFksJtwhoAVI5wAbCaCRfa5d5rdQKNqduAAEcPQxYQqLKesyQoGOFyjk1p67XmqLtwAAAAaUGb\n",
       "qUmoQWiZTAh///6plgABZveEAT5nyc2u3Eux+QgPCjzfWDSaN29MhKqRP/YEGf0d+kTmPv4Q9B4k\n",
       "uPMyutJUx8RDmC4Hw2mBfDx+x1hdIApyv31Qual/HZatczvJ/jLxq5I7p/WUPAAAAMlBm8pJ4QpS\n",
       "ZTAh//6plgABOD22gFD+aCyfNzwdHV4GaCjDVKda++q2iPhEWQJXTlvBLanestpdQAxLgBzoiC8x\n",
       "O6f5SeiI92nS8vFpPs1BXOHLaDofBAh8R4+ikwCxn/+SR04UpU+8ccjf98zNaZQPan+shsl7zq91\n",
       "ebEgoH48FZZwPhWVYtxgB3AGuxiSB+Durb1JQIwIvvWlnJt+rN9QVpP8B37ltgwULCYhZvAF6XwD\n",
       "PE04UnY+zfC4Urn/jQwGAoTnI+PwD8kAAAB4QZvrSeEOiZTAgh/+qlUAAFBEIYFfD9x/ZDX9cJVa\n",
       "gba6zc8pBZPvlAxQctv5WnfoAQR+TpG7b0XMDQtauiPrSr23WUp3+YW19yIBmwbvL6CjFkV+XPkh\n",
       "4pO0B8EfF4VqHyeX6zvene/NCaki3mow84dVydDjgU7EAAAAV0GaDEnhDyZTAgh//qpVAAA3mXOl\n",
       "hoATyWGswtjLl+QqJhZh3sDvzf+34YXjR6sagHSriTGNegxrVRAYPE6kjX9z+7y3LRoz3tJYECi6\n",
       "ecMTVkNAqqjqYAAAAFpBmi5J4Q8mUwURPBD//qpVAAA3mBUrQEusK62TDJMP1vkU5wC45AZtPXKr\n",
       "+uDFB3EK2M9ZXBbbgPH7RTouGnwUQd0txABlOCltLAyhAHUluYfppX2TZ61AQ8EAAAB7AZ5NakN/\n",
       "AACaxkseAirjTMkydPGOEH+ZE9T/qQwKI3ZnkjuFdSqGw9z69+CqxiUFIcqz8LKdA4Iv0I/9Piqj\n",
       "VM2QMUrOyYrISghyXL2XktMHT4ReNqCdmy30QAc09toAxACD3896w1DkjYuqxUNwH9/A2EanceEJ\n",
       "dAUFAAAApkGaT0nhDyZTAgh//qpVAABvKK8gCJrwEOXG4GwJJ5M+9aYlkWE8uKwW6NthCPqv8Mzr\n",
       "CQ+1+mT9DawH4hAYinM4JllReGs/cteKmY8UEan7y72u2/1HOzInk//l4i5PUXYDNfmpFnooQNVg\n",
       "gBnzLeEqv2MOlSIJcZx4WMXdlmsp74ub51k4tetqfxjLqcPViS3r3wAA7ptxxh+OpNJuvGHM2NBz\n",
       "gl8AAADeQZpxSeEPJlMFETwQ//6qVQAAbzAhgV8P3IHa+MaAt1lXnqBymwRoANBwNHR9fHJndRrj\n",
       "1OR8FrevA3x2M3ZEQkcn+BOk7zrqUqBvka/Eko+QKqVXDlTT+YeUjo2KArhSbC7nEBE8BW1QCunh\n",
       "D8PqxHG/uMhY3D8XjQatgIFvL3OM73ZNWMJUrimr36WANV5U3LOp7WuaPnaPHJx375z2WK9XP0J6\n",
       "WP20SDGt9KQdCddn07mOO5L3tGw6c8KW83A4aDFVkJ3+dMBvb0bWobTWSOY1QgzDohNgV0/lG4g4\n",
       "AAAAjwGekGpDfwABNYyUjDYYTeEaAit8mKBG/84BfLk1gPBkWtN4w4a8Of0tqiLzTf6ePbQMrxrj\n",
       "7IQl0yUxP1EZHuKLRkrhi6EBes2rmok5iTwCs5vvd5qVnKJzT8dx96891+v3majvGyBzykzuzuSK\n",
       "8Rm6iNNCapGu0tUrKzsR//LpTp9VCW+W+q4UNhTkI/2gAAAAvkGak0nhDyZTBTwQ//6qVQAAbyi8\n",
       "SAKCfo11tdrEKOsX/8OmSR5kXvtH0XUMy//yg8EKv/+roJcFEsyTgMw+1+mT9DatZ//Wr1MO9bf5\n",
       "fy5VmT3hfysZP195y3Ge+3H6/DyON0NdVCswZvdSNYI6H38+msJIUihw4TbJvHl+qkMfSIdUdMto\n",
       "yF2Kq+OQKqeRPwZnpjM9FOLqlkKFXVcqG1u4nlcHB1XnauFyfjXHqywRP42k1R9HZKtDWgxSloEA\n",
       "AACXAZ6yakN/AAE1r0A5z0aQ3Nc2bk8NWmxXKT9eAC9VB4TeCE22vA3cySpWOQcZ0tD1Q9bvXxRl\n",
       "PqHSs169lWddwlnqEI8jyoseN2odBeVn/PlvkYc4wdstu6q/AgqHWcdW7wp/MDsiaX1fxyhDu2iY\n",
       "iVmx/hnw2LxLIpRxB2cALrkhHU0aAwwcIWAFSGPZAG6PkN1Oj44T5gAAAPxBmrVJ4Q8mUwU8P//+\n",
       "qZYAAbK5giISYwwjfXdvxO3rykAGrsc+nZ1Qmh3qx6rDujwGXXrZuT7EBX/aEV9uNYU/+pF+1NNg\n",
       "VGD1+7bVRH3+NG5/TVXfbQu1nRZWljz91QrsLutkggdTl/77Pxs+ZZC68ABy7rGwzQbLn8OQoaw3\n",
       "N1z2OpxRybniqJ2C2j7HNk9w5b0doaBU4UR6AOu02b/iVri1ZlC5eeqfNlaSrGau0I5wbF3rwRY3\n",
       "j2rDSTH6kZGakBhtoRJGy/Y9UVLXpNNAanX7CqeGropBlugCEIfaIrKeCLl//b19ycEqpV4NnVSK\n",
       "blztck9df6fJIY8AAABLAZ7UakN/AAE1jJSMNhg47HiXqw1FPnBaAAOkEjrjROZBzicn+pGytKQa\n",
       "MrPRwslhZhZjdYKWNx5ZOUPslySOXwm0RXClx5bbKRbRAAAAo0Ga1knhDyZTAgh//qpVAABvMQtu\n",
       "AEfItl7qWczbMm/zRSWRMLWmLSx/Sc26NCpCBYM/qKB471/VmSb5yE/Q1r5ZzRreW7xpjgUg4/rn\n",
       "cYwa8zZ+8a5Fq3VyG1HRXG7vL5ycbDY3TdTLZrfjODapu2aJjCzuhCowmA0jFFm6N/Kcf5j8OW+a\n",
       "ELQk1SCSlwEjj7dSV6/+no5q6/idLHmo1PMOoeAAAABVQZr3SeEPJlMCCH/+qlUAAG8wIYFfD9yB\n",
       "972vALFA/14pLRmWX7LQAXqVOABR45DX3NX6F46XXtRvwTbhQnF1GZAR5aWyH4teVx3pa5hx5YwD\n",
       "9WhYOQAAAM9BmxhJ4Q8mUwII//61KoAAKCT9IATw5dUKozKlL8ria7o3ph+8/1ev92X1VYYcwG40\n",
       "GpxvdAZw9I1rCxN9XT5liVuX4xW/zp2Fwa2h0LhW4iRH2PxpAAeW201CeqYPVlI7Y//2SkjewhtP\n",
       "D6VXkeVANqSua3KOCk66natBQIfmvM0gHcsK3/ttYqhe4dpEQfoOJlSQKEnrW4pRwbQ5SA1wMrMM\n",
       "oMCkmVfonjS73W0nn0SVM76lgXpeGyfH4u3BmWfzykg/1HdCIqtdHixA9oEAAADAQZs8SeEPJlMC\n",
       "CH/+qlUAALxlZdJ1/+aoAL5c2FdtPgG2qsAKZrSFjK0MdG+x+FCFd9QHha/aeu7lTazxJnGNVxor\n",
       "nI0A6VUrZMaiaVZBorkeP5UXDwObrAmBWkN1AXw8uMmdxvDCByvbyZdfdJjw2FWVfg21a/wyWeyZ\n",
       "gT2APSRgzHyYkTudP5syq/rtoFCgHWkLW3fP/bBu6rtC4ZxUui5mzwb5jIcnbDdUYd9IzkMiasCo\n",
       "axn0d5WzRkNN2GVAAAAApUGfWkURPDv/AALciMoi5+aka643ZAbaMs4IEP+r1Ci0Dsw6a12tiu4J\n",
       "l6CDRvVdbcEoK3vEvn17Um+6dTfGkng6Q+2BaFcIfXcXiGSgJLPs1tGYKD++lIbVu+dsNAznppRB\n",
       "8JJMygByE1my2ZSxsUEdTI2kSbOXAJ1CpebPFiOokYoSTXDeatShqUPwJVel7E5CTxnT7hE9Y6Zl\n",
       "yvBLsphsxzRheQAAALABn3l0Q38AA/h72sQFFju37hVy3/bn6AC4gr+0FO85/+SEPgBVPvS3/FCx\n",
       "PTIfK4C7fMJ60dyGQRpt9ZVDU5jf7aaaT0OWFe7PtZfE2xpep17W2Zkcf/mW4U0XDYAAJwqNRtho\n",
       "6mfOwRdFbZYZVYXXokZVeMOqqD/09mHVRPtZ0O/7QGF1utDn8HuxRhspGiVBKKaDyHoaPKiEDSXx\n",
       "so2tRfFFvjQZVW4Dz+bLvui+YAAAAHEBn3tqQ38AA/fayPARW+TFAjf+bA65cmsB4KV/y27sic/D\n",
       "P6W1Qi3HeWh1u0U8K1J4A3AE7Pft2aoSiZkz2AAEIYAC1covUDfau0pPJeaCHBkvcKjCYGHW1UwI\n",
       "4N2+Mi4h/V/b4sbsgjF4ykSa0GmHLwAAAFxBm35JqEFomUwU8EP//qpVAAC7gLf+xACSzJOeFJTW\n",
       "oDByE6idCNUxvf5P99XufqRv8ZidEJyczIYwE/sGXQCaD0XyoQKPHoAAG1jkhEu/XdV3/xT8XcOB\n",
       "Sex6+QAAAEsBn51qQ38AAgted8ryDsaAEqYWRAsAKxKjkbIj2AKMd0eTH6vjtVR9dgiEFxOqgA43\n",
       "OHKXtqFIGQSEjcL6Twoqhdkxt4Bs+mzeXfgAAABGQZuBSeEKUmUwIIf//qpVAADBe9SrYlS/E9+p\n",
       "tLQk+R6PRrbr+GvpfjLhKoCHfC5ixAAGljqowt72QuysYjJO5evEWB2EnAAAANFBn79FNEw3/wAC\n",
       "CxktWABqHQERRx0E2FmpDTwTcES4YzyN+17Bhaj8HRy0PypttI4jZwB75Gu0NhVn/vQFsA6exfgX\n",
       "A9dlPlsB5FV3A86v7re/fODOdDS/1pEHhaqL76uvsw+STalS6LH6eXel/awW51TSOp/H4AwaferW\n",
       "XHz6kJXyPv/3YYUY16qHxaAS8K9ZV88jSzRqZJqqNMV0kjcmnc1RjeUxnKAGlmSdyJK8ALMrftYO\n",
       "CpQhCkSiYO6cF+siyGSmPj5hiQpOH6VlermZEQAAAI0Bn8BqQ38AAmsaRlXFovKSKOOfWreIuQlQ\n",
       "2tqvVweUow4VrEgfS2reWiOjBftP+zCehln8/HQqnpgbgdyagBKwK/4Q3IMLo2M0ZiJj2B65U9PW\n",
       "aWt9XhSayDv1DvbU0NMqxyxKmGF84Jn+1M+n3Nr73M96GCtjSeKPEgpOXn+iCh/lLESqB1AqvpZi\n",
       "qMAAAAC9QZvCSahBaJlMCCH//qpVAABdwE5h+Epv+aCnZLrlRoBa7hGh8K7nd9XqP9GlmNaMNNSw\n",
       "jdD/jNxaFdbk//e1DfyZN6XlSynoBvORNjWppEfNLKoC4NRfqLp6WokwEDjPTB3wf3RvfU+D4HsF\n",
       "jvegvLSFZgzeYp+Bph/MFKaCX5Ejn6ulJD9n+2Uzik+rKUT81l5eQsyXFL5dXCvfLnOLMnq+/jWv\n",
       "Gbhe07vaJu9cMiCzMM0XmZkgSvfZm5uPAAAAbUGb5EnhClJlMFESwQ/+qlUAAF49/wKxmQTeyVuu\n",
       "VPD1WaIyzg2WsDCQAZYuqc0MF2i2pP8FZKDqoq11jWIK7v/WrjjcpSpSIwWe/RvtTa4Nr+ImGd4i\n",
       "Hz0jRneH11g+5jU1dRXOVCYZ6DstQVsAAABcAZ4DakN/AAD99rI8BFXGmZJk6eMcIP8yJ6n/UhgP\n",
       "nauMCpuLAhhS567Uk3EG6FDE1uWbgO8027oVwFJPkekQOvfc53ez9O6fxultNWC0EGJrkz2HnsHp\n",
       "424uF3EAAADKQZoFSeEOiZTAgh/+qlUAAG8qD8AR8i8yd00NcZFS1cDxwQTSm3QtxTDMKQjv/5Pe\n",
       "6K4AjhwPBew/H59CKjg5Q3Rg4p4VR/HMQ7P/+PwJhHzxC35usCPJ1H777JN85Cfoq/ZWDAxIGjVc\n",
       "j5XNYNAUAoc9LORAXlvjaHhL7qobCuB8/wPe66Vve9SIHR/MwiEB2EvSFciMxDPgxKfC+Vx/3unL\n",
       "i6c8xWFWuN4sY2deKqxhVDuNz9jlG6ECGJKZFTC+zdi5Nxe2TkEJbQAAAHlBmihJ4Q8mUwIIf/6q\n",
       "VQAAbzAhg0x0Fi3Jp/mhZ9rUwPCJLs/SANGhrTgADRucaMbfp6giI4hL5MjAZk8nuHvY9ij8rfhV\n",
       "nN2iV7p0kp9JV1ZPTtRjLlP+ZvOrjYoPsvu+0LWODA0wQjb+L5DMzSG2jcAP6Hcn2rAhAAAA10Ge\n",
       "RkURPDf/AAE1jJSMNhhXx9AAD8lrTaAD1j4wkNKYljb/uO8sLqCCvLhVi4seMK7eTY4wsYkm2aez\n",
       "yK67KnDflaQEzh15ygBsevmYoxuJyvSQDE1NeMoug5QarkVxwibOvTCFi7DGYDE4sVgMKCHRUWbO\n",
       "nnyfXxrgJ6ynczBKpEoOfcmh7+z8EZ6sUEE+0B9aTHH4AuHxheEQToJspMldqnB27vUSmINTdFfp\n",
       "+lf/MY/VLUj1LbFToDK31FoEyLEEMoELjjIWOevshjJY2qAgsb610wtpAAAAQgGeZ2pDfwABfgDf\n",
       "P02YSzVd7b/EsRAA7oc9Cflzpv9hxwUWl+gM35MQAtamr7C462fiwil7uH8UODsDW8hegzgRcAAA\n",
       "AGZBmmpJqEFomUwU8EP//qpVAAAoXxevVdjgIwTU8lwcoVbqzYeR+mc1NyQvwgSp2REWt/+0GYpC\n",
       "0tHAXAE0BBqNFiBGGXahVo4w8RVUG/W4u64H1vnC+0pcqMf/fou7q8CYZQj4d0AAAAA/AZ6JakN/\n",
       "AACaznmCWgFgBK4+HfB4td3TGt7YQhL/Q4z8UyBje1CcJJpB5aUSYJweSrrSPg3MdCzbiaDlCwFB\n",
       "AAAAtkGai0nhClJlMCCH//6qVQAAUJY74dADWCc3aQj7vbOcQykM0G+D2ij02ZU3i0l7UgrIVqdq\n",
       "A4tXoA87SZL5NuBAzf51Bgpqj//siS08f4PA27wPdwCPrQF7lJZy9U7MHRurREb+tEfn/WRFsK35\n",
       "OARxiD1g99y7a2X4b7K27N89oiopbo32VRNJOfbW9MlkYiBqYVDU63s/w7uviPCw6Kbq3Q/tBCd4\n",
       "HCXHTjU7v5PVZXHKbEEvAAAAoEGarknhDomUwIf//qmWAAFvy6viduaKABoKeyVZjXfexQUHIAdM\n",
       "GV0dt4E1RMTBH89GcGQURdMYBvJECnuOfYTi9fqqgKAMv6/yUdJv42vW+163TngaCtAWG98hOcTG\n",
       "CUvmO68GVU591BlmvEJ/hLXwwPv83jNQ6ZVc+7s7bBhvpSlhPQ9oJ3h35RPFzr97aVbl6qWQmetA\n",
       "/thDxkJ8SggAAABpQZ7MRRE8N/8AAP4UIDnPRpCpxqVbUVPFuv4ALHuHfBfCNtXscEVopxdeTdUI\n",
       "C8DrSdBc9ouwaIhy/L5Tn2OOsG1e4tv1sSxkwmVKy3ckUV1zEC1fjbvoTj5mFEsLcVToYxUDDMvU\n",
       "5g2ZAAAAWQGe7WpDfwAA/gRuMQABClWv7HZ1anb8V4mgwJ+w4vk6+t/ZVCh1+uKjE2tz3eWyEuyq\n",
       "QxDdD5K5hbWMfBjiZDCdYk2oZCwnzcN71WvOSIYs/+fcoiZEip0pAAAAhkGa70moQWiZTAgh//6q\n",
       "VQAAXcQqVoCXWFdbJhRMKDXORf2QWL/duon6CADk+n+U2Dcl9P8VhoHufz73woIbe01TECspVVAX\n",
       "gAAB6BlK3HINdGo2LF7/Wdae1fx8lG5YHcbmMAG2Vgev6dGLCjNm1+E2UHM+7jjXTru9VtHdH0KW\n",
       "hJRXuMODAAAA3kGbEEnhClJlMCCH//6qVQAALuKFtwAKU28nu/0Y/yt/3vQXNGLEchYyPPWbyUOy\n",
       "heoXjp/87EFycJNCSHxaAvjfKKDzSOuqVgIs/akl76gIsvwB7kPIjHI39KGCPcOTgCmsJ6GRR+R/\n",
       "sf4wrwiWY4V5Bcdrgae/eALQ2YD49MfQacNzwtuMBqfKG3PHqs2AVXU/dvg2cwFWurlV8QqMifJ1\n",
       "Lr6N5qG2FwAON7StrC2Zyt3SMEWRq8/lcFa/PfrhPciVte43AjHupjyuh0QAQ1PTgCxkwbWBwAT3\n",
       "0fTAgAAAAGxBmzFJ4Q6JlMCCP/61KoAAF4mjg3krxUCNzpZyCDaTc+MABdooOS57bH4cAPdDlRAR\n",
       "l7crG1+RhDSwqRX90H+gHmLlfBliO39kBhO1+dxietcfVTypSZ0lwhMft35hAzGEaC8ugrLl3Lqo\n",
       "k4AAAACEQZtUSeEPJlMCCH/+qlUAAC7jdRvUrdYV1sl1+5yyh+RGeLY2oKLwAAcN7ITkKmav4Y8J\n",
       "y0jxsGWIUNJtVazIUB17qLs4Exa5rdMij/ArI1mIAjPjKSDbEnsV+f3qA7vXdUN+G+s6OtIocoKh\n",
       "Dr8qUTWb69+zyjE7UxeDeVlyPPeehN6BAAAAl0GfckURPDf/AACZYo+WI6PT4AHaW97bFsNF6wEc\n",
       "UL1EyKtE/EcVND/oc58sqIe5C6cYtzPY0OXn01dJVdYGWfBAtZOKbc9gzg5xIJkSEHTSBIXCA63q\n",
       "a9+xgRSUvRKf2C2d1F3dbjVxrwOWLhuKSxh7q66Cwu2EWqpgjq3VXrvNJmr6+daabc/DxYueZmMX\n",
       "28JLaixMAtoAAABXAZ+TakN/AACaxkpGGwwvIYvwUrBcHQWtay9Tw0krdoiHA4QAGFywI2vofWQp\n",
       "34cKQV+SAlEnGEkFY7f/Fl2yVj7MDhYj5uht7dB2Qf/rvdMxSyZ8oBowAAAAoEGbl0moQWiZTAgh\n",
       "//6qVQAAJwvrODiYYp8i1zpHjDzP+cDGO+Lq6A5k9NHTrE25AJH2fBCZIhPc2HKIY6O9cJ2Lc1RZ\n",
       "+6dmeiR+ILWBLk0enaIv8H/9a/j/B4O8ux5BMfeXcUoK+l5nN+eZQjV/RoTxlwWyIrBxLKTCpRwX\n",
       "jtAAAVhixum5jbUwaUrRTx8XXu/9K0f+Anw/D2pPPzM4hSUAAABzQZ+1RREsN/8AAJrl2rMABbvS\n",
       "fjlX4LB8l8WCdtR7TtP4RWXaI1LH+1WLvNfxb4gRlKeYZ3nfDS+7Dw+nQV5qSu0TX/UZEdvgSuCW\n",
       "YPiSN1RKj7xCh4YAzLxM/ItdVg670CwWJVwcxiAImjBDYI80bty0vAAAAEYBn9ZqQ38AAJrGSkYb\n",
       "DCvHUMvmWRAAj1Q0kGOI0qHfbHIxd973eRo6IR89wsdv1pTik1+DR6YkLok4hioInh9jIV+BElUx\n",
       "AAAAwkGb2UmoQWyZTBRMEP/+qlUAAF4ysuk40PxkABzZ6aVb9c9xUXhDZfeyQBVGZ8Q8V9/1nL8p\n",
       "O3wF0gP0i3OMrrnga5rrVUbQDp8ENNZC3nN115NpK/cR/5kTxieVpB4K0nGpFpVsCreEaxTsmViR\n",
       "meMwhXv0zekjSEKPITyT+YBot9aL4YwxKhOBywDtnuEuMHDnH8TpQnklsbEhbvicuPei4y33AIJI\n",
       "YXvqdwMfkauwnWxAuvQGEeCy0JjnkvsYsCrhAAAAlQGf+GpDfwAA/hQgOc9GkOqSlIDkAC3twa1b\n",
       "KarC28KYUANrCfUX6XA64rpdE51vep27Wjr3yBQ8fW7GMBUATefKTCdnALri4IhDEibdHb9c/rDh\n",
       "egVg5XMG2I58135lonehhRY39vTF0eB+8b6v16V3LQ0m0ASTyyw9HUBsGlMl8J+CJYUxtft+CNwV\n",
       "Khuu6n+ErQSsAAAOiWWIggAE//73sY+BTcgADZc6inof4RWx9JBRerHZoGTqAAADAACJgY4WQLW5\n",
       "WnFQAADpYf8GeJ+YFu1gj7OuiwmxPs0naremZFfv9VKSmDX8E0RITMXp0XBcKQ7kH3R1dgVCZ+Yf\n",
       "OncJDCF8sq755+riDd/2UcJ4xdPuCokndHQ1s+AYaap+8wOfXT01u0SlKp5VqXqkygnf4O+g9EOk\n",
       "Uk/+ntpcUDqelRXOtwMNRcLB/txFumP3lyDHmIuHsMHdmDXWX6wDNYUU0wcBD4ezAXKASHtqDBEZ\n",
       "8bQ8L1L/QukLy1ZyVUbcALzaLeZf7LGnAX4MnKN614CwDAigX1dx6DYJdaDlusmwMoj1NiqJqr3c\n",
       "mgG2+dUklCTDu3MnCT087YINX8zSA0EEPOCfxYxw4JH3jjOtb2QQW43S+qcbgLuxhWsx3uQqcJlm\n",
       "1M/zdfALE+RwjjdBIA4N0rGY2u00f+OmhDb88iYHh5Dn2JbJyZrWoqP0bySa/LRxZyfezKmgy/Pf\n",
       "54n5ALojjOVgkzUL7dQY04C/WEDNYj+RyIYHkCniGL5osyeeaXz5l36WAHnqtUj0HzAHlnOFI+RP\n",
       "ykwO0pGTxoRpyeT+DwK4gzObX8KOJDHUxrnt0phI3XDdM1DKe2pS5+RK4RAiLd0jeFncv+/4ljSb\n",
       "TOIDdO+UmSvuWHnsQ+AqvV6/+mv2VlOrjpY54LZFCgq5One2CWKzaNlR+ZlvTshyp8k3Oo9fof3E\n",
       "Bq+xbf+0KVnFLw35l2khfieb4Yntx0dQEYOmLzLgSox0/dInA7vLkVXp0s4KmozJtdi/FzzjnKZS\n",
       "SZ50ZVs9HA1SYCFUWIDGj5bINjAABdozVL9TENCYlLpiZaaHjTY4gnIrsI17Iq109ccP5nxZjsJC\n",
       "lv80xgR/sMZ/97Tfl8ajA8e3O/3xBDZpfKCNZBkdFaDMt+sOLCSv5S0SH8QBh+JAm9Kf6k9ZkV5k\n",
       "w3PuPBNO7YWZNBblQsbTf9I7CvBemYbYFc7PiuP2ZoV4vvlr2n7R4ZGbwiP8QFdkPjHAi9Ne3YLE\n",
       "D7gojbIKSmfTFN2b67gK8dv3YCmL72WL4StVz8+wrECO0d0FTNexJHKwB+Mg9Q6gMGpIUc46Q2mo\n",
       "rkYv4ngFehSzXpDMGefWcBvtFSbdxUa7lN72xuHqGBVrPkYuMLlRt4Dlhy8eIMz71k5CuYxmsaZt\n",
       "zvH1mD6ClwF4I/uOveFsibo0qm5wCLphrm+9P5HXHP/kK6hy4a9zLbxR/m/dtzXwbVO17O6W0eTR\n",
       "rbkFQFduhKnkmZ5i+eeTVZtu9z1qCc0y0JaBmtVtnRFbtvqsEhnkifpP+gW8JVwnR6gsHaMVhNUS\n",
       "iWxZwrUByLExDD3REmFci3M4I+l9JezyyqR91HCeq0JrRoUKxozXVhfeKOLVpjuOZlNnbg+vdJhb\n",
       "T9YZrHQArJnZ5KhpZeg5QFHHJRKNFIUG6zqQN5K5d63uBfSaUpa/48uB3Ilg2eYlzoii+p/bXMiY\n",
       "ALdjdkXg6lMRaV9FIIeUoQQGhotB6pldaK8pA1TBPjfkknIA772mbAaWlyEXfhIkTM2SOCCcJxKL\n",
       "AdLkSr2S/sVfHzQumorkX1BOPxAWMANXNbRBov6LjaQXEaRvWpI9aNPDi4QuxEeSLsiEawsJvgkF\n",
       "LtjhR4G00BqA1bAVsrxxCThR8cBqkTXwBFBDL6Muioila/hh99FyXnP/hNP8Hljl3h+wCN5aX/s6\n",
       "iVHkf18xWufxWo/gHQktcpYLvhM/ufQri6AMh8rMM8gUR3x4HyUsl3ewge9K/OnvIitfH5fWqZtw\n",
       "q1/epW4iYBc0+8zRuQm1bsyoD7fPGMDmHpPWA/fsPty+EszkH/rI6z5BreAgjTmTxvgAmla5jmb0\n",
       "pNBne+xsM+uXJH59PixG9eSS2he1/Jvs/f2eV+1v4txmTdlRN66FET1Nny3fL6V7yWpQMDtwLc2Z\n",
       "+r2Ss61VGKsb/2tO7VELxd9+rf63jcdCm3LJUYZfRkvrGK0pBVMsxzTV3xkOQfuF0ab6vCKY32wf\n",
       "n4FsypwnDVa+hHpjO8Ra35OT+j7RGBHm6GYVjK53Cvrtx5wmbmPengitIly34OxR1GyhAm1zpd7g\n",
       "YSd64uvM/b70KhDM6QAcZL6i5zf4H/nnLDvkYr5498qBU465/yo+21JLxEmDQuP06XjYpp7jf5mO\n",
       "YB60R0E4mEH5cwc4dTnkYsS5IqzKo4VtUnU2AtDulSqZY+47+f6MzPew92m5OXNs4+Zke8gBRAfN\n",
       "c/fLGyXXpscqNSfDHquZ0tNVMIIZuzrNz0xI+FB0tgnbKtXwTeOcjeFrFiwfb/qOJliN3egRZ4Uh\n",
       "DVQhlIXUXOm+6a7Vn9pQAaeyiX+bLrGjZu9L6E/EZWLid57AIy6fM2q2Gp4oWKEhNIolFpUfj7Gu\n",
       "wJqUJyfotwsjJxzO8aGjvZiYrrjHiz8AVRK30w6zBh3oSr5MN9dWjcL7UcYXuI5W6bVEi5fVQO3s\n",
       "yIoQ8NMB9baWffN2ZbTu1YiVT+v/QPRM/aCaEDheUOzPJ0OZHOX7dneiWR3k6wvNGcY7ZGi4CUPF\n",
       "8d+A6PqTrVm2Yoomz+1rcJrDktxdUjqvWKmTcOs3dkL1R0b5utZSBe9Pt5kVx/QPMUnxEPyz+p68\n",
       "gBF5SBnCileV3IIsxgKrAdsxFrOw5txY2L8yVy7qf24UbYUQl4FDsUKDdzi2aPBmELzyIem7ns20\n",
       "AhPMjoYhAtOYkk5b05Y61nP3cdf6VgS0fcCGJmj+IUr7A/yk+XGXsSqDhU22kELa+3KZ6ygREhmw\n",
       "IcdjDFI7W+eoNI1zqxrXKte+FUL+aO1aBMTa7mgEZG2TpE29pSA+P2rD305mqo2SRHBZ87Sx07Bd\n",
       "XdOlcTrKcvyMnrktwDt8GjpdiZPjMn0NmiF/ylF17e68qUK3cVz/g/47bEhcMYvXk0vfBtBz0+2U\n",
       "HpFDukKSe0Ehgd7mywPJPE6Ak3k/N5zXLc2kYZzJJIJCN8dXpcsI7KwNkxVCr7n8H1G9feZMbuxi\n",
       "/3JoFk5aZU8kTb4KIRgQONoPFSfvL+Yp68rsAQL++R8uICIP/5dSv88JNfJRRfAEyfMkiFfvgatK\n",
       "3g+UXSQZjWhxsQj1zXLC2+BuSY+vE19Sx+A238nQG0/JvBBtlHWASb5EYxKTyzVRgvp3k1CJ7a9V\n",
       "QDSoK5vOWP2BzMt2f+0OqNH7OPdytyM7mwIaDq0+0TWq5PA4AGnviM0mFo+3Bc4ZIZETwNN5LJTn\n",
       "zCvfE/EETwFxSazA9satiI0+YHnOqiyiZIlJVjw6orZE6/o0PpH2bX4N7+Au7vjGrv2N4BsccpQ2\n",
       "evQmPE877BfxWhq8RNu81x6dh0alZWj8Qwxm2jjbjsdStC7jcvtgDGzwdX61+nFA5QRTflukd5+8\n",
       "To0K56WIifxtt6UTJEpKseD5TjIXPUkDOD95mmEIqTq2TbM6bF7OfLdDjPv1L2b/azymaqiZEi53\n",
       "BTOXlr/Q624ppiJEk5koI0tGDaRyQNgcv5hZIRXXSJq2ojl3KNU/sn0N1Qp0Jw3toIEKH/SwUjCf\n",
       "ps/zwW5MTpH//b//mhC4fMXwzzLf6LUgfCAy00SV4JChOnKUFMhuqNsu9nf1+ef4VahfVk9TKmef\n",
       "qZj1mvKCxW2GWS8cl58iagPWUEMZoWj9GH2hZ+4f1FIVgKdDH87NXZEpC6D1TOuWjTYjNYUF/Zip\n",
       "JQLlugkbEtAp1TYLJJlqLjT2ixcHjqL4ucrq49oCnHRh4NaftBFqfUvPTY9Y6oRp3aKOVrBbLDBN\n",
       "QZX1XQwiBdqEG8tBXQkVPAb3AyzvXW+1wiiXpga+tjTWKVAzb14iS/opXS1yd4m3NRdwzPS+j0dE\n",
       "GanlNOGQB/Ejcw4s8mwd7NcQhavserFLedmZisfni2ylvroN5N783xf5V5Z9DO4MhFpwev+ix38U\n",
       "7KIgx4eEEY9WbMkt/jm1hWx1XS/jSmBWsB9d12MdtFCL2RkV3gNAgwOyjSOoBvTB9lRD/Dtiblie\n",
       "+JITwkNcqpt7Q8FQp92yYHSgJJ4O4mJ4j8sPQFMN63eokEBttyjbwXNE38QQxaNNyUf5sNWQyWJR\n",
       "958LHzLi5N9RJP66GMVIC4coRAlSAnsHupEIVpPqxj4G+i+II1opW0C6K/RkFjy8vYw4NZ7d39A4\n",
       "GTtauBV5RuUfhvcaOB6ZMqFYX0K/a0AGEzkUmGgPTHaGjc65YAsx37goIXEyDuUTykQFkb9qyy7k\n",
       "0jT/I0476bL/zNQ3DXtie4E4GCmqHafj3vuy3x37QxvmD001mzjwEJ46KzS7N456b8hR/VVIuDck\n",
       "rzyQaY7Yg81mfRqpPwn7RY/JxTHhzh0K2U+x+vN97s6A5wzo2xqBT9J90OT3LIl6XCmgENuUBh58\n",
       "HQxvPh2y98b18hqeunq0xhoOwE/wE9S4bGXmiNDtxVkgvxb656yQuucGnhKpH49HpR8/l35DDuhk\n",
       "ysKDqj1vjiqgnH2opK7GdfEumvWxuagU8ITlkJRHYige0VtPa+XOEPkC+8L4HbgHe1M7zPhVpK8H\n",
       "wuXQArH50kXjwG/dodcPljR00W4dwN23mnVC4KdWxulaEu5q08N/rbcE5GEAFb6bHPHL+ncGZHwb\n",
       "ylltoa8sw39OeVQ+f326UPG0lRwKsy/CmK6yPrKFEwM11b6BiLDugYIllJAvMYkRPeAodOcdoSdL\n",
       "wdeNyKOjtzyUJK4w2GpsJtHbySYzAvWW3YbadBDC2O/9HnB/3OB3J16CXVImbLVLuAGl6HnG0RmO\n",
       "cYBzjuP1DePGb6+ZajZ3ikqPkE5owdCbA+SiuX9IRyiY69vgwpxus7hfeJ2NfuDc6ZHzCqz071v1\n",
       "gahko0yVL2vCVi4NC9f3nVEWjNP+69wLyp5NDrHvqYCf2AfiUNQJyUt5/r5z3mGQnDila/gI9RtM\n",
       "pJXvSh/9xtewwKv0mMQ3qvSahxOR91n540gABDUAAAJqQZojbEEP/qpVADC4IZgB0UQKpXcP1olV\n",
       "Nm6A4sYetjL1w+k/1M+uoTpSa4aCC6MQvEP/P74umxESEXq9ErA0sIB/ZctYfAg9e+px363Jf+YK\n",
       "S0kltvYhCZccAa/VVboEGlZ9vT4ZWFSUZbJtTp/jpDfhOpK956VrAC3sJqDQCMMEapSu+eypaBhu\n",
       "6H97KrJj7TY9BnOPCCVbJWfqcxBfZpp6H7Bpr3J+h1IXUlcZcy90kZNCb6t5AILOaeTSZyHSFDtx\n",
       "v9ntcBL3mTazMrVSAnpe6KI8g7p1NyOXH+ZfZ/IV9pG3iocOwDeMAAH0bazCM1NPAGCBObPvJjOb\n",
       "MSsri6AKmtTSELcYivjECtdkB4GnFUJRElXRnstWqgzHbnx+rLLGiB78hbRCJfLOaxK0KSWuDn/k\n",
       "/e9vWlFse72Tqhs2GSfZcdvbRxJwHXkLc2B6tznCTTKfGmRr651WOKTXYqIHvfZwQWjP5eLnqDHi\n",
       "nafAPQFuthpY51b5A8pFXxZJ9e+wi/lk8NeCZ5vgjdJlqGn5nsDPMitAlK9aAJYjtp/nWP0eUSQ9\n",
       "WR/ZmyZJPWkbqDZzsfFBvZqhswhpxg7rtR25IkmT6MYmKyRdTkzZmQTk+jGcZsxbFwl1rmyPZX4/\n",
       "FfbxZ0ZJLNyaZMUWi7aPZqIYHhz4jIsUWhH41yw4Y3QLcpPt1WAsT6KJyPOt7b5nGmYVvVh4TC3v\n",
       "jgObGUQfOj99qmUSIYblBNLLe//PnLu6Os7+S9twn4ke7eJXQO69DVb1PBP5s0263KC0vkfdE5Oi\n",
       "jQ+vXY+49ffGK/P3h9701nyBg4qqwziAAAAAsUGeQXiG/wB/RpGVCWbS52GWsiwk7ChkMst6FKjb\n",
       "uGAADu+QX+WEr/jAAL1RBL1ZiuisQwMJC3Ublo5JGf/XDny15Y54d/iY7Xbmxz+IlSdjc5jsM2s1\n",
       "6qWcdu7PKGRRsS6VBIMIluHgI7/H4BMQf9kkbKh/FQjCYB8r33hQuKpKoC6tX+ZU4SYhgG7fLLz9\n",
       "ibG05qKS0QHfOC/AJTI3EDSbUBl69i1VxSlN/Hz+m431wQAAAFYBnmJqQ38AAP32sIw2GFODa7MW\n",
       "1R6rlfk/twAL7zBiof2fN7RMf9Z+reADWKejM6fd4M6sHINnknjP0hF7w1HasDUEZm5TVcYCmAdH\n",
       "RczPx0hT0Uw34QAAAHZBmmZJqEFomUwIIf/+qlUAAC8dTRAsXjrWdQvIbCP1Koy9pSCwBInV5qzz\n",
       "KLjeS8Z1hzWx5Z79EEL6icsJNX53lL28tP2bT92GdFzyIXr3GS91N1ZXl/I40NkL2WvP8btoENhW\n",
       "uV03/xY3R4WPPufMstA/9FyAAAAAVEGehEURLDf/AACa5IlgADpU4vb/WTvdPcN1oy2F+t9VVjMt\n",
       "vx0a76drRE+HvRCBxJhlAbC6oaRCBW7I2zhTiF58vPZ9TB/YKRzCSDeIRiF14NhtQAAAAGUBnqVq\n",
       "Q38AAJrGSkYbDAAN4B+GFvW9TFsoacbSolDJeCJZD0ZrZQsZEeD+xofZ1xN27JfGGm5cjjhnU7o8\n",
       "seJcTlhF3yVMCp4mMSytPqexZHA6RstfRs/W89BBZ5GGAYLNEsLOwQAAAGFBmqhJqEFsmUwUTBD/\n",
       "/qpVAAAoXxdQMPkwLxb2yr7f4YY/XdEMzEcno1Caq8Ans6F7TqhuwXafUZxgHh5ghKJKwbbNMRx+\n",
       "fdUEKUyUyEWVTFPZ9ufJae9c17Ct7RVmL4+YAAAAXAGex2pDfwAAms55gUMAG8MSbq82AYV7ukAA\n",
       "P4a0x4mSgPoobC/Wry3XHpjxdc4XvjcVIr/Q07vbxwk7tsixzU1BD1+jTpi4PWeOVt9iHmXhNQU9\n",
       "ze0K1QtGA4elAAAA70GayUnhClJlMCCH//6qVQAAUD0tQBrEXg7ddUUT8HjBPz1XK6f2Fs/JDFGs\n",
       "nadPMqrogaf8KewBOopiYV59oG9KRcAYlwMfupoRuHGrpF3+5pU+wTRyyPw0+GoRU9kkQq7YYCUI\n",
       "FgP3Ef/iRbIDNUF99T48MbbjK+ZMWTgjXOaqVZg9hNX2dAw3uhScZcPOqWqaF4ftQ0zqwW+cbHsc\n",
       "wsrO/KrMwzzSg/zgOdbE+bpev7eWCwoXplGkHanxvlGAzx4kGTG3KwUgcZhXau5uYuSsZPOjLB7V\n",
       "OOxEEBDgydOoRgeg0BBOOMTKamQR3vlwAAAAlUGa7EnhDomUwIf//qmWAAFvy6vidujjQAXUGMjC\n",
       "x4m6ALZd/ehyycf5HkTIe2UdP4bjJC29fqfzSPU4xgrDhzbr4J5kgc20RSya9XAf22LR5Yp+RGcq\n",
       "qzF3xLhyobYNI3h/KuVIYfy6t4q2NrAkGjxcEfxVKC0XTDv4ft5vzLcXHwgZPZ9SeCEr56o+ja3V\n",
       "PbF5RZadAAAAhEGfCkURPDf/AAD+FCA5z0aQqcalW1FT1HcAG8MKAlsrBL3AF2x/DV0W4OGiZqlJ\n",
       "BwBg/CtbxycGlgBaUghmXmOgQ2XOlVILETbz05Q4WKwa1COivVI582vny30z2bU72/Dbo+1ZUw7h\n",
       "yfFM/IKLU7thC7vTplK2his46N9TsK50DemlJQAAAEkBnytqQ38AAP4EZXmfTl0No4isDzrhpt7x\n",
       "bTAJ9UKWHJgBnopo76yZYxblOylyDSHkRJn8Ic2kJbQ+sNcYJ6jcE8i3tI6sOXoXAAAAckGbLUmo\n",
       "QWiZTAh///6plgABbfk6/aaAvzR4YBfe7yhJWKAAFt3yO8rP1w/SRnwHOTEX3ZtTqromW0JUuNM1\n",
       "7ThJCG3dSx/4tO5xhIlY2Lwi+Q+N+1wONHKanJghoxZ6Dy3QFNpExM1IGpe5/06iXRToOQAAAMZB\n",
       "m05J4QpSZTAh//6plgABbhbGwD/0q466jTql4I7pKZB3MmWgsnzc8HR1eBmkiW5mtw7018kseVPa\n",
       "0BMEuR7DPzPM/FoAwwO7lpHCKp7i/8N2FHTc8HvNU7x9E+LEonagQqHN+b0EJVz1CCjRWqHPXKiN\n",
       "8TeStT/N0Q0DCOzJrdYnSVmcDcV7hDthU1ve0ouGqJAtVxXj62dGRiTIXdrnktggAiPXZLgMI0xQ\n",
       "/92GuF7PoyEsC3QUlWIWXeDrZYN5ELEdgTcAAABhQZtvSeEOiZTAgh/+qlUAAFv/K6cmZ0Au54GG\n",
       "qg5sIwG529aDuQ0rCPw/XIlDweA+aZA4sOytxPpLKhpmp/+msJ9iuJf3F7BbnapxBB5AQC3GlijW\n",
       "k3FuUzOw9hq425lB8wAAAFlBm5BJ4Q8mUwIIf/6qVQAAN5lzpcesuS6KA6qarEYsmaqMCJ7P8cYn\n",
       "B65TZtbu4wkz1m2IOgZ1Xu+F12qU6H/6UOI7UieCDr3t0Y6Z/558XmrRHbgpB6lWUQAAAJJBm7JJ\n",
       "4Q8mUwURPBD//qpVAAA3mBUrQEusK62TDOkJbfQEGo0WIEYYgr2pnrudi6ISXCoo134CleRlwLZO\n",
       "PQ/I2hvQagLjYbldCh6b4HwCe35L8MhrApL+Uh2mScom+KvDyd8miwIMUeF0YyUrzKyQASyr9Q1y\n",
       "PqRxSPTEvQ8HKFA8JT/s1FwITSYmCgcWfiRqkgAAAHIBn9FqQ38AAJrGSkYbDC9BhrO86m5kYAeT\n",
       "Te9RONE2KusiY6r0RGLTKDq7TKs8tAItvf+9GtyBRg/8OqfEsJ4AN9Y4vRxQ43LJXhHAAaX1puCH\n",
       "W7SoS+nqIaWyq8t02LH/sWT0R2qnI6DRVQevpy5EXdAAAACaQZvUSeEPJlMFPBD//qpVAAA32nl/\n",
       "Er9SACFPX+L7gb9BDmnVbV5GGeWFvGMDajOfxLN70vypQfXAl9YaRLdpSVGlitU9Slhc+T9LCMci\n",
       "+FglVortJBLv+ZgMN9In5znBzxRXEOPjNcWGmTIph6KR4KuRcFxhwACr/9s/BKlWy5dhD91APXYW\n",
       "ro48/c5KpvnHneUdk6LwAhyWzQAAAHwBn/NqQ38AAJrXoBzno0iA0HBO5PYulfWgTDctoKN8TQ84\n",
       "DeXR7hndBCtOvmE6XiKsZKRGULyhSYKl1xkeYCH259ynZsUhKS9Xsn5uKXLI1Pd5u281KxanBb+l\n",
       "j13sGJjKyJgvHVnXgJBzIt5A12GT7kWiEc9MyQcek4alAAAAhUGb9UnhDyZTAgh//qpVAAA3mBUr\n",
       "QEusK62TDM+Q7I+AFr1nNzIzQUces2JcTuYfaN/5wxyfztzNbQUyCsune5+PEcjTf01BOyvyOrnt\n",
       "CR3SK3bc1C1H8+1GIXAJXAcOOmBTtyEVcEfOt7zp61nqKBns2e88tcOXRi9bHTDqOZgEF7swO+8A\n",
       "AABUQZoYSeEPJlMCCH/+qlUAAC7iFStAS6wrrZBw5kAAqTnGjG36j/ERSZuhQyyET+i1O6gZr1Ua\n",
       "RxPXs/dhXkW4Uc8ZcPd0lf/67d7R3xOOWFw7bQoOAAAAoUGeNkURPDf/AAE2TlAA0bguv2HmpJRX\n",
       "Jd25zegx/5RGi+941G3Do4xtREtPuzgCHjxt0PgmzBxVBg0yhgQOzgluXxjw1Ima7o+s0D7peu2J\n",
       "PE/uUcH/FIQACZk4UKk3KO0CTNWsiy1ICeMahxVMNYXg6InjAAAG6ywa8m/nsrjlx65wykUNPqJF\n",
       "PzRvarnJZxQDqGSTgsU4Ec1AuPPOjsMWAAAAkwGeV2pDfwABNYyUjDYYVvrCgAHIrNL72rjmbUKR\n",
       "SVuqgHu/4L5CzwDijgfCQgR3dSUjMTIlj0UmAsvaQXLFvvDtkvIHqnkGdSRQUckjvq9v8rsUkTxU\n",
       "YWdrpa9sFHAO9Nyjw4T1uzZnekK1GHDjFQzTdQod4Qe+efJ3kl7pZ/RgALAK7v+Vicn6c5fbejgh\n",
       "TaISXwAAANFBmlpJqEFomUwU8EP//qpVAAC8eqKAActtGNo/cijgUwYk045cV7ICR5rj4Mzy5baq\n",
       "vwo29z8jS/emA6VIPCkgzUV8hTfQPzRub5OodAdf07YHvckOB8hkaQH6BP3wT59PG7n5o4O70Qyx\n",
       "qtb0BArujnQI5gf2qjodq1TkVAVj6P02aleGF3pHEUE2K2bmKqdkIPeuU0FNUHlEAKbfILUzaVx5\n",
       "XiuZ2YPFTF9pf7qkhEsslfSGAAFmvFS0JoI0mr6FBSosBTpPpB5RrnpdTremZAAAAF4BnnlqQ38A\n",
       "AfwoQHOejSHVCImIifX+vduoMwdZi3ShYeqDLA+WlVGAwANbGNHexMbvACu7h3x2ZoEtoNLMKfV+\n",
       "rvIDI7VQ05jLLL4gz4NF0oycGyWw3gPdlUK/f8TgAAABA0Gae0nhClJlMCCH//6qVQAAvHxevVdj\n",
       "gIwTXS1KRbUAEnWyezpplWf3UYSgT8QYRdCQqEqZkC6s8tcxCFki04vY7wHg8YJ+erCS596vWjAx\n",
       "eUC/YO5xFX++o1CsRjcwqB69zA//kCqLnkGP8U1JOvv//Hp6S9IifRPRK0hY/MAUsbGIlBt2X6m/\n",
       "/xItkBmpV1FoxXDG24yuw7cPhl4T9GpVjH7F5nk6DrmenuTF7ff2HE2NgWzrsf7IQW9k22Ew/tY9\n",
       "9M/aaAiiH7dY29Ah1KBAyxPj6AgONBCvQMuv0NbuYrHzrAHWFF4gDRQbc4aM4nmxbPRXjoBnY+cl\n",
       "nQP2KOv7yvEAAABVQZqeSeEOiZTAgh/+qlUAAF3G6jdBE3PqAlRYpfmy9FyzbvOEAgAdlM6wJROx\n",
       "/+N+NZmN3f2t7isPcc2E+YZsppywKW1A7pFL98yn6Xas+zoPJy8qYAAAAGtBnrxFETw3/wABNPQP\n",
       "sRkLABfEQHl0w48P/e/MamJEOxEBuh5fIeloL8tqSIwX4ofrqsSA0owzOWFAJEMVFbDEVVcjCPPY\n",
       "hp2Msxyg4kHR7eFNuD8kRefQQU4rwpdyIr9eSZBrsCx8Cl0K2QAAAEgBnt1qQ38AATWMlIw2GF5c\n",
       "7WxPtx9ZVFLic+LfvY9mLvMuCadH8h+Kun/JHPWAEq+j+0IUX71QtYkCUvgeIQR8JSgVATZdRB0A\n",
       "AACQQZrfSahBaJlMCCH//qpVAABvMDeyAGljjEZPzZ6M6+Jb+3VqqeSyNfpk/RAMFZ1Ql6q61hA9\n",
       "GyFLYkmekCMuFc/lo9JujFa/iQMbciBOVhALKIds5czAfxKrJmeS9wWT3FVSsRVaKbEWBwMbKMvc\n",
       "0Mo0PFZB9nAwvrAY2Xt1m1gOm2DUrEvMAWdeZxFDbY+AAAAAY0Ga4UnhClJlMFESwQ/+qlUAAG8w\n",
       "IYFfD9yBz9Tao6xrtZPr92bxX0KTu4/ysyDTxujrmNmACiigTPnsdcTYofl8RJ3b1o0niYYAJzZu\n",
       "ufO9OR+n7OHBthz2TSz3g8Yue+/soQAAAIsBnwBqQ38AATWMlIw2GCZciu4ATVwSpbqp7gbYp+1t\n",
       "+/kJ/Gn1BbvfjD9Ynx/lavzwaJmF8QboxIDyewCzgSsu3WRoxmyUmbjjoFdlsV1JjwkZY+YRXFKb\n",
       "oqIR+GfLkSh6AWij4fZGhu0+WuTj2hRrJ3qQjsXsicPwcPYIihaPThkZ1NnB1hbbKRQQAAAAo0Gb\n",
       "AknhDomUwIIf/qpVAABvjGioSAGl7KO9cMj9yzNyPAYTyperHg7TDcJT5mbr1h9PERZu77ujn40m\n",
       "fof1Jm+2OvX/Q1HGW4H85vXDYh7QiowSxmR9yuCaD96X0WvAF9BfGgHztRtDeg1m77s9tKAKI4KY\n",
       "YO2n3XkxriBP92aX8PscFeVNXzGyjNU9dwYrob9YzDJdy7g8O4p3h9Ot5YkMNSEAAAB1QZskSeEP\n",
       "JlMFFTwQ//6qVQAAbzAhgV8P3IHa+MaAt1lXnqB04QSeJVtgNWhrRX5cJeACj9WSndcWrUMc3mj1\n",
       "4sJOsjX1QdTuNxoC5tcXwvHZJcKAA30Px4CJjmYEeDtFFkFd29oveM/Y/eZMzpfJoQurOlP9AAAA\n",
       "cwGfQ2pDfwABNYyUjDYYTlNHvHAsAJXwK+iTcNpgsdEyoEUmaaffikNI4h/7P/ZvZOvdYHmEobdF\n",
       "bbwmKCBXHSwlf+/23Xl6Lkir1A8sq2+7lNIXv39PJ9Q53P7nbyAmmKfAqsL+eUVVuwFLdEx7o7+6\n",
       "RdwAAACuQZtFSeEPJlMCCH/+qlUAAFA8TeAFh5x3H+g0bO8RhNZiO5Lpg/H74BRhxhpCNjOURF9b\n",
       "dWs5Ey3ja97ZH6a3Rbm2f/x3dPgaBtW84t7NxB5LS4Il+krJUgmHJHxLa1YKxCtTqazOG/Ap1D6k\n",
       "XbgoAwJyJGWaXdygo7M7VRSubdWeM07jEw7sbI9gZ4XimlY9GEWZMvyqdPqsCzaP8YPNmGJwBKLD\n",
       "DwXP8oFM2GVAAAAAwEGbZ0nhDyZTBRE8EP/+qlUAALt9uwAIylJeDQh5GAq4hqaDzNysSonVDJL0\n",
       "ALTG1yfx/o0sxZ8tV5XOFvtzDfycBWQx9pMzPFOCLJJ6z1AjsydDX3V38CkBGnhRkZQqmdeRW8Ib\n",
       "VObJFjs5rSCEqFmgOxCqZfgioeq9dEJ5NbqaVTfRLqRyPMR7AiSWM3KruYOZER51wKDREAAAWkE1\n",
       "Vj1haVz69YF2NRGBwv9IQ34ghp1uSQznv1MDOXPkNNp7QQAAAF0Bn4ZqQ38AAPuqnuNS6z8c71Pl\n",
       "FNeQ9gEIv+AFy9MIKnx+OBdXsiEqmHFGwZPbkGbS6IbhKZZifw9ldH7f7irpkEeG4w7/0fwhbf/4\n",
       "ngFRhrUwxq4Y7qwtgrg6q2AAAACQQZuKSeEPJlMCCH/+qlUAAF3AXjcUoqHQ4ABFnbCb5w/hwjHN\n",
       "PfICedsG0Eqz8GZV5v3fJShhlFMUFh1p8cFidGFgWFGegy1et/76+wvRsBdeQzP/sM8C2RIwRRP3\n",
       "P8YKCOMFmi2c/bqAZdVRMCj5xgFeg2j46MJJybkCEWGP6RHC3tBlAkDPKyPEuDPVt18JAAAAmUGf\n",
       "qEURPDf/AAE2UfAAMo/ADLNmne5vsUCNMRGFVIzSnpjahIF3ZMYDhO29z+hAGzYEYsublqDJ5k/K\n",
       "ajuH8GDXpVflQ2UuGllebWkUPSIdStxxAYaHXi8Xu4IqVgfkMJGEyEw7yLgSnpQneKrI76vGINJl\n",
       "jBnuugHpIjI/grmlaDcj/gUPRpWdiZV35sV8N03b4cUk+JgoIAAAAE4Bn8lqQ38AATWMlIw2GCUp\n",
       "lli1/NVm/Lq7+jOOYz1anSkgkkwoIOdcVWCuK/K/IPRtMmziQb4TcvWxheNquAAXD+Dgqf+2U20M\n",
       "8bUAVMEAAABfQZvNSahBaJlMCH///qmWAAFv+FbXh6gmjs2v2F3VJVI7mE0/XvJ/opttazuBZdFx\n",
       "6pVrOk2DLsPvlR+QTc+qNMIKqubGtRRc1SOlTdYDtMeJtvIFVcTnCsmlt4DMFO0AAABEQZ/rRREs\n",
       "N/8AATXIvVpwfUft8gCSkcvqADAZdu03q9VqpC9jfWwciPs9tavTReP3qH+/AANvxso3wGgghurD\n",
       "23z7ltEAAABTAZ4MakN/AAE1jJSMNhhOU0gOQALZ0PRdXxbB3xsk4u8TaYLGtcjzFo6Xa3Q3yRNz\n",
       "bqHUvGn6KYABsNZjGFHmX/4i1XTDwHLghXVDBYvhJhdRw/0AAABwQZoQSahBbJlMCG///qeEAAFs\n",
       "94S3fxbrdLhfpcgA/obWluqnt6HoaNKrGBr3FdDBKu7Tn27c9C0T7+/Ipin7qaUaAVS0VGdHMH9O\n",
       "5/KiRx8kBddGg/q3wN2bbKE9VGcCG2ZOf2Ug3NX1DwWxJ0VXcAAAAIlBni5FFSw3/wABNP0eLHC0\n",
       "r/axP6dYT+vu/5SuCi4AK7ShiBb4mnCHsU6CNFaERhiSeKn1JVFTN1jUgx+wLffnEV8V0uykiKU9\n",
       "wgJGZeFslsyMeuefddBZlTiwtY4XKaQ2r5wzX7cd9dq2ZDLKgG8DWSmIegm4hnbjDzESBULYqFGr\n",
       "/CIrBKjPgAAAADUBnk9qQ38AATWMlIw2GE9U7H0jIv7g8HsAAtwwlrnXPx2tsdZOGadi99M3pAZO\n",
       "LpjwokWMUwAADvZtb292AAAAbG12aGQAAAAAAAAAAAAAAAAAAAPoAAB0zAABAAABAAAAAAAAAAAA\n",
       "AAAAAQAAAAAAAAAAAAAAAAAAAAEAAAAAAAAAAAAAAAAAAEAAAAAAAAAAAAAAAAAAAAAAAAAAAAAA\n",
       "AAAAAAAAAAACAAAOIHRyYWsAAABcdGtoZAAAAAMAAAAAAAAAAAAAAAEAAAAAAAB0zAAAAAAAAAAA\n",
       "AAAAAAAAAAAAAQAAAAAAAAAAAAAAAAAAAAEAAAAAAAAAAAAAAAAAAEAAAAABsAAAASAAAAAAACRl\n",
       "ZHRzAAAAHGVsc3QAAAAAAAAAAQAAdMwAAAgAAAEAAAAADZhtZGlhAAAAIG1kaGQAAAAAAAAAAAAA\n",
       "AAAAACgAAASsAFXEAAAAAAAtaGRscgAAAAAAAAAAdmlkZQAAAAAAAAAAAAAAAFZpZGVvSGFuZGxl\n",
       "cgAAAA1DbWluZgAAABR2bWhkAAAAAQAAAAAAAAAAAAAAJGRpbmYAAAAcZHJlZgAAAAAAAAABAAAA\n",
       "DHVybCAAAAABAAANA3N0YmwAAACzc3RzZAAAAAAAAAABAAAAo2F2YzEAAAAAAAAAAQAAAAAAAAAA\n",
       "AAAAAAAAAAABsAEgAEgAAABIAAAAAAAAAAEAAAAAAAAAAAAAAAAAAAAAAAAAAAAAAAAAAAAAAAAA\n",
       "AAAY//8AAAAxYXZjQwFkABX/4QAYZ2QAFazZQbCWhAAAAwAEAAADAFA8WLZYAQAGaOvjyyLAAAAA\n",
       "HHV1aWRraEDyXyRPxbo5pRvPAyPzAAAAAAAAABhzdHRzAAAAAAAAAAEAAAErAAAEAAAAABhzdHNz\n",
       "AAAAAAAAAAIAAAABAAAA+wAAByhjdHRzAAAAAAAAAOMAAAABAAAIAAAAAAEAAAwAAAAAAQAABAAA\n",
       "AAABAAAQAAAAAAIAAAQAAAAAAQAACAAAAAABAAAQAAAAAAIAAAQAAAAAAQAACAAAAAABAAAMAAAA\n",
       "AAEAAAQAAAAAAQAAEAAAAAACAAAEAAAAAAEAAAgAAAAAAQAADAAAAAABAAAEAAAAAAEAAAgAAAAA\n",
       "AQAADAAAAAABAAAEAAAAAAEAABAAAAAAAgAABAAAAAABAAAQAAAAAAIAAAQAAAAAAgAACAAAAAAB\n",
       "AAAMAAAAAAEAAAQAAAAAAQAADAAAAAABAAAEAAAAAAEAAAwAAAAAAQAABAAAAAABAAAIAAAAAAEA\n",
       "ABAAAAAAAgAABAAAAAABAAAQAAAAAAIAAAQAAAAAAQAADAAAAAABAAAEAAAAAAEAAAgAAAAAAQAA\n",
       "DAAAAAABAAAEAAAAAAIAAAgAAAAAAQAADAAAAAABAAAEAAAAAAEAAAwAAAAAAQAABAAAAAACAAAI\n",
       "AAAAAAEAAAwAAAAAAQAABAAAAAACAAAIAAAAAAEAABAAAAAAAgAABAAAAAABAAAIAAAAAAEAABAA\n",
       "AAAAAgAABAAAAAAEAAAIAAAAAAEAAAwAAAAAAQAABAAAAAABAAAIAAAAAAEAAAwAAAAAAQAABAAA\n",
       "AAAEAAAIAAAAAAEAAAwAAAAAAQAABAAAAAAIAAAIAAAAAAEAABAAAAAAAgAABAAAAAABAAAIAAAA\n",
       "AAEAABAAAAAAAgAABAAAAAABAAAIAAAAAAEAAAwAAAAAAQAABAAAAAABAAAMAAAAAAEAAAQAAAAA\n",
       "AQAADAAAAAABAAAEAAAAAAEAABAAAAAAAgAABAAAAAABAAAQAAAAAAIAAAQAAAAAAQAADAAAAAAB\n",
       "AAAEAAAAAAEAAAgAAAAAAQAADAAAAAABAAAEAAAAAAIAAAgAAAAAAQAAEAAAAAACAAAEAAAAAAIA\n",
       "AAgAAAAAAQAAEAAAAAACAAAEAAAAAAEAAAgAAAAAAQAADAAAAAABAAAEAAAAAAEAABAAAAAAAgAA\n",
       "BAAAAAABAAAIAAAAAAEAAAwAAAAAAQAABAAAAAABAAAQAAAAAAIAAAQAAAAAAQAAEAAAAAACAAAE\n",
       "AAAAAAEAABAAAAAAAgAABAAAAAABAAAMAAAAAAEAAAQAAAAAAgAACAAAAAABAAAQAAAAAAIAAAQA\n",
       "AAAAAwAACAAAAAABAAAMAAAAAAEAAAQAAAAAAQAACAAAAAABAAAMAAAAAAEAAAQAAAAAAQAACAAA\n",
       "AAABAAAQAAAAAAIAAAQAAAAAAQAADAAAAAABAAAEAAAAAAEAAAwAAAAAAQAABAAAAAABAAAIAAAA\n",
       "AAEAABAAAAAAAgAABAAAAAABAAAIAAAAAAEAABQAAAAAAQAACAAAAAABAAAAAAAAAAEAAAQAAAAA\n",
       "AQAADAAAAAABAAAEAAAAAAEAABAAAAAAAgAABAAAAAABAAAIAAAAAAEAAAwAAAAAAQAABAAAAAAB\n",
       "AAAQAAAAAAIAAAQAAAAAAQAADAAAAAABAAAEAAAAAAEAAAgAAAAAAQAAEAAAAAACAAAEAAAAAAEA\n",
       "ABAAAAAAAgAABAAAAAABAAAMAAAAAAEAAAQAAAAAAQAACAAAAAABAAAQAAAAAAIAAAQAAAAABAAA\n",
       "CAAAAAABAAAMAAAAAAEAAAQAAAAAAQAACAAAAAABAAAMAAAAAAEAAAQAAAAAAQAADAAAAAABAAAE\n",
       "AAAAAAEAAAwAAAAAAQAABAAAAAADAAAIAAAAAAEAABQAAAAAAQAACAAAAAABAAAAAAAAAAEAAAQA\n",
       "AAAAAQAADAAAAAABAAAEAAAAAAEAABAAAAAAAgAABAAAAAABAAAIAAAAAAEAAAwAAAAAAQAABAAA\n",
       "AAABAAAIAAAAAAEAABAAAAAAAgAABAAAAAABAAAMAAAAAAEAAAQAAAAAAQAACAAAAAABAAAQAAAA\n",
       "AAIAAAQAAAAAAwAACAAAAAABAAAQAAAAAAIAAAQAAAAAAQAAEAAAAAACAAAEAAAAAAEAAAwAAAAA\n",
       "AQAABAAAAAABAAAIAAAAAAEAABAAAAAAAgAABAAAAAABAAAQAAAAAAIAAAQAAAAAAQAADAAAAAAB\n",
       "AAAEAAAAAAEAAAgAAAAAAQAAEAAAAAACAAAEAAAAAAQAAAgAAAAAAQAADAAAAAABAAAEAAAAAAEA\n",
       "AAwAAAAAAQAABAAAAAABAAAIAAAAAAEAABAAAAAAAgAABAAAAAABAAAMAAAAAAEAAAQAAAAAAQAA\n",
       "CAAAAAABAAAQAAAAAAIAAAQAAAAAAQAACAAAAAABAAAMAAAAAAEAAAQAAAAAAQAACAAAAAABAAAM\n",
       "AAAAAAEAAAQAAAAAAQAACAAAAAABAAAMAAAAAAEAAAQAAAAAAQAAEAAAAAACAAAEAAAAAAEAABAA\n",
       "AAAAAgAABAAAAAABAAAQAAAAAAIAAAQAAAAAHHN0c2MAAAAAAAAAAQAAAAEAAAErAAAAAQAABMBz\n",
       "dHN6AAAAAAAAAAAAAAErAAAP7QAAAYwAAADAAAAAWwAAAIYAAAB3AAAA2AAAAMYAAADYAAAAYgAA\n",
       "AJkAAABqAAAApAAAAIQAAACAAAAAZgAAALwAAABvAAAAUgAAAMwAAADXAAAAsgAAAGEAAABSAAAA\n",
       "cwAAAHQAAACBAAAAYQAAAHgAAAC6AAAA1AAAAGcAAACPAAAAWQAAAN8AAABoAAAAdAAAAIEAAACj\n",
       "AAAARgAAAH0AAAB+AAAATAAAALUAAACJAAAArQAAAJMAAABzAAAAeAAAAJ8AAACHAAAAnwAAAH4A\n",
       "AABcAAAAzwAAAIEAAADFAAAAkQAAAJYAAACzAAAA9AAAAFUAAABPAAAAzgAAAGYAAACHAAAAdQAA\n",
       "AHYAAADIAAAAdgAAAMQAAABnAAAAlgAAAHoAAAB/AAAAfwAAAIEAAADvAAAAcQAAAF8AAAByAAAA\n",
       "cgAAAIIAAABtAAAAagAAAGAAAABnAAAAswAAAH0AAABwAAAA7wAAAH8AAACxAAAAuQAAAL8AAACr\n",
       "AAAAXAAAAMcAAAB3AAAAiQAAAHEAAABkAAAAdwAAAM0AAABrAAAAVAAAAEYAAAB7AAAAYgAAAEgA\n",
       "AADFAAAAggAAAMUAAACTAAAAXgAAAHAAAACZAAAAvgAAAIwAAABhAAABAQAAALgAAABIAAAA2QAA\n",
       "AHwAAAByAAAAfgAAAIMAAABSAAAAgAAAAG4AAABkAAAAggAAAFMAAABhAAAAYwAAAIsAAABwAAAA\n",
       "VwAAADgAAACZAAAAoAAAAJUAAAB4AAAAWgAAANwAAADcAAAAogAAAJ4AAACTAAAAggAAAO4AAADI\n",
       "AAAAUAAAAEgAAABiAAAAhwAAAJkAAACgAAABGAAAAFUAAACWAAAAZwAAAEkAAABkAAAA2QAAAK0A\n",
       "AAByAAAAogAAAG4AAADiAAABAQAAAJcAAABzAAAAdAAAAH4AAAB3AAAAfQAAAFQAAABHAAAA+QAA\n",
       "AIUAAABRAAAAfgAAAHcAAABRAAAAfwAAAHIAAADEAAAAfAAAAG4AAAA8AAAAXwAAAFUAAACBAAAA\n",
       "dAAAAG4AAADcAAAAXAAAAHoAAABuAAAAbQAAAM0AAAB8AAAAWwAAAF4AAAB/AAAAqgAAAOIAAACT\n",
       "AAAAwgAAAJsAAAEAAAAATwAAAKcAAABZAAAA0wAAAMQAAACpAAAAtAAAAHUAAABgAAAATwAAAEoA\n",
       "AADVAAAAkQAAAMEAAABxAAAAYAAAAM4AAAB9AAAA2wAAAEYAAABqAAAAQwAAALoAAACkAAAAbQAA\n",
       "AF0AAACKAAAA4gAAAHAAAACIAAAAmwAAAFsAAACkAAAAdwAAAEoAAADGAAAAmQAADo0AAAJuAAAA\n",
       "tQAAAFoAAAB6AAAAWAAAAGkAAABlAAAAYAAAAPMAAACZAAAAiAAAAE0AAAB2AAAAygAAAGUAAABd\n",
       "AAAAlgAAAHYAAACeAAAAgAAAAIkAAABYAAAApQAAAJcAAADVAAAAYgAAAQcAAABZAAAAbwAAAEwA\n",
       "AACUAAAAZwAAAI8AAACnAAAAeQAAAHcAAACyAAAAxAAAAGEAAACUAAAAnQAAAFIAAABjAAAASAAA\n",
       "AFcAAAB0AAAAjQAAADkAAAAUc3RjbwAAAAAAAAABAAAALAAAAGJ1ZHRhAAAAWm1ldGEAAAAAAAAA\n",
       "IWhkbHIAAAAAAAAAAG1kaXJhcHBsAAAAAAAAAAAAAAAALWlsc3QAAAAlqXRvbwAAAB1kYXRhAAAA\n",
       "AQAAAABMYXZmNTcuODMuMTAw\n",
       "\">\n",
       "  Your browser does not support the video tag.\n",
       "</video>"
      ],
      "text/plain": [
       "<IPython.core.display.HTML object>"
      ]
     },
     "execution_count": 72,
     "metadata": {},
     "output_type": "execute_result"
    }
   ],
   "source": [
    "test_anim = ut.create_system_animation(frames, n_episodes * episode_length)\n",
    "plt.close()\n",
    "\n",
    "HTML(test_anim.to_html5_video())"
   ]
  },
  {
   "cell_type": "code",
   "execution_count": null,
   "metadata": {},
   "outputs": [],
   "source": []
  },
  {
   "cell_type": "code",
   "execution_count": null,
   "metadata": {},
   "outputs": [],
   "source": [
    "np.inf"
   ]
  },
  {
   "cell_type": "code",
   "execution_count": 65,
   "metadata": {},
   "outputs": [
    {
     "data": {
      "text/plain": [
       "3"
      ]
     },
     "execution_count": 65,
     "metadata": {},
     "output_type": "execute_result"
    }
   ],
   "source": [
    "acc_val = 2\n",
    "last_acc_val = 1\n",
    "last_acc_val = acc_val\n",
    "last_acc_val = last_acc_val + 1\n",
    "last_acc_val"
   ]
  },
  {
   "cell_type": "code",
   "execution_count": 63,
   "metadata": {},
   "outputs": [
    {
     "data": {
      "text/plain": [
       "2"
      ]
     },
     "execution_count": 63,
     "metadata": {},
     "output_type": "execute_result"
    }
   ],
   "source": [
    "acc_val"
   ]
  },
  {
   "cell_type": "code",
   "execution_count": null,
   "metadata": {},
   "outputs": [],
   "source": []
  }
 ],
 "metadata": {
  "kernelspec": {
   "display_name": "Python 3",
   "language": "python",
   "name": "python3"
  },
  "language_info": {
   "codemirror_mode": {
    "name": "ipython",
    "version": 3
   },
   "file_extension": ".py",
   "mimetype": "text/x-python",
   "name": "python",
   "nbconvert_exporter": "python",
   "pygments_lexer": "ipython3",
   "version": "3.5.4"
  },
  "toc": {
   "nav_menu": {},
   "number_sections": true,
   "sideBar": true,
   "skip_h1_title": false,
   "title_cell": "Table of Contents",
   "title_sidebar": "Contents",
   "toc_cell": false,
   "toc_position": {},
   "toc_section_display": true,
   "toc_window_display": false
  }
 },
 "nbformat": 4,
 "nbformat_minor": 2
}
