{
 "cells": [
  {
   "cell_type": "code",
   "execution_count": 1,
   "metadata": {},
   "outputs": [
    {
     "name": "stderr",
     "output_type": "stream",
     "text": [
      "/home/dsalgador/anaconda3/envs/tensorflow/lib/python3.5/site-packages/h5py/__init__.py:36: FutureWarning: Conversion of the second argument of issubdtype from `float` to `np.floating` is deprecated. In future, it will be treated as `np.float64 == np.dtype(float).type`.\n",
      "  from ._conv import register_converters as _register_converters\n"
     ]
    }
   ],
   "source": [
    "\"\"\" \n",
    "The algorithm is tested on the PDSystemEnv  gym task \n",
    "and developed with Tensorflow\n",
    "\n",
    "Author: Daniel Salgado Rojo\n",
    "\"\"\"\n",
    "import tensorflow as tf\n",
    "import numpy as np\n",
    "import gym\n",
    "import gym_pdsystem\n",
    "from gym import wrappers\n",
    "#import tflearn\n",
    "import argparse\n",
    "import pprint as pp\n",
    "\n",
    "#from ddpg.replay_buffer import ReplayBuffer\n",
    "\n",
    "from datetime import datetime\n",
    "\n",
    "import random\n",
    "from gym_pdsystem.envs.pdsystem_env import PDSystemEnv\n",
    "\n",
    "import gym_pdsystem.utils.utilsq as ut\n",
    "import gym_pdsystem.utils.constants as ct\n",
    "\n",
    "\n",
    "from matplotlib import animation, rc\n",
    "import matplotlib.pyplot as plt\n",
    "from IPython.display import HTML\n",
    "\n",
    "\n",
    "#TO OMMIT WARNINGS\n",
    "import warnings\n",
    "warnings.filterwarnings('ignore')"
   ]
  },
  {
   "cell_type": "code",
   "execution_count": 2,
   "metadata": {},
   "outputs": [
    {
     "name": "stdout",
     "output_type": "stream",
     "text": [
      "\u001b[33mWARN: gym.spaces.Box autodetected dtype as <class 'numpy.float32'>. Please provide explicit dtype.\u001b[0m\n",
      "\u001b[33mWARN: gym.spaces.Box autodetected dtype as <class 'numpy.float32'>. Please provide explicit dtype.\u001b[0m\n",
      "\u001b[33mWARN: gym.spaces.Box autodetected dtype as <class 'numpy.float32'>. Please provide explicit dtype.\u001b[0m\n",
      "\u001b[33mWARN: gym.spaces.Box autodetected dtype as <class 'numpy.float32'>. Please provide explicit dtype.\u001b[0m\n"
     ]
    },
    {
     "data": {
      "text/plain": [
       "[42]"
      ]
     },
     "execution_count": 2,
     "metadata": {},
     "output_type": "execute_result"
    }
   ],
   "source": [
    "episode_length = 30\n",
    "seed = 42\n",
    "\n",
    "system = PDSystemEnv()\n",
    "env = gym.make(\"PDSystemEnv-v0\")\n",
    "env._max_episode_steps = episode_length\n",
    "\n",
    "np.random.seed(seed)\n",
    "tf.set_random_seed(seed)\n",
    "env.seed(seed)\n"
   ]
  },
  {
   "cell_type": "code",
   "execution_count": 3,
   "metadata": {},
   "outputs": [],
   "source": [
    "def leftmost_emptiest_tank_policy(s, system):\n",
    "    min_boolean_indexes = np.isin(s, np.min(s))\n",
    "    min_indexes = np.where(min_boolean_indexes)\n",
    "    min_indexes = min_indexes[0]\n",
    "    #n_min = len(min_indexes)\n",
    "\n",
    "    possible_indexes = []\n",
    "    \n",
    "    for tank_visited in min_indexes:\n",
    "        hypothetical_next_tank_state = s[tank_visited] + system.truck_max_loads\n",
    "        #print(hypothetical_next_tank_state, system.tank_max_loads[tank_visited])\n",
    "        if hypothetical_next_tank_state <= system.tank_max_loads[tank_visited]:\n",
    "                    possible_indexes.append(tank_visited)\n",
    "    \n",
    "    \n",
    "    if len(possible_indexes) != 0:\n",
    "        tank_to_go = possible_indexes[0] # THIS IS WHAT CHANGES WITH RESPECT TO THE emptiest_tank_policy()\n",
    "        return tank_to_go\n",
    "    else:\n",
    "        return system.n #stay in the depot"
   ]
  },
  {
   "cell_type": "markdown",
   "metadata": {},
   "source": [
    "# Creating train, validation and test sets"
   ]
  },
  {
   "cell_type": "code",
   "execution_count": 4,
   "metadata": {},
   "outputs": [],
   "source": [
    "################################################################################\n",
    "# ENSURE THIS PARAMETER VALUES ARE SET AT THE BEGINNING OF THE pdsystem_env.py!!\n",
    "################################################################################\n",
    "\n",
    "# Example k = 1 (trucks), n = 3 (tanks)\n",
    "TANK_MAX_LOADS = np.array([100., 200, 100.])\n",
    "LEVEL_PERCENTAGES = np.array([ #b , c, e\n",
    "                                                [0.02, 0.31, 0.9],\n",
    "                                                [0.01, 0.03, 0.9],\n",
    "                                                [0.05, 0.16, 0.9]\n",
    "                                                   ])\n",
    "TRUCK_MAX_LOADS = np.array([50.])\n",
    "GRAPH_WEIGHTS = np.array([32., 159., 162., 0.])\n",
    "\n",
    "DISCRETE = False\n",
    "########################################"
   ]
  },
  {
   "cell_type": "code",
   "execution_count": 5,
   "metadata": {},
   "outputs": [
    {
     "name": "stdout",
     "output_type": "stream",
     "text": [
      "\u001b[33mWARN: gym.spaces.Box autodetected dtype as <class 'numpy.float32'>. Please provide explicit dtype.\u001b[0m\n",
      "\u001b[33mWARN: gym.spaces.Box autodetected dtype as <class 'numpy.float32'>. Please provide explicit dtype.\u001b[0m\n"
     ]
    }
   ],
   "source": [
    "seed = 42\n",
    "np.random.seed(seed)\n",
    "system = PDSystemEnv()\n",
    "\n",
    "N_TRAIN = 10**4; SEED_TRAIN = 42; train_file = 'train.txt'\n",
    "N_VAL = 10**3; SEED_VAL = 50; validation_file = 'validation.txt'\n",
    "N_TEST = 10**3; SEED_TEST = 58; test_file = 'test.txt'\n",
    "\n",
    "round_decimals = 5\n",
    "\n",
    "CREATE_DATASETS = False\n",
    "\n",
    "def create_datasets(outputfile, n_observations, seed = None):   \n",
    "    if seed != None:\n",
    "        np.random.seed(seed)\n",
    "        \n",
    "    with open('{}'.format(outputfile),'w') as f:\n",
    "        np.savetxt(f, [np.array(['tank1', 'tank2', 'tank3', 'target'])], fmt = \"%s\", delimiter=',')\n",
    "        for i in range(n_observations):\n",
    "            obs = []\n",
    "            for max_load in TANK_MAX_LOADS:\n",
    "                random_load = np.random.random() * max_load\n",
    "                obs.append(np.round(random_load,round_decimals)  )\n",
    "\n",
    "            obs.append(leftmost_emptiest_tank_policy(np.array(obs), system))   \n",
    "            np.savetxt(f, [np.array(obs)], fmt = ('%f','%f', '%f', '%d'), delimiter=',')  #!! fmt only for n=3\n",
    "\n",
    "if CREATE_DATASETS:          \n",
    "    create_datasets(train_file, N_TRAIN, SEED_TRAIN) \n",
    "    create_datasets(validation_file, N_VAL, SEED_VAL)      \n",
    "    create_datasets(test_file, N_TEST, SEED_TEST)            "
   ]
  },
  {
   "cell_type": "markdown",
   "metadata": {},
   "source": [
    "# Exploring data sets"
   ]
  },
  {
   "cell_type": "code",
   "execution_count": 6,
   "metadata": {},
   "outputs": [],
   "source": [
    "import pandas as pd"
   ]
  },
  {
   "cell_type": "code",
   "execution_count": 7,
   "metadata": {},
   "outputs": [],
   "source": [
    "train = pd.read_table(train_file, sep = \",\")\n",
    "test = pd.read_table(test_file, sep = \",\")\n",
    "validation = pd.read_table(validation_file, sep = \",\")"
   ]
  },
  {
   "cell_type": "code",
   "execution_count": 8,
   "metadata": {},
   "outputs": [
    {
     "data": {
      "image/png": "[encoded data removed]",
      "text/plain": [
       "<matplotlib.figure.Figure at 0x7fe270a84b38>"
      ]
     },
     "metadata": {},
     "output_type": "display_data"
    }
   ],
   "source": [
    "train.hist()\n",
    "plt.show()"
   ]
  },
  {
   "cell_type": "code",
   "execution_count": 9,
   "metadata": {},
   "outputs": [
    {
     "data": {
      "image/png": "[encoded data removed]",
      "text/plain": [
       "<matplotlib.figure.Figure at 0x7fe2463e98d0>"
      ]
     },
     "metadata": {},
     "output_type": "display_data"
    },
    {
     "data": {
      "image/png": "[encoded data removed]",
      "text/plain": [
       "<matplotlib.figure.Figure at 0x7fe242aacbe0>"
      ]
     },
     "metadata": {},
     "output_type": "display_data"
    }
   ],
   "source": [
    "test.hist()\n",
    "validation.hist()\n",
    "\n",
    "plt.show()"
   ]
  },
  {
   "cell_type": "code",
   "execution_count": 10,
   "metadata": {},
   "outputs": [],
   "source": [
    "y_train = train[\"target\"].values#.reshape((N_TRAIN, ))\n",
    "X_train = train[[\"tank1\", \"tank2\",\"tank3\"]].values\n",
    "\n",
    "y_test = test[\"target\"].values#.reshape((N_TEST, ))\n",
    "X_test = test[[\"tank1\", \"tank2\",\"tank3\"]].values\n",
    "\n",
    "y_val = validation[\"target\"]#.reshape((N_VAL, ))\n",
    "X_val = validation[[\"tank1\", \"tank2\",\"tank3\"]].values"
   ]
  },
  {
   "cell_type": "code",
   "execution_count": 11,
   "metadata": {},
   "outputs": [],
   "source": [
    "X_train = X_train.astype('float32')\n",
    "X_test = X_test.astype('float32')\n",
    "X_val = X_val.astype('float32')"
   ]
  },
  {
   "cell_type": "markdown",
   "metadata": {},
   "source": [
    "# Stochastic gradient descent classifier "
   ]
  },
  {
   "cell_type": "code",
   "execution_count": 12,
   "metadata": {},
   "outputs": [],
   "source": [
    "from sklearn.linear_model import SGDClassifier"
   ]
  },
  {
   "cell_type": "code",
   "execution_count": 13,
   "metadata": {},
   "outputs": [],
   "source": [
    "from sklearn.model_selection import cross_val_predict, cross_val_score\n",
    "from sklearn.metrics import confusion_matrix"
   ]
  },
  {
   "cell_type": "code",
   "execution_count": 14,
   "metadata": {},
   "outputs": [],
   "source": [
    "sgd_clf = SGDClassifier(random_state = 42)\n",
    "sgd_clf.fit(X_train, y_train);"
   ]
  },
  {
   "cell_type": "markdown",
   "metadata": {},
   "source": [
    "## Cross validation accuracy"
   ]
  },
  {
   "cell_type": "code",
   "execution_count": 15,
   "metadata": {},
   "outputs": [],
   "source": [
    "CV = 10"
   ]
  },
  {
   "cell_type": "code",
   "execution_count": 16,
   "metadata": {
    "scrolled": true
   },
   "outputs": [
    {
     "name": "stdout",
     "output_type": "stream",
     "text": [
      "Average cross validation score:  0.805050233881416\n"
     ]
    }
   ],
   "source": [
    "cvs = cross_val_score(sgd_clf, X_train, y_train, cv = CV, scoring = \"accuracy\")\n",
    "print(\"Average cross validation score: \", np.mean(cvs))"
   ]
  },
  {
   "cell_type": "code",
   "execution_count": 17,
   "metadata": {},
   "outputs": [],
   "source": [
    "from sklearn.preprocessing import StandardScaler\n"
   ]
  },
  {
   "cell_type": "code",
   "execution_count": 18,
   "metadata": {},
   "outputs": [],
   "source": [
    "scaler = StandardScaler()\n",
    "X_train_scaled = scaler.fit_transform(X_train.astype(np.float64))"
   ]
  },
  {
   "cell_type": "code",
   "execution_count": 19,
   "metadata": {},
   "outputs": [
    {
     "name": "stdout",
     "output_type": "stream",
     "text": [
      "Average cross validation score for scaled train data:  0.9026149060019663\n"
     ]
    }
   ],
   "source": [
    "cvs = cross_val_score(sgd_clf, X_train_scaled, y_train, cv = CV, scoring = \"accuracy\")\n",
    "print(\"Average cross validation score for scaled train data: \", np.mean(cvs));"
   ]
  },
  {
   "cell_type": "markdown",
   "metadata": {},
   "source": [
    "## Error Analysis"
   ]
  },
  {
   "cell_type": "code",
   "execution_count": 20,
   "metadata": {},
   "outputs": [
    {
     "data": {
      "text/plain": [
       "array([[3218,   33,   64,    8],\n",
       "       [ 112, 1420,   45,   66],\n",
       "       [ 198,   89, 3027,   52],\n",
       "       [ 188,   64,   55, 1361]])"
      ]
     },
     "execution_count": 20,
     "metadata": {},
     "output_type": "execute_result"
    }
   ],
   "source": [
    "y_train_pred = cross_val_predict(sgd_clf, X_train_scaled, y_train, cv = CV)\n",
    "conf_mx = confusion_matrix(y_train, y_train_pred)\n",
    "conf_mx"
   ]
  },
  {
   "cell_type": "code",
   "execution_count": 21,
   "metadata": {},
   "outputs": [
    {
     "data": {
      "image/png": "[encoded data removed]",
      "text/plain": [
       "<matplotlib.figure.Figure at 0x7fe23f1ee710>"
      ]
     },
     "metadata": {},
     "output_type": "display_data"
    }
   ],
   "source": [
    "plt.matshow(conf_mx, cmap = plt.cm.gray)\n",
    "plt.show()"
   ]
  },
  {
   "cell_type": "code",
   "execution_count": 22,
   "metadata": {},
   "outputs": [],
   "source": [
    "row_sums = conf_mx.sum(axis = 1, keepdims = True)\n",
    "norm_conf_mx = conf_mx / row_sums"
   ]
  },
  {
   "cell_type": "code",
   "execution_count": 23,
   "metadata": {},
   "outputs": [
    {
     "data": {
      "image/png": "[encoded data removed]",
      "text/plain": [
       "<matplotlib.figure.Figure at 0x7fe2366ad518>"
      ]
     },
     "metadata": {},
     "output_type": "display_data"
    }
   ],
   "source": [
    "np.fill_diagonal(norm_conf_mx, 0)\n",
    "plt.matshow(norm_conf_mx, cmap = plt.cm.gray)\n",
    "plt.show()"
   ]
  },
  {
   "cell_type": "markdown",
   "metadata": {},
   "source": [
    "## Test prediction accuracy of the model trained on the whole train set"
   ]
  },
  {
   "cell_type": "code",
   "execution_count": 24,
   "metadata": {},
   "outputs": [],
   "source": [
    "y_test_pred = sgd_clf.predict(X_test)"
   ]
  },
  {
   "cell_type": "code",
   "execution_count": 25,
   "metadata": {},
   "outputs": [
    {
     "data": {
      "text/plain": [
       "array([[344,  10,   0,   0],\n",
       "       [  9, 119,  13,   0],\n",
       "       [ 30,  14, 300,   0],\n",
       "       [ 73,  25,  16,  47]])"
      ]
     },
     "execution_count": 25,
     "metadata": {},
     "output_type": "execute_result"
    }
   ],
   "source": [
    "conf_mx = confusion_matrix(y_test, y_test_pred)\n",
    "conf_mx"
   ]
  },
  {
   "cell_type": "code",
   "execution_count": 26,
   "metadata": {},
   "outputs": [
    {
     "data": {
      "text/plain": [
       "0.81"
      ]
     },
     "execution_count": 26,
     "metadata": {},
     "output_type": "execute_result"
    }
   ],
   "source": [
    "test_accuracy = np.trace(np.asarray(conf_mx))/conf_mx.sum()\n",
    "test_accuracy"
   ]
  },
  {
   "cell_type": "code",
   "execution_count": 27,
   "metadata": {},
   "outputs": [
    {
     "data": {
      "text/plain": [
       "0.928"
      ]
     },
     "execution_count": 27,
     "metadata": {},
     "output_type": "execute_result"
    }
   ],
   "source": [
    "sgdscaled_clf = SGDClassifier(random_state = 42)\n",
    "sgdscaled_clf.fit(X_train_scaled, y_train);\n",
    "\n",
    "scaler = StandardScaler()\n",
    "X_test_scaled = scaler.fit_transform(X_test.astype(np.float64))\n",
    "\n",
    "y_test_scaled_pred = sgdscaled_clf.predict(X_test_scaled)\n",
    "conf_mx = confusion_matrix(y_test, y_test_scaled_pred)\n",
    "test_accuracy = np.trace(np.asarray(conf_mx))/conf_mx.sum()\n",
    "test_accuracy"
   ]
  },
  {
   "cell_type": "code",
   "execution_count": 28,
   "metadata": {},
   "outputs": [
    {
     "data": {
      "image/png": "[encoded data removed]",
      "text/plain": [
       "<matplotlib.figure.Figure at 0x7fe2366de5f8>"
      ]
     },
     "metadata": {},
     "output_type": "display_data"
    }
   ],
   "source": [
    "plt.matshow(conf_mx, cmap = plt.cm.gray)\n",
    "plt.show()"
   ]
  },
  {
   "cell_type": "code",
   "execution_count": 29,
   "metadata": {},
   "outputs": [],
   "source": [
    "row_sums = conf_mx.sum(axis = 1, keepdims = True)\n",
    "norm_conf_mx = conf_mx / row_sums"
   ]
  },
  {
   "cell_type": "code",
   "execution_count": 30,
   "metadata": {},
   "outputs": [
    {
     "data": {
      "image/png": "[encoded data removed]",
      "text/plain": [
       "<matplotlib.figure.Figure at 0x7fe2366999e8>"
      ]
     },
     "metadata": {},
     "output_type": "display_data"
    }
   ],
   "source": [
    "np.fill_diagonal(norm_conf_mx, 0)\n",
    "plt.matshow(norm_conf_mx, cmap = plt.cm.gray)\n",
    "plt.show()"
   ]
  },
  {
   "cell_type": "markdown",
   "metadata": {},
   "source": [
    "# Random forest classifier"
   ]
  },
  {
   "cell_type": "code",
   "execution_count": 31,
   "metadata": {},
   "outputs": [],
   "source": [
    "from sklearn.ensemble import RandomForestClassifier\n",
    "\n",
    "rf_clf = RandomForestClassifier(random_state = 42)\n",
    "rf_clf.fit(X_train, y_train);"
   ]
  },
  {
   "cell_type": "markdown",
   "metadata": {},
   "source": [
    "## Cross validation accuracy"
   ]
  },
  {
   "cell_type": "code",
   "execution_count": 32,
   "metadata": {},
   "outputs": [],
   "source": [
    "CV = 10"
   ]
  },
  {
   "cell_type": "code",
   "execution_count": 33,
   "metadata": {
    "scrolled": true
   },
   "outputs": [
    {
     "name": "stdout",
     "output_type": "stream",
     "text": [
      "Average cross validation score:  0.9851987684034821\n"
     ]
    }
   ],
   "source": [
    "cvs = cross_val_score(rf_clf, X_train, y_train, cv = CV, scoring = \"accuracy\")\n",
    "print(\"Average cross validation score: \", np.mean(cvs))"
   ]
  },
  {
   "cell_type": "code",
   "execution_count": 34,
   "metadata": {},
   "outputs": [],
   "source": [
    "from sklearn.preprocessing import StandardScaler\n"
   ]
  },
  {
   "cell_type": "code",
   "execution_count": 35,
   "metadata": {},
   "outputs": [],
   "source": [
    "scaler = StandardScaler()\n",
    "X_train_scaled = scaler.fit_transform(X_train.astype(np.float64))"
   ]
  },
  {
   "cell_type": "code",
   "execution_count": 36,
   "metadata": {},
   "outputs": [
    {
     "name": "stdout",
     "output_type": "stream",
     "text": [
      "Average cross validation score for scaled train data:  0.9851987684034821\n"
     ]
    }
   ],
   "source": [
    "cvs = cross_val_score(rf_clf, X_train_scaled, y_train, cv = CV, scoring = \"accuracy\")\n",
    "print(\"Average cross validation score for scaled train data: \", np.mean(cvs));"
   ]
  },
  {
   "cell_type": "markdown",
   "metadata": {},
   "source": [
    "## Error Analysis"
   ]
  },
  {
   "cell_type": "code",
   "execution_count": null,
   "metadata": {},
   "outputs": [],
   "source": []
  },
  {
   "cell_type": "code",
   "execution_count": 37,
   "metadata": {},
   "outputs": [
    {
     "data": {
      "text/plain": [
       "array([[3285,   17,   20,    1],\n",
       "       [  23, 1594,   13,   13],\n",
       "       [  32,   19, 3315,    0],\n",
       "       [   0,   10,    0, 1658]])"
      ]
     },
     "execution_count": 37,
     "metadata": {},
     "output_type": "execute_result"
    }
   ],
   "source": [
    "y_train_pred = cross_val_predict(rf_clf, X_train_scaled, y_train, cv = CV)\n",
    "conf_mx = confusion_matrix(y_train, y_train_pred)\n",
    "conf_mx"
   ]
  },
  {
   "cell_type": "code",
   "execution_count": 38,
   "metadata": {},
   "outputs": [
    {
     "data": {
      "image/png": "[encoded data removed]",
      "text/plain": [
       "<matplotlib.figure.Figure at 0x7fe235699fd0>"
      ]
     },
     "metadata": {},
     "output_type": "display_data"
    }
   ],
   "source": [
    "plt.matshow(conf_mx, cmap = plt.cm.gray)\n",
    "plt.show()"
   ]
  },
  {
   "cell_type": "code",
   "execution_count": 39,
   "metadata": {},
   "outputs": [],
   "source": [
    "row_sums = conf_mx.sum(axis = 1, keepdims = True)\n",
    "norm_conf_mx = conf_mx / row_sums"
   ]
  },
  {
   "cell_type": "code",
   "execution_count": 40,
   "metadata": {},
   "outputs": [
    {
     "data": {
      "image/png": "[encoded data removed]",
      "text/plain": [
       "<matplotlib.figure.Figure at 0x7fe235699dd8>"
      ]
     },
     "metadata": {},
     "output_type": "display_data"
    }
   ],
   "source": [
    "np.fill_diagonal(norm_conf_mx, 0)\n",
    "plt.matshow(norm_conf_mx, cmap = plt.cm.gray)\n",
    "plt.show()"
   ]
  },
  {
   "cell_type": "markdown",
   "metadata": {},
   "source": [
    "## Test prediction accuracy of the model trained on the whole train set"
   ]
  },
  {
   "cell_type": "code",
   "execution_count": 41,
   "metadata": {},
   "outputs": [],
   "source": [
    "y_test_pred = rf_clf.predict(X_test)"
   ]
  },
  {
   "cell_type": "code",
   "execution_count": 42,
   "metadata": {},
   "outputs": [
    {
     "data": {
      "text/plain": [
       "array([[349,   3,   2,   0],\n",
       "       [  0, 140,   0,   1],\n",
       "       [  2,   0, 342,   0],\n",
       "       [  0,   2,   0, 159]])"
      ]
     },
     "execution_count": 42,
     "metadata": {},
     "output_type": "execute_result"
    }
   ],
   "source": [
    "conf_mx = confusion_matrix(y_test, y_test_pred)\n",
    "conf_mx"
   ]
  },
  {
   "cell_type": "code",
   "execution_count": 43,
   "metadata": {},
   "outputs": [
    {
     "data": {
      "text/plain": [
       "0.99"
      ]
     },
     "execution_count": 43,
     "metadata": {},
     "output_type": "execute_result"
    }
   ],
   "source": [
    "test_accuracy = np.trace(np.asarray(conf_mx))/conf_mx.sum()\n",
    "test_accuracy"
   ]
  },
  {
   "cell_type": "code",
   "execution_count": 44,
   "metadata": {},
   "outputs": [
    {
     "data": {
      "text/plain": [
       "0.977"
      ]
     },
     "execution_count": 44,
     "metadata": {},
     "output_type": "execute_result"
    }
   ],
   "source": [
    "rfscaled_clf = RandomForestClassifier(random_state = 42)\n",
    "rfscaled_clf.fit(X_train_scaled, y_train);\n",
    "\n",
    "scaler = StandardScaler()\n",
    "X_test_scaled = scaler.fit_transform(X_test.astype(np.float64))\n",
    "\n",
    "y_test_scaled_pred = rfscaled_clf.predict(X_test_scaled)\n",
    "conf_mx = confusion_matrix(y_test, y_test_scaled_pred)\n",
    "test_accuracy = np.trace(np.asarray(conf_mx))/conf_mx.sum()\n",
    "test_accuracy"
   ]
  },
  {
   "cell_type": "code",
   "execution_count": 45,
   "metadata": {},
   "outputs": [
    {
     "data": {
      "image/png": "[encoded data removed]",
      "text/plain": [
       "<matplotlib.figure.Figure at 0x7fe2356690b8>"
      ]
     },
     "metadata": {},
     "output_type": "display_data"
    }
   ],
   "source": [
    "plt.matshow(conf_mx, cmap = plt.cm.gray)\n",
    "plt.show()"
   ]
  },
  {
   "cell_type": "code",
   "execution_count": 46,
   "metadata": {},
   "outputs": [],
   "source": [
    "row_sums = conf_mx.sum(axis = 1, keepdims = True)\n",
    "norm_conf_mx = conf_mx / row_sums"
   ]
  },
  {
   "cell_type": "code",
   "execution_count": 47,
   "metadata": {},
   "outputs": [
    {
     "data": {
      "image/png": "[encoded data removed]",
      "text/plain": [
       "<matplotlib.figure.Figure at 0x7fe2356214a8>"
      ]
     },
     "metadata": {},
     "output_type": "display_data"
    }
   ],
   "source": [
    "np.fill_diagonal(norm_conf_mx, 0)\n",
    "plt.matshow(norm_conf_mx, cmap = plt.cm.gray)\n",
    "plt.show()"
   ]
  },
  {
   "cell_type": "markdown",
   "metadata": {},
   "source": [
    "# Neural Network Classifier"
   ]
  },
  {
   "cell_type": "code",
   "execution_count": 48,
   "metadata": {},
   "outputs": [],
   "source": [
    "def reset_graph(seed=42):\n",
    "    tf.reset_default_graph()\n",
    "    tf.set_random_seed(seed)\n",
    "    np.random.seed(seed)\n"
   ]
  },
  {
   "cell_type": "code",
   "execution_count": 49,
   "metadata": {},
   "outputs": [],
   "source": [
    "class NNClassifier(object):\n",
    "    \"\"\"\n",
    "    Input to the network is the state, output is the action\n",
    "    under a deterministic policy.\n",
    "    \"\"\"\n",
    "\n",
    "    def __init__(self, sess, learning_rate, model_file = None):\n",
    "        self.sess = sess\n",
    "        self.learning_rate = learning_rate\n",
    "\n",
    "        # Network architecture\n",
    "        #self.action, self.y, self.X = self.create_network()\n",
    "        self.action = self.create_network()\n",
    "\n",
    "        self.network_params = tf.trainable_variables()\n",
    "        \n",
    "    def create_network(self):\n",
    "       \n",
    "        with tf.name_scope(\"dnn\"):\n",
    "            #inputs = tflearn.input_data(shape=[None, self.s_dim])\n",
    "            tf.set_random_seed(seed)\n",
    "            # 1. Parameters to determine the NN architecture\n",
    "\n",
    "            n_inputs = env.observation_space.shape[1]\n",
    "            n_hidden1 = 20; activation1 = tf.nn.elu\n",
    "            n_hidden2 = 6; activation2 = tf.nn.elu\n",
    "            n_outputs = env.action_space.shape[1]\n",
    "\n",
    "            self.initializer = tf.contrib.layers.variance_scaling_initializer()\n",
    "\n",
    "            # 2. Build the Neural Network\n",
    "            \n",
    "            self.X = tf.placeholder(tf.float32, shape = (None, n_inputs), name = \"X\")\n",
    "            self.y = tf.placeholder(tf.int64, shape = (None), name = \"y\")\n",
    "            \n",
    "            hidden1 = tf.layers.dense(self.X, n_hidden1, activation = activation1,\n",
    "                                     kernel_initializer = self.initializer)\n",
    "            hidden2 = tf.layers.dense(hidden1, n_hidden2, activation = activation2,\n",
    "                                     kernel_initializer = self.initializer)\n",
    "            logits = tf.layers.dense(hidden2, n_outputs,kernel_initializer = self.initializer)\n",
    "            \n",
    "        with tf.name_scope(\"loss\"):\n",
    "            xentropy = tf.nn.sparse_softmax_cross_entropy_with_logits(labels = self.y,\n",
    "                                                                      logits = logits)\n",
    "            loss = tf.reduce_mean(xentropy, name = \"loss\")\n",
    "            \n",
    "        with tf.name_scope(\"train\"):\n",
    "            # Optimization Op\n",
    "            optimizer = tf.train.AdamOptimizer(self.learning_rate)\n",
    "            self.optimize = optimizer.minimize(loss)\n",
    "            \n",
    "        with tf.name_scope(\"eval\"):\n",
    "            correct = tf.nn.in_top_k(logits, self.y, 1)\n",
    "            self.accuracy = tf.reduce_mean(tf.cast(correct,tf.float32))\n",
    "      \n",
    "        with tf.name_scope(\"action\"):\n",
    "            outputs = tf.nn.softmax(logits)\n",
    "            # 3. Select a random action (where to go) based on the estimated probabilities\n",
    "            self.action = tf.multinomial(tf.log(outputs), num_samples = 1)\n",
    "\n",
    "        self.init = tf.global_variables_initializer()\n",
    "        \n",
    "        if model_file != None:\n",
    "            self.saver = tf.train.Saver()\n",
    "        \n",
    "        return self.action#, y, X\n",
    "\n",
    "    def train(self,X,y):\n",
    "        self.sess.run(self.optimize, feed_dict={\n",
    "            self.y: y,\n",
    "            self.X: X\n",
    "        })\n",
    "\n",
    "    def predict_action(self, X, y):\n",
    "        return self.sess.run(self.action, feed_dict={\n",
    "            self.X: X,\n",
    "            self.y: y\n",
    "        })\n",
    "    \n",
    "    def get_accuracy(self, X, y):\n",
    "        return self.sess.run(self.accuracy, feed_dict={\n",
    "            self.X: X,\n",
    "            self.y: y\n",
    "        })\n",
    "\n",
    "    def get_num_trainable_vars(self):\n",
    "        return self.num_trainable_vars\n",
    "    \n",
    "    def fetch_batch(self, X,y,epoch, batch_index, batch_size, data_size, n_batches):\n",
    "        #np.random.seed(epoch * n_batches + batch_index)  # not shown in the book\n",
    "        indices = np.random.randint(data_size, size=batch_size)  # not shown\n",
    "        X_batch = X[indices] # not shown\n",
    "        y_batch = y[indices] # not shown\n",
    "        return X_batch, y_batch\n",
    "\n",
    "    def fit(self, X_train, y_train, X_val, y_val, epochs = 10, batch_size = 50, summary_freq = None):\n",
    "        N_TRAIN = X_train.shape[0]\n",
    "        m = y_train.shape[0]\n",
    "        \n",
    "        n_batches = int(np.ceil(N_TRAIN/ batch_size))\n",
    "        #print(n_batches)\n",
    "             \n",
    "        for epoch in range(epochs+1):\n",
    "            for batch_index in range(n_batches):\n",
    "                X_batch, y_batch = self.fetch_batch(X_train,y_train,epoch, batch_index, batch_size, m, n_batches)\n",
    "                #print(\"Xbatch shape\",X_batch.shape, \"y_batch shape\", y_batch.shape)\n",
    "                self.train(X_batch, y_batch)\n",
    "            if summary_freq != None:    \n",
    "                acc_train = self.get_accuracy(X_batch, y_batch)\n",
    "                acc_val = self.get_accuracy(X_val, y_val)\n",
    "                if epoch % summary_freq  == 0:\n",
    "                    print(\"Epoch: \", epoch, \" Train (batch) accuracy: \", acc_train, \" Validation accuracy: \", acc_val)\n"
   ]
  },
  {
   "cell_type": "code",
   "execution_count": 50,
   "metadata": {},
   "outputs": [
    {
     "name": "stdout",
     "output_type": "stream",
     "text": [
      "WARNING:tensorflow:From /home/dsalgador/anaconda3/envs/tensorflow/lib/python3.5/site-packages/tensorflow/contrib/learn/python/learn/datasets/base.py:198: retry (from tensorflow.contrib.learn.python.learn.datasets.base) is deprecated and will be removed in a future version.\n",
      "Instructions for updating:\n",
      "Use the retry module or similar alternatives.\n",
      "Epoch:  0  Train (batch) accuracy:  0.82  Validation accuracy:  0.868\n",
      "Epoch:  1  Train (batch) accuracy:  0.89  Validation accuracy:  0.895\n",
      "All Train accuracy 0.9092  Test accuracy:  0.901\n"
     ]
    }
   ],
   "source": [
    "reset_graph()\n",
    "\n",
    "seed = 43\n",
    "np.random.seed(seed)\n",
    "\n",
    "epochs = 1\n",
    "batch_size = 100\n",
    "\n",
    "learning_rate = 0.01\n",
    "summary_freq = np.ceil(epochs/10)\n",
    "\n",
    "\n",
    "model_file = None#'./final_nn_classifier.ckpt'\n",
    "\n",
    "\n",
    "with tf.Session() as sess:\n",
    "\n",
    "                nn_clf = NNClassifier(sess, learning_rate, model_file)\n",
    "                nn_clf.init.run()\n",
    "                nn_clf.fit(X_train, y_train, X_val, y_val, epochs = epochs, batch_size = batch_size, summary_freq = summary_freq)\n",
    "                acc_test = nn_clf.get_accuracy(X_test, y_test)\n",
    "                acc_train = nn_clf.get_accuracy(X_train, y_train)\n",
    "\n",
    "                print(\"All Train accuracy\", acc_train, \" Test accuracy: \", acc_test)"
   ]
  },
  {
   "cell_type": "code",
   "execution_count": null,
   "metadata": {
    "scrolled": true
   },
   "outputs": [],
   "source": []
  },
  {
   "cell_type": "code",
   "execution_count": null,
   "metadata": {},
   "outputs": [],
   "source": []
  },
  {
   "cell_type": "code",
   "execution_count": 51,
   "metadata": {},
   "outputs": [
    {
     "name": "stdout",
     "output_type": "stream",
     "text": [
      "0.01\n"
     ]
    }
   ],
   "source": [
    "reset_graph()\n",
    "\n",
    "# sess = tf.Session() \n",
    "with tf.Session() as sess:\n",
    "    #reset_graph()\n",
    "    #nn_clf = NNClassifier(sess, learning_rate, model_file)\n",
    "    #nn_clf.init.run()\n",
    "    #saver = tf.train.import_meta_graph('./final_nn_classifier.ckpt.meta')\n",
    "    print(    nn_clf.learning_rate)\n",
    "    nn_clf.sess = sess\n",
    "    nn_clf.create_network()\n",
    "    \n",
    "    #nn_clf.saver.restore(sess, './final_nn_classifier.ckpt')\n",
    "    #print(    nn_clf.learning_rate)\n",
    "    #acc_test = nn_clf.get_accuracy(X_test, y_test)\n",
    "    #print(\" Test accuracy: \", acc_test)"
   ]
  },
  {
   "cell_type": "markdown",
   "metadata": {},
   "source": [
    "## Saving and restoring models"
   ]
  },
  {
   "cell_type": "code",
   "execution_count": null,
   "metadata": {},
   "outputs": [],
   "source": []
  },
  {
   "cell_type": "code",
   "execution_count": null,
   "metadata": {},
   "outputs": [],
   "source": []
  },
  {
   "cell_type": "code",
   "execution_count": 52,
   "metadata": {},
   "outputs": [
    {
     "name": "stdout",
     "output_type": "stream",
     "text": [
      "Epoch:  0  Train (batch) accuracy:  0.94  Validation accuracy:  0.899\n",
      "Saved model with validation accuracy  0.899\n",
      "Epoch:  200  Train (batch) accuracy:  0.98  Validation accuracy:  0.976\n",
      "Saved model with validation accuracy  0.976\n",
      "Epoch:  400  Train (batch) accuracy:  0.98  Validation accuracy:  0.989\n",
      "Saved model with validation accuracy  0.989\n",
      "Epoch:  600  Train (batch) accuracy:  1.0  Validation accuracy:  0.985\n",
      "Epoch:  800  Train (batch) accuracy:  1.0  Validation accuracy:  0.982\n",
      "Epoch:  1000  Train (batch) accuracy:  1.0  Validation accuracy:  0.991\n",
      "Saved model with validation accuracy  0.991\n",
      "Epoch:  1200  Train (batch) accuracy:  1.0  Validation accuracy:  0.994\n",
      "Saved model with validation accuracy  0.994\n",
      "Epoch:  1400  Train (batch) accuracy:  1.0  Validation accuracy:  0.995\n",
      "Saved model with validation accuracy  0.995\n",
      "Epoch:  1600  Train (batch) accuracy:  1.0  Validation accuracy:  0.987\n",
      "Epoch:  1800  Train (batch) accuracy:  1.0  Validation accuracy:  0.992\n",
      "Epoch:  2000  Train (batch) accuracy:  0.98  Validation accuracy:  0.981\n"
     ]
    }
   ],
   "source": [
    "reset_graph()\n",
    "\n",
    "seed = 42\n",
    "learning_rate = 0.01 #0.01\n",
    "\n",
    "model_file = './final_nn_classifier_scaled_{}.ckpt'.format(learning_rate)\n",
    "graph_file =  '{}.meta'.format(model_file)\n",
    "epochs = 2000 #2000\n",
    "batch_size = 50 #50\n",
    "\n",
    "summary_freq = 200#np.ceil(epochs/10) #200\n",
    "\n",
    "\n",
    "hidden1_neurons = 100 #100\n",
    "hidden2_neurons = 50 #50\n",
    "\n",
    "scaling = False\n",
    "\n",
    "if scaling:\n",
    "    scaler = StandardScaler()\n",
    "    X_train = scaler.fit_transform(X_train.astype(np.float64))\n",
    "    X_val = scaler.fit_transform(X_val.astype(np.float64))\n",
    "    X_test = scaler.fit_transform(X_test.astype(np.float64))\n",
    "\n",
    "\n",
    "    \n",
    "\n",
    "\n",
    "with tf.name_scope(\"dnn\"):\n",
    "            #inputs = tflearn.input_data(shape=[None, self.s_dim])\n",
    "            tf.set_random_seed(seed)\n",
    "            # 1. Parameters to determine the NN architecture\n",
    "\n",
    "            n_inputs = env.observation_space.shape[1]\n",
    "            n_hidden1 = hidden1_neurons; activation1 = tf.nn.elu\n",
    "            n_hidden2 = hidden2_neurons; activation2 = tf.nn.elu\n",
    "            n_outputs = env.action_space.shape[1]\n",
    "\n",
    "            initializer = tf.contrib.layers.variance_scaling_initializer()\n",
    "\n",
    "            # 2. Build the Neural Network\n",
    "            \n",
    "            X = tf.placeholder(tf.float32, shape = (None, n_inputs), name = \"X\")\n",
    "            y = tf.placeholder(tf.int64, shape = (None), name = \"y\")\n",
    "            \n",
    "            hidden1 = tf.layers.dense(X, n_hidden1, activation = activation1,\n",
    "                                     kernel_initializer = initializer)\n",
    "            hidden2 = tf.layers.dense(hidden1, n_hidden2, activation = activation2,\n",
    "                                     kernel_initializer = initializer)\n",
    "            logits = tf.layers.dense(hidden2, n_outputs,kernel_initializer = initializer)\n",
    "            \n",
    "with tf.name_scope(\"loss\"):\n",
    "            xentropy = tf.nn.sparse_softmax_cross_entropy_with_logits(labels = y,\n",
    "                                                                      logits = logits)\n",
    "            loss = tf.reduce_mean(xentropy, name = \"loss\")\n",
    "            \n",
    "with tf.name_scope(\"train\"):\n",
    "            # Optimization Op\n",
    "            optimizer = tf.train.AdamOptimizer(learning_rate)\n",
    "            optimize = optimizer.minimize(loss)\n",
    "            \n",
    "with tf.name_scope(\"eval\"):\n",
    "            correct = tf.nn.in_top_k(logits, y, 1)\n",
    "            accuracy = tf.reduce_mean(tf.cast(correct,tf.float32))\n",
    "            \n",
    "with tf.name_scope(\"action\"):\n",
    "            outputs = tf.nn.softmax(logits)\n",
    "            # 3. Select a random action (where to go) based on the estimated probabilities\n",
    "            action = tf.multinomial(tf.log(outputs), num_samples = 1)\n",
    "\n",
    "init = tf.global_variables_initializer()\n",
    "        \n",
    "if model_file != None:\n",
    "            saver = tf.train.Saver()\n",
    "        \n",
    "\n",
    "def fetch_batch(X,y,epoch, batch_index, batch_size, data_size, n_batches):\n",
    "        #np.random.seed(epoch * n_batches + batch_index)  # not shown in the book\n",
    "        indices = np.random.randint(data_size, size=batch_size)  # not shown\n",
    "        X_batch = X[indices] # not shown\n",
    "        y_batch = y[indices] # not shown\n",
    "        return X_batch, y_batch\n",
    "    \n",
    "    \n",
    "best_acc_val = 0\n",
    "acc_val = 0\n",
    "# early_stopping = True\n",
    "# stopping_counter = 0\n",
    "# max_stopping_counter = 100\n",
    "\n",
    "with tf.Session() as sess:\n",
    "        init.run()\n",
    "        N_TRAIN = X_train.shape[0]\n",
    "        m = y_train.shape[0]\n",
    "        \n",
    "        n_batches = int(np.ceil(N_TRAIN/ batch_size))\n",
    "        #print(n_batches)\n",
    "             \n",
    "        for epoch in range(epochs+1):\n",
    "            for batch_index in range(n_batches):\n",
    "                X_batch, y_batch = fetch_batch(X_train,y_train,epoch, batch_index, batch_size, m, n_batches)\n",
    "                #print(\"Xbatch shape\",X_batch.shape, \"y_batch shape\", y_batch.shape)\n",
    "                sess.run(optimize, feed_dict={\n",
    "                                    y: y_batch,\n",
    "                                    X: X_batch\n",
    "                                })\n",
    "    \n",
    "            if summary_freq != None: \n",
    "                            \n",
    "                if epoch % summary_freq  == 0:\n",
    "                    \n",
    "\n",
    "                    acc_train = sess.run(accuracy, feed_dict={\n",
    "                                        y: y_batch,\n",
    "                                        X: X_batch\n",
    "                                    })\n",
    "                    acc_val = sess.run(accuracy, feed_dict={\n",
    "                                        y: y_val,\n",
    "                                        X: X_val\n",
    "                                    }) \n",
    "                                    \n",
    "                    \n",
    "                    best_acc_val = max(best_acc_val, acc_val)\n",
    "\n",
    "                    #print(acc_val, best_acc_val)\n",
    "\n",
    "                    print(\"Epoch: \", epoch, \" Train (batch) accuracy: \", acc_train, \n",
    "                          \" Validation accuracy: \", acc_val)\n",
    "                    if best_acc_val <= acc_val:                        \n",
    "                        save_path = saver.save(sess, model_file)\n",
    "                        print(\"Saved model with validation accuracy \", acc_val)\n",
    "                                     \n",
    "        #save_path = saver.save(sess, model_file)   "
   ]
  },
  {
   "cell_type": "code",
   "execution_count": 53,
   "metadata": {},
   "outputs": [
    {
     "name": "stdout",
     "output_type": "stream",
     "text": [
      "INFO:tensorflow:Restoring parameters from ./final_nn_classifier_scaled_0.01.ckpt\n",
      " Test accuracy of the best model saved (according to validation accuracy):  0.995\n"
     ]
    }
   ],
   "source": [
    "\n",
    "with tf.Session() as sess: \n",
    "    saver.restore(sess, model_file)\n",
    "    acc_test = sess.run(accuracy, feed_dict={\n",
    "                                    y: y_test,\n",
    "                                    X: X_test\n",
    "                               })\n",
    "    print(\" Test accuracy of the best model saved (according to validation accuracy): \", acc_test)\n",
    "    \n",
    "    "
   ]
  },
  {
   "cell_type": "markdown",
   "metadata": {},
   "source": [
    "## Adding summaries to visualize performance metrics with TensorBoard"
   ]
  },
  {
   "cell_type": "code",
   "execution_count": null,
   "metadata": {},
   "outputs": [],
   "source": []
  },
  {
   "cell_type": "code",
   "execution_count": null,
   "metadata": {},
   "outputs": [],
   "source": []
  },
  {
   "cell_type": "code",
   "execution_count": 63,
   "metadata": {},
   "outputs": [
    {
     "name": "stdout",
     "output_type": "stream",
     "text": [
      "Epoch:  0  Train (batch) accuracy:  0.94  Validation accuracy:  0.899\n",
      "Saved model with validation accuracy  0.899\n",
      "Epoch:  100  Train (batch) accuracy:  0.98  Validation accuracy:  0.945\n",
      "Saved model with validation accuracy  0.945\n",
      "Epoch:  200  Train (batch) accuracy:  0.98  Validation accuracy:  0.976\n",
      "Saved model with validation accuracy  0.976\n",
      "Epoch:  300  Train (batch) accuracy:  0.98  Validation accuracy:  0.992\n",
      "Saved model with validation accuracy  0.992\n",
      "Epoch:  400  Train (batch) accuracy:  0.98  Validation accuracy:  0.989\n",
      "Epoch:  500  Train (batch) accuracy:  0.96  Validation accuracy:  0.994\n",
      "Saved model with validation accuracy  0.994\n",
      "Epoch:  600  Train (batch) accuracy:  1.0  Validation accuracy:  0.985\n",
      "Epoch:  700  Train (batch) accuracy:  0.98  Validation accuracy:  0.973\n",
      "Epoch:  800  Train (batch) accuracy:  1.0  Validation accuracy:  0.982\n",
      "Epoch:  900  Train (batch) accuracy:  1.0  Validation accuracy:  0.989\n",
      "Epoch:  1000  Train (batch) accuracy:  1.0  Validation accuracy:  0.991\n",
      "Epoch:  1100  Train (batch) accuracy:  1.0  Validation accuracy:  0.989\n",
      "Epoch:  1200  Train (batch) accuracy:  1.0  Validation accuracy:  0.994\n",
      "Saved model with validation accuracy  0.994\n",
      "Epoch:  1300  Train (batch) accuracy:  1.0  Validation accuracy:  0.993\n",
      "Epoch:  1400  Train (batch) accuracy:  1.0  Validation accuracy:  0.995\n",
      "Saved model with validation accuracy  0.995\n",
      "Epoch:  1500  Train (batch) accuracy:  1.0  Validation accuracy:  0.99\n",
      "Epoch:  1600  Train (batch) accuracy:  1.0  Validation accuracy:  0.987\n",
      "Epoch:  1700  Train (batch) accuracy:  1.0  Validation accuracy:  0.988\n",
      "Epoch:  1800  Train (batch) accuracy:  1.0  Validation accuracy:  0.992\n",
      "Epoch:  1900  Train (batch) accuracy:  1.0  Validation accuracy:  0.991\n",
      "Epoch:  2000  Train (batch) accuracy:  0.98  Validation accuracy:  0.981\n",
      "Epoch:  2100  Train (batch) accuracy:  0.98  Validation accuracy:  0.975\n",
      "Epoch:  2200  Train (batch) accuracy:  1.0  Validation accuracy:  0.997\n",
      "Saved model with validation accuracy  0.997\n",
      "Epoch:  2300  Train (batch) accuracy:  1.0  Validation accuracy:  0.992\n",
      "Epoch:  2400  Train (batch) accuracy:  0.98  Validation accuracy:  0.99\n",
      "Epoch:  2500  Train (batch) accuracy:  1.0  Validation accuracy:  0.99\n",
      "Epoch:  2600  Train (batch) accuracy:  1.0  Validation accuracy:  0.998\n",
      "Saved model with validation accuracy  0.998\n",
      "Epoch:  2700  Train (batch) accuracy:  1.0  Validation accuracy:  0.994\n",
      "Epoch:  2800  Train (batch) accuracy:  0.98  Validation accuracy:  0.982\n",
      "Epoch:  2900  Train (batch) accuracy:  1.0  Validation accuracy:  0.981\n",
      "Epoch:  3000  Train (batch) accuracy:  0.98  Validation accuracy:  0.965\n",
      "Epoch:  3100  Train (batch) accuracy:  0.98  Validation accuracy:  0.989\n",
      "Epoch:  3200  Train (batch) accuracy:  0.98  Validation accuracy:  0.981\n",
      "Epoch:  3300  Train (batch) accuracy:  1.0  Validation accuracy:  0.992\n",
      "Epoch:  3400  Train (batch) accuracy:  0.98  Validation accuracy:  0.988\n",
      "Epoch:  3500  Train (batch) accuracy:  1.0  Validation accuracy:  0.994\n",
      "Epoch:  3600  Train (batch) accuracy:  1.0  Validation accuracy:  0.995\n",
      "Epoch:  3700  Train (batch) accuracy:  1.0  Validation accuracy:  0.994\n",
      "Epoch:  3800  Train (batch) accuracy:  1.0  Validation accuracy:  0.984\n",
      "Epoch:  3900  Train (batch) accuracy:  0.98  Validation accuracy:  0.978\n",
      "Epoch:  4000  Train (batch) accuracy:  0.98  Validation accuracy:  0.995\n",
      "Epoch:  4100  Train (batch) accuracy:  1.0  Validation accuracy:  0.997\n",
      "Epoch:  4200  Train (batch) accuracy:  1.0  Validation accuracy:  0.993\n",
      "Epoch:  4300  Train (batch) accuracy:  1.0  Validation accuracy:  0.99\n",
      "Epoch:  4400  Train (batch) accuracy:  0.96  Validation accuracy:  0.978\n",
      "Epoch:  4500  Train (batch) accuracy:  1.0  Validation accuracy:  0.99\n",
      "Epoch:  4600  Train (batch) accuracy:  1.0  Validation accuracy:  0.987\n",
      "Epoch:  4700  Train (batch) accuracy:  0.98  Validation accuracy:  0.989\n",
      "Epoch:  4800  Train (batch) accuracy:  1.0  Validation accuracy:  0.994\n",
      "Epoch:  4900  Train (batch) accuracy:  1.0  Validation accuracy:  0.993\n",
      "Epoch:  5000  Train (batch) accuracy:  1.0  Validation accuracy:  0.991\n",
      "Epoch:  5100  Train (batch) accuracy:  0.98  Validation accuracy:  0.989\n",
      "Epoch:  5200  Train (batch) accuracy:  1.0  Validation accuracy:  0.985\n",
      "Epoch:  5300  Train (batch) accuracy:  0.98  Validation accuracy:  0.985\n",
      "Epoch:  5400  Train (batch) accuracy:  0.96  Validation accuracy:  0.985\n",
      "Epoch:  5500  Train (batch) accuracy:  1.0  Validation accuracy:  0.989\n",
      "Epoch:  5600  Train (batch) accuracy:  1.0  Validation accuracy:  0.992\n",
      "Epoch:  5700  Train (batch) accuracy:  1.0  Validation accuracy:  0.987\n",
      "Epoch:  5800  Train (batch) accuracy:  0.98  Validation accuracy:  0.977\n",
      "Epoch:  5900  Train (batch) accuracy:  1.0  Validation accuracy:  0.991\n",
      "Epoch:  6000  Train (batch) accuracy:  0.98  Validation accuracy:  0.988\n",
      "Epoch:  6100  Train (batch) accuracy:  1.0  Validation accuracy:  0.991\n",
      "Epoch:  6200  Train (batch) accuracy:  0.98  Validation accuracy:  0.99\n",
      "Epoch:  6300  Train (batch) accuracy:  1.0  Validation accuracy:  0.975\n",
      "Epoch:  6400  Train (batch) accuracy:  0.98  Validation accuracy:  0.986\n",
      "Epoch:  6500  Train (batch) accuracy:  0.98  Validation accuracy:  0.991\n",
      "Epoch:  6600  Train (batch) accuracy:  1.0  Validation accuracy:  0.99\n",
      "Epoch:  6700  Train (batch) accuracy:  1.0  Validation accuracy:  0.996\n",
      "Epoch:  6800  Train (batch) accuracy:  1.0  Validation accuracy:  0.993\n",
      "Epoch:  6900  Train (batch) accuracy:  0.98  Validation accuracy:  0.984\n",
      "Epoch:  7000  Train (batch) accuracy:  1.0  Validation accuracy:  0.996\n",
      "Epoch:  7100  Train (batch) accuracy:  1.0  Validation accuracy:  0.991\n",
      "Epoch:  7200  Train (batch) accuracy:  1.0  Validation accuracy:  0.989\n",
      "Epoch:  7300  Train (batch) accuracy:  0.98  Validation accuracy:  0.982\n",
      "Epoch:  7400  Train (batch) accuracy:  1.0  Validation accuracy:  0.991\n",
      "Epoch:  7500  Train (batch) accuracy:  1.0  Validation accuracy:  0.983\n",
      "Epoch:  7600  Train (batch) accuracy:  1.0  Validation accuracy:  0.992\n",
      "Epoch:  7700  Train (batch) accuracy:  1.0  Validation accuracy:  0.992\n",
      "Epoch:  7800  Train (batch) accuracy:  0.98  Validation accuracy:  0.99\n",
      "Epoch:  7900  Train (batch) accuracy:  1.0  Validation accuracy:  0.992\n",
      "Epoch:  8000  Train (batch) accuracy:  0.98  Validation accuracy:  0.98\n",
      "Epoch:  8100  Train (batch) accuracy:  0.98  Validation accuracy:  0.988\n",
      "Epoch:  8200  Train (batch) accuracy:  1.0  Validation accuracy:  0.979\n",
      "Epoch:  8300  Train (batch) accuracy:  1.0  Validation accuracy:  0.987\n",
      "Epoch:  8400  Train (batch) accuracy:  1.0  Validation accuracy:  0.993\n",
      "Epoch:  8500  Train (batch) accuracy:  1.0  Validation accuracy:  0.985\n",
      "Epoch:  8600  Train (batch) accuracy:  1.0  Validation accuracy:  0.986\n",
      "Epoch:  8700  Train (batch) accuracy:  0.96  Validation accuracy:  0.986\n",
      "Epoch:  8800  Train (batch) accuracy:  1.0  Validation accuracy:  0.991\n",
      "Epoch:  8900  Train (batch) accuracy:  1.0  Validation accuracy:  0.994\n",
      "Epoch:  9000  Train (batch) accuracy:  1.0  Validation accuracy:  0.986\n",
      "Epoch:  9100  Train (batch) accuracy:  1.0  Validation accuracy:  0.994\n",
      "Epoch:  9200  Train (batch) accuracy:  1.0  Validation accuracy:  0.994\n",
      "Epoch:  9300  Train (batch) accuracy:  0.98  Validation accuracy:  0.991\n",
      "Epoch:  9400  Train (batch) accuracy:  1.0  Validation accuracy:  0.994\n",
      "Epoch:  9500  Train (batch) accuracy:  1.0  Validation accuracy:  0.985\n",
      "Epoch:  9600  Train (batch) accuracy:  1.0  Validation accuracy:  0.993\n",
      "Epoch:  9700  Train (batch) accuracy:  1.0  Validation accuracy:  0.988\n",
      "Epoch:  9800  Train (batch) accuracy:  1.0  Validation accuracy:  0.99\n",
      "Epoch:  9900  Train (batch) accuracy:  1.0  Validation accuracy:  0.985\n",
      "Epoch:  10000  Train (batch) accuracy:  1.0  Validation accuracy:  0.987\n"
     ]
    }
   ],
   "source": [
    "reset_graph()\n",
    "\n",
    "seed = 42\n",
    "learning_rate = 0.01 #0.01\n",
    "\n",
    "model_file = './final_nn_classifier_{}.ckpt'.format(learning_rate)\n",
    "graph_file =  '{}.meta'.format(model_file)\n",
    "epochs = 10000 #2000\n",
    "batch_size = 50 #50\n",
    "\n",
    "summary_freq = 100#np.ceil(epochs/10) #200\n",
    "\n",
    "\n",
    "hidden1_neurons = 100 #100\n",
    "hidden2_neurons = 50 #50\n",
    "\n",
    "scaling = False\n",
    "\n",
    "if scaling:\n",
    "    scaler = StandardScaler()\n",
    "    X_train = scaler.fit_transform(X_train.astype(np.float64))\n",
    "    X_val = scaler.fit_transform(X_val.astype(np.float64))\n",
    "    X_test = scaler.fit_transform(X_test.astype(np.float64))\n",
    "\n",
    "\n",
    "with tf.name_scope(\"dnn\"):\n",
    "            #inputs = tflearn.input_data(shape=[None, self.s_dim])\n",
    "            tf.set_random_seed(seed)\n",
    "            # 1. Parameters to determine the NN architecture\n",
    "\n",
    "            n_inputs = env.observation_space.shape[1]\n",
    "            n_hidden1 = hidden1_neurons; activation1 = tf.nn.elu\n",
    "            n_hidden2 = hidden2_neurons; activation2 = tf.nn.elu\n",
    "            n_outputs = env.action_space.shape[1]\n",
    "\n",
    "            initializer = tf.contrib.layers.variance_scaling_initializer()\n",
    "\n",
    "            # 2. Build the Neural Network\n",
    "            \n",
    "            X = tf.placeholder(tf.float32, shape = (None, n_inputs), name = \"X\")\n",
    "            y = tf.placeholder(tf.int64, shape = (None), name = \"y\")\n",
    "            \n",
    "            hidden1 = tf.layers.dense(X, n_hidden1, activation = activation1,\n",
    "                                     kernel_initializer = initializer)\n",
    "            hidden2 = tf.layers.dense(hidden1, n_hidden2, activation = activation2,\n",
    "                                     kernel_initializer = initializer)\n",
    "            logits = tf.layers.dense(hidden2, n_outputs,kernel_initializer = initializer)\n",
    "            \n",
    "with tf.name_scope(\"loss\"):\n",
    "            xentropy = tf.nn.sparse_softmax_cross_entropy_with_logits(labels = y,\n",
    "                                                                      logits = logits)\n",
    "            loss = tf.reduce_mean(xentropy, name = \"loss\")\n",
    "            \n",
    "tf.summary.scalar('average_cross_entropy', loss)\n",
    "            \n",
    "with tf.name_scope(\"train\"):\n",
    "            # Optimization Op\n",
    "            optimizer = tf.train.AdamOptimizer(learning_rate)\n",
    "            optimize = optimizer.minimize(loss)\n",
    "            \n",
    "with tf.name_scope(\"eval\"):\n",
    "            correct = tf.nn.in_top_k(logits, y, 1)\n",
    "            accuracy = tf.reduce_mean(tf.cast(correct,tf.float32))\n",
    "tf.summary.scalar('accuracy', accuracy)\n",
    "\n",
    "            \n",
    "with tf.name_scope(\"action\"):\n",
    "            outputs = tf.nn.softmax(logits)\n",
    "            # 3. Select a random action (where to go) based on the estimated probabilities\n",
    "            action = tf.multinomial(tf.log(outputs), num_samples = 1)\n",
    "\n",
    "merged = tf.summary.merge_all()\n",
    "init = tf.global_variables_initializer()\n",
    "        \n",
    "if model_file != None:\n",
    "            saver = tf.train.Saver()\n",
    "        \n",
    "\n",
    "def fetch_batch(X,y,epoch, batch_index, batch_size, data_size, n_batches):\n",
    "        #np.random.seed(epoch * n_batches + batch_index)  # not shown in the book\n",
    "        indices = np.random.randint(data_size, size=batch_size)  # not shown\n",
    "        X_batch = X[indices] # not shown\n",
    "        y_batch = y[indices] # not shown\n",
    "        return X_batch, y_batch\n",
    "    \n",
    "    \n",
    "best_acc_val = 0\n",
    "acc_val = 0\n",
    "# early_stopping = True\n",
    "# stopping_counter = 0\n",
    "# max_stopping_counter = 100\n",
    "\n",
    "#   for i in range(FLAGS.max_steps):\n",
    "#     if i % 10 == 0:  # Record summaries and test-set accuracy\n",
    "#       summary, acc = sess.run([merged, accuracy], feed_dict=feed_dict(False))\n",
    "#       test_writer.add_summary(summary, i)\n",
    "#       print('Accuracy at step %s: %s' % (i, acc))\n",
    "#     else:  # Record train set summaries, and train\n",
    "#       if i % 100 == 99:  # Record execution stats\n",
    "#         run_options = tf.RunOptions(trace_level=tf.RunOptions.FULL_TRACE)\n",
    "#         run_metadata = tf.RunMetadata()\n",
    "#         summary, _ = sess.run([merged, train_step],\n",
    "#                               feed_dict=feed_dict(True),\n",
    "#                               options=run_options,\n",
    "#                               run_metadata=run_metadata)\n",
    "#         train_writer.add_run_metadata(run_metadata, 'step%03d' % i)\n",
    "#         train_writer.add_summary(summary, i)\n",
    "#         print('Adding run metadata for', i)\n",
    "#       else:  # Record a summary\n",
    "#         summary, _ = sess.run([merged, train_step], feed_dict=feed_dict(True))\n",
    "#         train_writer.add_summary(summary, i)\n",
    "\n",
    "\n",
    "now = datetime.utcnow().strftime(\"%Y%m%d%H%M%S\")\n",
    "root_logdir = \"tf_logs\"\n",
    "logdir = \"{}/run-{}/\".format(root_logdir, now)\n",
    "\n",
    "with tf.Session() as sess:\n",
    "        train_writer = tf.summary.FileWriter(log_dir + '/train', sess.graph)\n",
    "        val_writer = tf.summary.FileWriter(log_dir + '/val')\n",
    "        \n",
    "        init.run()\n",
    "        N_TRAIN = X_train.shape[0]\n",
    "        m = y_train.shape[0]\n",
    "        \n",
    "        n_batches = int(np.ceil(N_TRAIN/ batch_size))\n",
    "        #print(n_batches)\n",
    "             \n",
    "        for epoch in range(epochs+1):\n",
    "            \n",
    "            for batch_index in range(n_batches):\n",
    "                X_batch, y_batch = fetch_batch(X_train,y_train,epoch, batch_index, batch_size, m, n_batches)\n",
    "                #print(\"Xbatch shape\",X_batch.shape, \"y_batch shape\", y_batch.shape)\n",
    "                sess.run(optimize, feed_dict={\n",
    "                                    y: y_batch,\n",
    "                                    X: X_batch\n",
    "                                })\n",
    "    \n",
    "            if summary_freq != None: \n",
    "                            \n",
    "                if epoch % summary_freq  == 0:\n",
    "                    \n",
    "\n",
    "                    summary, acc_train = sess.run([merged, accuracy], feed_dict={\n",
    "                                        y: y_batch,\n",
    "                                        X: X_batch\n",
    "                                    })\n",
    "                    train_writer.add_summary(summary, epoch)\n",
    "\n",
    "                    summary, acc_val = sess.run([merged, accuracy], feed_dict={\n",
    "                                        y: y_val,\n",
    "                                        X: X_val\n",
    "                                    }) \n",
    "                                    \n",
    "                    val_writer.add_summary(summary, epoch)\n",
    "\n",
    "                    best_acc_val = max(best_acc_val, acc_val)\n",
    "                    #print(acc_val, best_acc_val)\n",
    "\n",
    "                    print(\"Epoch: \", epoch, \" Train (batch) accuracy: \", acc_train, \n",
    "                          \" Validation accuracy: \", acc_val)\n",
    "                    if best_acc_val <= acc_val:                        \n",
    "                        save_path = saver.save(sess, model_file)\n",
    "                        print(\"Saved model with validation accuracy \", acc_val)\n",
    "        train_writer.close()\n",
    "        val_writer.close()                            \n",
    "        #save_path = saver.save(sess, model_file)   "
   ]
  },
  {
   "cell_type": "code",
   "execution_count": 65,
   "metadata": {},
   "outputs": [
    {
     "name": "stdout",
     "output_type": "stream",
     "text": [
      "INFO:tensorflow:Restoring parameters from ./final_nn_classifier_0.01.ckpt\n",
      " Test accuracy of the best model saved (according to validation accuracy):  0.999\n"
     ]
    }
   ],
   "source": [
    "\n",
    "with tf.Session() as sess: \n",
    "    saver.restore(sess, model_file)\n",
    "    acc_test = sess.run(accuracy, feed_dict={\n",
    "                                    y: y_test,\n",
    "                                    X: X_test\n",
    "                               })\n",
    "    print(\" Test accuracy of the best model saved (according to validation accuracy): \", acc_test)\n",
    "\n",
    "    "
   ]
  },
  {
   "cell_type": "markdown",
   "metadata": {},
   "source": [
    "## \"Playing\" the product delivery game with the learnt policy"
   ]
  },
  {
   "cell_type": "code",
   "execution_count": 54,
   "metadata": {},
   "outputs": [
    {
     "name": "stdout",
     "output_type": "stream",
     "text": [
      "\u001b[33mWARN: gym.spaces.Box autodetected dtype as <class 'numpy.float32'>. Please provide explicit dtype.\u001b[0m\n",
      "\u001b[33mWARN: gym.spaces.Box autodetected dtype as <class 'numpy.float32'>. Please provide explicit dtype.\u001b[0m\n",
      "\u001b[33mWARN: gym.spaces.Box autodetected dtype as <class 'numpy.float32'>. Please provide explicit dtype.\u001b[0m\n",
      "\u001b[33mWARN: gym.spaces.Box autodetected dtype as <class 'numpy.float32'>. Please provide explicit dtype.\u001b[0m\n"
     ]
    }
   ],
   "source": [
    "episode_length = 30\n",
    "seed = 42\n",
    "\n",
    "system = PDSystemEnv()\n",
    "env = gym.make(\"PDSystemEnv-v0\")\n",
    "env._max_episode_steps = episode_length\n",
    "\n",
    "test  = True"
   ]
  },
  {
   "cell_type": "code",
   "execution_count": 55,
   "metadata": {},
   "outputs": [],
   "source": [
    "def leftmost_emptiest_tank_policy(s, system):\n",
    "    min_boolean_indexes = np.isin(s, np.min(s))\n",
    "    min_indexes = np.where(min_boolean_indexes)\n",
    "    min_indexes = min_indexes[0]\n",
    "    #n_min = len(min_indexes)\n",
    "\n",
    "    possible_indexes = []\n",
    "    \n",
    "    for tank_visited in min_indexes:\n",
    "        hypothetical_next_tank_state = s[tank_visited] + system.truck_max_loads\n",
    "        #print(hypothetical_next_tank_state, system.tank_max_loads[tank_visited])\n",
    "        if hypothetical_next_tank_state <= system.tank_max_loads[tank_visited]:\n",
    "                    possible_indexes.append(tank_visited)\n",
    "    \n",
    "    \n",
    "    if len(possible_indexes) != 0:\n",
    "        tank_to_go = possible_indexes[0] # THIS IS WHAT CHANGES WITH RESPECT TO THE emptiest_tank_policy()\n",
    "        return np.array([tank_to_go])\n",
    "    else:\n",
    "        return np.array([system.n]) #stay in the depot"
   ]
  },
  {
   "cell_type": "code",
   "execution_count": 56,
   "metadata": {},
   "outputs": [
    {
     "name": "stdout",
     "output_type": "stream",
     "text": [
      "INFO:tensorflow:Restoring parameters from ./final_nn_classifier_scaled_0.01.ckpt\n"
     ]
    }
   ],
   "source": [
    "frames = []\n",
    "n_episodes = 10\n",
    "\n",
    "with tf.Session() as sess:\n",
    "        sess.run(init)\n",
    "        saver.restore(sess, model_file)\n",
    "        for episode in range(n_episodes):\n",
    "            state = env.reset()\n",
    "            for step in range(episode_length):\n",
    "                system.state = state\n",
    "                img = system.visualize()\n",
    "                frames.append(img)\n",
    "\n",
    "                action_val = action.eval(feed_dict={X: state.reshape(1, n_inputs)})\n",
    " \n",
    "                state, reward, done, info = env.step(action_val[0])\n",
    "                #print(action_val[0],emptiest_tank_policy(state, system))\n",
    "        \n",
    "                if done:\n",
    "                    break\n",
    "        env.close()\n",
    "    "
   ]
  },
  {
   "cell_type": "code",
   "execution_count": 57,
   "metadata": {},
   "outputs": [
    {
     "data": {
      "text/html": [
       "<video width=\"432\" height=\"288\" controls autoplay>\n",
       "  <source type=\"video/mp4\" src=\"data:video/mp4;base64,AAAAHGZ0eXBNNFYgAAACAGlzb21pc28yYXZjMQAAAAhmcmVlAADBX21kYXQAAAKuBgX//6rcRem9\n",
       "5tlIt5Ys2CDZI+7veDI2NCAtIGNvcmUgMTUyIHIyODU0IGU5YTU5MDMgLSBILjI2NC9NUEVHLTQg\n",
       "QVZDIGNvZGVjIC0gQ29weWxlZnQgMjAwMy0yMDE3IC0gaHR0cDovL3d3dy52aWRlb2xhbi5vcmcv\n",
       "eDI2NC5odG1sIC0gb3B0aW9uczogY2FiYWM9MSByZWY9MyBkZWJsb2NrPTE6MDowIGFuYWx5c2U9\n",
       "MHgzOjB4MTEzIG1lPWhleCBzdWJtZT03IHBzeT0xIHBzeV9yZD0xLjAwOjAuMDAgbWl4ZWRfcmVm\n",
       "PTEgbWVfcmFuZ2U9MTYgY2hyb21hX21lPTEgdHJlbGxpcz0xIDh4OGRjdD0xIGNxbT0wIGRlYWR6\n",
       "b25lPTIxLDExIGZhc3RfcHNraXA9MSBjaHJvbWFfcXBfb2Zmc2V0PS0yIHRocmVhZHM9OSBsb29r\n",
       "YWhlYWRfdGhyZWFkcz0xIHNsaWNlZF90aHJlYWRzPTAgbnI9MCBkZWNpbWF0ZT0xIGludGVybGFj\n",
       "ZWQ9MCBibHVyYXlfY29tcGF0PTAgY29uc3RyYWluZWRfaW50cmE9MCBiZnJhbWVzPTMgYl9weXJh\n",
       "bWlkPTIgYl9hZGFwdD0xIGJfYmlhcz0wIGRpcmVjdD0xIHdlaWdodGI9MSBvcGVuX2dvcD0wIHdl\n",
       "aWdodHA9MiBrZXlpbnQ9MjUwIGtleWludF9taW49MTAgc2NlbmVjdXQ9NDAgaW50cmFfcmVmcmVz\n",
       "aD0wIHJjX2xvb2thaGVhZD00MCByYz1jcmYgbWJ0cmVlPTEgY3JmPTIzLjAgcWNvbXA9MC42MCBx\n",
       "cG1pbj0wIHFwbWF4PTY5IHFwc3RlcD00IGlwX3JhdGlvPTEuNDAgYXE9MToxLjAwAIAAAA0oZYiE\n",
       "ABD//veBvzLLXyK6yXH5530srM885DxyXYmuuNAAAAMADN2InuDwrXQ9FeAAIdqvwV2uIFyuvHMD\n",
       "yR5pPdHJHFBuHRRiPYVnF3K+jIXExkxwoCmIwV4EYu9rnjS16428Eowic5JEEljxCw/4mtrWylKu\n",
       "lpJX++XTo7Ee4Q+YEHLkDwBvY0JxicwScY5Y/Dz3oa3ympps0kTL7ZPKZhgOc4DEZk6AGEzuakcu\n",
       "4tRrz/sBJkEC+F9raUJl3V9XkBVHDdlmzh+9/Lm1F+fJ+ib6xO+7lVAjrUJoFfaXd/itIyCbdTrM\n",
       "5qeqxnLf16NEO5087mqJPOJikgKAlaYhbXOsPJJa3kJigM2Z84kEbYzqUBvyJjfq3SPFbqK2AWOH\n",
       "KGDEs6rNekZIbIS5onZTOHT+zQTcYzqnW+2Qnty1dWMQ921OeZ9SEQaaffXHmkjpKC8cKop+ib0B\n",
       "xnksRL3EGbN6CXuRiQo/aevwmiYsiaBTKODaTJpXIAX8qHkChpKXagSecXZdJLQf58WC/HO1StYI\n",
       "pUIUoqhDR+i/yFrImUkU0N/xyP7wBM65hX8WUCN9TVOfAs9yoT2CpRdAAT64FGT1DXUE9+htVXly\n",
       "T6m2XsTwCxpPXFM+wGDjKX1C9h4xWf6WkcCPIAY3yTFxzRfD5DF+IFJIEk1tLwq4iAd9rKy1Qpvz\n",
       "vmlo6+2cI+HNjz4RO3T+RMvaiSCscs74dxkA/ST7+qQGbIdfI6heVt70TaA5spx+iue7gb3umsOl\n",
       "ImESwHSuopTkcz4ApVbF996IeUmkM5NQqIbRbEsIldFN/QMgalPOhUTR4KnYj7crtPPg6BcWvmL5\n",
       "96BsZBO3mxGZEsho0WrN0Khj/s5x10k2e1RVqT67Sss+3B3rqXIyRwxviszh8/GTri6wtPweaWOB\n",
       "NoCRRAFM9Zj820daFeYq7la0upoWWnyoaR6aniHLJvX5emyTkwc/mZcT7e8nYE1A6mSsCtT1rEsY\n",
       "9jNiwhlfe+Hp8thLd81wJos0rBwbGiDOK5GNLOhT0EqNxZFSDXshIv/CYcjkRc8dx4RczyJTZln6\n",
       "bVCN63aZtl3S1t/h1EDb4JvUzqEOr9MeyxcaMSlkP8ryVJE5PXfcYjeO/yTM2c4FrF+F0OGt58/2\n",
       "QW8KaL3M+f5KVVokoHBg/Wk+9wwjCe7kF6cy8eqfbRm406y/3dW05icp7OwyE5yjqJxO97Hi980u\n",
       "U/JHtOl1XnibvjA2fDRvqgcNrjCIiZNfY2xWC8yibnJfhL2CFhgjt7c/UqRlitw7zW8LrahLa4rI\n",
       "4KLzIiIzDxBsMpDC4VKezc8moEqWPJqzZCXTXsbYxU3/+auG7TCv/Xn0H34kZVFp0sIrFBKVigsk\n",
       "HHsaHYMWt0SivJBBRN8qHzqPQgy0e3uXeI1nB4iViHTBmYAPXci5X6WE/RdYKB/Sf6kB7EZxSOw0\n",
       "PkRbs9ey7jdAAB4UN+A7//+PJ87jPHietsZrohGtoJVvH3tevwphXgeOkuycVUbr7gZ/GNTOtyaw\n",
       "DchsqTZ/53nATiO9W8HQRQD39d4NLcZiuyWPdknODNL7PvJT6maShYKJB3MnkFxAWMth5csvLIla\n",
       "J1iHdYKzOO5IvgNflNound1jB6MmZyKdpAgyTeZxhwNufHtnMU1Fxa/lDRy5QH4Vx9dvKe9c/LG4\n",
       "CjP5xFnV6M3cAAADABAAYHAV2tBW/ETbmWvoDCEt4wlYAfMADGRmN4T8wgssFIUXFqxDf1jin/Du\n",
       "66e2gjgJYrC2Zdj4e8IftyRfF+gmkWXnJmAcLq+KUtg4KaJWDeOV/q0tfQROehx+FW3dYoORcDTH\n",
       "Qc6PN66XJ2dgX247tW5+1Tr/t646bJ+Zi92CQpKxgPtUkjvgCW5hxotwW71ZAdTwqexTJe+YSvzt\n",
       "zvaoSIDXQRGywjtzq5NoG8Q5V8Z2KDP75QBVP88toH9/QEFzudSw51VgdFdBSOJI4ZrCo7vyvPM0\n",
       "7wdYVmcX1iPP92XPchIHTc3cuH+yqOwB3EmEDAu29ODXO90h1HfDT5A8kY1xg59rxsZN4NOoW/Sj\n",
       "9XACfWOO+N/8yeHCHufndVnk6yR4SEiWx3UAltVEZ2JgaOYxS0z2zuFTSINgUHgUpjLU3BEeu+pY\n",
       "5nxPmCCGYCT8nnq3lMR6/GnpXgTG1Sq0msa5T52rvPrR3GCOgqK3UuYd1ZxiKcqjlVd5MdiL2pr+\n",
       "ijEQOzEWEc4tGQzyGoP8rBWpskhLjmHzWoJf8fHNQUqX3bY0rAv1Qiup7mbB5Wxmk0OtS1/+Wt7Y\n",
       "DdF1bW3Xq8tP+Dd2YLxtl5GmtG5D413qGYPCHT+h7NeKq9T4wN6PNmHL7rKhKCjt6CC2JO0EZxhH\n",
       "71QCnmihYU/W8PAr1ZJS+V0dijajC2HYQfIQn2+o/UhH7u2xfikSSUHwUw3k+H0jUpuM40j/iWfT\n",
       "EtaLuqnHWXf/TkfNsFWhkOQFuECCdouARQtR/SFy6tkAHQGoiFHLkWk2AF7LP3yYX8ZHzNAF4W++\n",
       "QmGly7CGDtYpcNDNP6JJCK1NUPPv27G0MJr1YK3JslrRxw8DfSMutzwrgnataBJyYJoyhLG7z1H/\n",
       "1HTffnliUzt+xNz8UuNZQNo+QPdqvUXurnbGvMvKkEd8Zsy9IPyBctsQBjUZ335yyz28h/y9P7Oj\n",
       "z8hw8Xq/v+p8LJ5lZFaa/VRFvRhDnQagBvjWUhLV29s98tTGSIckLhNWlPJMAGm42tdrtEYtYhZX\n",
       "6ABYqX3k10Fi/oy1RPvzrmED6tysDbYETSO4yf+8PkRKObq3Uaju5/UrAWdPNQPAhtmWU7qAFedP\n",
       "5yDQ2MBZRgQAHe6in+MU7xCafEhZ9dacNJgquuTtartterZm82XqBWVDN+PeyihBFeW+UpN60Vil\n",
       "xf9RnJ/Hz+FCdCCvjrc+Kq4AQTrKy0wCzusIi/QL5VEFAvxMYcw/hqkk/vHcFYCwF6yiefX/SLMM\n",
       "efEDGuYhQvAH2U2cA3n3CBTmibX4Xqgx9YlxKwuKq0BNGiLLY7VeHmd5oNOW1dA98CFR9lqKM7Oa\n",
       "HinhA53+s8nd0ntr+ICMbfEEj12PD0robqLxhUl9OBcMxZkKsOePjXM2Yg1uoionpbC6p7ACWIiC\n",
       "npj9N65MEGBTnPNe4QLRWzXAeClwOsSgnTOP4JQvp8XB3+4Q8F9HemyaD9l4OkkVmlJl/3RCLj20\n",
       "AiJMv157q9qYKJD6Wuuka4WDOf1f/5f/3BPLHuOc5099ygZ0vG7dJoz+baUZ4Dho4xtZp1GO3LTD\n",
       "yA6ST3gC0UsIz3oEcDCg2tI9peYoIyk4J/cbcjOB1gWzVxBzL75TVCwFf91TkKZpJt+TwpXkRn8B\n",
       "ht0PS+jD/c2BIFEVWy75LhTHS0rFiHTD9YRIsNtk9auN7gOXrnw/Rl3BWXulxZgM6ehK31iciv90\n",
       "0EXxFq+MV71O7OXTj/06IOsFoOAA79LXaHLh9kHmwhNtgEbPHtT8FD+/Gxkr5LseqUrI5buaHSMy\n",
       "aCntsEgYIH/AOmtRycJYRoc4Ivme9FG+shJRhSOeS4CEAO4j68QJCuYDOCL8UWTZEaLiQIKn2kXK\n",
       "Qi3sM55TQGBDFNPBKv8SCqozkn5Utwc0+li1hL6PElGDxTW7birzWBsFeBtBgCTiyaA/QLYN1nkP\n",
       "iiO3LKoaBn8zVyV0sKn/XIdvN5AzTXEthUblz+X3fo0E25DLTiOmZMw00JgRgEYVaUHpLYXcmax6\n",
       "Vh6MzfsyAi3diC/7GJqDnrnZnuRexHTm57ErTS3+M2TXoU9hHu2UbS8n+FiyQKidG67vufLX5IKH\n",
       "vr7NanborioqY8Jn4Sok0rYmnscLtnRX62gmf0l5bC6xqx0T6ex3t65YgZe/Sur6nXu3077XGTYQ\n",
       "XlWkyijxR27gLyGVE48xkv+dSMxMw60FRVLhPhYyvey2qAJ+wBsJTrIrwLc5i4eOI9B7La1zCIfo\n",
       "MYMmeTAia4matl7BABJ31DJ+xXswHofss8Fvk5z92eUZ5AuWJzqbSl8cnmnCcnulUm/FTfe5MbF+\n",
       "S9w2a8z2IB0Qp1a2xgSKNlulr68XQ4IpLcAXU9UQQ6y3e34SG6ZjrPciu6B/B8MK9kyiSGy85CXv\n",
       "lB7rJsQHrn/sjh3C/QRGyE2nRp8kzrAiVk1zcyuXVH+acWrA+xm405RvfokvBMlY7q3PQvEF4FHI\n",
       "J90NnJjEiTyvVHqwsDBfTGDZYX0DO3UMC8scBeexMoXeNeIxB+IkHrQvLrpGrE82fup+VPxNxMLJ\n",
       "r49D7g/XY5IsNt/eubk/jxz9YyC2GNU7HA5J29jb9PT5NO40ZoUMdkdEU3biDDtQKloUVGfsDEcY\n",
       "X3HzugE1x3Rc5Rdh7XhsMMlX/7xGhrUCkGgiEEQ2ERvHJ4J3tBvqTFlrJaO2p2uXcEf1ROB8loBZ\n",
       "TEXB6GbDueaSyIVSN9h/dCGUDOjaQunhSexHaaOFoqbafhZ/CU7UVTWWWakyazQAF7uAAjZTv0AA\n",
       "BgUAAAFTQZoibEEP/qpVADDgBhugAHLRi0g1gD24F/pbx/p7S3g5UIQ011xjdwJENTCVMskQNGQM\n",
       "8GzBN8ZG83qGDk2RNCpfGDvWOvCJc47oXYDDx+S5bE91vbwkGXHLsvjAgU5qtfsg/hHpgGHjartq\n",
       "cSoZA7oJEcCC2oC/OoEtZrRBW/xEg+t2lp+nufSgAZrLyFMPeHNRh1I0Wh4svO921SqIccJKYvY9\n",
       "YVhcZdalg1X1yboG2tcpVhqmOfW4pR5LRMW+G8jIQJDJFIMBkMlW3drNhdLFvhwGjIaukfWhhk7B\n",
       "MBNy7szoGsrtntqA6PhEdNsgmYc+yDA+MzzDMELB6C0uM3K+siftxy3sfrIs7/JlvPIZuVDhtG0h\n",
       "3Riv2oN0wBBPq55WAXZ1WgzMw8LFlr8n/JeHauvbHXwar9ldYgUy7UzJbKfB7kuXDTJCYn7xojWU\n",
       "2b8KAAAAdAGeQXkN/wB/RpGVCWbS0xbV1pf2TdPQxlQ08w0Q3NJ6TIRHgXRAC1Wz0ZlWJiHpgwi2\n",
       "g8lWxWmcQF//nn/oTZXUmUcUT+9+otOfajI4+6cg3S0bjVsWXrKDZql63RkneXsQM8RVH3kB2cUa\n",
       "gXs6wkrH7g7JAAAAa0GaRTwhkymEP//+qZYAC8fCtrw9QTR2bCsRv+faSsAFtmPqt7paATp21EFV\n",
       "3K0hLD0qf7w6KUYzTKvg1fE9otKeOzKnZxQttVLAAGvKCxDmguZJRZ17Fta5VBhb59V3iK3/RP95\n",
       "sE++giBgAAAAy0GeY2pTw38ACCxkpGGwwTEYmecRr+SaR9+kxC9uK6es8QADlveFq9uz+oxk9hRy\n",
       "+6ZpVanJqEgVN6/vDZ85SKIElyAdcGFAjSEWpuZGhMRRO39PvWs8hEhxGWGs5+Z7IDbJJb+ZK/Wa\n",
       "9gzgyKYhW+g/r7j14jGnn8jFnW1xg4sSGby2uwy6hQ3DFJNzWKIl+AHNgvC+qkkOmGSlk78PytPg\n",
       "vIZVDdoqNQarkiNY+36PektyR8tz4YCu77YZ99dR7aex3irLXCLhVGFhAAAAVQGehGpDfwAD9yaS\n",
       "izSAEHeEV9pk+XZV7dJHOzP8jzT/0agPZA9b7i7Nqkau11SSUWmGcfOBI+ouIQQEdfMLWShc8apS\n",
       "IeectGA7wLINZ5oRkzTBIKUAAAB0QZqGSahBaJlMCH///qmWAAW35Ov2mgL9ap95oeHX1oALxR6z\n",
       "DGzSVJ2CDqJRqtIrK5b+jItoLkcScuqMWfN1Ezimi4gi2fx0/X86JOnZa1L+gE2lxrv6Yz3e6pc+\n",
       "MUD3Cwmg1/VaG04dlonHqqYm4hdls48AAABsQZqnSeEKUmUwIf/+qZYABb/hW14eoJo7NrLQnZf7\n",
       "LGRH4LKakXyBHOqvQ/UM++rP00AAtTlqoTXIgtULzIYaAL4oIUl3SOJg/YFhkykYtRLgAllhNzZ8\n",
       "3c1OV+q5ScN6oxS/MqXn1yrg1yphAAAAuUGayEnhDomUwIIf/qpVAAC7gJzCZhRig58CO0eH+8ew\n",
       "VP8QaUMsf+se6pPChuXIy+pNAl318x/YaqM8kAVRmr0ik1rMoGuyssQKGBbUxcp4Y9nigifEogB6\n",
       "DIPxqXoTr+Cw+rjDJS07GENibZOZRg7IRp4OcHuOpJdCZj1e+Zn1PgscYniuUHUSNcIOMGgHMCNm\n",
       "/FpJmjf5Ab/8mkk+3FpjksPrhs1wZWYUe5ZxNQ9Vb1yj8ldX3HIeAAAAcUGa6knhDyZTBRE8P//+\n",
       "qZYAAtvy3N7c56hrTqhdSvfEV+/dqR9edo0hGIg4wB4JO2jQDk0Ye2Aq7nx9W94a85SPmbMvyvaV\n",
       "6TgqUYmvhoNj/De8X79HrLKJ79Vu4yt4nx6cWTqgBHTa4dTY/ZYlg8rYAAAASQGfCWpDfwAB/AjK\n",
       "8z4l13G8/EXLIyoxbLt+py1KyNHuTTgT2O9VbYtuTN/HETwMz7KVF4Mx20kUVtbwY4L4yxr6UaaN\n",
       "PoTyZ80AAABuQZsLSeEPJlMCH//+qZYAAt/wra8PUE0dm1loUpkIALhNu6zmsuU8TIhkITQM7CFr\n",
       "CssVX/9qG5DWJ29TRSP9gBycMNqMejm88c9ufJbBq5K/QQDCv2ONOPI4xfJYwMiPyKgwrzZHY7LV\n",
       "d7ZnDugAAACuQZssSeEPJlMCH//+qZYAAbKbJYAj5C1KDrb0LyiLWRqQnmncJ1vSAkZDdhHXc+cI\n",
       "HLGWrBD8ZSKRHp+zG+zkw+lmhsLHNiL4m3Y8TluhbE5a7b/WLXAHYbknqBdNXycGyGcP7WOTujVH\n",
       "PiWyCevce8vKDqSuEsZhgLcUVpjc9pdWEMLNnVyQEK/6VuOu+vww9b0rFiZh3ESJslxprKfJ6jP/\n",
       "2lIjtguYtpJYwNmAAAAAwEGbTUnhDyZTAh///qmWAAGyuYIiEmMMI3gvOcIcKoIuhPbWcigFruyk\n",
       "jRiIegbdcCe2BMsh20DYNiVO4umKn+Q9HYOd0dhP34nNZ05r6EYotU2xaQJhtv4aXtVcyBm2WR02\n",
       "VZK80q8TfAfoGu1KHOLse2pyd443tyzAD6T7/eocXEDETuaw5wMJtgOJadjlKNuiJ669kl7ljQWB\n",
       "Wm2j4RFwgfA6nPZL5y3GnOJiFmorCwsGzw80t0eLCIpH3lT0gQAAAF1Bm25J4Q8mUwIf//6plgAB\n",
       "ePhW8nWApC+9JF8U7Tspy1crHhN13ZtOfRex/Ck/5/N6GRLvMcDnXSg9R5x/OaeKMtn5Xz0ZGg4H\n",
       "WniCpz7gsWr7Q5IKtY84DNpV3TEAAABiQZuPSeEPJlMCCH/+qlUAAG8y50uPWXJdFAfe9Rp0noGt\n",
       "5GWnrvU9dQBe7+ug9TzRjCuBaU+MGjdHFco5JRa95ABTsyMoQABNkga+74scH+4ICNejLsP9k9Sp\n",
       "Zbu20M5EkU0AAADfQZuxSeEPJlMFETw///6plgABsrmCIhJjDCL63Y4CFUC3R7AnwyI69mgjzOig\n",
       "yDDW/GVTz7Qv+NoJUYB//grtXC2GC/f8m0TGRxMZMYfeO41VQiNB9xhquvFN5kXPv5vJaASagj//\n",
       "1bfoJl3OHMa2FhhxoximJeKnG0ub7u++NN+f1Qjz+SUR2IN+IelUniwX11S9ApXan8mOCGYN6SAH\n",
       "m1hdA3DeKoFtTSFy6z0GJScDV1dp3IxtGyIeoMJSAPgS8k955t8QX4xklwXRdZEAJaSON5kKrhxW\n",
       "RyUMHxgEbAAAALIBn9BqQ38AATWMlIw2GFeek6Mc8K7JWAit8mKBG/84GbnqhtbVr7Wm8YcNkzP6\n",
       "W0zYE8miT1GHYd1BYKGodbtAfqd00gNszWd1imAShRAgS6eOdlgokEl/BXQ7KwnvS/TP8vll0i4u\n",
       "QRn7Ruc+jyZBb/rd3DIL9bKAej1tjPr4QTHOc9FNjIHMb4+A/fvvvKJ8BKXaB8n7pw/ledKk8YMi\n",
       "WQIsm1gGXkapZPbk7X8c4AbMAAAA4EGb0knhDyZTAgh//qpVAABvjGioSAIXa2rgObgsh53+vC87\n",
       "keAwnlS9WO7peLLeVuMJPSikzdDImMbowsBn5UEzOYXoqcJMHTkRFy1bheqU72AIEbNZPWAh6wxQ\n",
       "5q6DlXjH+hXhvrWiRVBOUN8pYb7cq1sbDuL3zMy6RLEEzBH0UYncap0Rf2k5JhxZtALPMImvwVtL\n",
       "GOB0rrmL0WHqeZvsgZnnZWl2g5wBpU9wCBe+R3uZODxxRonhNzWiJmutlncsguu1hAIwAAT9YJF9\n",
       "yaj+Tu7TpI2V0G3/hM6VFVD3AAAAv0Gb9EnhDyZTBRE8P//+qZYAAt+W/uTUf8yQAhOz0xsw8gBC\n",
       "BC/7RQOSvWvmEzTTDiU9VYP9LtlJz05VNzS7NdGHDvkX/03WEUXbotGfQvWwkId6TS29Z09nyECn\n",
       "XqRV6agFji2UmeL3tym5RyQMcXKPFu813j6X0vZ4qQOK7GRLMtxHR0eJSIGoYXLtfNlrosh8kuO+\n",
       "dvRj5Dy1ABkab+ZGHEIAorqovdrYk1kJ9nMaqCVt7r88EoD3pGkqgN6AAAAAdQGeE2pDfwAD4wyB\n",
       "PMFwdCNXaTg+bctQCvSGhs4M4NyvL9JYHVmY0xDScPF+m/qAAI9y+JVaVfNXWB61PfaiHbgzvMsj\n",
       "0R+ChxBasPGj9/D3SUY+2B698739TdQYxT/OilgEhbtwBOMhZwAADsnMcS1LWFRMwAAAAGBBmhVJ\n",
       "4Q8mUwIIf/6qVQAAu4CcwmYJNEcZ1i1LfL9qFMrJYza7ZuAAAoS8lVPmi9mq/HEiQdQuPxAT+7xZ\n",
       "mTRJ3SieXbj47GB+6dx9r8o4WOpl+EmktB57C2WQ8SP5imkAAADcQZo2SeEPJlMCCH/+qlUAALuA\n",
       "nNXFBv4CjYivlRL73am0spWog1qT9slSegGsRMY3Rr91bFYE/QRHXT/aRbdmMUaydp065iI5f/ws\n",
       "Lt8xQVPgOWrmAP/5FpEHSYKH7U6NG5SmvH+1VO3T/MbuVmqYbqCckHJDX1ZDcL7qVf/8kkDYtq5x\n",
       "iUTzZXaRAsh/BCcuYunOW3Vk02Uco8CXyd2dqOPdeWQlhR025GzRvpUKd2BAlpP5XFJuIYVkQ/ag\n",
       "Epemtd9gi1eZTerJLekfyMLPlDDMpVxHiMP7vpQhswAAAHxBmldJ4Q8mUwIIf/6qVQAAvHxevVdj\n",
       "gIwPYUARkbNVvY61KRYsIub4x9Gk7+dFK3qeVGxvtb6JSVcSV+eYtX94iHjEV6+7Q9+J9VZrtI8L\n",
       "mXyQQjPrKRQFAafa3gnWjo4oOp2OxR7yBCLn31k8G+Pg+Mil0UYbZpvv2CphAAAAs0Gae0nhDyZT\n",
       "Ah///qmWAAG0OOgJsAQaXHXQFHXMBmCKIh+LV18gB34KmM78306m9DT3WK5w6VGerfqTuHU06SM2\n",
       "0Aa5VhZGQPkCgO1DU9o815z9aAsr0TpruHuY2SH1WZVSrdl5DzqthdjaJTpFWBMbymN0MyxEvfCF\n",
       "RBMzpMLSbcfW0+gfjSn/YOQkINe7O+k8bsQ+ACq2gR3TuciWfBP97/acRHBLAsCqkcAIyKbTMWHT\n",
       "AAAAbUGemUURPDv/AADZgj/p2N6fnSLrRq1WVls7HLvIJ71qGgAcSkvsAPVtRh2MBL+GqbgP5rgp\n",
       "AGBMcENybFQmaGXShJLcejMvNCZ5+1XqKgSFpWsV1zrZnghmCviE/dzss+6JcYy0pn7sw0p7Q7gA\n",
       "AAB0AZ64dEN/AAE1m4uDOl7QnoqEsL7GGPsFMUJIY9ReHYD64J/pMgs3oPBNDkzARVMB3wGOqxLv\n",
       "zldqmJ8UX5xcANHRmZDBpmeIK3jYwVWsZWGXjMWe12Y1V7srtIlSAHOnRDnAwFxQauUUFqhWc18g\n",
       "EsOW1KEAAABoAZ66akN/AAE1r0A5z0aRBOmgZhP0prMIuVNyCZsIFaheTEjXEw8oAi5eGiL3CBYN\n",
       "pdHJ01gbQCHvIRk4V7LSFCn9S3hvoQgOOu1qRMpbrutuYPLK7WtsASzebtrwlXh9eE6dfDH1PrYA\n",
       "AABeQZq8SahBaJlMCCH//qpVAABvMCGBXw/cgdrpa89NW/PEulUbOplKQNQUAGUtSOz3SVWogjow\n",
       "lsn08fw44soSDod39VlI5j9TmXBpoxiVaGW8MT/yGxqRyt04zYwJeQAAAMVBmt1J4QpSZTAgh//+\n",
       "qlUAAXjKy6Tr/uCACXp6aWoaOoV3oDeMJdSGJvPCUsAxViS3ot7u9DAox7EFcTS6PA12HfIwvNlg\n",
       "xsapWxvU6vkHd04GjGTGUyZucYbR3Ih72C1xK/k8qiERaONfqRimzE2E7tZl2BYs0ek1hWR5d6Lo\n",
       "sYJN6HMSH3dv6ilTFzB4okv7tZiEa6UvX6DcMJdfdqfavpMB30/RIF3wH9GAUhhRClwKM3zwvWTv\n",
       "QH4VivGVnEymurxvQQAAAL9Bmv5J4Q6JlMCCP/61KoAAu3UkA+ZK6bB1VpTzrwlAzr0ltFGwhm+0\n",
       "ebZVwAGoD8fkUi82hABJ9SbcUp1y3WWCc/hBP3jfIIPC6FN3HA+jaGdk6Vv8bvhQmQfbN2fKJIz/\n",
       "yOx8X9vZd/BwYLs16VnygMYikoxjH2p8ucICuwZydYNZf05GRvtdOb4UtW+rhL/ir+Ex0fmiIfK1\n",
       "nc8CkMXxa/Ydh6JMskeu/41k1L9anxdeDvTHfKCbVJWvntJhFwAAAG9BmwFJ4Q8mUwIIf/6qVQAA\n",
       "Lx/VwAPl6VU5Cr5FD4DN6dp1w5l5UWOYDaE8oz/elSVc+LpdJi5b9in4SGSffgx+RjrFoLJc/Svl\n",
       "WVrwQMyx3NpDAHEhS4pS0VF5hicswD2nUw1zSqb43j4cr/BzzZ8AAAB9QZ8/RRE8N/8AATT9SguC\n",
       "0r/axP6dYP8skQD0aFLiQPbMM9PNicI9LIn99kR2QpmmHLQAlZwDmQmJtxlOLDp469MEV2L6GjZB\n",
       "mc71GdqR74uK10M2XjyDkY7ksp5UBKT89Ddn78f/E35ZYxYQ2YqRgnt9mLsSlqB9CMXukRsAAABQ\n",
       "AZ9AakN/AAE1jJSMNhhPVOx9IyL+4PCw68szYjSvTy4oh6pkaqqSs4Jp0fyH4IJlpXvY3Rxrd6dn\n",
       "sFHPedwGUAAuVEENDkm2BCEWHPMcIGAAAABXQZtESahBaJlMCCH//qpVAAAt/v+BWMyCcOf7nxSZ\n",
       "/jjE4PXKbNrTUjlgJW6JLjmLtjSmvi9x/v3g5AKkidqP9U4xlWdRY79C03H99PDn+ZobvzvL5tbh\n",
       "AAAAdkGfYkURLDf/AAE1yL1acH1H7Syo2XgVvBRSDUqn/jmRDfJr6A8BCstrVpRQpCAoH4E7pAev\n",
       "DOdLCCSL2CxO9eQbJpp282Ui7q739wahRPxll2pKF2oiRpGgAXWTlRAqyIJvcxRrQ+p7ygapTn/v\n",
       "geSR8HwGhswAAABeAZ+DakN/AAE1jJSMNhhOU0gOQALaLsN/GOw6X2wKbzmpn6GuR5aaQGlWmOR8\n",
       "tZf/SFV5Kb79YSJ9t5GbA+zzZUpma//1Lmas3Dwri5dMhwJkQw6qik00zE0omCQekQAAAElBm4ZJ\n",
       "qEFsmUwUTBD//qpVAAA3w6Yx9uY7qzrBqK4V4hzIkUKJ+MB3+18mhTQLisNRnFcCnRs3XIO1Oba8\n",
       "Dqlo0mp0fJiUsXv9AAAAjgGfpWpDfwABNP1GPWABkpNDwolx4CSSP3oLL+dlcfvIArkbYPXA0pFj\n",
       "wB2dgSekv88Nxm8RbmLXnYWpIPjDTKm73QtN1CVrrbCTJkOYMdXdZhGgGUTOys0Ftp6HtTNhcFu9\n",
       "56YQXRPWwTcPLxA+l3lMtP+tQL6E+zguVbEfCGL0V9fhICenVXqXm6OIj4EAAADHQZunSeEKUmUw\n",
       "IIf//qpVAABQPE3gDcIvB3VXC1MN7br8ZHxaN03J9QfvMWConGcceGGhHmWU6/f6Kh5xanGn07VI\n",
       "jJpBTgfwiYGeGrA5CmTHioOdcizqcGzsYVclaX0yUHIc10GSD3K4qPnvzW+dXryYapb4i2AiN9OR\n",
       "goo46fD+l2CFrEAl7wCPcDYwcqXk8h4kSZAGhnDu5CaZk5lKP3i9EWSULxSm71Slo48b7dUjYJVV\n",
       "2VmHI63wfIEgw2efsvXEhLywLQAAAMRBm8pJ4Q6JlMCCH/6qVQAAXj1RQFE1OEjl1vEinmvfYSRs\n",
       "/AmKx1rUK59CoMsKphsqVHW1tFqAl/if9pJ8/TijB3v3vXEhQW+12kE+ygwWGpqfvH9+wfzZFGWA\n",
       "X+ITnYJvrPAa2hUKcrW04Dqvj+Ldn5+y2Fi1bJby+d2yteXJyAZ6n/cerxWZI8+DuPlo4kpf9aG9\n",
       "QqOQYbLJceufC0DQ1Ex+LQZEecyRcCM/U43KvBx802+jEV4+Ef/NlFbzmuZ7RMzuAAAAY0Gf6EUR\n",
       "PDf/AAE09A+l8ADJSaHhRLjwEkkfvQWOoMGo/eQBXOywKBdBP2KfYr7hJw5NQaS+EyvkxA2UiQ/b\n",
       "8XFMz5QewFrIR901L+21hIPdMt7DcDXL5qW+RPGkQGneWf8HXAAAAG4BnglqQ38AATWMlIw2GF5c\n",
       "+3MT7cfWVRS3zpmD4uABc5pX0SRtvrsVnW9OFx5AqyoMn6NvsDOBJhq4D7A9OTYrbgYpxV26AtJ1\n",
       "d4w4QeudMPCBfBLp+L2rfPEDAADuBiNVs7YYCRGgvsASCbABUwAAAG9Bmg1JqEFomUwIIf/+qlUA\n",
       "AFv9/wKxmQThgVMvG+Howyzr3vMzN5sLmS8eC+k/PiNZnp0AG5CQZlx2vIP5BDAUhr6Y81p6Yf4g\n",
       "8fbW9kviPjkv4o7Q5mJnTCs62TwJ5Zdm0bkWZlcxvowzTRICLiAAAABwQZ4rRREsN/8AATT9RluD\n",
       "xSADf16uIpx8J16vRnZexeKLCxQSWbWslav8avoa7uv1j9ozi5XZhFy6zGToTtiaRmPzYd+qGTGE\n",
       "MAMxu0m6IQ/2KyKBI7a58GaWDZjiriPoqVE8BjRx4xZ3cwK4ZbwFNAAAAHUBnkxqQ38AATWMlIw2\n",
       "GFb6woAByKzS+9q45m1CkUlbqoB7v+C+Qs8A4o4HwkIEd3UlIzE11tMrQyLkb40IEhf63A87ifgr\n",
       "rPIZCwWQFzfmdKVhQJKUgAtl2YnBQ8pwy+qH32p4zDKotPf6qyBtY5krCmwwIeEAAACDQZpPSahB\n",
       "bJlMFEwQ//6qVQAAN8OmK/6QATvGIpVXR9M2xZs6TDtkfUw+CXTPXld9S64O+2FbaZPTZGWOQtEj\n",
       "FNzeCZz04Hlq3TgtRHndSkFFZIP3oOppmNZTBZ+GgylDG0LunMG674gEH+0Hzuz/fyb005sr0a6r\n",
       "U8GgEmLemAoIdMEAAABwAZ5uakN/AAE1yL1acH1H7Syo2XiuWFDVyAAU51eYyiB++AEHzVfvfnc+\n",
       "lVhaq+zNzFMUV94H1dKpHgQUD15OIqWSM5UcVNYySwzpbBeJBPJte1VAhO1uhjmZfAK0s8WRUCvb\n",
       "UKq6VYUeNBECfcwekQAAAMtBmnBJ4QpSZTAgh//+qlUAAFA9LUAaxExjdGv3VsVgT9BEddP9pFt2\n",
       "YxRrJ2nTrmIjl//Cwu3zFBVrQuCQ3H/8i0iDpMFD9qdGjcpTXj/aqnbp/mN3LIdIahFT2RrxbDIR\n",
       "O1DnQhS//ySQNi2rnGJRPNldpECyH8EJy5i6c5bdWTTZRyjwJfJ3Z2o4915ZCWFHe5YVRwh/Ik5E\n",
       "8r+BPk7+7qmx/I5ddT5Qs2Aykw9kwIFbeNXD5RN68220zFLSPEISyHk17qFzdE2xEwAAALtBmpNJ\n",
       "4Q6JlMCH//6plgABb8ih/xCZkgA/A8738bwR6t4yV16DJN2w9sBl162bk+xAV/2hFTG/nZJK2mN+\n",
       "sDG5d42p+pvTI2so9tWfVTCi9KN4e6rbs9KWE2krI2O8teMJZJn9sCWaEnhNFcEEA+t8uXnFGJtK\n",
       "RI77VqSTfSxXAClNb9t9wczFiiPCuVOCnmWM994TzDDkF3NsSmOlMyoOOESz+fXd/Asxpki/6cDk\n",
       "ASlTzieKpppPngwIAAAAeEGesUURPDf/AAE08/RMZVrgADq7n8NcpeYwZK47fB735dryOQS5MTTw\n",
       "lM/dcdAWV+ehLHVqZgI/lWfpn+o/yJiNtcl//32e9b9eFQ0lO8RMPY/Pr+h19COCSEsfQMAhUyRr\n",
       "oAS/gsiWTSIqdFL0ihGv2wF3+itKmQAAAFUBntJqQ38AAfwI6uYABn7r9rzFBE0uhMJBnGneBph+\n",
       "LCgpXJOHjkuKWjr/KxJWmoyd2YZY+p80VcWe3hlEGl6N7mtvrgcWCJK3krSxT2RmdsBhnCbgAAAA\n",
       "ZkGa1EmoQWiZTAgh//6qVQAAbzAPgAFdnpQh9r9Mn6ICETlWZaOJR77Z4huD/Cz4cEXgiLcvf7S8\n",
       "ACx/IsA0fpPT/6p9cPlwLFCmsOmpjUb/oY4NCLKzSedQxFflLAepN+Xyzkf3dAAAAGJBmvZJ4QpS\n",
       "ZTBREsP//qmWAAGyuYIiEmMMId0ZYc11KvboITTr3jPDbe4/EpYWyWibjWxaoDLPvmBoDKx7gE2G\n",
       "1ZPMqprCjvfJ0FHfQAAFw08lvzT/ruaDGGqoRCusJSA7oQAAAKYBnxVqQ38AATWMlIw2GCUplli1\n",
       "/NVm/LTpvcAJq4JUt1U/WDbHmFV0v/A+N//LRpceYNHPvUJxoYwwfJrXInzE1kdCiGZoBU0f4mhw\n",
       "aMHAWLaK4IBXZbemgWWXXCaPwWytW1UNgdNao4hWgqwjZ2wt2Pb0mkjcXdSRBDcpN0Bctdp1Nv55\n",
       "CcmKLlpamJf7ub6BaN+k61fa52p9ve2NAM0UtxrYVCZgAAAApkGbF0nhDomUwIIf/qpVAABvMP0M\n",
       "AEfItl7qWczbMm/zRSWQ/jrSeyXTs5cVgt0aFSECwZ/USBU2T2qawDXyTfOQn6GtgB82oIpfP4WW\n",
       "hiDkiedlNiczSKQGcFrkmYQ6RbO552XibfpKLgPSDQhM+wlLmBWlMIeWXWjRwJWA/HUvU5Sp0BMA\n",
       "e1Mmj800zs8KmXoC1ajE6UUR2fBK58ALMaGOkjxCtoEAAABlQZs5SeEPJlMFFTw///6plgABsrmC\n",
       "IhJjDCJIICOlLNBUKC7QW8pF2CgymVX4Bk0wFZreEgIUoxG0QAg+xo8NoJdVdwtP6vb4h231JiN9\n",
       "uO4q3hSkdcAokwPQW34X1XBiKDJ47oEAAABUAZ9YakN/AAE1jJSMNhhNNxDDIAWrsnZ6heNKTs8K\n",
       "33d914vP8gxURW2f2P2TohSNvVtPRzUEGk/wVHiulcvitGz7B1dCQw13mPwvfAy0RULS3XOOAAAA\n",
       "rEGbWknhDyZTAgh//qpVAABQPE3gDcE/XHrgZ+iSddGE1xe6we5jl+Qoo6S3uCIhXAXfqh2BiRJV\n",
       "55rpEWEK2CzztpR/InaP8Iwv/1dh2ZkGhdyh8fnfjSmDiqur6OxQLxvxi5rlPW1nW7hzMlnxd8I6\n",
       "hn3+ZEnkJxUM7MAD1NFvDsTom2g5Rpl1BdOiFrrKTZFQZ7atyIMuW4ajDravVqiaTZYZDSpPrNbW\n",
       "ETEAAAD3QZt7SeEPJlMCCH/+qlUAAXjKy6Tr/uCACXp6aWoaOoV3oDeMJdSGJvPCUsAxViS3ot7u\n",
       "9DAox7EFcTS6PA12HfIwvNlgxsapWxvU6vkHd04GjGTGUyZucYbR3Ih72C1xK8x/h1wWPl8dFciY\n",
       "CnNm6cTF3FqKmbyRj8tcE6IuwSL1gwwj9/A/I2p5l8hoQN5tq066NAoViKNMu8mo/oJNnk/R3E+r\n",
       "P3rOk2pl+0YlHNJszLtUKZHXdomvEPU0PzFjImmTzqAKj1JW3HjceVtMAAH9ACmA1EHKoBNHXMmx\n",
       "ZB3tBhZESWDVqMtzwM8NjE6xhCRH5KEG9AAAAGhBm5xJ4Q8mUwII//61KoAAu3UkA+ZK6bB1VpWX\n",
       "GndmMmjB7GahJCAfBa6+wcTxTbdq6k0ZflzWiZl5bWKyR9Vw4VL8IDaZ1h0UmOyQA4UmwVrPCa/W\n",
       "9Bz6DaosDk9h47fgBkBHLKMZUQAAAKFBm79J4Q8mUwII//61KoAAXb0lx3Ge3vTsaYWm6ABkEsye\n",
       "PNIHVailsENPObzXQ66/3Zffp4/7GVXnwn+PAMqNkdq/MwLikLm5rlIvgQsazk1uT4JB4Qu5ZDxA\n",
       "YH2MnbNAXqrfrEU1ddQ8Ml1QeoIQaqzYjXvMIQbKhxytiCmni6PUKnG2uzXmXIOwOeetyOKEkfE/\n",
       "jt8ngGRXTBkJrwjN0QAAAKJBn91FETw3/wAB/AklvNyyXXcbz7N9puQy7VNZa5aVQADhd4otp5SO\n",
       "WgGA+JEj3EcVND/oc/qEbII0g7d2NvHih500ufnj3l6qqqCtoRlejUvZS7j6a5GKSATNWvn1+m7K\n",
       "h8VQ6VDTlkxcoc4ETF4RnHKvq8rnVXrZSthNp/wCB0gGs+xyDvX4HTwgJGbg/V27ubeCwUoRKoCk\n",
       "8A80TX2V92YAAACfAZ/+akN/AAH8CMrzPiXXcbz8fKTUQRwP+tMgATjGVNoAPWPVUfmPFCcIZFtI\n",
       "NWSn7anAPteCUo1op0wqFePZWcRJ9AI0uvm5ezS601iYo2P0Xu5r4pfsxBlfG02U+StDjwjLKRiF\n",
       "34OetttyA4Lj033w9Ak3ji817Ggs8oFkQ9tdQG5qAFrLY5GyG+cjs1dyjfMzhtDwWY4hgAV6V7YE\n",
       "AAAAU0Gb4kmoQWiZTAgh//6qVQAAXcBeNxSiofFBz4Edpp8/bNC+xm6FkagOHUi1B56/SDRiN4/c\n",
       "FHctxpc2h/gBWrAFglB/Z5qQqYqKLG1g3pnC/I6ZAAAAYEGeAEURLDf/AAD+GvUvGxMiclOFWxfs\n",
       "iaxoQPysIVTkNUR8wLoJ/ACBobZb+CEbXQmnXN7ZHJh35A2Kpdj9gXGagoKKC2a2Q7/Q+Kp+T5gW\n",
       "kQiYKarOquq93LDeEoGWUAAAAE8BniFqQ38AAP4EZTEcTrgqdhibYVSDQ5nZl6GgyQKAQRIDh4AH\n",
       "IMZEq6p9/GAjWD5ibRPX8l9LYUWliljS769W0KOC/zBOg4aoJm+PaNtBAAAAYkGaJUmoQWyZTAgh\n",
       "//6qVQAAXj4vXquxwEYJrpal7zNvRAAtszWtF5X4j5W23PLYuCL0BhlGEwSue2FvajcSvC9i7k3W\n",
       "nqOx3o8/wJeWdiB87E8zBhrDgtNiiINoEKHioNGAAAAAakGeQ0UVLDf/AAD99rCMNhhTl9gMgAdN\n",
       "9KUBT9pdiV8zXeQ6azopMQECqI3lwaPv5PvreyagRdUy0mdYSJweE4BOFryxt+tyfr6SDk3E6Iuo\n",
       "Fu6g+u8qbhtvmEGHkvKylkH3nL4qpGREb0EAAAA7AZ5kakN/AACaxkpGGwwADYo/PpYAQ11hO6Cy\n",
       "7GNDUQR8l2rFXOnqedEhdcPT+7lnjy7X889yo5WIsoEAAABnQZpnSahBbJlMFEwQ//6qVQAALx8Z\n",
       "CAYioP6iEoZX864SV6RpNiZrftBA3yVwYWBn2WsBYhONfo1A/sGRkWr18Uw5HkcHilyiNiJk8BNP\n",
       "SADtfOYVHtYglSMplToCM6HbCSr7CQDuOQAAAGoBnoZqQ38AAJrOeYFDABvLg02ewpqOk4yoDO00\n",
       "3IIK4JTJaj27ZcGI4kXAsq/cqNyUOVZvjNOL3NO4D0FeOd4nkuIgjgBSFFu6z+CbuLdEScW58QCY\n",
       "Vqv0+25OGtWi+i4t3Cz+mIO7pzKhAAAAoUGaiEnhClJlMCCP//61KoAAKCT9IAUGj849dG5PQX5k\n",
       "AqTw4urhSR4uklXG92pdFcBd+qVEFE89/RsUIy6+2smS2qgorpTIRe+2kv/+rt+/xD+FuDtR7f6Z\n",
       "Pbt8VYurZ+PbkeZpWrUEbQSWpvYfPtnII8t8DzsWd0NAJ8hBW6fpllnIq5qyGLOO+LiRTIOs2glf\n",
       "TGVx8wiwrlaL52xxbFfAAAAAwUGaq0nhDomUwIIf/qpVAAC7d52Cfd5dU3UQ2p/uT44mm1eN/wAG\n",
       "rhM/8MvLSQiMFSOE+/ziTEL7sG/6Hwgc7HgvRDLTXzUI6uqS+pzYTkMVoZvsHyv+mwN5/aAgbZPJ\n",
       "oybHAP7n2feOati/EVrInBIE8112e81BH1dt+RpcGvj9R6exEDCDkoXEnBIm9nCZJURTLPeU5G/y\n",
       "Wpp99RDiB9J09vNpOi77+lVhtm0bkQKK8ei5xt1xOyNc+1osmvTwmNgAAAB0QZ7JRRE8N/8AAfF0\n",
       "5+QJsLNSGnXH5kuGM8jghyrJaj8g9RSZp5WiaM5EANeZZW8J4m6u8EA4ANfZN9JbiZOntueYdb63\n",
       "jjUhVFfZldlruhYhLonz7HfCR0I+hSPdZs7KNWZrLHj2iz0vhS1Vevrk+/ugxYEAAABKAZ7qakN/\n",
       "AAH8CMrzPiXXcbz8RcsoDkFTcZ2Ot3sOxvAABTlWOcQ8fIO4KCAEsy0LbKLrwf0AwZJIT8k8q1Bx\n",
       "0866E4xQBRcFifMAAABVQZruSahBaJlMCCH//qpVAAC3CFStAS6wsAarvIaMrejAVbgDC9YAynEi\n",
       "TxywAULlRBc0ymOfbtL0ec/xcUV5WXiz3kws+6kCjPcP3J/4F5TRVqk1tAAAAG1BnwxFESw3/wAB\n",
       "8XTn5ApGINHKonnfXH5lVP3T+rw83dMU/wFt6nScvAa9JkJhpqLIXVdEGMCxj14x478CkLtjCT6M\n",
       "dAuo5AAAAwGzStf8Fih/PEDQds70pymjKClH75rgAItQ+BfnUxPR+50xAAAAiwGfLWpDfwAA/Xx5\n",
       "IGwAC4drqb6Du+4HHswTbOv7cELm4NulIpK3VQD4b4xorSxW6IM/wmu1qTwRVRicTFXXwsm3PWiy\n",
       "DI65dgb5OvcE/AwLSTwn/5j6tw89+65SUtBhvj32Yd31hKKtkTAxjGdF5Pz6fOCbAnWox+Pu3SWO\n",
       "9bdSkUgF2f2Fq/OP6TkAAABbQZswSahBbJlMFEwQ//6qVQAAXcWkpbjepW6wrrZMJaK/866ABycx\n",
       "Ccvo0pWe6SNzBzq9RlVKdlofnLScfD6VqllfP2vyHMhDNde0Z1O8JHu6QZBVgNpPXhHBSQAAAIcB\n",
       "n09qQ38AAP32sjwEVvkxQI3/mwOuXJrAeClf8tu7InPwz+ltUJAKFf/kpf1bW4NdNIBMfbtmUQL8\n",
       "yJdnIaVhCbmqTVp0kCEdcqyZWJRApWe6TBXFodjuABXws7HFqYkKZ4FWvj/vmeEHjeeVy0thsGCi\n",
       "/SYrgVZN3Qn39MHk1TwpvsfPg8AAAADoQZtRSeEKUmUwIIf//qpVAABQPS1AGsRMY3Rr91bFYE/Q\n",
       "RHmojMONmkMUaydp065iI5f/wsLt8xQVa0LgCAZu0fItIg6TBQ/anRo3KU14/2qp26f5jdyyHSGo\n",
       "RU9ka8WwyETtGr7qVf/8kkDYtq5xiaQGyu0iBZD+CE5cxdOcturJpso5R4Evk7s7Uce68shKXfdG\n",
       "jnkLnpwTwYly11OH9pHgl4PvJllNxjp8HrUYOqXlxpmWSCBzao+fIprtHrex7MBLGMNstC9eU4Vt\n",
       "PZ0NSE4Rm0NH+uNOzX64yq8EV5FobwVWk4DAWAAAAEZBm3RJ4Q6JlMCCH/6qVQAAUEQhgV8P3H9k\n",
       "Jj64SnSgna8hmTndq9rjIBQphrHyfUqAa82m3jAB08U18IMCN2d/QJv0tK2BAAAAaEGfkkURPDf/\n",
       "AADdAChrOgwTKm1H3QAOdnjpJxfNZWuKG+mOu6SlIZmeiJr1kkT1TqeBXMaDDAYNN7cQgJAJV+iw\n",
       "yH+4lLfApjIhaZga7UOaGU6E8HZdANclRlpo47wAZOnoWIqnUdIuAAAAZAGfs2pDfwAAmsZKRhsM\n",
       "LyGL8FKwXB0FrWsvU8NJK3aIhwRW0mf+AkzcEja5vPK3ZEaGS0m+wjyvD2yEUbhXfTje5Gq1sKVK\n",
       "o/bGOSkSJ3VvMvDrE3ebCl6+gqQfs6lrCwBxB6QAAAB0QZu1SahBaJlMCCH//qpVAAA3jqKNU2MI\n",
       "AJ/EBys5TGSRqE05JCciM19Ii4Rf+Of36bKQzAZMvqzOo0nBtDWlXOtKcXMl2JDUoFSrjHqulx8a\n",
       "9ceI26X/atND0JVfa/U+OLnPEEX6ZSNl7V3ENVtvx0UVdMEAAACGQZvXSeEKUmUwURLBD/6qVQAA\n",
       "N5gQwaXqWOsa7XV/lwZIAMpwLunmRlCAOq0XEdGn+APJ7h8A0/L66QoOSm4lTqLFMxxc/298Je1R\n",
       "96nvay5HAJEgTIOEIEDKv5ibIa74ysx0Nd/11G8p92n+3MjNEmKZNcn/qcfSxHfe1JR6po5aBI7g\n",
       "1IAAAACoAZ/2akN/AADdcqgAJbd7C1UqPzKXPh+Bizz60LbWKnDQ59B9CxR5gFligFDoiKuCw3mf\n",
       "FnwiEzH3phwQ0Z0A4sx8pilFKRU7XrtzWMDpp74OSh7fYx1mVmplVhr4Dv2RXgGgbXcCzeoOJ9rl\n",
       "TIJQZ/tOAn0ys9aC3PtgfgmPtOjT1dIqqCJ/+eN0vOpU4U3VLiNuQ9ja/LyjOEa5p/o9QoLGLpl5\n",
       "9BvRAAABHEGb+UnhDomUwUTBD/6qVQABeMrLpOv+4IAJenppaho6hXegN4wl1IYm88JSwDFWJLei\n",
       "3u70MCjHsQVxNLo8DXYd8jC82WDGxqlbG9Tq+Qd3TgaMZMZTJm5xhtHciHvYLXEr+TyqIRFo41+p\n",
       "GKbMHDdhTqP8Z/7J8S7OIDR9lwmiXaqR1ide8eRudyNkMvyYURs1J6aQ6pH0C6YsMUo+rg4bL+J/\n",
       "Bt792VVto0ODIotzlzRMJpzVwVtAdnnKJ3dfbg5/3DdOrTGSV/TnEycD72ldoZ5K6Tyfwf3RzntK\n",
       "OOHIthzMkwh1C5EifYfGEIWD8kzPMejYCLhO+esAqpzF+SmnFPCuiYWhCtJBzNvtbh9SoOAfyhKl\n",
       "3Xd3UkJvAAAAhQGeGGpDfwAD+FCA5z0aQ3Nc2bGmIagvcx7RXs5iNwwp9CvACrsFE3y8xuk/fHNx\n",
       "QUvl2ZEzuLUOz9YK22SHI2oyEtesAMUo7WmfzbTucCMdxmwXbIiDMAHn2ragI2zlhXA++JSqoAcX\n",
       "KkUaG4FxxS6uVzCTYbXYmngU0vWaYOfAzBzDCFgAAABhQZoaSeEPJlMCCH/+qlUAAXcQqVoCXWFd\n",
       "bJhOD2u4ozTdSkBlcB0QBV4/Fh6jFVWSXGy3yP2wX18iNl+NzmjRalJLd3selTMK1Wp62ReJ1ZcK\n",
       "SovBizYWFdW3DW35Ykfh4QAAAOdBmjxJ4Q8mUwURPBD//qpVAAC8ZXP/H+ch4AL5rDSrSX7mAd41\n",
       "k7Vi9g9bwGkGF+Unb4C+FYQZxhpr1xSNOsd9CWvDoUkiJHJxgYzeABDrk+oL5hCHfNFiMhD8deiZ\n",
       "v6QvXt7AdLqlsNl/UYnfyjf6AxhsyigqmHiUYIyhXcyFA9DNOHaYN1n3Y00ZdYq6/DYupeLqXbsx\n",
       "2jD3t0BOERUN8JrCE8pNZXMvlIu8VUn2u1Ka2FI9763w+2Z9sq5dU9cBhug+X4MNaWttso6I2q90\n",
       "LZmPEzqmA9FvLDI2Ep1OKswCbzfUQi4AAACAAZ5bakN/AAH8KEBzno0h1RRlxcEluifYCgBNXBKl\n",
       "uqn6wbY8worb/wPjf/y0aXHmDRz71CcaGMMHya1yJ6cUB9yCOCF5D1onSO4NGDgLFtFcEArstvTQ\n",
       "LLLq/qv/ZWOcbb9KBy7iS7k6ac0JJFwlkYvlLtpq47uBTik8h4DMO6EAAAChQZpdSeEPJlMCCH/+\n",
       "qlUAALuIQwK+H7kDyFQ3mgCPkWyjGtzGbZwMYXFP7wDwl2Wlj+k5t0aFSECwZ/USBU2T2CKSYZxE\n",
       "+Ryi/msG/kTd1DC4IB5BWJ8Whl6eE7mRrJFrckfw6RhdAIrZtlPTBVEXfbgCLlny44ZD2rviKCLZ\n",
       "+9Wq4cngd/ET3uT2QFJJSxnw9+wu562tkAXSinlLy1p++zEAAABUQZp/SeEPJlMFETwQ//6qVQAA\n",
       "bzAhgV8P3IH3HjgB7rk94KlZyJ388EL2Kr0cOzCpE7Xq/bBARYB9wMAAAO7t0ejn0VRB3oC+qzfb\n",
       "sV1+tviSYAErAAAAbgGenmpDfwABNYyUjDYYQWqbcl5MXSfFwVcUfgAcaznxY4p6ZkUijzKWi5Py\n",
       "RetOyAPgqdhir22KYi7aKXQCPDmZanMgK+Y/Wgl/VzrZmOVKedG5aLvWcwGx4c1Ooz8mhYTMoYNw\n",
       "Y7EJbXWpJI6YAAAAxEGagEnhDyZTAgh//qpVAABdwE5hMwSaI4zrFqW9EPAA3CLwd1VwtWbGvp7h\n",
       "/jdSmgpeoh3VcFRu9wREK8NCPMsp1/swFQ88udWOaZhZEfNLKoC8YOBnhqtEopiXxCOdcizqcGzs\n",
       "YVWkaYyP0AxJSgul/xCJ91VCLjzD/2mTUgkQDU/fun8XAEyE0SxHq9v2/0RdMO7JvXAL/cSRBDUP\n",
       "dTyZiMM5uCjZzTWevIb+BFMils3po2enkAqgoIeLId7g3Hxp1AkAAABhQZqiSeEPJlMFETwQ//6q\n",
       "VQAAXj4vXquxwEYJpgrJh6rNEZWl9NoHEIAMpoNKn46bIu/3i7Rj5qdHOwu2GiHn6GxEB+OdU05b\n",
       "Ksdw1k2ad85mrABDcx2Z5sW+NRAcWADzcAAAAEgBnsFqQ38AAQKP+YDVwd1vMUUYeZTuTa6x4gAC\n",
       "4cviFJ/a3Ybz0Ybjw/cYxplfVzKoiSe6tzZ9cE3BBnoPrD4F/tCssjTsJuEAAAC+QZrDSeEPJlMC\n",
       "CH/+qlUAAG8qD8AR8f/jbiIsuFkwVMEsgpl2FAXetRHng//VRiyqaaOHA8AASxQlAKuhzKcN0YZ6\n",
       "RF224qCDddVX/4WyzNtovs3U9cbcyreWt2N8jcj5yE/RV+ysGBiQUyeAJ2ROaRxrymwCIRxt0UNo\n",
       "6BpPU1AM9y4GzEkxE/q3PqRA6P5mEQgOwl6QrkRmIZ8LFgoWFOunSSQBk73naewNl8FnLMUqSqwQ\n",
       "tlUNAmD4wYBywAAAAJ9BmuVJ4Q8mUwURPBD//qpVAABvMCGBXw/cges/CoAbehz5JERH+jSvTrmI\n",
       "q73LvbnczVpRyiPvA+r1jNljzwExVMX/M5KQCwgQAfQ+hZhvoVURU9/Us26swVmU8/fFCG5v/lP2\n",
       "1cZSppX/78gfpc7XjXsHx/YP78OLhjy/mIA0NdeQmcW9v4q5ZRKrfAD5rnanN13i/ij6jGyJ0QnA\n",
       "DPkAAACEAZ8EakN/AAE1jJSMNhgAHFgkIxCURt+Gbi+d4AS0db15rAVTEWdba1V9o3Hiw79ar48m\n",
       "uusThPhqmCw25jyNRGHstISw4PAdXYihCPa7u8R3orl1uLzuIlFfqXsygKoZ/jr5hkGTvL2CPIky\n",
       "ZG4tnZy2M9n2uTY5ikiLrHTD6ICOdAb1AAAAskGbCEnhDyZTAgh//qpVAAC8ZXP/H+ch4AJegjA8\n",
       "u9B6TaFWVCxkefrfo18tvYIDzzl3f2kfkmyAQXa8OiDR2IB/U0CagxJQpxsfrFCOlnCG2p9B/KSb\n",
       "pJNtUXPpFDvIjenQXurIpooGidDa1ntysvnf3S1SXHC27LT/Mx+bhMIrVWOd4yZSkSbdrGk9+8Z4\n",
       "n8lNBCsnIiaHRAsTfCYkAEGE9FMa+S9c11Va0SMapEYius0AAABRQZ8mRRE8N/8AAfwoQHOejSHV\n",
       "CImIifTx54heBO5uJqXaQeXW4fMkXeg9VXG9qynAcQAcPjZRvdAIWwVJoJckeSyht+FXrG5N8/NY\n",
       "gc0s6BnxAAAAcAGfR2pDfwAB/AjrAgACGu5TiCE58V+2N7kvWxiJDFOiuFNdRloOWgQfCCUqcZUM\n",
       "ZuJ8SCSdAAAV/jPzmQIxRZwqYd8dzUFrRFJAL304ezHK0i0eMq3R1NwN7QrU9nVaPGPUwfEQnSlR\n",
       "+qtdHCT0GVAAAADnQZtJSahBaJlMCCH//qpVAAC8f1cACkauIMLXYmxwDN6dpzhnVXUcJ+tU8TQX\n",
       "bv8cEzocyOT60UmdgXUfWp+hndJRVZhnbFU4hvQ9WMpGJed9Yi//3IwlhLqf75Kz6YXk2laY57Ih\n",
       "Jowh5YSijr3S9GNNUanVdvbMYubIKkZExGAzHJGfOtiB2//5JyStDyk9fyAV1NnqNmuADkupwZcF\n",
       "WriQWW8vgAoYFOPvO1EwRzZ1zZPqyCnW6F9UCfAABieSz3eDUJuYszIWiqgMf2rfyuO0tL6eLdBw\n",
       "HNiT99mmGspfGNJ3KE3oAAAAZUGba0nhClJlMFESwQ/+qlUAALf7/gVjMgnDpXkUULSqKf8th4d3\n",
       "/6By+diwTTreXi1qosHXBUAFsyTRFHnSvgC+h3y71Pwxu961cRyng7wCkOzeNkN8YBqv+BYj/wn1\n",
       "uvqy8cT/AAAAdgGfimpDfwAB8XTn5AmxV1kTFkPREYtMoOnOmVZ5aAQbXf+9Gt/e93f7QMb4o2M6\n",
       "ELUeX7dYx5AgNyAAcmUCI5odlXUqHqY7EUt20gai/zPWup3YoKS3EaxxaZ8VBca5PGETtrCdSRwB\n",
       "D8hGmmt3quNKX7RTAZ8AAABcQZuNSeEOiZTBRMEP/qpVAABdxaSJs83x73/h5DKqQ8nNEu85yFgC\n",
       "HQbgz7JIj9vNdrIUZtGny70ys7DUZ05v4aLieqsAlIj3UjzovDZQvB6RmiHuOFImGoyCOmAAAACH\n",
       "AZ+sakN/AAE2v5AAOF3ii2nk9GC0b/+H2VYCOKF6iZFWifiOKmh/0Oc+WVDuq6kk7gi5ARz7s4p9\n",
       "a4aLQKJxL+VLIv5LzccaUOoHa54zt2xRTbDh2YQIyb6w3RZ9XWPiVqFzNlHqny6AKvEGBUbakL17\n",
       "2AS+b4VajA5Ml5bi5PxsKFQBllNHAAAAhUGbr0nhDyZTBTwQ//6qVQAAW/3/ArGZBOGOryKKFpT9\n",
       "/bY7XkQBwACG50qVB49PiWHRvY9dKjxWGz+sWHzCfkgfKQK5LER6d68/IA/k/tg0IgW1BIdPrwNp\n",
       "fs1S9v/YfuzH+i9ZKF/reDI5fLk9NdtPTyD/wKVQAf9WpisAaFaWfHxnAl8AAACMAZ/OakN/AAD4\n",
       "unPyBNirrImLIeiIxaZQdOdMqzy0Ag2u/96NcJ9iWAEtu9daX4kaa3w84vCWefWhbY9z8wCfrAAo\n",
       "JEKmHVQ6IsrpsU26g+BBj39I0wHajnrY07n/xss73yLfkSUAg4/49j7w2GkXxxNaunvuzO5WgFVn\n",
       "T1nO5DSRopDP52BMoIIwdUEAAABPQZvSSeEPJlMCCH/+qlUAAC8fDQh5/t1BmIiBYHr0f/oXF9Gj\n",
       "K3unZxAAIs0OcvWSAEH4GHDcsC/6ntfobfqNBCEupVZe+fCstWfVaG+oQAAAAHxBn/BFETw3/wAA\n",
       "muXa+N+eAFd3DvjGW+22gVHZVJOpWobOhX1MgWr0LxwH15d7M/loNtI6ekGPTGqI0kB+ZEbKnsUP\n",
       "f/vA0vzbx5EpQXT4p36vXzPhJF8XoIhv7R9DaPnNcN0JOgnRylPkQDooit+Y2lIWbeT9FYEgjSgg\n",
       "AAAAbQGeEWpDfwAAmsZKRhsMLyGL8FKwXB0FrWsvU8NJK3aIhwOEABhcsea1/mNLI09DPNqgqTQp\n",
       "yTtHdXUSC7npsVwjM6uKkSX4vpYtIQjVBtW4eRLYUFDKAy0tm7IzMCpca0VHaicBGgR+o+QmDFkA\n",
       "AABzQZoVSahBaJlMCCH//qpVAAAXj+rgAxnKBTctucSkxTA/EEtr4CL5AyN/H0c61mWm3/o2Qidz\n",
       "L+26MoxcYwwuwOtjQr//qU0yiYjiW5l+YLaqPDa+cO9kegWX49E+P/6t+klyNfXqdGjO8Bij0PfW\n",
       "e+H35gAAAGFBnjNFESw3/wAAmuRerTg+o/aWVGy8W5S6G8mL4z7oXyN8bnABozfhfJGkY7/BY8pI\n",
       "pFKFdUBXjeSNQAm/6TZq5rzy/Skhdls1n810YkEJ9C2MjVyP0907zw4gCLtFkhJAAAAAbgGeVGpD\n",
       "fwAAmsZKRhsMK8dQy+ZZEACVOfWe5DUF9YEqhCEW0XmeDYPSQNnUdEI+eFx1lZf3pFyXn7b8xmp+\n",
       "ja2L09uDRHpggcDQZHfTHAwl7vcZ2m904TAgfvuJ8x3cXuB88ZFXAuyFx04jBKG9AAABIEGaV0mo\n",
       "QWyZTBRMP//+qZYABb8t/c2X+RQAIfqs72Y6fE3PcUx9vZfetffVbQ0gxK+/6zl6xnQjEgSn5J7n\n",
       "GRNspkC9QHz3PhIvXBOgiyCXGWi4ExwxI4ihRnEE++kn78zfNmdMpuUYWSJa28WWBjHTg/dSDV6c\n",
       "PbB6JaoAVfs46kxSD4TwDRvygeatIhabHXyA9Wtd53CBVNRAg8Q/oIeXkXXVemcuE9hb77PJ5fz3\n",
       "45OI3/31mnfwvIjxD4el1Ft4/3xgePJg2RluKMhdj3jD7k/W0ybqF9YOGpQJP2lBbgmk8PgYcLbx\n",
       "7l6GBiAZ30DpPLAkQFwSemgdOeh3v+XPwmiv5r5z0BYZ7gGK+tsMzTqQosxW57O4HLg/uuDFgAAA\n",
       "AKUBnnZqQ38AA/hQgOc9GkNzXNmxpiGoL3MgFAxgAcfX0o1hTaZi7WyP6AY4G7ppKN4cshVwnagU\n",
       "7Nx4PN2mWJJfnHO//uwnvIJFBlipYLGPDJajpZh9Ve12RDVspf4/pt0XRH5WmKaYXTI2HBXT0eRy\n",
       "JOHUJJNVnJ4I0jkfgh0Dl2P/9lOwCpKdwBpL+iesaCXMPCbOtkpZfjij+AyUKyt9orWhIeEAAADc\n",
       "QZp4SeEKUmUwIf/+qZYAC2/MTQpQAb3MNfXwLX2D5DukQeQDaKuB0XefTzkDWI2lP7Fb6dVnAXkr\n",
       "VY67PwP/g4OpfY7LSfHUCstfHV+RV7M5v6vx6mZBOfkHWhuO7l4Du7+ijfy386HLTcX2+tTU09Bj\n",
       "J2QASo4n1e9Rx5vmXA94fCKfKUUHCH6TzYnQlTAKfR8gJkZgRTsHZIZ6vxImwLZG8fNvVwpRfu2d\n",
       "RzY6rqJkDcuV8YckhMrY/Wx8OIbqFQxuhj3mO+oTGgxqABOdhhb2NG6JxvdxW6IekQAAAGVBmplJ\n",
       "4Q6JlMCCH/6qVQAC8IlG7xxAb+AohUvM2a9okBYPn0AOExP85XhAAaJqcrxPWSXXycjxdVcwRdXM\n",
       "gBsKL+0L3OtavhN7N5dOeI7pzhuTxv/8h+x1pugbH4sIG7gPk6sRWwAAAG1BmrtJ4Q8mUwURPD//\n",
       "/qmWAAtwtjYB/6VcddRp1S8Ed0lMkRmmx1ZZE1H6eXB+TcfySZt0qeADBhiGreP529MaMhjlaN+S\n",
       "Ju5f8nKEtAAlsyXdTkQ2Si7xvdYtPsEId3L4m6fx3SuG2LHRRjOPAAAASQGe2mpDfwAIK7Flyc+9\n",
       "Z6IrNJ+3ys3+XR88qWGVRa89KZ22yOh2I3vsV72uIpAAAfSPfzsZvMALkt/ZZU/rT/2RBdefiYpQ\n",
       "A2YAAABXQZrcSeEPJlMCCH/+qlUAAvHxevVdjgIwcBOBCt5yL/zcbKZ7rd0YgHsYnTe93D7wYZGw\n",
       "hj3C+H/n5913RtygAz48jsMTGmtxbnF2Oys1ugCaOU3DfIovAAAAa0Ga/knhDyZTBRE8P//+qZYA\n",
       "Bbflub25z1DWnVC675+4iq37oumticUSqUFcFktf+eiW6ShjRYN1zRmFHcJJfPYAQGEDXH0r1m0x\n",
       "onSc9ISjawCAzXDiMtHp+A73UZpANQom+CPDqqJJZZqRAAAARwGfHWpDfwAIK7Jxi3YV3lBrk1Jv\n",
       "gxcCBOkiPZAHO7inz37X80vBQAKyr12eJR5mfjx18XWoEz/0wbvN5NyjTKkk/f9WTGpAAAAAXkGb\n",
       "H0nhDyZTAh///qmWAAW4Z+NugHdpkDq9JVu9GyyDoeXXBQJsjAFUtSJ9/HYEOyuu/93/fW9F6kWO\n",
       "XA8/OZniNqgtWjoFBJzuqc29JqptyH2+Oq4WHubGvN6WFxAAAABiQZsgSeEPJlMCCH/+qlUAAXj4\n",
       "vXquxwEYOAnB+PybQAb3MQnL1NNVE4nRiAwmuDl6LcAo/U6iHMuDG8lFckRynCXIfuCS0b0KAlfN\n",
       "FE+bdpbPghGh3Ap+j4LYpo8gqnIRScEAAACzQZtBSeEPJlMCCH/+qlUAALuAnMJmCTRHGdYtS4P7\n",
       "4Hu1JqOALXR4NCujX8STrowmuL3HDo9anBfLvlXGLSoyEDQ2nobsROSCL/4FxW+EkDyGzYl9IikH\n",
       "9Tf/+uw//EGfIhLIlXGilMHFVc4pMUJ5U2Zc1ynFF+an/TXx+w5r5zOKQTpXxl+EsK64LsV/urqT\n",
       "Q+4kLzcTwSkQyu4dOca1MrnrLO+gtrTlprzPaEJUFcisOmAAAABqQZtkSeEPJlMCCH/+qlUAALx8\n",
       "Xr1XY4CMEu+pY+R6PZZC/xD0eM1W3VyC0k6ueAAhNiMeAAUfGIpVXRTqHQCajiJZP6AylIyu94XC\n",
       "zkp0N5hUejrNVjjS/MT0+GCWNAytqGPLByFcUJlSQQAAAEBBn4JFETw3/wAIK7Jh4Z7krc6JpihZ\n",
       "FX3cQuFJW6bCgWATqJUAAC4Wpsa4STI3iAFrYYsvDwWaSk9LaUZMgkf4AAAAYgGfo2pDfwAB++1k\n",
       "eAirjTMkydPGOEH+ZE9T/qQwJsROG4bviwSL3cN3XtM/nUg2btYBS+dnxVDAAA/S3kirMoMafDHw\n",
       "C357ggG91zeSmW1jIoMiLiuVY8whXv//+d8dPBvRAAAAn0GbpUmoQWiZTAgh//6qVQAAb4xjxZKg\n",
       "BGV4CHLjcDYEk8mfetNbTZ7PLisFujbYQj6r/DM6k9VoXa/TJ5Up0f5PYfWjE6PrCTwGg6hp+0pg\n",
       "yZE1yAMvX9sGU+L9x3rCHjfHBtjj4sCLtt/7afdhrKaPoSF9Jv1AKG4hsKwtXs35zV5ApnNf/eDC\n",
       "NAy9CZF22sD9/Asjb+dK+M7I337pUQAAAIlBm8dJ4QpSZTBREsEP/qpVAABvMCGBXw/cgc/UtGyB\n",
       "Kzb2zbfCGlm5bc4lNLjEuCX1cDDsKKdvhOTvsBv5n8q8K82m1mr4nXqiHo06WAG0zuahH1ZkbXU4\n",
       "qqvCQCyJXOVcLys9oyBlPZbdPRAAkNiifiKnFObffXyjHM5RUQIV2EX4+nKOhweNNwAAAJEBn+Zq\n",
       "Q38ACCuyW6wJZAugjSyrTbWfNOwN45lZUIAByKzS+9q45m1CkUlbqoB9ZAnC+La2aIQ5MM08KJ4I\n",
       "qoxITr/HFOY5afJ6PLQaSI824O1koo+ccdn5C7iYHp6xEN6+TYs5Bgebr+l6pidGhHQY2yRv1AYz\n",
       "2hy3AOmOCSsKbjejeAHXf4fHe6M7iKAM4H3BAAAAd0Gb6UnhDomUwUTD//6plgABZveEAT5nyc2v\n",
       "TcJvj/rQAbSCUXVhaGzM6J0DzdeSWzTXUbJCX+poLxswqfTeAiTHndsUA3NrPc/k3zEAoDPVj+v1\n",
       "gwY57PmUiNcMAAIEtgH1OMTOZmYCnTwv1GgeZDFjDJ980DegAAAAbgGeCGpDfwAIK7Jbrrl08g8n\n",
       "KOi5vlJFHHPrVv7vQlQ2tqv6QUUow4WSjflR6jNK1QwTYqBc/Q91UO7IHzKLgaj2iW1iERzeYAcA\n",
       "aRnCzwg3jArHQzO2uPF2KyqH+vA3Onkfp+54vTsmeAHCqQHpAAAA3EGaCknhDyZTAh///qmWAAE4\n",
       "QP+AhVtLlggXP+onvpAxGhr/XGSUgpplVa++q2imhuwvUBugs//80dqY2jnY7WIYlGsbTAbVcOj7\n",
       "T5zhYnCYwzDL/0+8sL2LcoAEUdI+80VDxpOqXzEde3/8TaKXPdvVNGHl5CVFpKYGThXP7XmuelTK\n",
       "R0QMaYRwt0fQ6FM9du44edOjW77QEjbpfcM79fR/zTZcmtuv2HCOz4gcmt3rLoKRhvFSH7+j8In1\n",
       "YtwIfIIO3aJatcBg4UGKfN+zLiUabz+yyszPKqEMAXcAAADeQZorSeEPJlMCCH/+qlUAAG8qD8AO\n",
       "Pb/9p2AuLkIqG77j7ZnxkmI8FiX5/CvxPrceXWf/A+owSDfefjkITnj5dOU+xFrY7/Cl9/+1QvUA\n",
       "Tf4BDPdOi6Yi5fAEDcj5yE/RV+ysGCKi9Nce1+byiQKzX8bbEgPrHhoOtwd//wiWPZXjE1uVw6/K\n",
       "SrdH8vAtrUJwkbcB/uooiPlIQhUr32C/M+e8AJPi9OlGJDDmEDZLyF/0jtKgrTm/JAYnVQw+p0X4\n",
       "eaWeQD/cDb6GeTGaALHCR3Zy+H1pJITys+Iag5OAAAAArEGaTUnhDyZTBRE8P//+qZYAAt+W/ubL\n",
       "/IoADsRfTixYtg/aDXPvGtMhQ6lxjD2c9vWxtTmX5VPshhHFhuePVEnxkhPgxtKyJjnCAmqCyiYo\n",
       "L4cZS2DA1TFMAe2j3dy3OsArnp5b1g12D/wLpWs3SFJKmRW0D/o+GCmxNsbMsyNgeSYc+CTmYwbe\n",
       "b1cDSuPb1ucjk5qCOJxOsNQYNUfr5LAeNWQp22c04nHAxYAAAABkAZ5sakN/AAgrsmHf/HMwAGjg\n",
       "N/6KhMlPbYGHiWwSnSe4pl0Z7BLt+HrWA887glYBBc2ufHitaIDhffapfpWBpO9ngGdNdcNjtAsh\n",
       "26JzQ3S57067APYWXj5lR7WWwO/pdJZswQAAAG1Bmm5J4Q8mUwIIf/6qVQAAu4CcwmYJNEcZ1i1K\n",
       "1DAZ6kEtA3tt97IgEbJEadxit9cterW12pzu2OEGc9GMvIlBtCdtmcqi+2Anr4dK3gCyrof38soy\n",
       "bWpum5B3Q3koJI3LpKUyQCoOL0Qy1ISNAAAAbkGakEnhDyZTBRE8P//+qZYAAtwuJ5L0ATeFWpa0\n",
       "3XC2op4JrkM93dZ0+lK36hGfsGB7KsgsoADrh+710ESUpzxZWsssCmJ7smYPm7t26boZIIJnttUE\n",
       "4AAACkGP/YQ7HWUYr4DfeSrdh9K2ag1nAAAAjAGer2pDfwAIK7JiVbI2sMH9kEOjylgLavBpsB8T\n",
       "IAiqDfZaSdxX89ko9QWa7xQz+vQWhfunzqcSr7YaODkXEzgrIJnw0Ok2QTP41WySYLvEn9O7U1tj\n",
       "Q+s+EQWl+9MOTesKFRRqMqzNRkFIa9G8RFEnfAxHEC2oHJp+X0FZmRBTiOoHyfs45XkYY5FwAAAA\n",
       "nEGasUnhDyZTAgh//qpVAABvMQtuAEfCr+fkBOmk7qBqmsvwA+ThQVo+20f8Rbq9b5J/69ocibkf\n",
       "OQn6GtfUyY9xsP5fcLNoiU7GO1B7Iqq3y7bo0BnaTFy+ck3k81WF31Wo5Y2QLugd/RUH7R7xnxRA\n",
       "N+XDMRQKdtqjf5SvTv/3P7r26lXNuTbV3zaRCQY0AwOZHtvaPDbbEmAeEAAAAHlBmtNJ4Q8mUwUR\n",
       "PD///qmWAAGyuYIiEmMMId0ZYc11KvboITTqwz25vYuB4WnE4AXapoDx/AagH5Ud3voz3pIfEmgv\n",
       "KQgEbYX/wz/H1Yd4Xv7DcTiqp1vaSixfSt8TR27sHiNJSOuFTTIreUTT06cs6bf9ireA8jPhAAAA\n",
       "PAGe8mpDfwAIK7JiVbngxOL3A94zfxKIqXAPK/uB3EcaUdKcP1PwAAaJEibkDukFG6lJ/1+g5ewz\n",
       "rnRIwAAAALlBmvRJ4Q8mUwIf//6plgABb/hW14eoJo7NaP2iAKTQLdHsjYoSTWHedPPswpo9anBf\n",
       "ClAjhJ5YRMZLx8sBirOSBbC0C4OD4ElWMjfFthz9Zv/9WZFmZBvt9eyhKEJ8Zp1+onEf3x7cjzNE\n",
       "yECISbAXE3z/FYvE71hCkfJFVKU+T0ZMAINjBpI4iZMo0FKpz3C++pLf4h69XP/r2xUibdtf6C0j\n",
       "nFKjU8Sk16jX79nWNNz8yF34S8tfGAAAARpBmxVJ4Q8mUwIf//6plgAFvy39zZf5FAAh+qzvZjp8\n",
       "Tc9xTH29l96199VtDSDEr7/rOXrGdCMSBKfknucZE2ymQL1AfPc+Ei9cE6CLIJcZaLgTH45J0Iah\n",
       "jgn30k/fmb5szplOSIF4IIzH2vFPLB+6kKifrVaF/cgVRjc46BiD4TwDRvygeatIhabHXyA9Wtd5\n",
       "ziBVNRAhANmgIeXsXWH5sAo1zC6i8JUz6x8jaJg06ot/qYGtiAQBLSn92uQUg6yrvTUZ5mb05j13\n",
       "BzakPvAPJKMEqMhfSjAfpVfIamICwV92ZomHC28f2XyWqjKDtz0yDLK3OzY+zb/f1//ZqZzB5dFT\n",
       "VK/9WUd7X6YF/SwDSibE+MsE0jjRYYsAAADdQZs2SeEPJlMCCH/+qlUAAu4DApykAGU5npVDt1ZH\n",
       "Q1ve3bI/TS94irH/SFY9YeRdtewZe32QJ4kF0YWF5Zo6dXAy1Nr5opHUC3co2XZo+HzvlGMDaJ1z\n",
       "+okCucLIMhwyCAJdGb2sAMJm7q4VwJLqGHbkNw6pq1CjBvILXHPSh0lonSkfWYKpdgYVWlQ+39wM\n",
       "Q0ZY2fjqXi1s6Zpt3NOyRPt2ItoPNy0Xa/yhQdGOMNE4Qa8LZST8aDFvqXOSq6q+06ZRFkk/bwm5\n",
       "2VzjEAfTCaKTdEhonfpyyKoClZkAAACXQZtYSeEPJlMFETw///6plgALb8tze3OeYVgAcLiUgXTe\n",
       "+oiQ6vfESKvT9syE38MEbyyz0AkuKjr6O2RltfkzF2baYOi3hPvvuO1J65fHp6zk8kDAo1GHmpTJ\n",
       "7DW0IqZ4z+NFPZjWddQer7/Tyoi/29DD69+uZa548GjEnh/yUiJ0xWlf/AAABEYR2pMoVvX8pAeG\n",
       "1JyPgQAAAEEBn3dqQ38ACC4kuZsoGEnY6cQswPyij9ixV4XefnrCgBKhO31iXbS3XOuqPDgVYF3O\n",
       "PoInO5b1o76mP8HeDzJSQQAAAMtBm3lJ4Q8mUwIIf/6qVQAC7jdRvUrdYV1smEtbdOSCDH+GZku1\n",
       "QdEAtQAClFJVWDiqngoszNKM+SRZIF0K6PtugwDQHeQSG4hlpus2nXisIlOR8n3jW4yBHxBLmwQc\n",
       "+aghH+3Ut9GJtQOyoYXucKLtH+14IAg///ZDdNmM8oXQLMoPcEumvskDg++aRLmrUVyOHQ0RfPAO\n",
       "T7m7sY5xJ9j8xQ3tbL/bHewipgg6+fZlagXUCte+hitxZg3cwf+O4pzdouOgJpY+HOUakAAAAGBB\n",
       "m5tJ4Q8mUwURPD///qmWAAW35bm9uc9Q1p1QupXvfF62pqXQ+18H3IlfwiKUQbLHaO07Gzps4RXS\n",
       "qG6ThFGOPVwNUuDpwABcSB5R3JeJcUnrS7xvSwX1FjACF4senssAAABDAZ+6akN/AAgrsnGLdhao\n",
       "oASoVtGbwB2eBXF/yxT0yKFIBz6cmhZ012JnMlqo4W0wIBwwTaWSxGEa1wyHO3ZEuk0VMAAAAM1B\n",
       "m7xJ4Q8mUwIIf/6qVQABeP6uABSNXEGFrsTY4Bm9O065KeH12Q9a+PnQNthLL57OcaxOfi4bdLf/\n",
       "vt72ZRllypglkFMuwoC71qI88H/6qMWVTTRxLzmADoUYNCY0aS5mutIjYo1wHHeh2CH//99QPo+v\n",
       "Xf8As2+VReSo4cVPaUtb1IFk4WKSyC5Ag50AIyv2TZRo9qWsPIOkxmuXiO1WFbORubGqbmkj3gAG\n",
       "GMXGost14l0dA5v1yEU1kkOtRfIaAqdREOCbqxLzL4m5AAAAUkGb3UnhDyZTAgh//qpVAAF4+L16\n",
       "rscBGDgJwIVvORf+bnJ3DYOMchAgYIk07ecuDOK7oSUEv7lUIuccxRxHZUw2DXTu5YSp4O1hpnAA\n",
       "asD9+tsAAADBQZv+SeEPJlMCCP/+tSqAAF3NhjUwANDdEIiCJkLpMB7/dstjQAFBvS6oVOFqz1p9\n",
       "PqWBHTcFqUfJABfGJkFsQCzDDQj9bKqf8JRUVfLnV9mxUwEbQOv8QjliB3O5ApbF/i7w9FCLO1jB\n",
       "G6iVaRpjI/QDElMxMxopaxf7wO9v1T1AOTut0rC03q3biXRnEvNCkUPJtoQ/7Rw8kjlQUZxsInqF\n",
       "TPoaxzd+Lagtnj534PHxu/CaLUeqVjjDH3D+HVfMCwAAAHVBmgFJ4Q8mUwIIf/6qVQAAvHv+BWMy\n",
       "Cb2Sp6pY/PnQUQALhrJ0jZi+hxA22V49EcYMVuJidXsMMs/05601CQdjOvpcgLY0BsdvdKMDq9it\n",
       "upStCWT5k7n3lGa8ojS55fAefE+WedYpf9T2jtS5ijkex4tl7G4AAABkQZ4/RRE8N/8ACCuyYeGe\n",
       "5K3OiaYoWRYZ9TGOQYgAdko1Tz9nSPpekyQDeOF2xxe/ubMPSH2EucLmb5zNtq6uHxqqQkMOYae+\n",
       "7NwAzoSFCH+WT17piQkaDRD1whxr+5je8tz29QAAAF4BnkBqQ38AAfvtZHgIq40zJMnTxjhB/mRP\n",
       "U/6kMCbEThuG74sEi93Dd17TOt8cOVY7TIYKSDVKYC1Ye6ntzliV6mwAAUzTibOc2cl5MjbBcT0x\n",
       "4SNu5CiaUwbFCCLgAAAAkUGaREmoQWiZTAgh//6qVQAAXj+rgAUjNXrY78CS0Zm1uG9FpG1SIqgV\n",
       "8rg0LQ5afIBkB8GW6KVRjz5cTnsB+QMRloicL8UY1k81Zdh96oJy9yLL3FnrWt174bJ4f5k3H8ne\n",
       "hvWRdQJPz4EMByIXsNJ5pDtn59953X8ocgX33O9y44AEd+jcIlNKrrcbdCongz8AAABGQZ5iRREs\n",
       "N/8ACCuyW665dPIPJyjtFHotd/H0wpnAj6oVQI+lGOnAh5r5+DyX1YbHQFR8HgKjX3w/gBFY7Jkj\n",
       "m6dowRkVsAAAAEkBnoNqQ38AATWMlIw2GF6DDU+4SFXdaeLY041Lx8z2a2nrHTHcyz8fARZFSUOY\n",
       "Vt4Zz/hncFh4lrnb7ENHwRNy19vo01AJcs5ZAAAAfUGahkmoQWyZTBRMEP/+qlUAAFv9/wKxmQTh\n",
       "jhSPf1LABSgA7tEIIsou4KslT7EToJbqF0IQfMcN7aIXzbw/ErSv3eo162/vt6Mzy2OVENnpQ3dq\n",
       "SB+DVRtwmUXx3E6+1EgMsk2jArCqr99rrR1bZhvx6B4EdJ9xHM1qTr2lAAAAXgGepWpDfwAILkZM\n",
       "AXvkRSh0DgiUHXCgeXfkcK6lfQjhqekV/QmbSLvH9/x2BpKAAkFRIo6yVudEPDzrxXs4CPNLu3Ou\n",
       "1gFzhCeKRiVD7VFACT9NGrbKAe6CPQVhCJkAAACMQZqoSeEKUmUwUsEP/qpVAAA3mBUrQEusK62S\n",
       "6baYC5TPk+KScoA7NABUnORdCKGNWaSg/Y0PUAIy9bF0suiLy42/Rtk7kySbznf/XNpLp3Bz6iz7\n",
       "8nKNLErI2Uuy8XXjYtKVQv2e7dyEmzPGDgKf/G0nazk0VCVtf1zhiSV/tcAKn6LB0CEGKDHgWUEA\n",
       "AACAAZ7HakN/AAgrsljsnkAE4xlTaAD1rqvWfmUsTAFd2/B6jEHuDKATpmM2bvd9YnwxRej2qs4f\n",
       "Al5phnsp8YhPOuthC0S19C1KXbKn3SK4uyuCFJqaepsDfijVi+XmfLr1JmndJfNom6FpwkNWzHbh\n",
       "SqJmyls7Vwbr1pzziNgMgZ8AAADJQZrLSeEOiZTAgh/+qlUAALxlc/iduXmABcKDS2W9OYRkEiSD\n",
       "KGa/0aVg/+JoFrewu7wAGp4B+mTv7H98wncoBTZFTe8nFun1S6MU56r70UDZqQwjqiEUjLaPIqzY\n",
       "7A19gEjPrtmARl11X5I7KwvUpA3BqfLM3p0GEVl0wDni5XW181jjuN3r2F9Kop8hGP6QLgal/PEW\n",
       "MuIB/oczKYzKb4GnaFB7vSe8y9nWMOIkTHx6hQy+KcH1pk26HWIpE/ee16XIcWRoAE/wAAAASkGe\n",
       "6UUVPDf/AAgrsmHhG5lnmYVpbNeS3ielGoAEeqN79F1i1hnn0IrOwTcSFprx5tD6lQXySc+QoAcE\n",
       "0TY7yW+HY8wE9N9Xjo2ZAAAAPwGfCmpDfwAB/AjK8z4l13G8/EXK6w3dG8IMvuXV8QABCP9FD7se\n",
       "mGghXyL0AAuIE+zJM5KxDh+QCNjx6Yg44AAAAFdBmw5JqEFomUwIIf/+qlUAALuIVK0BLrCutkKX\n",
       "fxtpSns34PF5JNtxlNxJZ/jjE4PXKbNrD0TO+XW7XSPBJ1SHtMAasds1Exg7x0wW//ATdxPh8SC6\n",
       "JzMAAACSQZ8sRREsN/8ACCuyYeGfcp2i5QAFVGrqzAr9qmtSbV/qsMVz3o/ieP1Agstj8jSnkMtq\n",
       "J66Mme5EnP6Y4mlBROsdTm3XJYTga+Sq7qtriDRBHM2z3GN3oLpxV/XyezVn0oTCHjMhdsukM/uj\n",
       "Sh0ByDoh6I6Oz/H8FXmA7n8mBwoFhTp+Kx5dZwAFomY/Fu/CEXEAAABjAZ9NakN/AAH77WEYbDCe\n",
       "AOxTM27guCpQAEHqbtFjl+jwAru4d8OnptvfMCkIri6BHn9QRcib/rBhAfxPdPWH6utxGh5qilo3\n",
       "ekQiAcvpnE+8dHCCSNNTNcotw6A383Qh1NmBAAAAYkGbUEmoQWyZTBRMEP/+qlUAAF3AWwxN8pBA\n",
       "CzvBRj8hEKp7PDcD24ddfLz5g+vpyZKZl+Z1/inxsnSQpTeNV7u/vGF9caMxNWgmUf/kKqoO8haH\n",
       "YiLaiYHCPb5CA2Wd6AvJAAAAXQGfb2pDfwAILkZMFAlXkDpmxXYbxb2ZAadBqyQjgp86DONE2Kus\n",
       "iYNE3Ml0skw7PNMRnLQBx5FqCjXbYxxf/h0Y1Q4TBjtxtBkAEeJwnxGtrcVBt9skMZNrbhSRgAAA\n",
       "AMNBm3FJ4QpSZTAgh//+qlUAAF4+L16rscBGCaYLiEAbhF4O6q4WrNjX09w/xupTQUvUQ7quCj9w\n",
       "orKMw0I8yynX+zAVDzy51Y5pk6CrSSvfxRwDPDVaJRTJjw63OuRZ1ODZ2MKrSNMZH6AYkpQXS/4K\n",
       "lKNngwCGfukYu9Xm30MAd1WEzZrcl6zwcyJ2pRYucnTNInAAAng0c3h1v8BnStZcT6Lg/oP1GMrg\n",
       "aKQPRae0GwdVw7gmumjcFuJgfXYEtCWu41QAAAEkQZuTSeEOiZTBTRMEP/6qVQABeMrLpOv/m4AB\n",
       "2Z6aNvpVn5c9xUXgo197JAFUZnxDxX3/Wcvyk7fAXSA/SLc4yuueBrsL7EHLADC7nCKv1F50hxih\n",
       "yJZTJm1jgqz3QDzmb6JX99AgEIaUl45EfXGd9FvOIeDUvM1W9aU59JLEACZW15COvCB4y1x8NFrL\n",
       "j+oeR4/g2eXC1zLc3lnfa5oCHppkL1XpnLhPYZJnGjyVu6V70Yh8+xZHcOG/WqjV/p5u1g8cjWcT\n",
       "RiZh6DenMaasLVdfF/COgDLwZTyzZRmiqr5DzxBLWYz9tj7jtm5ttd54TJae2YJolDlkxwALGdcs\n",
       "3P4SUva7d2tnz2FRy4PSKccUCen+8R8m5NBvPb8J9/U2ODcDpwAAAHcBn7JqQ38ACCuycaI3Ms8z\n",
       "CtLZryWpcbmGCbpd+5FndrAA68Hs67QMVUeIgKBBFrId67jDoP/WkAjBt02PlOYBEXU6lsMFcYW0\n",
       "xvIhg4NxhAiArV30Ukeu0uoylbKplGy3euVjgf8DaVE9Al2ps5NJ94xLrMiLgAAAAOJBm7RJ4Q8m\n",
       "UwIIf/6qVQAF49UUABMGfNf8/K5QnQalgpnnCwjkaydqxeHcJ0Flpd36BFWtqy96lvZ71+1Z1MlE\n",
       "eTrcQFIPAYnUIDY0F+QAC7xHx0t0tb7dQJPbAttYqzbPHRyYCLKikYPJ/mc0DuBOvSMDA45mJBex\n",
       "ZdJCgZYkfsMu+wg1shdnr/pTt+vypvEiDHeIZOWrcRPbjq61ZdW8QOUZkV4UGgOHqRx3ouy4zkA6\n",
       "5KHeRDwaKdlwhaiaIQef3a5MbEIMAH0MRc3pUo9zZMqXteZQhCVFSm7go+/5aSccAAAAkkGb1knh\n",
       "DyZTBRE8EP/+qlUABdxCpWgJdYV1sl2C1NXC0JIGmADq/IxyktRg6pbJFZ8yMG9s9mLVz17Bu7RJ\n",
       "ScUxmE/nLirUWiw7Pffut+NHRtLDDWka4oQmZVRbeHVJyNcZ9SYQKSC4kQaAW9PeVR+k03sHAyJD\n",
       "d+QcSvFkawAA1hyjV7PqpomMAop1ThzdSsaBAAAA0AGf9WpDfwAP32sIw2GFGMoOr+ALAC1Wz0Zt\n",
       "HcDbi1rcZ5/q4mRtPGCPnvAKDWFylo7sN9UZ2UYbhLRq+HavddFooJ6NNnT1BW0IyvRrU+kQ6b/u\n",
       "zsP2n+JxargeeNz7Npzkv/FvpeJTv9+aSrip8bWwtEMglKRzogzZjLeKX0QT7bd9HiUyfWzRX0sn\n",
       "o8c9SbRyptb/ixAqwcDoK8F36AotbWpgbKPLgiFPt8vBTNmhxLuBQc3X0mHsTa5AF7bbmzG84Il1\n",
       "xGPo7EqSKF3vAzsAAADCQZv3SeEPJlMCCH/+qlUAAu4CcwmYJNEcZ1i1Lg/ghNw2f9u6DXux/J/g\n",
       "AbhAZz4gygRN+o/0aWY1ow01LCNz9cLZufkxlbk//e1DfyZN6XlSynoBvORNjWYJz8J4y3tom5TG\n",
       "Tph2oJio5QhWh3wf3RvfU+D5DgYOZp9fxIVmDNpKSX9b+7mOdc10GTOfkxIMEc/V0ovaQhpps63k\n",
       "aWW9w6uNCxKvHRSW3VgAABqzA4AScAKKTlp08Z2AMtXGlIXzzrEAAACqQZoYSeEPJlMCCH/+qlUA\n",
       "AvH9I0BQtXEGFrsTY4XdfQEbwJzXMvtEBPSmdhUqx5gpgkzbfB5yjwJgCg3/+2ImoV9Pe0Idhd16\n",
       "2Kdf6HAjo2S5/3EwVj5/+wOVuuxiJEym9GWYK62mnT1e+GEKKMOvcjKm0976Bg+BQXdRQQSc457T\n",
       "F3iK1KwdE8pOo+EOUyqbc1HBCtpCD6yQFc2hjJPn3aGWf8Gf1GuaA6cAAACOQZo6SeEPJlMFETwR\n",
       "//61KoABb/2AznNOlKrnWWeniFMNjZoZXZuD13LnjnyS96mDQaPg7SjLVNjcq/smr5DvYD6xCDbV\n",
       "wBNl0S2v6Irx+BBK7OYjF0T3wHHho1LENeC+r8QU9fME6HtV3u8i96fX31MRjm2T6g7a7gB8BNGO\n",
       "iOYr4cBca6LoP7qq45SZcAAAAGIBnllqQ38AB8XTn5AmxV1kTFkPREYtMoOnOmVZ5aAQbXf+9Gt/\n",
       "e93f7QMb4o2M6ELpcbhPS6GWwgsFH1IsSW0IAAA4+Ysudrq26gQA15d7nU6VNUBRhuarIiZkuG7h\n",
       "joPCpwAAAHBBml5J4Q8mUwIIf/6qVQABePhoQ8/26gzETJamFmTcBmAEN0kUrltfIq7vDM8RjzyL\n",
       "hUqdVfco9BcvvN1Qxe2WbtRO+3f4lk46t432gCnN+5n9zeQcXdblUGlM6n4mmLMzbaFqptH1JGWr\n",
       "kzxwDi1IAAAAkkGefEURPDv/AALcXtADwfTUUIqoBrUFFo+L6P+587gAIHkfkFvg+3G36tTM0g2L\n",
       "JbVoEaU9mDO1Q0IYlWuJ/4s4kYvGbneC1w0RNzoAMjJsDBYOFL8yOkccLkZaXN5kzedhCltJD7DI\n",
       "f8b5sTDXDNB0RkWZZwdqeuepQuGilkqpUJFxjUvunaI4IcgZ1W8eTWRhAAAAeAGem3RDfwAD98JL\n",
       "AzpMqSoPuNbW3F1iaOLiz7BLpvqrPghbvUZUlrI9aIAMsYffd+TOqUAO5PFH2nGTAbcFe3Nggtjo\n",
       "Dp+jCdUeu6ZfmWzaeS0pmthj8cnlkXjv21MNnWjMdSDj9SVXE2XSCgTcGCi4IzcFwTkH+QAAAGYB\n",
       "np1qQ38AA+Lpz8jTRrDouP0xqYHRFO8c2vesNtryHEx5QVhnKIB1ZmNMubPvdMnKHoTv2CEhoEXJ\n",
       "KWjAih2wAFjNaQKwo4PRGERwu5EmgUhllz1PVGmWvg+TEdkv9Rh2IIGGEzAAAADOQZqASahBaJlM\n",
       "FPBD//6qVQAAvHqigEktvbNt8QPlvS7HjTDX6zLZ8qKghYZCy5Z5mnzKgFjA2UmeL3GfJ98CUgCf\n",
       "95zBBWUWHnLSghjtceuCyIIjzfMrmp6F0Ey//7eFqiOfAtDqpg4KMG631Rl1nTKJsODTyBlqgtFO\n",
       "4VcSuTGUwB4sTcjIgFXF9dEggcg/w3+oA0SHKfgvUVkx+jGyu7KLNpX2ilLM6wNoAcZrIK+ccMHx\n",
       "oNwoLwDv4o4FgjL0Kqy+kcvecfJmrCaFhXAAAACMAZ6/akN/AAH8CMrzPiXXcbz8RctTL5CQUMtU\n",
       "6btnTO9r2SbwAOIWJL+MdjK4fVkZTb5VaZaqclqPbpLvaUgPj7E5mZ9jAoxL8wwrOUEE+q/KXm9C\n",
       "slscL/4O/kDusxYXRLplb8wJabO5vHcNoIMk4evqVXlAQquPmO64SeGMMlrPEQ4Pj9wB8TWHTcUA\n",
       "AABOQZqjSeEKUmUwIIf//qpVAAC3+/4FYzIJwwKmXjfD0YZZ170bAlIVpMGtVosmgaDhrcF4MrDI\n",
       "AMjsAuRBbTEB+fiB/nA4levY12vfTxYOAAAAYkGewUU0TDf/AAHxdPDKwUemOVMUSxvApPa5t+P0\n",
       "L4oB+k/6i7CE2AXBst7tvuHWCLRJxvFW/aAUYxAc2L0V+QEb21Pb9R1tMfABr7JvogO5w/1Sm5W+\n",
       "P91UUIEG2GC0n0PhAAAAeAGe4mpDfwABNYyUjDYYXlztbE+3H1lUUt86aNoAHELEl/GOxxRjqSPG\n",
       "+HOKSOWi8yj23IBR+Vy4tf7UvUUZyu44qg/2KvGiUZ2v1rQGukEQfFbS87KhGgy/mWtRvY/9LsuU\n",
       "p3eO7VAXmoP8o40iOLYjXJzhzzhpzgAAAJJBmuRJqEFomUwIIf/+qlUAAG+MaKhIAggAXPLcyjp9\n",
       "y/tka/TJ5UvVjwa6Bl1ujdaJ4YZsMpxlF0cTKEtGoVnmiehE2XjVtDvfJD4cTPEwrTaI84YNvd5U\n",
       "VN1u6QmQ05vujVODv4QhSXt8NRGe56/Bw4iqn/g22gJfsBeizgNgj/TVhvKWvfd2UR9miE24462G\n",
       "LQAAAHNBmwZJ4QpSZTBREsEP/qpVAABvMCGBXw/cgdr4xoC3WVeeoHTHGrV9pasp1AeX9v6ABn8y\n",
       "L0zG0We+Cuh2PbnFH+suNxinqXd2jOKNyOSzY+RA30/gR41qli6+35OM3Tc6++XZYzfXvJ+Y42Vd\n",
       "WEB1V4HHAAAAgQGfJWpDfwABNYyUjDYYV8fQAA/obWluqnt6HoOS/EFR/DcVfJnj8Lxy33/7z4v9\n",
       "NX7PwUbPlaQEzIvk42qHApjXsshiD2V63GBexi21Htz7n+eB88MRg6DndDFvjOZR5+nyhZ5xNDuI\n",
       "tf77l2iOzWQCep45vvj1LsjJxT55HTwzUwAAAFlBmydJ4Q6JlMCCH/6qVQAAbzAhgV8P3IHa6WvP\n",
       "TVvzxLpVGzqZSj7ogpJYoN+NXJ+TgpCesw5T4kX5f/2p4NORng5ApYorxj4VH7FzPGAy/3CvI9op\n",
       "VFMGzQAAAFNBm0lJ4Q8mUwUVPBD//qpVAABvMCGBXw/cgdr4xoC3WVeeoHThBJ4lWk+P6ib1lIjx\n",
       "qZV1vWWeXjcFtmeYjGn5rmAAZTavgQMoa96KCKgZ5YapgAAAAGQBn2hqQ38AATWMlIw2GE5TR7xw\n",
       "LACWcoy6RPjaYLGtcjeUess3KotTpxwoPYkDkXOXXf78YkikLXpgkrWdhMbKoqhibgCmGH291xSS\n",
       "69NCvKRdaS7blONqVwNpWB/feFff3NSAAAAAtEGbaknhDyZTAgh//qpVAABQPE3gCg3nA7JEJIny\n",
       "3X4yPi0MDNtA2DZukyhn5MZmCoPdf//yr2Sl78jemOSPLmRGTSCnA/hEwMwZiLluTM8/oK8hLb1e\n",
       "nyapAnaY+628YQcb3xZHxOcdgCHoBkUZfsXKEgAZeLS/vpNxGrSVyqsAfcrBIBpZ/V+bKpIDmQjw\n",
       "seHcnMn8SFDfUsfhGgRyL7vv5iZi+0kk531iTdlPJDIq0+ZS8QAAANBBm4xJ4Q8mUwURPBD//qpV\n",
       "AAC8ZXP/H+ch4AP4REmi0S7zhYRyNZO1YvDuE6Cy0u79AirW1aLH/WKPtWcRg76EteHQpBdygHzp\n",
       "dUOkSpsakvlzahQcOU7NAXtCMeEIkeWlgG1+hwX+E67c7OYtGbZJdLrYgkYSy/QYYCf52fT9pisR\n",
       "ukuC6AyXs+cVsm/tt++/bMoHRJ+uG1Ex5RfoFaVce0vfKFQdQG3BePJz6sWzHu1GJclb2s2npH5q\n",
       "PUiu1s7bhBfbEZ2OkVN4K3qZYIWAAAAAmwGfq2pDfwAB/ChAc56NIbmubLw9FIDmpvnCLAA4fKoD\n",
       "e5rHq478hURPjzdujBxeCkguY+Ql0zuhI6ZxlTWtr7GEPJfrEGaQMxg+QXjUngHVjgyPp+Mgsh9X\n",
       "aKmu3BCqCXYazPr+San+6zvMaBgYAgoatF658hCpHaujWtiZMsPDT9GuV7zUGUnhzmwyu8BASdbQ\n",
       "AAA9AAAFAm2YAAAA2kGbrknhDyZTBTw///6plgAC3/Ctrw9QTR2bWWhbnv9o4P7HTRMAKTdlH1fa\n",
       "J6Kb138okeR8AEy/HB/rgPbAm3A8n1B+8dV//C3amcxACFoxdbwhfo9Y6qBFKFZWcJPTYCSsY0B6\n",
       "3LXJ8rQy9YYV/Zj2S0bV0qG/K3f/xLUTV8dsHCnPZPryzwgybPB3RsZ8a7ym+crqK9QyFZX1MXsk\n",
       "zgP56xgvtGLZdnV1lLOMF4UBU19hcK906b4iVmv3fFPaQwdV0ZwSnVMVKJLi5zsEqtUVqJULoas/\n",
       "xU1tAAAAsgGfzWpDfwAB/FKT4ugPMUp6sgA3YzDOr/8kIfwDRTWUpPUKvkk6WHjXEl6ctg5Zx8jI\n",
       "sgP0TFloGKdIWsN9ogq8U3aFHLJfJbcNm5H9nPnYj4hIKHbMELZMednEvATRCFRDBzawIk7drDlA\n",
       "iso89NlEsWMKVR5uy7eluIzNFAZcSY0r9otvtWj0rVe2e66SZq7zH2MOk3Y8PpMjEYMR5oejeegv\n",
       "/bd6hBLanKaWlT8WakEAAABRQZvPSeEPJlMCH//+qZYAAW35Ov2mgL80eGAX3tWoBQAOKxVx+Um1\n",
       "ynWqw9/PhEZjPTKU6NnUd2m7topQhlq0NU5PBBKg9fbgAAETv9DjFF/9AAAAr0Gb8EnhDyZTAh//\n",
       "/qmWAAGym1QgDTTQA8DXaxCjrF//DpkmeZIu7R9FuShNT8kAztr//c5lDxktkPSpuR3yUDykUgn/\n",
       "/rT6mHetCZqZZVmgLJBHtdOwnnLcZNEJFv8PI3vkIRrsc3pBwgm+6+Yoep4tXcNWlXs/3Y7X1wS/\n",
       "l5ZT/+OFxE438svp0xrGtEmtFiqVXoxY1aP3aszq5aRq4kL96eu9KcmBNBxccorzhcQAAADTQZoR\n",
       "SeEPJlMCH//+qZYABb8t/c2Tm0sAITqs72Y6fE3Pdq+sgy+9a++q2hpBiV9/1nL1jOhGJAlPyT3O\n",
       "MibZTIF73PnvfCxgOCdBDrJmue+XGhu1yyAgQziCffST9+ZvmzOmeYXULdbb2tvFlgYx04P3qfwl\n",
       "FUbf9qZ0QpXzomU8yfRacJP2xK+EuxY88QiCAmLyuhl/tX8KpN831tsmM7Er/jGtB2tIPUTSrlyo\n",
       "POPTIu/PZMo/+Vkeg2xDSzIgAp7hReyew3BIIeKCBTNh32ellAAAAPdBmjJJ4Q8mUwIIf/6qVQAL\n",
       "uAwsFSzil/xCaygAoj0+WUs8+WY7XHOx9Dc5Rq3mX3TkLvQfL38X9DSPSbI3DFXFIa2EPAByYLWG\n",
       "Blpg3qXXnRfANzRpMk29bWuniP8gfGD/Ws4+xXUS/2EueEvFPDOL2uoyqZhYcVdcbTMxft+G4t77\n",
       "wpgS6AnDTVSUTKXhGdk7MTO+pFUAUNygGoAakKoN1HqUdEYMlBlu6CA60XPykUB37NYUZGzvfKIY\n",
       "viLBNQoOIilkRmWtB6S3gwan78nXqwAzVZmh8vgPgRXLsjHyiA0x5ppgpskKqZqc5oEhpzB1z1vu\n",
       "lI2ZAAAAZEGaU0nhDyZTAgh//qpVAAXcBOYTMKMUHPgR2jOgGrjqum65o4zecBYqfH/4mM/xxicH\n",
       "rlNm1e9zfNMweBoPWeVd53gA32tFmLcz9+008iGHNwKo4YV6gpcW8DaHYJ4AZrksrvQAAABtQZp1\n",
       "SeEPJlMFETwQ//6qVQAF4/q4ADKRe8WRa50f/pvYBOr9dCHQrkb0uDYXkG/01FwfePvBmo+jbUuI\n",
       "WWk0UTAmokbGlFi7j7Ne2eLYDEyLB2rt9RkDjuME53dteGtIq8RIp4Yrf9aOYaAJ2AAAAL8BnpRq\n",
       "Q38AEFdiy5OfeLGdjwktucQ3uoMhSl4e2OBLivT5dmOzysN1FMSFnurq03jhlBt9mgAoYeMEfOwY\n",
       "+HOShe6eW1Yp/P7Re6X0V8GRaQl86PDFgJUtAVtCMr0afH+YD+ULhc/K4OEENgwX8nWa66tp5ES7\n",
       "CmDMGNw/duUq24BuKeoYNVvGuFqlUJdEcuOp7c6r6qVVIbuYaOYhROXAiiEYx3CuOsWSSTh1AuR3\n",
       "LQAAO4AAMsABALUxhkuYsQAAAMJBmpZJ4Q8mUwIIf/6qVQAF4+MhAMRUH9RCUMr+dgHydxPUGQZi\n",
       "rpX3t1j7K/KYWPBoV0a/iSddGE1xe44dHrU4L5d708mfYXTAXfqh2BiROSBbCKC4OEVRszVYmdhF\n",
       "MQ1QH/+rsOzMg0LuUPj878aUwcVVuRRvhpeN9sXNcpxLERvFuPJL8bREcs8ADHzLqWid69sOINwN\n",
       "Cn1OIDpeKydSBqIZvmbR+FQFWicg5baFaHGu0CfoABRZmCDVdQ1nxjFJwAAAAFRBmrhJ4Q8mUwUR\n",
       "PBD//qpVAALuAthib50YoOfAjv/T5+wOnuGR869N+h+UMlva/gAADCrJsfkkETMTmiMe7Z2YACNA\n",
       "BXSVpmQFZLeOBwSMOBOqzPkAAACaAZ7XakN/ABBXZJXjau4AEpVqqRucUz64AMu4Lr9h5qSUVyXd\n",
       "uc3oMf+URovveNPgwmNebUMVKdjYA63zWLqHwTZg4qgwaZQwIHZwS3L4ym1Wg30WhMfUKmpOb8bT\n",
       "0jvAk/sPRdFZG4SDO7BWvK5v9oWKj/UBrB2T+ATokHEoDcC5i+LCvTJ7Rx9kvfcW+EOBTjeeDHWZ\n",
       "TOqhWwAAAFVBmtlJ4Q8mUwII//61KoABdzYY1L/9lf6giWr5LKTp/uc9vCo/MPd2qw2Qr823Rcvo\n",
       "NAwJgAzyp2oT9SW80ezn1MCOPAyUsjrVdeKgA8LNm30dMCA4AAAA4EGa/UnhDyZTAgh//qpVAALf\n",
       "7/gVjMgnDA3ungPfk/8QIyPA5jxqwys6RBhQBy0+QDID4Mt0VgRI1cK5czQ8ZLpihc/5q9HzaN3P\n",
       "iyvPwedFUz8pMxeaRb6emw6pysvIqZ86SytL//HvW12+hTPcUe8NdyDnu0UgucRC7X/lMNJf/KAh\n",
       "IV0i9jK4haafx0v5g8DTr9o12pH4Nh2TWUI0+LX8zbkMey7GGmZM4f4UOKbJmC1bdBfhrhxhT7AC\n",
       "gAXdL1iZZ7AbaKQNZ/5Zbx5QFBgomS1XNjdsf/WMRqhjTyihAAAAt0GfG0URPDv/AAu4us9XGN4z\n",
       "jMBHYauDE9/Q/2BPvTQcOO99gEgUXhq9LqOTzq5OtH0UALQdDIcpRMatAkgwno2ZBkmyVmpO7gc5\n",
       "lCn8/idk+ZslL3+s54TDiUcz+ZIRRVupC6mWNLcz642vpet2O7SNNWdmmpV1QpJuNfs0MAHEHlGA\n",
       "A+x3BQAwTC3AKxQLAAADABkpUDCRrwvXgV+/XpW1xzBiLahN6gxmGHzBSfKCsB8eNPNJ8AAAAKkB\n",
       "nzp0Q38AB8XTn5Amws1IadcfmS4YzyOCHKslqPyD1FJmnlaMvX9OyEcCmemb/bHCR/Nm3YADKym1\n",
       "7D512XN2WmKafVkfkH1O1iotSPJqd134dFijyNl0R3DezR4/WbVzwRNtk7H5L1lzom/eTM+EQRy5\n",
       "oEfnlur/7HTV2vXOVpQPnUamAhtTgoJ146/aWpppECYZYTCq7bqztaDOZLSQnbUqTXIxDDenAAAA\n",
       "dgGfPGpDfwAD+GvUvGz3AAqnW2WdShr/KldU4lVMb1aYpDbPouAAXIRVL4iHdSMwOu4jf2SHDJLQ\n",
       "XIkYClHmx9CczYb97LsWVtVpKQ+VQsW+ExdxEXSGMLw1yfury6ZHKQN3Tdg8YBQ8BGmTn9vNrRrj\n",
       "4g+ou4EAAADhQZs/SahBaJlMFPBD//6qVQABb/f8CsZkE4YMw5/gic+kg5Yk3q50RQX4sdt9gcd7\n",
       "ahSpOgFru/RkkWAUb1doFQRHmojMONmkMUaydp065iI5f/wsLt8xQVMMr+A59h//ItIg6TBQ/anR\n",
       "o3KU14/2qp26f5jdyoqz9pNg21HElE7Rq+6lX//JJA2LaucYlE82V2kQLIfwQnLmLpzlt1ZNNlHK\n",
       "PAl8ndnajj3XlkJYUc18N3rDIlS5FBxwEyl4uda1Mp+FVG7IY+6zeExHRalnXwEb6Fgy5A6OHFLV\n",
       "7HFSlEZUAAAAkAGfXmpDfwAQXIyJvRih6rLndfbPLmkTtnBRBmsfyzwA2/5y+QA4SgAv2Vl6ZGeo\n",
       "RRylvHpopmHABvBsB7K5EcVzFZj134QvshN1BLDk/rlXp7vsXYmhm5Uq6SpiYalKyPUMvUdqEyej\n",
       "tc1pF7o2zydhDPEDehgTW+MQs1Z+V8ihTrY3CYyAfcIqySd0TcyswgAAAGZBm0JJ4QpSZTAgh//+\n",
       "qlUAALx8NCHn+3UGYgrdAzEyTsAGWLqnNDBd4wVOCpLM8dtIWdz19ACXIzD6PYgPKx6LUVkfQHvP\n",
       "zieRFfBsnJOxqaaQEBfJQz8c6K0Q87b28qoll5Azq2kAAABjQZ9gRTRMN/8AEFdkhngHf9TOqzAH\n",
       "9sxPWGmtV8rtxE1DqXDHdQHZ/+yIXMbTgBB81X7353PpZaU6Laa4d8IKqvzDT2U690lsMDCZfRFS\n",
       "ZYd4NY6HMpI8RLqRoZloVFoIwgAIAAAAUwGfgWpDfwAB++1keAirjTMkydPGOEH+ZE9T/qQwJsRO\n",
       "G4b5y1J4/jEx39UXs+CRZAlF/29Kk+/J6/cCTJc93rJS/aQys8wk7mXgdN6XgYQjJmEfAAAAf0Gb\n",
       "g0moQWiZTAgh//6qVQAAb4xoqEgCF2rrZ+mH1PWrzuR4DCeVL1Y7vKJM4AGjuXiooV8bMhuRcg7X\n",
       "yhZ5qr5GM+Pwzjd26bGWWqd9aGvaIB+LrO3ZbAADovE7RBsx1lnhakUaVPR294M+d6amYwtTVSbX\n",
       "J0i3SFYme5H13GAAAABfQZulSeEKUmUwURLBD/6qVQAAbzAhgV8P3IH3veo1WoG1Q+jODQEJijVw\n",
       "P3yKBuUlVDwgA0JcGsYAIYTVuFkHT0KKtSoMtBkwVSHL8WyV3/4nPsoUBdiIb3G3cjkA8YEAAAB3\n",
       "AZ/EakN/ABBXZIZ3ho7Is4NQzhBcBdsUhgdds3lBoAPL/2Fss6PzKpJh+Bizz60LbWKnDRKwark0\n",
       "VswCyxf6URr6a3jfpa0LPhEJmPvTDghcboBxZj5TFKKPhTEwzWLz+1X12cnvQTmZD9m9F0uMSQU6\n",
       "NBujw+cAAAByQZvISeEOiZTAgh/+qlUAAC7gLxuKUU43ogN90+orN68yLrwvZqvxxKQpYN5pQAFH\n",
       "6slO64tqKRBsePc0UHR79owpduXiVSmSZewXp8JMfonADGDsS9VeCp2OvdSFpserU959eRYZzLxM\n",
       "yb9SKYFYnSHhAAAAcUGf5kUVPDf/ABBXZIZ3htLqayFl7n04+nES1dEapzk1xEbLCIFG1wCVsFE3\n",
       "y8yMue+hDNygoalJoIFWA+q2FJITnEBy405De3upHvcgIp2jXLg3T7IWDbKEiJZyf2cWxz9Em5XH\n",
       "h2JaKXXvWL7+GiLhAAAAXQGeB2pDfwABNYyUjDYYTlNH5FUMHe0sntRLwtkRoSwO2or1vhRaAAIv\n",
       "aNNRJ5qlM4JxACvnKRMLwDZD2FFMTfO2KnqdofXFplcOOaFWiwpwO2dbPnwZQfO2j9DhiwAAALdB\n",
       "mglJqEFomUwIIf/+qlUAAFA8TeAKDR4NDFJhr59dGE1xe44dJTt7rFErpMuAxDAjKQtSAS/3fNYl\n",
       "gXM363+RiGRGTSCnA/hGF//XYf/iDQAnosSr1pynsglsjnDSWhcPS1W3T78ij5xSRlbRiiz868Pa\n",
       "ERXQAysByuK/7iNwOxCwfsQ96NRWT6FF1Zxj+LB+nREFJY8TcSeqirJ9hkfSUNNKd3T2bM/c7vZ6\n",
       "NNswIzOtwl6g2YAAAABXQZorSeEKUmUwURLBD/6qVQAAUEQhgV8P3H9kBW5PFurxAABLfq5DuA8A\n",
       "F7lrCKTt0T9IC5UV9M1M63av1N7+4G0vH2x2u729t6eaMz2A2NuPU/WpVAf5AAAARwGeSmpDfwAQ\n",
       "V2SGd06w1q/KDJ8wWPa9QJepBS07KnvCimAlogQAtbfdaiIi61l0CtUGlrMWkrkKDjMjPiEPmr7E\n",
       "sLNkwGXAAAAAU0GaTUnhDomUwUTD//6plgAA2VTEckAG2VGpTA1Hwb21nLZKHuGfue8kZLx1ESLX\n",
       "cK+nLRgBBH31fqshjhiyhlVVrggOEmAOQqFn2bsxHTl6qPYEAAAAnQGebGpDfwAQV2SGd4c//QAU\n",
       "XiEF4lBFtA32KBGmIjCqkZpT0xtQkC7siiJ7/XbT0quuZ0CMWXNy1Bk8yflNR3D+DBr0qvwLFI3M\n",
       "b01OqenCtcb394A6KpDSaInS8B7mWtzlghtgbFeeddJCBQ92yLf51dgN6fpBKDXbox2EJw8OQ5Gc\n",
       "Dq+tnNPG19Haj1kcdA24xVOBp+59OyyYaRkAAABcQZpuSeEPJlMCH//+qZYAATl+Fg+ZdE72Yz3Q\n",
       "4JRYMvWZ0iuXxVm2EN4zPZGCEI2l/moAPuEDXO0f8MIFfGy2iv0LPyl/INWriivjRXAzwQA7zJJG\n",
       "hlN3GQM87oEAAAEwQZqPSeEPJlMCH//+qZYABb8t/c2TnaIADRarPSQIDeLJFbmJuP31WWOGQdbI\n",
       "s3JEAlin8QRoS7ZymQL5o29rI8Jwo2tLGeNDlXusjVEs8S1w1KN8Y/CHbfyLY+ZqQV2or5hOuA5U\n",
       "3kM2HtfrCY5TF+1J6/4cHr7QoSQmgj1/BtfA/ZAqbxceWzmPRnyjv6lOQ9NbUnKv4ziPyKKEcTfi\n",
       "xVPUrlMcCvGsOmHe03QPLHxmBkPEEe58zEfd/R5XXEHuPGIykSt+GdvPDsnYSeT9AJ1fwLuD2vvZ\n",
       "hIfxfZrUWZuZpgwBw4qkeHgAMsCAjAEk4+lUuvjcBNE23GZd62gCniG/0nL35sP5LdpbIJQBFJae\n",
       "gKdwIV8OFAEmPk30+bBIksLB+wic/A/wT/cBTYgBewAAALBBmrBJ4Q8mUwIIf/6qVQABePhoQ8/2\n",
       "6gzEFcGLSwfcv4AMLcZU95qEZgAAGrABCwPmfIWnQ4AA5MgHsB4bBeN63InS1NXLFKu17nks8Sgw\n",
       "Qx4xEVwS0jeWLV4bnJXXmUblglSYDojz8dEhV3pFy55aaF+shoadXWbTuKsqJcLayzemX2L8ppZB\n",
       "JdULINm9hYmmglxenQstbpoSLIMBx/1jTN9Zymko75LIWgQYHXgXEAAAAFxBmtJJ4Q8mUwURPD//\n",
       "/qmWAACcLMnzLjGGBoPrysn6AAgKr1VvayVOiFYwlI17L6OcaxjxT24NWwyhHp0JuOmDFs+ZWGov\n",
       "AgUXRHCUXee21S52H/on6X4cO63CtgAAAFQBnvFqQ38AEFdkhnclTPgpWC4Og3s1l6qFZE9MxSOW\n",
       "MwLXKZcKHjm4LQprrYKZmaVhBrKehrrQTyVm4Ovu0FIRcJtOx49cylGMJHtP30HiukyENSEAAACs\n",
       "QZrzSeEPJlMCH//+qZYAAbKbJYAj5C1KDrb0LyiLWRqQnmoD25h6QEjIbrJD2/4ZnWEBCjJQPKRS\n",
       "I9P2Y32cmH0syxtY5nlje0zHict0LYnLXbf6h8O1OovktBWrXeBV9OrPVKkq2juf/VP8RBuyQHHS\n",
       "Nltc1PLFE/cvHKyqqyyBQbS02hlvPUj9BMzIloWp616+2LGI2d//l9D0EWO3PpnMSdal6bwqfUji\n",
       "0gAAALlBmxRJ4Q8mUwIf//6plgABsrmCIhJjDCL6zMYBaz5+p5N5xjEEdM2WoW9e7pnKxvMBj6Pq\n",
       "iLIoMm6wiaLSLtmP+7DAQ5bJaZOyy3V3zBk0VRZrVH6o2WqkU0bk9RXvXD/PTBKMDQTbfUGrlvln\n",
       "PTioTHJhhix8VB7AdI4AWSCjUU+r/XZzMD4Qp9Qvrt4WXqrgWsW1Wl+zoOqhXGsb0AmXsJ9oyv03\n",
       "gSN2yrEyKOy2rURqMxIy11iDwAAAALdBmzVJ4Q8mUwIf//6plgABb8t/c2X7fAAdmhZz6en4TepP\n",
       "4UB5+iD+YHWvmEzTTDjDRTdftp0Mb8hqBU+kWulw74D57nwkXrgnRAHsYElpbsB06Nmv9DqS2f+7\n",
       "brkAOqZBm6Cx+kAevXaAvKTqalWEWNyPjdhFUab6NKWxfy1N8azTMZ17Cgq2OoZA63qc1Zw7FtsK\n",
       "7WUR2A4i9V9qVeH4UeOKHln+JbbFOAWiQgq9Jg1x+3YnRjcAAABVQZtWSeEPJlMCCH/+qlUAAG8y\n",
       "50uPWXJdFAeO8gMZxFvOJxi/apy54kivwIqgPFvz5gO3XuIPmkkCoQnUfio5La0v0KoNmuwIJn4i\n",
       "QvV57MBKXCQakAAAAOlBm3hJ4Q8mUwURPD///qmWAAGyuYIiEmMMI3VnkgI7QLCRoBSbaXLBAuf9\n",
       "RPfSBiNDX+uMkpBTfHWvvqtopobsL1AboLP//NHamNo52J4uTwW9jQAMOL7/p8DrxmHIxlbdhPTS\n",
       "JU3yH4s4Atn8dRbRzPRET7xbn//xNoqXz1B7smTzQhn+Sh9f31RdQY9qftCxPg2l4Plz7L097r/7\n",
       "W1o7/f5Bov5785uYlebMQanJe4d9fxhsklaCNSAwjIpnsCcrtYXjxe0ETIzKT1quUgoSal+Tvn2b\n",
       "gAE9pwIT4eWYzbgAGoSMtaCDgQAAAIMBn5dqQ38AEFdkhneGjsizg1XGm1VD0WPv+HLiO8uYXfja\n",
       "wJ6Uwo459auwVXamsB4Mx7LbuyKZle+ltNn1d4u9HQhw0C4PXfDYFF3zafM07R3xYwdRIE7xRW65\n",
       "7T3Nui/HkGxRin1uQOZ8XfsIOXxjHlfMBBYJjMZuypMarA7V2mYD5wAAAHhBm5lJ4Q8mUwIIf/6q\n",
       "VQAAb4xoqEgCB4hZyPAI+1/14XncjwGE8qXqx4N/xZXZnW1WmcRSXRauFBfU5o3mpEICRP6YKIsU\n",
       "5rUi4rQI22y4MuiHhx8YOA8mOqg+9v+F/HN0I2vtG42l4iI/SHtaQpxWRcW7Ml/zhswAAA5+ZYiC\n",
       "AAS//vet34FNwEDta7pXOLTLq5Q0PVH2lKZ4tkgAAAMAA44es10aknua0GgABgMD+DO//EFAfurQ\n",
       "nNmRzHdxznROQLO99exQFAMAEBAWsN1C4Nlb9hFIdxyTkkpjTwFL5HLn1Q/+Kz0oQREjuYQ8aify\n",
       "nO0+P+Tp3toBeljcyOA+3tskDsK6PntJxHhtx+dLpzucgUayawkjrkzDyPnbJLHj+5H1PUdQppvb\n",
       "erLj9ks0x+8uOucxFw9hg7swY6y/WAprCimmDgIfD2YC5QCK9pO6920z0uZWe/144afjWclVG3AC\n",
       "84qs2xBoxpwF+DJyjetfBMDBQQF9Ta09eCXWg5brJsDKI9TY7mKq93JpBtvnVJJQkw7tzJwlBPK2\n",
       "CDV/LmgtBBDzgn8WMcOCR940zrW9kEFyNnfammyz7B1pVhN4CKQvD83w774XgFifI4RxugkAcG6V\n",
       "jMbXaaIDHTQht+eRMDw8hz7Exk5M1rUVH6N5JNflo5s5PvZlTQZfnv88T+AH6Rp6ifTWWLGUE1Zg\n",
       "G+u3MBk0yAPgNurKE6Vvnm+PyIiXig3UlZXMACaQNQuzxQcy3d96rGBsvR6V8vHEZuTyftsBXEGZ\n",
       "za/hRxIY7nMIehH2QlX6n6dCSRdRT+HlF3vcxWIamIyboHLb/iWNJtM4gN075SZH+5YeexD4Cq7X\n",
       "r/6a/ZWU6uOljngtkSKCrk6d7YJYrNo2tH5mW9OyHKnyTc6j1eh/cQGr7Ft/7QpOcUvDfmXaSF+J\n",
       "5vhifz4bihWA6YvMuBKjH0spY+B3eXIqvTpZ3OWpXaSadtOdaPx4BAy2b3rI+cJmTNoIVRYgMaPn\n",
       "JoLoAALtHlBnUj1wmJS6YmWmh402OIJxq7CNeSKtdPXHD+Z8WY7CQpcEdMYEf7DGf/e035fGowOX\n",
       "tzv98QQ2aXygjWQZHRXAzLfrDiwkr+UtEh/BAdQ8l2vJD9/4n2K8yYbn3HgmndsLMmgtqoWNpv+k\n",
       "DyXgvTMNsCudnxXH7M0e8X3y17T9o8MjN4Q/+ICuyHxjgRemvdsFiB9wURtkFJTPpim7N9dwFeO3\n",
       "7tvzgxj+Qmn4q5+fYViBHaO6CpnQAhkeQB+McVQ6gMGpIUc46g2morkYv4ngFehSzXpFEGtfWcB5\n",
       "9Rb+WW9H60n/9A9WEknXdPkYuMLlRt4DlhpluoPHyDfRaNwNwRthZnePrMH0FHzLwR/cde8LZE3T\n",
       "pVNzgEXTDXN96gyOuOf/IV1Dlw17mW3ikHN+7bmvg2qfr2d0to8mjW3IKjUp1EeL1tjGE38tSuzb\n",
       "d7nrUE5ploS0DNarbOiK3bfVYJDPJE/Sf9At4SrhOj1BYO0YrCqolEtizhWoDkWJiGHuiJMK5FuZ\n",
       "wR9L6S9nllUj7qOE9VoTWjSGm8IIx91feKOLZmCQs+8I++yWvdJhbT9YZq//O86R55KhpZeg5QFH\n",
       "HI+bF30ag4DrSylLvRyssEliWDZ5iXOiKL6oEfdNX4ot2N2ReDqUxFoX0Ugh5ShCAaGi0HqmV1or\n",
       "ykDVME+N+SScgDvvaZsBpaXIRd+EiRMzZI4IJwnEosB0uRKvZL+xV8fNC6aiuRfUE4/EBYwA1c1t\n",
       "EGi/ouNpBcRpG9akj1o08OLhC7ER5IuyIRrCwm+CQUu2OFHgbTQGoDVsAWy1nEJOFHxwGqRNfAEU\n",
       "EMvoy6KiKVr+GH5UXQX+f/Caf4PLHLvEDqmpFkVtqUAI31B292ujOgD8D+LHU3efLn3LdJ0rGF3d\n",
       "/6um13WTnwjQFRMhBTv/joWh7nemgyX7HcahNJyQ4ih4QlxNvnqCXKMpBVMsxzTV6D7jc0QFyqQW\n",
       "bQLsQzozx+ENY00wRqtfQkF80iK61acD+j7RGBH0yGM+wMjAh8rUCFgi2+KPlMfc7j95aP7DF5gY\n",
       "gfbjlYZAwk7CkDb1qKwtoKRMI5popRE5300K90o3Je02j//3ACLPRHVk2m3jBn0ve54MxYEHfGRv\n",
       "z/gztL0QAenUQR+qMftwFozptMH48rwXcASXMCh4XX1dUOts68iBDuGDmrprSpaHbnRffb9RcQax\n",
       "JXMsmvPa4dfm7Ef8OSinmQH4A8bNvPA9Os5GaiGvE8d1xksqVV5j9PQTB+/jhg8tSUvnQF5BEVDq\n",
       "jWIShxFfDB3i92Ch/bVHGPpciEJEo/dohAEcgKpwwbQ9PXq/+yx9ycso6WnQgtmwd6UQIq1gDhe7\n",
       "NiAgCMCzvljHeqxYmFjY4iVg9Lh4zUbXEf+UQ96qlOe/W+7XHjzyjWXqs7Fz5YHPe4rNBwPQBl2g\n",
       "BePhq3BK/JSpaPwHdwpfe5Pv87MOsfzZ6mo2z+KSQhYq8kwjwkBjDNPXF0uwSCw4vitPVqM0ZacG\n",
       "CWiPFfGOwHDoRy9qJBh5Agidf8ApCFwPmPJfwUIrr2FMEmIJcILjCi3y4OZNXMLQgOmHWaX5cIZA\n",
       "JpREuG/XrCAdPcNw4TVeRL9hhvhaK+71Es2SI3Z4hbfHMdVC+95vctTA7bUE3eaOVdHEOz0ltCBV\n",
       "TKouq5D3hB9QwbRuTJu0aeKTaPbhfajjC9sNbp+I7oSBl85C0XmZSyd1ORj+bPzeuU+MK9+eh8BZ\n",
       "dEpH/M3KhNQv0Mt/eJkp0dwX+jE5m//j98QFzVy+MLyqP7vBAO1qKsHqO/OZcd9z9hM+Qi/92507\n",
       "kaaB8e5yT3WFBx186hqQC+uF9g9yPi0GPKy/M9Xg22j0//Q+DQFni+k2fwflJPkxVOGYHOwcQBX8\n",
       "eOnhRFRiFj55xqBmwIcdjC5VjJnJ+sGb9Fift+2tC/PYvNHas/9G42FpuTW5iIthQ8o6mlvHpbpe\n",
       "ANK5/ZEyQBMYaLgr+XpAljLAxSb8snbCPsEdi2SxZ4nApmpb2iF/ylF17e68qUK3cVz/g/47bEhc\n",
       "MYvXk0vfBtBqMDWpBoT0kWA+IHqLTRRYHknidASbyfm85sysAEPq5kkkEhG+Or0uWE4Nsq4AK9uY\n",
       "PFWqpe6F11FE1kvRXR2DlMHG3RrnMYl0lHMLMeb3599ys2VGLwT++rgj3jzknhl03A229AxXlpgu\n",
       "LmmEhbVD3qxG6JUux4/TjOc9ZVdCF0Yif3baY046uPFj78/uwFv2G3l3paulmT/10jswqYsMfp69\n",
       "Qxq+T/+AfXyVk/WU/JVakABWIGv9qXMk8zDi31ZmepFCEi7PlbmQbCSElSTmNxfEcwnTDx4dORzS\n",
       "BwjjcSL5or4rnQUwQ3blglz1VWxdKknm8TcJSI1uI5/zUcLZ5AMxpXtmq/ATwEnJ+nr98okaw55O\n",
       "vxwpHMyIelfthd4xeIp/EyQ7JVmCLWrgi1J6W0xOAXgYqZOVXqt4OPOAIMzGQJqOoEIuXyVBSobB\n",
       "vMntsxNi5tU4Byr9aSU1daz2asYNycnACLK6xvo0WYoSCtDyTs6YqXmRRSOSF9mbrgiByZi70iBK\n",
       "a1oXSu31pdkm4Y8jaYAk/dkMs9YK8DUY/J3eesQ4v/ekq3Y+fUSvNTSulnJJ+ANuw/sOgmIKWOCj\n",
       "8Wpmkthc/Cy2AcCahQ+QjP11bO0/hr2jozXD/+7/9zpUa8AugyjKB3TzT6vkoW630Tf6UtsPC5Jm\n",
       "VHbu3rytSzxETC0j6kGAzNhW4N7nB6vksuZVjaCoSxcUVYfFVEjqwMDbKfw0xEcAnubVPTCxBevi\n",
       "cEfKraCh9oZlKfvG/n33Rd721FnzQXLdBBSQGU3BzMZJMq7vunAkXB46i+LnK6uPal96pL+DWn7Q\n",
       "Ran1LzUX3rHVCPbON+B9nitAqPr58nkR9x4C7UIN5aCuhSqd7k7Blneut9rhFEe1GBis+msUqBm3\n",
       "rxEhbFqQfom6dYyu13Y1hU6rvJIM1PKacMgD+JG76Rd2UBPLkSvSO2isvcRPRCt/ZKhekMchT7Xv\n",
       "e8qEij8B2P/HBSBcqFOoi6aktxz8ikdngF0HqKz4pug49a8I50J2sB4jQomJu7yj3B47uUInaZ6O\n",
       "k8FbcnAccdx6KAY1aGpQcnuK7TheNWMGqhFexmP4/MhFCmtK99+NnQzFB3ExPEflh6Aj97KZYl6A\n",
       "m1NbeCAlGljvLhK16oYbMDLc5hfjujq/tTk4bWL541VFLVqZQXb83Sx0yKI2IQ1U4iS+oN9F8QRr\n",
       "RStoFzVizILHl5exhwaz26aU9wdZg4aJwGqDF3dd09TW0b1XO5L/0i/qVU1Olyvgkt5+xY9tSkgs\n",
       "fUivvv1riZB3KJ5SICyNb/qAN2mYrqPPA1vP8kDZWknxr2xPcCcB4rzIVPx733Zb479oY3yn6uJH\n",
       "zYp4oOkcnps/uSCCgLC6XQ5SPvAIWiduzUrappt3by6Ap8EhvOAueYLHItmcHAUNyN+0XPnY4LXo\n",
       "/gMikU67Ign7OvNDWuROVgAnxHuO76IJfA+AiSwVtvjPiECKiGh1OJUQengDIu8SAILOVOkK+xMp\n",
       "y/U56bbI9B2cjmEwDogc8DvNvw+aMnvStGlshXRf7iNuGEweIr4WRuHu2a2wVhK51aHgaXEzwoC3\n",
       "XHFFRqYa/TARh8t/XPcMMbCRhBf3YdOrkYPTX8EbLcqi1hhjHuDuuEAYMbAqpDm0ChKzi+W9SrX8\n",
       "cfMfSpBwf8FO8znXfjHuRyBOSSCPky3e3IihfQYKv9CnQHCVciG/mPmnxvSTP80NIXFwVIIMb4JE\n",
       "ryIu9eNH/QqTUiyZ2GEq+jWJqMDgdPtBOe3rIqrWPeGnjrdes8gQrVSDJrRcPtuuBp4KX+aQJB4A\n",
       "CeWaaw930RqQinkMsiN4X8mgFDe7/b9YH98NUvJzxfFHi7g6hkDxXzBMoXCw4C6d8mg6Fn6F/vQJ\n",
       "NL+gyXDYAfCi6pNrS9GJ02OFDkvUnAjTOfF/Boqx+XuyG8Ll+Me2+LBxE8aDl8DNbij0q7hVrKyg\n",
       "IyxsHgKaA8HhDYGuxA6dEUFq7kv6ktpguKtXlc/zVlf0P1a2raZMricxIDyEz3Z/pm30S+/hWgAA\n",
       "FbEAAAImQZoibEEP/qpVADC4IZgB0UQKpXcSHr6umX6Y1DTkD1om21f3fwr8m0nSk1wMSYD86pQ/\n",
       "9CZ5HaAkSEXq9ErA0sIB/ZctYe9CVBVwKgO1ux9ZJN7zorF75iE0jwAsMF3nCK5cVhAm5Otjv8KX\n",
       "3/7VC9QN8Ubpm6I3BxQncqWwyP59w2FLMmAliYscp7jAW4MjXoEhiCOSLdNf+N/s+aZPqncQC7xG\n",
       "WIk0oToEZAiCVQ9rpP4/eXX8jBkgRkYFNBWgS51AQaygzeP4uM0AB3tUNBPr62c/lji44ihDRiLK\n",
       "2GnwfsrBZ1yd1oraINLZuOXgQpMqmf7EBM5/babDQEmY6dFddNysWlJ6jYCMu1nP/RbISOAeZfcc\n",
       "GgORwwYBFc9DsBYClZuBC9rJ5IyyVdrOiPn67OhxVmeWGurrerKpFq+eJp2fJs4lAphkUycecvXk\n",
       "TjGX+X91pVc+r0iJ0mFHQR9AA5mXyffE3+FXSBF1Q/V3gkugv/38CmJ6Fmw8RuRmClks9A15BwcQ\n",
       "5Kej8PQdFHMq5n7HKf62oTUtyBwJrfDaXou1xe7/bMvJYdIiXoXZ+FH1BQG7jLEn6e2xbfD/gDHO\n",
       "Tkb/R0fr5kdJuYy+LufSI0X9OKUTQint/SEQcUr/qojMHaMWIecvR1Mekyyom+LK8mZ63oWDshMr\n",
       "0pXMGUEP0VFE7n3sqeRiDnxjUSZH5VgmEiPnA1xJwweLr9ZOGSM5Zs7fdgAAAIoBnkF5Df8Af0aR\n",
       "lQlm0udhlrKIZypkDjy55mg6B9YD7MdBdy1+77SPIcZ0/gANWg5svQR+2/igRv/NzOceQMSmMeVK\n",
       "yqlVRUyJ9YiQJQhm+S6QVRleBkXvU+xOmD43MPcQOzTz2xsupCOM69NhCa2oynzccFLMy3lkzNBz\n",
       "UsyZkpH3GdPEjaKaXRUAAADQQZpDPCGTKYQQ//6qVQAAbzAhgV8P3IHrPwqAGxrwd1SIjAXuoyPZ\n",
       "DiMw/drgxX+jSszd0JDb6UEqsbSYVGgR2xp7Net08xPe/zp1dOaShvTYnYaL4/EJuNw5rBwim0SH\n",
       "yXQAt//2QWwVNeOMzwgxu/47jBfF8bdWyZ2QWKPBQIflvtq3d2A3wlu/mbisKyygl1CA43V0Ktoh\n",
       "+qROibABqiVw9aXS5UZ6EFbMLGLlvLhYIs/ZJVFMfXAUCPf2rUhWyvkJPs0e9CPiNS9P4LpMEQAA\n",
       "AN9BmmZJ4Q8mUwIIf/6qVQAAvGVz/x/nIeADZygmFPWZ/lHPCUsAq79g/uUmjFltq0VsSG4O5n2r\n",
       "OIwr+NIU9OKZCmanWpIkXaXkV1hf2Mn+eOCmB4ek0+rJE3OnGZ5OBRX+GgwvbRDo77b5E0lgvEXB\n",
       "occo/1Fco/mDgtk/TjoO3gVGgVxTmykDwF0SP5HpnepTmK39fpodKOLPBxWHY+CpNe1ZFP9Q3gCv\n",
       "TY1DDCBCoy50LkfwRluPab1MtPn+9BX+AHFTiaGjp6LHa1r2z9MvH9AZl0D+ARii9EkhnUHzAAAA\n",
       "eUGehEURPDf/AAH8KEBzno0hua5svD0UgOcCnyNf1TidsR2lJi2DeDzAB5OxV3Dk0ovVp+fpLPwp\n",
       "65nQf/L5DwunbpR0x4NPaR2E5U8+sNmyNTdLnuCZ4brIFzO2xRFtwqmvgUCjowswOPbDNbvMbDwf\n",
       "LYCfeRkjQHAAAADHAZ6lakN/AAH8KEBzno0h1XOlAAMivjBHzzwFBq/IxI9xG+pJdlGNwIMhXw7V\n",
       "6m28szWkrAYWUBW0IyvRqv+kQ1EqV9aEfTvE48RF1YgIXm+duPx0fEXI9skwa1LzVlDMOTkrxQ1i\n",
       "dBk8xPfOtDvZ5kAwgvBlQiEWl3/hDkqLFG/bveDM6Vh0dx1TBD8eu6ChszK/mCEigPGy2yAPEQyE\n",
       "C9H9BFOd4a7XF0jyUj1EJ8V7NtHLg2EAIC99WwhCEaFgrlpdLdQKqQAAAMBBmqhJqEFomUwU8P/+\n",
       "qZYAAtwTY+lIM/0F0f444dWACw/InjPlFQvSbLW/WZsfRT4CqVVSvSquXtUYbAiBh5T/9jISuMzT\n",
       "G0PhuGX+IXuFDWrauI6axt8C9I2Ht3HEk+6eQFbChOG7UXuofJJ9emS90bdMXor+h2iUUENr1BK7\n",
       "5+48VEYY9EupbjU1GhKNagTOrzJPdV/NhPGJMXlTWFzHmC8royAoQt3dtfMIhSgddFlFQOl5Rjyz\n",
       "Rs8xERiIFtAAAABwAZ7HakN/AAH77WEYbDCnJBOjHPXss8YAcQTJ9r8t3Wfqr/DYAIucKq45Jtaa\n",
       "Q2lNMv4SNpvzc501oikWcKMQITgclK8jnvy9GZYa9L+Jfuz3l9DPyVbDty2wVONqoVn+/uyWQHFW\n",
       "WREwxcrUcJyhBwAAAGFBmslJ4QpSZTAh//6plgABsrmCIhJjDCN4MA+cAFDbEHITT7hI7tx8qp3F\n",
       "kyGxiBhzxw9QOk9jah2Njm/p6miuQPQW2EeHzmbmQYbDVrf4g/D4S/LEsCUnP2kPjQMF9u6AAAAA\n",
       "e0Ga6knhDomUwIIf/qpVAABeMiJ/4hM1QF7tR1V3lnIVfIogGL1CuH44CdDw4wBzzupCQpmZB0uz\n",
       "OYHHioMQgRLUyQhHJsVZmtftB2Klg0ioAAAERK9CeYv/6S8TIUOi77Hpqqdy5+dIADFhZ7x15m45\n",
       "26ACtXykqJAy4QAAAF1BmwxJ4Q8mUwURPD///qmWAAFm94QBPmfJza7cgWPyEAJXMJv28F7qWKNm\n",
       "Rn7br76BLXuO/8Avus5U3Ky1MPLu1gmOIhxE8h1EvXrhrujNcDohPxO9ALpQ4lCBE2sAAADEAZ8r\n",
       "akN/AAE2TlAA0bguv2HmpJRXJd25zegx/5RGi+941G3Do4xtREtPuzgCHjxt0PgmzBxVBg0yhgQO\n",
       "zgluYwLgRpCeckS9gDVL+BdhqmI3yEAuhOTIC1mh8MIRKYty3Lk3Ujj8nkZ50D1V8MqFQZR3JAjk\n",
       "qJOU2GTdns7CO8210CtY1YNjevVN7bZsPYyTgQiNZQZXUMN9zCDa2g9gH4EFMA66LNRg0wNV/DJb\n",
       "5EVeD6UzQXoB7glFdpqmGyURH4gm4QAAAMJBmy1J4Q8mUwIIf/6qVQAAUDxN4AoNwjQ5iF8Za9R/\n",
       "o0sxrQfksoAiSxe7/jOfmzOc7vxZwjYDYwByRw/XJHo/bI/TW6RwtCNMaWm7BEmTzVQdnxN8vBLN\n",
       "uoj2FjXqbeVk1qC6d/DTN/8aviqxem17sDLjuDWt0cSuV/zuzTfB6V0pYgriYsccrMTe/hTBl7iW\n",
       "cgrtHlbufPaR8pdTQixEddDMuzqrCpldnJVQb3GNo/cRGs4WwnzCEZgCa9nWrfh0wQAAAKVBm05J\n",
       "4Q8mUwIIf/6qVQAAbyivIAiajwJgCg3/+2Imq/+QDvtCURfJTMjz8KYEeQQY3/ZgEwxUOgwZ9bkf\n",
       "OQn6G1gqjLMFdbau0fOI0+RdesHMVmj0OXHqQUA/xNSJEpcpEt9iyYYIhyKt0aXHNx548B+xzJ+x\n",
       "fNqgb3VJ0+e4E6TLZHsFCpFL/XztOP/nn2J00o+uCAiycY1MXNATye/YAypTYGAAAABfQZtwSeEP\n",
       "JlMFETwQ//6qVQAAbzAhgV8P3IHa+MaAt1lXnqB04DG48awhFNKxrNPGskgXA1lk+dZoiAEHvmIn\n",
       "LYSTHyORfNhxIAeW5zanYUXDKNCmQzZfL9Ds1svo+mAAAABoAZ+PakN/AAE1jJSMNhgAHB/6/5tU\n",
       "8AOCxep+cphZbVC5sjeeTc+GRJ0cpSy/oaSfR/Nmveq5mP6+aWvNXACuE0ecLiETTi3uEp+0R2HT\n",
       "5U5me7VxXlSPsaElrgeS3pO1EDsLxQyAQdMAAABhQZuSSeEPJlMFPBD//qpVAAA3w6Yx8+MCEaEo\n",
       "QYVycwwj64Gs3xMjJq2jA5C23tf/r6gIUSQRL1PHR1BWkMDYp9mkqezpKhv/N/iO/VyStlh9nZK0\n",
       "5UYGpkKd3ng2kAnC8AAAAHMBn7FqQ38AATT9RluDlQALaS+ia6lhKQUHBhha9hQDs/tV85DslndP\n",
       "n7Nh0TIyiRefzGaeweR+O+ry2FHStMkDiBAEKRB6lgZwXMxaHu1L46nI5o3Giu15FZbnPP0GlYii\n",
       "TOjfaPTyJ89ZDsv+yETBEPSAAAAA4EGbs0nhDyZTAgh//qpVAALxlc/4SvHIC92o69Tc/3P+wXpl\n",
       "icRABCYl9s5spx/o0sp8ch/IHdovu6U3fWD3VOTTS6PA1a+SKgvLUiiwOWPISTi6gGjhLGiCmbcM\n",
       "idnuibnJmsSpaoGfAP+s6RDksjwmPCcpdKhEbk2kcj5z16xOmLXqVHND1Y30dEJoIOsLor1nS5Gy\n",
       "FtIXNri87EL9vcMLg/haefIHQyyOPJFQIjpQComKGTBII814BBnIKgjlLmu9EGaMeWvhAxPfr4lu\n",
       "qZjMSj1M+swleM616/WWmqLhAAAAZUGb1UnhDyZTBRE8EP/+qlUAAXcBbDE3zSdiuVrs9Oc4fwF7\n",
       "opC80YgAaAuNcH2qA8jkPSxH6ktWu5ZZmaYRAwiAKcO7EzzGuPUcx0mm23qXGr/Rq9035slL+EXZ\n",
       "TMbCkekXakHBAAAAagGf9GpDfwAD9uNVmpaQMF5Cpo1t9pZO288crNdp8AEqZAMOKwUN/gS4Mt+a\n",
       "oC1RdvhL9z1u+vCYTsgUtDvNi5pGjQHNHdW4BZsFVRuLNGIYdcWOz0Mxg4S/qaqmc1Tavtky26Jq\n",
       "YX476oEAAABiQZv2SeEPJlMCCH/+qlUAAXj4uo7yDZH29MS9Wgt77B5ha4D7ApvLqlwAKm5nfl1B\n",
       "y5qw4gzbdd/NvSa5CcRsrbz5M5tiWmCC4RUm9c/8d07ZiKgm6Gnb9274CYK+uzkpdUAAAADUQZoY\n",
       "SeEPJlMFETwQ//6qVQAAu4C4AykoHWADchIMz2D7Z6aM8xvgaqXqsZ20eEmH2yYNap89pQsCN3FJ\n",
       "99ysX0vvQ9/Q0lDQyMc9QzLtoGwart/7noV42IX9YFu60fIwQH/gnsDQlSecHstlRresGcwIdTy3\n",
       "8u+QXnmBENBHjUQ3Db//Ei5MlvVlKk5r+DWvnvIVUUM503GWPrZpTk2EwC5I0es+nADNGD4i/QTv\n",
       "8Xukvfxw6cIJLULln8gNczWFIzv9uQAARihEzH1x687WjojgsaAAAABAAZ43akN/AAH8NeoKgkEg\n",
       "MHbpayNjQ5nbQpLqnTbPGTcLXSSBcgLwArKJdJuBKDk2OSrJ80/Yy99nrYeMAi+PGQAAAHhBmjlJ\n",
       "4Q8mUwIIf/6qVQAAu4CclJACYVBtrc1QI/F7L+aU0uwaQ+FAtXPYqJ/Wkp56TnJAwgAhWXdCYu/o\n",
       "v1ZhMNLeCp6WLxWJuZW2iBZVlZwi5OihA4IFPo9DjpOIOxDUqmPwfJIUadxcXuNfEwtNn9j8enso\n",
       "LaAAAABrQZpbSeEPJlMFETwQ//6qVQAAvHxevVdjgIwTXXUAvu+VyqF6RD9xCvPvKMeXWAAF0UES\n",
       "TMNeqwAnII2A0iCjgBXhK7BPlOrzWsn97ywBBykmNVznjSmiidQL7gxUb7cT7rFIp8BUskIPU3AA\n",
       "AABGAZ56akN/AAH77WEYbDCnBtdmPIg6xp7UzmCgAu7dnF7Yyd8viTGpQNEXlUj6JoEVQo+8gBPy\n",
       "dVFLPZypL5OiNYcdnqC9gQAAAGNBmnxJ4Q8mUwIIf/6qVQAAbzAhgV8P3IH3HeQGM4i3nE4xfsyA\n",
       "AEznPD+8Iz/JKKt2YcSzneAFzUTI/i4IbNfSSdNkfHy9nIIfg9woprDx5sRJva4/SX6h7njWQTPP\n",
       "nzOysuAAAABhQZqeSeEPJlMFETwQ//6qVQAAbzAhgV8P3IH3veo1WoG1Q+jODQEJijVwptXl8Kod\n",
       "Iq/sAGI8+rrn4A4PFja6+uuaEeIrEAAAGebnNn9U31KQoyjvKJum6KU6WdbFpB9UgQAAAMgBnr1q\n",
       "Q38AATWMlIw2GF5c7WxPtx9ZVFKH1rgBMsaTV+isrM3KPzKpIADOIFMNBuVsdLdV2hgSzy6hFjvp\n",
       "xPrhsiTmgMl5phnrqBC11FHomRyJYdc4fkQKcLby9Di+OIfCVovM9m32GsnAXb0m9q7/oNPjkj/n\n",
       "AKXLLNDShrwsukDsDXIrjAOja3mU3zdASaihg1aJ6IbypQSRTIU5nVZL5aSis1n1cMHsRt/P1e4t\n",
       "ycWTdCli8DkpEbt7YTMQKSgxlf9tbJkh8wAAAGtBmqFJ4Q8mUwIIf/6qVQAALu5YBoftKJy5+kaA\n",
       "n0PyLXOkQoqFHXyXj1ZMkWxLsHZJt4CLg1punCbQgdAhjUaXOMRCUPgqVMLTetWImD2LomEMslkP\n",
       "lmOEHNuFTqW6n9cUbsscBsUIABAhZQAAAFtBnt9FETw3/wABNP1GSQgA4kitkXDZSiUL8robR0Gd\n",
       "jkOA3kEkBXec9MhOKn6Os1y09yUDeIAHE3JR80edFlH0QLk2yc25/7piNlOfuGd/dSmOtQBPMiyv\n",
       "51KTAAAAPwGe4GpDfwABNYyUjDYYTlNIGkgA5UXchmoOfo+G3x3MJYISG1TICBgBAEJ3BtKHVba/\n",
       "SJn1a+3GCNMJhnHBZQAAAMVBmuJJqEFomUwIIf/+qlUAAFA8TeAFdOGlmjEsWUGnRJOuyQBU9UMZ\n",
       "rmiTCzj4/Zka5tAFcCFF9fa6GSiPhoMp6UqweJKkZO31UPhqEVPZGg6OnGtL1jtemNmu4aBcpUOH\n",
       "nwjx9Wj7q2ggULtaUty+y+tNmigDMo3Ecces2vToNiABruJTcI81pFckc5CeOb43fgHkXnDnQsIn\n",
       "cgdJqcJ9hgBfWsjeTrqTDFfOMnzGCJxFRdmlIj7OsVTlA+n+T51LgWSLiQAAAK9BmwRJ4QpSZTBR\n",
       "EsEP/qpVAAXcQqtwnDH+4K67FABKunZTe/XPfdTWlbfx/rw7VM0KB4NIoNu8oNxPr9XybNqbnRqK\n",
       "HaYjzaEDoZM+UdR6C+VIIbWze1xmyAuXUIQVjoL/cyat3wInyyRvG9WXzjmIthxTqtIKN/ACmyK7\n",
       "9phV03v4lNO7MijGXgAn+uB4IYsYz17J9QpDB1lzxj7vTSpqC9S8PaDMOtVEWoBBxzKbAAAAbwGf\n",
       "I2pDfwAB/ChAc56NIbmubLw9FIDmpvnDZQAXpa/CWZSBtOtkzDYhqzfRJZdpuEDyD75iz2zmcIjv\n",
       "Y3vRaCr0NuvKASNXe7LeII7XinUAu9yo1/dcnbNXjuUte9edaBfG3qDZ/57Zg2m7HYqhvQAAAJdB\n",
       "myZJ4Q6JlMFEwQ/+qlUAALuIDgBiI06XquXjQ1aBe8Cyue54SPLYv2vUFf4EoakUChpTBr2ZKQh4\n",
       "wOuitBTYlRyx7Sk1O/6kPy2U/C2aRSxjunbKKLiQB0nLTVi8EN9euAvNH2SIQXLbUy/+MLqT63bG\n",
       "XPzXVuUxBXcjWM0GoCtuXJHll9GvUsb+Y+AO0T90hoPHFy8gAAAAswGfRWpDfwAB/AjK8z6pwzbw\n",
       "Az0U0coMo5r0zImHJ6yUUok7zn/5MA+AFU++Ff8Ul89S1o2hV0cCnrqGGjoUte3jex5q+pZQk9GY\n",
       "AaIS6GXxppyZ6FW1lmknQ+BWT5E6TzKebH/xWqNLgx7216Z4zXBY1kLXyyExkJYsHn5Jh4NzSQRA\n",
       "rsjv2M2uU6o1YrIB3G7v13mu1F5Gg8Y0J4wtaMMJbxnXhpkcCudpT75XOpwGBH+BAAAAqUGbR0nh\n",
       "DyZTAgh//qpVAAC3DdRugibn1O314hWOjbz+fpkfsKkQAZCclZeuF0/pDVoIj/GreyycNvVx4t32\n",
       "t3MnK3KEe+L/kpsA7dL/k0Vf8pKuvNTrvhcIqBw/UU2PMw2h4psUPjBDbmdXEAvOcplTDGVGgto+\n",
       "Ny4nWH/IaOMx74FVkIQ+td1Ne8ZZgZTWBUzBOl5q1/vnflvZoCVKRCDSZ/ZT1NdutSAAAABZQZtq\n",
       "SeEPJlMCCH/+qlUAAF3FpImzzfHvf9/ZpAuzFgBd3Z7lfgXoFWA21huq1rOMQATt7BpPJVH+GzjA\n",
       "m3Mm46UeRG//rEVgCrF5w6rKn1jz1ycOip8P9fEAAACZQZ+IRRE8N/8AATa/kAA4Ax8enSc2FWf+\n",
       "9bLYqATYPB+C6i8rpCg04WNLbf8PyUlHzoN1rGLajsPe5JpXV19mHySbUqe4avSh2nwxvaSLmgj1\n",
       "5mughs5OuHUiNnqg2UsjjcJHpLYI2NwjJAY6J6D+uIRJMpTne1kvzm8TBdyv/r/sqrH7C+sHfvtJ\n",
       "zbjBFx/fVXlpq9dJ5FG9AAAAYAGfqWpDfwACaxpGU/NPskz95MLC7mX4wJhAzdRmkdFyzUAJUWLy\n",
       "Mv0zhX3HPxXFarhQI7n2jK1lD5H4mn89U2CbABBvBBAzSQDcmL/ptg5X13FnJ8b1JQf7qB7GDMIG\n",
       "fQAAAGFBm61JqEFomUwIf//+qZYAAWb3hAE+Z8nNX91+QQgA8OvYWf/bOW4JDWscVmoyEgFXDamX\n",
       "yQfBMKG3Hq3p66k1RqH89Klx/eZN0SVeztayutDx+rAv2lz497jJxLGJ690FAAAAa0Gfy0URLDf/\n",
       "AAE1yL1acH1H7eRqQuAo459auJG3jTWA8FG2wm8YcLbs0LS2sLkoicG3l6Ex9BuO+usptyZsFMyI\n",
       "pVqjlPlAAAkgO4fmWlKMTgnnoGe9th4MpGT1Pei8wBXfYEsV5m8IICkhAAAARgGf7GpDfwABNYyU\n",
       "jDYYT1TsfSMi/uCIDN/o6ywDACsnKRT/O5Os+A4UFWbi2+If4JY4tgp/leoDNKrWpoG/tqfbtfuU\n",
       "VUEAAABJQZvvSahBbJlMFEw7//6plgAA2VSEewiDd7x2MGW+mA95b8qH0Sx3t0ZfqrEtnAb5i+FX\n",
       "79nhdzZwAAhYRi4XD9vOftR3rxirYAAAAHIBng5qQ38AATXJsggAdlCUnkriBhekyQDeF9B2AETL\n",
       "7bcZV/R7k3V9ICrYxmoA8nFogG68k2lk7tWtWIAPt/SuP+6aol8nXcSZf0LFT+H/F44vkTOOW7db\n",
       "KPuv9tL7VfTTs2hgh6ZBxDJQHsAz0WlqhAwAAACTQZoQSeEKUmUwIb/+p4QAAmpdUQATjGk1fon5\n",
       "qqPzK0ygFQkYMjVkp+2pwD6PVLHZYoJ+VCvHMrpECTMEdbptyFZpdXVxdBdzn3BNrTnMKHGQ0eNp\n",
       "spGkquSsbqAKgWgybPYJyAwGL+kaTbUbD1TST2bn6+3TCnSBq3fN0hby98STM+f5tRVRswNkcL6n\n",
       "EYsYV92BAAAPVm1vb3YAAABsbXZoZAAAAAAAAAAAAAAAAAAAA+gAAHTMAAEAAAEAAAAAAAAAAAAA\n",
       "AAABAAAAAAAAAAAAAAAAAAAAAQAAAAAAAAAAAAAAAAAAQAAAAAAAAAAAAAAAAAAAAAAAAAAAAAAA\n",
       "AAAAAAAAAAIAAA6AdHJhawAAAFx0a2hkAAAAAwAAAAAAAAAAAAAAAQAAAAAAAHTMAAAAAAAAAAAA\n",
       "AAAAAAAAAAABAAAAAAAAAAAAAAAAAAAAAQAAAAAAAAAAAAAAAAAAQAAAAAGwAAABIAAAAAAAJGVk\n",
       "dHMAAAAcZWxzdAAAAAAAAAABAAB0zAAACAAAAQAAAAAN+G1kaWEAAAAgbWRoZAAAAAAAAAAAAAAA\n",
       "AAAAKAAABKwAVcQAAAAAAC1oZGxyAAAAAAAAAAB2aWRlAAAAAAAAAAAAAAAAVmlkZW9IYW5kbGVy\n",
       "AAAADaNtaW5mAAAAFHZtaGQAAAABAAAAAAAAAAAAAAAkZGluZgAAABxkcmVmAAAAAAAAAAEAAAAM\n",
       "dXJsIAAAAAEAAA1jc3RibAAAALNzdHNkAAAAAAAAAAEAAACjYXZjMQAAAAAAAAABAAAAAAAAAAAA\n",
       "AAAAAAAAAAGwASAASAAAAEgAAAAAAAAAAQAAAAAAAAAAAAAAAAAAAAAAAAAAAAAAAAAAAAAAAAAA\n",
       "ABj//wAAADFhdmNDAWQAFf/hABhnZAAVrNlBsJaEAAADAAQAAAMAUDxYtlgBAAZo6+PLIsAAAAAc\n",
       "dXVpZGtoQPJfJE/FujmlG88DI/MAAAAAAAAAGHN0dHMAAAAAAAAAAQAAASsAAAQAAAAAGHN0c3MA\n",
       "AAAAAAAAAgAAAAEAAAD7AAAHiGN0dHMAAAAAAAAA7wAAAAEAAAgAAAAAAQAADAAAAAABAAAEAAAA\n",
       "AAEAABAAAAAAAgAABAAAAAADAAAIAAAAAAEAAAwAAAAAAQAABAAAAAAFAAAIAAAAAAEAAAwAAAAA\n",
       "AQAABAAAAAABAAAIAAAAAAEAAAwAAAAAAQAABAAAAAADAAAIAAAAAAEAABQAAAAAAQAACAAAAAAB\n",
       "AAAAAAAAAAEAAAQAAAAAAwAACAAAAAABAAAQAAAAAAIAAAQAAAAAAQAAEAAAAAACAAAEAAAAAAEA\n",
       "AAwAAAAAAQAABAAAAAABAAAIAAAAAAEAABAAAAAAAgAABAAAAAABAAAQAAAAAAIAAAQAAAAAAQAA\n",
       "DAAAAAABAAAEAAAAAAEAAAgAAAAAAQAAEAAAAAACAAAEAAAAAAEAAAgAAAAAAQAADAAAAAABAAAE\n",
       "AAAAAAEAAAgAAAAAAQAADAAAAAABAAAEAAAAAAMAAAgAAAAAAQAAEAAAAAACAAAEAAAAAAEAABAA\n",
       "AAAAAgAABAAAAAABAAAQAAAAAAIAAAQAAAAAAQAADAAAAAABAAAEAAAAAAEAAAgAAAAAAQAAEAAA\n",
       "AAACAAAEAAAAAAEAABAAAAAAAgAABAAAAAABAAAMAAAAAAEAAAQAAAAAAQAACAAAAAABAAAQAAAA\n",
       "AAIAAAQAAAAAAQAACAAAAAABAAAMAAAAAAEAAAQAAAAAAQAADAAAAAABAAAEAAAAAAEAAAgAAAAA\n",
       "AQAADAAAAAABAAAEAAAAAAEAAAgAAAAAAQAADAAAAAABAAAEAAAAAAEAAAgAAAAAAQAADAAAAAAB\n",
       "AAAEAAAAAAEAAAgAAAAAAQAADAAAAAABAAAEAAAAAAEAABAAAAAAAgAABAAAAAABAAAIAAAAAAEA\n",
       "AAwAAAAAAQAABAAAAAABAAAMAAAAAAEAAAQAAAAAAQAADAAAAAABAAAEAAAAAAEAABAAAAAAAgAA\n",
       "BAAAAAABAAAQAAAAAAIAAAQAAAAAAQAADAAAAAABAAAEAAAAAAIAAAgAAAAAAQAADAAAAAABAAAE\n",
       "AAAAAAEAAAgAAAAAAQAADAAAAAABAAAEAAAAAAMAAAgAAAAAAQAAEAAAAAACAAAEAAAAAAEAAAgA\n",
       "AAAAAQAADAAAAAABAAAEAAAAAAEAAAwAAAAAAQAABAAAAAACAAAIAAAAAAEAAAwAAAAAAQAABAAA\n",
       "AAABAAAIAAAAAAEAAAwAAAAAAQAABAAAAAABAAAIAAAAAAEAAAwAAAAAAQAABAAAAAADAAAIAAAA\n",
       "AAEAAAwAAAAAAQAABAAAAAABAAAIAAAAAAEAAAwAAAAAAQAABAAAAAADAAAIAAAAAAEAABAAAAAA\n",
       "AgAABAAAAAABAAAQAAAAAAIAAAQAAAAAAQAADAAAAAABAAAEAAAAAAEAAAwAAAAAAQAABAAAAAAB\n",
       "AAAQAAAAAAIAAAQAAAAAAQAAEAAAAAACAAAEAAAAAAEAAAwAAAAAAQAABAAAAAABAAAIAAAAAAEA\n",
       "AAwAAAAAAQAABAAAAAABAAAIAAAAAAEAAAwAAAAAAQAABAAAAAACAAAIAAAAAAEAAAwAAAAAAQAA\n",
       "BAAAAAABAAAUAAAAAAEAAAgAAAAAAQAAAAAAAAABAAAEAAAAAAEAAAwAAAAAAQAABAAAAAABAAAQ\n",
       "AAAAAAIAAAQAAAAAAQAACAAAAAABAAAMAAAAAAEAAAQAAAAAAQAACAAAAAABAAAMAAAAAAEAAAQA\n",
       "AAAAAQAACAAAAAABAAAMAAAAAAEAAAQAAAAAAQAADAAAAAABAAAEAAAAAAUAAAgAAAAAAQAADAAA\n",
       "AAABAAAEAAAAAAEAAAgAAAAAAQAADAAAAAABAAAEAAAAAAEAAAgAAAAAAQAAFAAAAAABAAAIAAAA\n",
       "AAEAAAAAAAAAAQAABAAAAAABAAAMAAAAAAEAAAQAAAAAAQAAEAAAAAACAAAEAAAAAAEAAAgAAAAA\n",
       "AQAADAAAAAABAAAEAAAAAAEAABAAAAAAAgAABAAAAAABAAAIAAAAAAEAAAwAAAAAAQAABAAAAAAB\n",
       "AAAMAAAAAAEAAAQAAAAAAwAACAAAAAABAAAMAAAAAAEAAAQAAAAABAAACAAAAAABAAAMAAAAAAEA\n",
       "AAQAAAAAAgAACAAAAAABAAAMAAAAAAEAAAQAAAAAAQAACAAAAAABAAAQAAAAAAIAAAQAAAAAAQAA\n",
       "DAAAAAABAAAEAAAAAAIAAAgAAAAAAQAADAAAAAABAAAEAAAAAAIAAAgAAAAAAQAADAAAAAABAAAE\n",
       "AAAAAAEAAAwAAAAAAQAABAAAAAABAAAIAAAAAAEAAAwAAAAAAQAABAAAAAABAAAIAAAAAAEAAAwA\n",
       "AAAAAQAABAAAAAABAAAIAAAAAAEAAAwAAAAAAQAABAAAAAABAAAIAAAAAAEAAAwAAAAAAQAABAAA\n",
       "AAABAAAQAAAAAAIAAAQAAAAAAQAACAAAAAABAAAMAAAAAAEAAAQAAAAAAQAADAAAAAABAAAEAAAA\n",
       "AAEAAAgAAAAAAQAAEAAAAAACAAAEAAAAAAEAABAAAAAAAgAABAAAAAABAAAMAAAAAAEAAAQAAAAA\n",
       "AQAACAAAAAAcc3RzYwAAAAAAAAABAAAAAQAAASsAAAABAAAEwHN0c3oAAAAAAAAAAAAAASsAAA/e\n",
       "AAABVwAAAHgAAABvAAAAzwAAAFkAAAB4AAAAcAAAAL0AAAB1AAAATQAAAHIAAACyAAAAxAAAAGEA\n",
       "AABmAAAA4wAAALYAAADkAAAAwwAAAHkAAABkAAAA4AAAAIAAAAC3AAAAcQAAAHgAAABsAAAAYgAA\n",
       "AMkAAADDAAAAcwAAAIEAAABUAAAAWwAAAHoAAABiAAAATQAAAJIAAADLAAAAyAAAAGcAAAByAAAA\n",
       "cwAAAHQAAAB5AAAAhwAAAHQAAADPAAAAvwAAAHwAAABZAAAAagAAAGYAAACqAAAAqgAAAGkAAABY\n",
       "AAAAsAAAAPsAAABsAAAApQAAAKYAAACjAAAAVwAAAGQAAABTAAAAZgAAAG4AAAA/AAAAawAAAG4A\n",
       "AAClAAAAxQAAAHgAAABOAAAAWQAAAHEAAACPAAAAXwAAAIsAAADsAAAASgAAAGwAAABoAAAAeAAA\n",
       "AIoAAACsAAABIAAAAIkAAABlAAAA6wAAAIQAAAClAAAAWAAAAHIAAADIAAAAZQAAAEwAAADCAAAA\n",
       "owAAAIgAAAC2AAAAVQAAAHQAAADrAAAAaQAAAHoAAABgAAAAiwAAAIkAAACQAAAAUwAAAIAAAABx\n",
       "AAAAdwAAAGUAAAByAAABJAAAAKkAAADgAAAAaQAAAHEAAABNAAAAWwAAAG8AAABLAAAAYgAAAGYA\n",
       "AAC3AAAAbgAAAEQAAABmAAAAowAAAI0AAACVAAAAewAAAHIAAADgAAAA4gAAALAAAABoAAAAcQAA\n",
       "AHIAAACQAAAAoAAAAH0AAABAAAAAvQAAAR4AAADhAAAAmwAAAEUAAADPAAAAZAAAAEcAAADRAAAA\n",
       "VgAAAMUAAAB5AAAAaAAAAGIAAACVAAAASgAAAE0AAACBAAAAYgAAAJAAAACEAAAAzQAAAE4AAABD\n",
       "AAAAWwAAAJYAAABnAAAAZgAAAGEAAADHAAABKAAAAHsAAADmAAAAlgAAANQAAADGAAAArgAAAJIA\n",
       "AABmAAAAdAAAAJYAAAB8AAAAagAAANIAAACQAAAAUgAAAGYAAAB8AAAAlgAAAHcAAACFAAAAXQAA\n",
       "AFcAAABoAAAAuAAAANQAAACfAAAA3gAAALYAAABVAAAAswAAANcAAAD7AAAAaAAAAHEAAADDAAAA\n",
       "xgAAAFgAAACeAAAAWQAAAOQAAAC7AAAArQAAAHoAAADlAAAAlAAAAGoAAABnAAAAVwAAAIMAAABj\n",
       "AAAAewAAAHYAAAB1AAAAYQAAALsAAABbAAAASwAAAFcAAAChAAAAYAAAATQAAAC0AAAAYAAAAFgA\n",
       "AACwAAAAvQAAALsAAABZAAAA7QAAAIcAAAB8AAAOggAAAioAAACOAAAA1AAAAOMAAAB9AAAAywAA\n",
       "AMQAAAB0AAAAZQAAAH8AAABhAAAAyAAAAMYAAACpAAAAYwAAAGwAAABlAAAAdwAAAOQAAABpAAAA\n",
       "bgAAAGYAAADYAAAARAAAAHwAAABvAAAASgAAAGcAAABlAAAAzAAAAG8AAABfAAAAQwAAAMkAAACz\n",
       "AAAAcwAAAJsAAAC3AAAArQAAAF0AAACdAAAAZAAAAGUAAABvAAAASgAAAE0AAAB2AAAAlwAAABRz\n",
       "dGNvAAAAAAAAAAEAAAAsAAAAYnVkdGEAAABabWV0YQAAAAAAAAAhaGRscgAAAAAAAAAAbWRpcmFw\n",
       "cGwAAAAAAAAAAAAAAAAtaWxzdAAAACWpdG9vAAAAHWRhdGEAAAABAAAAAExhdmY1Ny44My4xMDA=\n",
       "\">\n",
       "  Your browser does not support the video tag.\n",
       "</video>"
      ],
      "text/plain": [
       "<IPython.core.display.HTML object>"
      ]
     },
     "execution_count": 57,
     "metadata": {},
     "output_type": "execute_result"
    }
   ],
   "source": [
    "test_anim = ut.create_system_animation(frames, n_episodes * episode_length)\n",
    "plt.close()\n",
    "\n",
    "HTML(test_anim.to_html5_video())"
   ]
  },
  {
   "cell_type": "code",
   "execution_count": null,
   "metadata": {},
   "outputs": [],
   "source": []
  },
  {
   "cell_type": "code",
   "execution_count": 58,
   "metadata": {},
   "outputs": [
    {
     "data": {
      "text/plain": [
       "inf"
      ]
     },
     "execution_count": 58,
     "metadata": {},
     "output_type": "execute_result"
    }
   ],
   "source": [
    "np.inf"
   ]
  },
  {
   "cell_type": "code",
   "execution_count": 59,
   "metadata": {},
   "outputs": [
    {
     "data": {
      "text/plain": [
       "3"
      ]
     },
     "execution_count": 59,
     "metadata": {},
     "output_type": "execute_result"
    }
   ],
   "source": [
    "acc_val = 2\n",
    "last_acc_val = 1\n",
    "last_acc_val = acc_val\n",
    "last_acc_val = last_acc_val + 1\n",
    "last_acc_val"
   ]
  },
  {
   "cell_type": "code",
   "execution_count": 60,
   "metadata": {},
   "outputs": [
    {
     "data": {
      "text/plain": [
       "2"
      ]
     },
     "execution_count": 60,
     "metadata": {},
     "output_type": "execute_result"
    }
   ],
   "source": [
    "acc_val"
   ]
  },
  {
   "cell_type": "code",
   "execution_count": null,
   "metadata": {},
   "outputs": [],
   "source": []
  }
 ],
 "metadata": {
  "kernelspec": {
   "display_name": "Python 3",
   "language": "python",
   "name": "python3"
  },
  "language_info": {
   "codemirror_mode": {
    "name": "ipython",
    "version": 3
   },
   "file_extension": ".py",
   "mimetype": "text/x-python",
   "name": "python",
   "nbconvert_exporter": "python",
   "pygments_lexer": "ipython3",
   "version": "3.5.4"
  },
  "toc": {
   "nav_menu": {},
   "number_sections": true,
   "sideBar": true,
   "skip_h1_title": false,
   "title_cell": "Table of Contents",
   "title_sidebar": "Contents",
   "toc_cell": false,
   "toc_position": {},
   "toc_section_display": true,
   "toc_window_display": false
  }
 },
 "nbformat": 4,
 "nbformat_minor": 2
}
