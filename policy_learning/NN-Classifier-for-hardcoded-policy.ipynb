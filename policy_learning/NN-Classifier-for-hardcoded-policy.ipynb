{
 "cells": [
  {
   "cell_type": "code",
   "execution_count": 53,
   "metadata": {},
   "outputs": [],
   "source": [
    "\"\"\" \n",
    "The algorithm is tested on the PDSystemEnv  gym task \n",
    "and developed with Tensorflow\n",
    "\n",
    "Author: Daniel Salgado Rojo\n",
    "\"\"\"\n",
    "import tensorflow as tf\n",
    "import numpy as np\n",
    "import gym\n",
    "import gym_pdsystem\n",
    "from gym import wrappers\n",
    "#import tflearn\n",
    "import argparse\n",
    "import pprint as pp\n",
    "\n",
    "#from ddpg.replay_buffer import ReplayBuffer\n",
    "\n",
    "from datetime import datetime\n",
    "\n",
    "import random\n",
    "from gym_pdsystem.envs.pdsystem_env import PDSystemEnv\n",
    "\n",
    "import gym_pdsystem.utils.utilsq as ut\n",
    "import gym_pdsystem.utils.constants as ct\n",
    "\n",
    "\n",
    "from matplotlib import animation, rc\n",
    "import matplotlib.pyplot as plt\n",
    "from IPython.display import HTML\n",
    "\n",
    "\n",
    "#TO OMMIT WARNINGS\n",
    "import warnings\n",
    "warnings.filterwarnings('ignore')"
   ]
  },
  {
   "cell_type": "code",
   "execution_count": 2,
   "metadata": {},
   "outputs": [
    {
     "name": "stdout",
     "output_type": "stream",
     "text": [
      "\u001b[33mWARN: gym.spaces.Box autodetected dtype as <class 'numpy.float32'>. Please provide explicit dtype.\u001b[0m\n",
      "\u001b[33mWARN: gym.spaces.Box autodetected dtype as <class 'numpy.float32'>. Please provide explicit dtype.\u001b[0m\n",
      "\u001b[33mWARN: gym.spaces.Box autodetected dtype as <class 'numpy.float32'>. Please provide explicit dtype.\u001b[0m\n",
      "\u001b[33mWARN: gym.spaces.Box autodetected dtype as <class 'numpy.float32'>. Please provide explicit dtype.\u001b[0m\n"
     ]
    },
    {
     "data": {
      "text/plain": [
       "[42]"
      ]
     },
     "execution_count": 2,
     "metadata": {},
     "output_type": "execute_result"
    }
   ],
   "source": [
    "episode_length = 30\n",
    "seed = 42\n",
    "\n",
    "system = PDSystemEnv()\n",
    "env = gym.make(\"PDSystemEnv-v0\")\n",
    "env._max_episode_steps = episode_length\n",
    "\n",
    "np.random.seed(seed)\n",
    "tf.set_random_seed(seed)\n",
    "env.seed(seed)\n"
   ]
  },
  {
   "cell_type": "code",
   "execution_count": 3,
   "metadata": {},
   "outputs": [],
   "source": [
    "def leftmost_emptiest_tank_policy(s, system):\n",
    "    min_boolean_indexes = np.isin(s, np.min(s))\n",
    "    min_indexes = np.where(min_boolean_indexes)\n",
    "    min_indexes = min_indexes[0]\n",
    "    #n_min = len(min_indexes)\n",
    "\n",
    "    possible_indexes = []\n",
    "    \n",
    "    for tank_visited in min_indexes:\n",
    "        hypothetical_next_tank_state = s[tank_visited] + system.truck_max_loads\n",
    "        #print(hypothetical_next_tank_state, system.tank_max_loads[tank_visited])\n",
    "        if hypothetical_next_tank_state <= system.tank_max_loads[tank_visited]:\n",
    "                    possible_indexes.append(tank_visited)\n",
    "    \n",
    "    \n",
    "    if len(possible_indexes) != 0:\n",
    "        tank_to_go = possible_indexes[0] # THIS IS WHAT CHANGES WITH RESPECT TO THE emptiest_tank_policy()\n",
    "        return tank_to_go\n",
    "    else:\n",
    "        return system.n #stay in the depot"
   ]
  },
  {
   "cell_type": "markdown",
   "metadata": {},
   "source": [
    "# Creating train, validation and test sets"
   ]
  },
  {
   "cell_type": "code",
   "execution_count": 4,
   "metadata": {},
   "outputs": [],
   "source": [
    "################################################################################\n",
    "# ENSURE THIS PARAMETER VALUES ARE SET AT THE BEGINNING OF THE pdsystem_env.py!!\n",
    "################################################################################\n",
    "\n",
    "# Example k = 1 (trucks), n = 3 (tanks)\n",
    "TANK_MAX_LOADS = np.array([100., 200, 100.])\n",
    "LEVEL_PERCENTAGES = np.array([ #b , c, e\n",
    "                                                [0.02, 0.31, 0.9],\n",
    "                                                [0.01, 0.03, 0.9],\n",
    "                                                [0.05, 0.16, 0.9]\n",
    "                                                   ])\n",
    "TRUCK_MAX_LOADS = np.array([50.])\n",
    "GRAPH_WEIGHTS = np.array([32., 159., 162., 0.])\n",
    "\n",
    "DISCRETE = False\n",
    "########################################"
   ]
  },
  {
   "cell_type": "code",
   "execution_count": 5,
   "metadata": {},
   "outputs": [
    {
     "name": "stdout",
     "output_type": "stream",
     "text": [
      "\u001b[33mWARN: gym.spaces.Box autodetected dtype as <class 'numpy.float32'>. Please provide explicit dtype.\u001b[0m\n",
      "\u001b[33mWARN: gym.spaces.Box autodetected dtype as <class 'numpy.float32'>. Please provide explicit dtype.\u001b[0m\n"
     ]
    }
   ],
   "source": [
    "seed = 42\n",
    "np.random.seed(seed)\n",
    "system = PDSystemEnv()\n",
    "\n",
    "N_TRAIN = 10**4; SEED_TRAIN = 42; train_file = 'train.txt'\n",
    "N_VAL = 10**3; SEED_VAL = 50; validation_file = 'validation.txt'\n",
    "N_TEST = 10**3; SEED_TEST = 58; test_file = 'test.txt'\n",
    "\n",
    "round_decimals = 5\n",
    "\n",
    "CREATE_DATASETS = False\n",
    "\n",
    "def create_datasets(outputfile, n_observations, seed = None):   \n",
    "    if seed != None:\n",
    "        np.random.seed(seed)\n",
    "        \n",
    "    with open('{}'.format(outputfile),'w') as f:\n",
    "        np.savetxt(f, [np.array(['tank1', 'tank2', 'tank3', 'target'])], fmt = \"%s\", delimiter=',')\n",
    "        for i in range(n_observations):\n",
    "            obs = []\n",
    "            for max_load in TANK_MAX_LOADS:\n",
    "                random_load = np.random.random() * max_load\n",
    "                obs.append(np.round(random_load,round_decimals)  )\n",
    "\n",
    "            obs.append(leftmost_emptiest_tank_policy(np.array(obs), system))   \n",
    "            np.savetxt(f, [np.array(obs)], fmt = ('%f','%f', '%f', '%d'), delimiter=',')  #!! fmt only for n=3\n",
    "\n",
    "if CREATE_DATASETS:          \n",
    "    create_datasets(train_file, N_TRAIN, SEED_TRAIN) \n",
    "    create_datasets(validation_file, N_VAL, SEED_VAL)      \n",
    "    create_datasets(test_file, N_TEST, SEED_TEST)            "
   ]
  },
  {
   "cell_type": "markdown",
   "metadata": {},
   "source": [
    "# Exploring data sets"
   ]
  },
  {
   "cell_type": "code",
   "execution_count": 6,
   "metadata": {},
   "outputs": [],
   "source": [
    "import pandas as pd"
   ]
  },
  {
   "cell_type": "code",
   "execution_count": 7,
   "metadata": {},
   "outputs": [],
   "source": [
    "train = pd.read_table(train_file, sep = \",\")\n",
    "test = pd.read_table(test_file, sep = \",\")\n",
    "validation = pd.read_table(validation_file, sep = \",\")"
   ]
  },
  {
   "cell_type": "code",
   "execution_count": 8,
   "metadata": {},
   "outputs": [
    {
     "data": {
      "image/png": "[encoded data removed]",
      "text/plain": [
       "<matplotlib.figure.Figure at 0x7fd7e58a5978>"
      ]
     },
     "metadata": {},
     "output_type": "display_data"
    }
   ],
   "source": [
    "train.hist()\n",
    "plt.show()"
   ]
  },
  {
   "cell_type": "code",
   "execution_count": 20,
   "metadata": {},
   "outputs": [
    {
     "data": {
      "image/png": "[encoded data removed]",
      "text/plain": [
       "<matplotlib.figure.Figure at 0x7fd7b5adacf8>"
      ]
     },
     "metadata": {},
     "output_type": "display_data"
    },
    {
     "data": {
      "image/png": "[encoded data removed]",
      "text/plain": [
       "<matplotlib.figure.Figure at 0x7fd7b5588128>"
      ]
     },
     "metadata": {},
     "output_type": "display_data"
    }
   ],
   "source": [
    "test.hist()\n",
    "validation.hist()\n",
    "\n",
    "plt.show()"
   ]
  },
  {
   "cell_type": "code",
   "execution_count": 38,
   "metadata": {},
   "outputs": [],
   "source": [
    "y_train = train[\"target\"].values#.reshape((N_TRAIN, ))\n",
    "X_train = train[[\"tank1\", \"tank2\",\"tank3\"]].values\n",
    "\n",
    "y_test = test[\"target\"].values#.reshape((N_TEST, ))\n",
    "X_test = test[[\"tank1\", \"tank2\",\"tank3\"]].values\n",
    "\n",
    "y_val = validation[\"target\"]#.reshape((N_VAL, ))\n",
    "X_val = validation[[\"tank1\", \"tank2\",\"tank3\"]].values"
   ]
  },
  {
   "cell_type": "markdown",
   "metadata": {},
   "source": [
    "# Stochastic gradient descent classifier "
   ]
  },
  {
   "cell_type": "code",
   "execution_count": 54,
   "metadata": {},
   "outputs": [],
   "source": [
    "from sklearn.linear_model import SGDClassifier"
   ]
  },
  {
   "cell_type": "code",
   "execution_count": 70,
   "metadata": {},
   "outputs": [],
   "source": [
    "from sklearn.model_selection import cross_val_predict, cross_val_score\n",
    "from sklearn.metrics import confusion_matrix"
   ]
  },
  {
   "cell_type": "code",
   "execution_count": 56,
   "metadata": {},
   "outputs": [],
   "source": [
    "sgd_clf = SGDClassifier(random_state = 42)\n",
    "sgd_clf.fit(X_train, y_train);"
   ]
  },
  {
   "cell_type": "markdown",
   "metadata": {},
   "source": [
    "## Cross validation accuracy"
   ]
  },
  {
   "cell_type": "code",
   "execution_count": 61,
   "metadata": {},
   "outputs": [],
   "source": [
    "CV = 10"
   ]
  },
  {
   "cell_type": "code",
   "execution_count": 62,
   "metadata": {},
   "outputs": [
    {
     "name": "stdout",
     "output_type": "stream",
     "text": [
      "Average cross validation score:  0.805050233881416\n"
     ]
    }
   ],
   "source": [
    "cvs = cross_val_score(sgd_clf, X_train, y_train, cv = CV, scoring = \"accuracy\")\n",
    "print(\"Average cross validation score: \", np.mean(cvs))"
   ]
  },
  {
   "cell_type": "code",
   "execution_count": 63,
   "metadata": {},
   "outputs": [],
   "source": [
    "from sklearn.preprocessing import StandardScaler\n"
   ]
  },
  {
   "cell_type": "code",
   "execution_count": 64,
   "metadata": {},
   "outputs": [],
   "source": [
    "scaler = StandardScaler()\n",
    "X_train_scaled = scaler.fit_transform(X_train.astype(np.float64))"
   ]
  },
  {
   "cell_type": "code",
   "execution_count": 65,
   "metadata": {},
   "outputs": [
    {
     "name": "stdout",
     "output_type": "stream",
     "text": [
      "Average cross validation score for scaled train data:  0.9026149060019663\n"
     ]
    }
   ],
   "source": [
    "cvs = cross_val_score(sgd_clf, X_train_scaled, y_train, cv = CV, scoring = \"accuracy\")\n",
    "print(\"Average cross validation score for scaled train data: \", np.mean(cvs));"
   ]
  },
  {
   "cell_type": "markdown",
   "metadata": {},
   "source": [
    "## Error Analysis"
   ]
  },
  {
   "cell_type": "code",
   "execution_count": 76,
   "metadata": {},
   "outputs": [
    {
     "data": {
      "text/plain": [
       "array([[3218,   33,   64,    8],\n",
       "       [ 112, 1420,   45,   66],\n",
       "       [ 198,   89, 3027,   52],\n",
       "       [ 188,   64,   55, 1361]])"
      ]
     },
     "execution_count": 76,
     "metadata": {},
     "output_type": "execute_result"
    }
   ],
   "source": [
    "y_train_pred = cross_val_predict(sgd_clf, X_train_scaled, y_train, cv = CV)\n",
    "conf_mx = confusion_matrix(y_train, y_train_pred)\n",
    "conf_mx"
   ]
  },
  {
   "cell_type": "code",
   "execution_count": 72,
   "metadata": {},
   "outputs": [
    {
     "data": {
      "image/png": "[encoded data removed]",
      "text/plain": [
       "<matplotlib.figure.Figure at 0x7fd7b545d3c8>"
      ]
     },
     "metadata": {},
     "output_type": "display_data"
    }
   ],
   "source": [
    "plt.matshow(conf_mx, cmap = plt.cm.gray)\n",
    "plt.show()"
   ]
  },
  {
   "cell_type": "code",
   "execution_count": 74,
   "metadata": {},
   "outputs": [],
   "source": [
    "row_sums = conf_mx.sum(axis = 1, keepdims = True)\n",
    "norm_conf_mx = conf_mx / row_sums"
   ]
  },
  {
   "cell_type": "code",
   "execution_count": 75,
   "metadata": {},
   "outputs": [
    {
     "data": {
      "image/png": "[encoded data removed]",
      "text/plain": [
       "<matplotlib.figure.Figure at 0x7fd7b68b9da0>"
      ]
     },
     "metadata": {},
     "output_type": "display_data"
    }
   ],
   "source": [
    "np.fill_diagonal(norm_conf_mx, 0)\n",
    "plt.matshow(norm_conf_mx, cmap = plt.cm.gray)\n",
    "plt.show()"
   ]
  },
  {
   "cell_type": "code",
   "execution_count": null,
   "metadata": {},
   "outputs": [],
   "source": []
  }
 ],
 "metadata": {
  "kernelspec": {
   "display_name": "Python 3",
   "language": "python",
   "name": "python3"
  },
  "language_info": {
   "codemirror_mode": {
    "name": "ipython",
    "version": 3
   },
   "file_extension": ".py",
   "mimetype": "text/x-python",
   "name": "python",
   "nbconvert_exporter": "python",
   "pygments_lexer": "ipython3",
   "version": "3.5.4"
  },
  "toc": {
   "nav_menu": {},
   "number_sections": true,
   "sideBar": true,
   "skip_h1_title": false,
   "title_cell": "Table of Contents",
   "title_sidebar": "Contents",
   "toc_cell": false,
   "toc_position": {},
   "toc_section_display": true,
   "toc_window_display": false
  }
 },
 "nbformat": 4,
 "nbformat_minor": 2
}
