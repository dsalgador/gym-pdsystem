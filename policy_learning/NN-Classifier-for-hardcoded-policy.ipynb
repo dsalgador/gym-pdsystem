{
 "cells": [
  {
   "cell_type": "code",
   "execution_count": 1,
   "metadata": {},
   "outputs": [
    {
     "name": "stderr",
     "output_type": "stream",
     "text": [
      "/home/dsalgador/anaconda3/envs/tensorflow/lib/python3.5/site-packages/h5py/__init__.py:36: FutureWarning: Conversion of the second argument of issubdtype from `float` to `np.floating` is deprecated. In future, it will be treated as `np.float64 == np.dtype(float).type`.\n",
      "  from ._conv import register_converters as _register_converters\n"
     ]
    }
   ],
   "source": [
    "\"\"\" \n",
    "The algorithm is tested on the PDSystemEnv  gym task \n",
    "and developed with Tensorflow\n",
    "\n",
    "Author: Daniel Salgado Rojo\n",
    "\"\"\"\n",
    "import tensorflow as tf\n",
    "import numpy as np\n",
    "import gym\n",
    "import gym_pdsystem\n",
    "from gym import wrappers\n",
    "#import tflearn\n",
    "import argparse\n",
    "import pprint as pp\n",
    "\n",
    "#from ddpg.replay_buffer import ReplayBuffer\n",
    "\n",
    "from datetime import datetime\n",
    "\n",
    "import random\n",
    "from gym_pdsystem.envs.pdsystem_env import PDSystemEnv\n",
    "\n",
    "import gym_pdsystem.utils.utilsq as ut\n",
    "import gym_pdsystem.utils.constants as ct\n",
    "\n",
    "\n",
    "from matplotlib import animation, rc\n",
    "import matplotlib.pyplot as plt\n",
    "from IPython.display import HTML\n",
    "\n",
    "\n",
    "#TO OMMIT WARNINGS\n",
    "import warnings\n",
    "warnings.filterwarnings('ignore')"
   ]
  },
  {
   "cell_type": "code",
   "execution_count": 2,
   "metadata": {},
   "outputs": [
    {
     "name": "stdout",
     "output_type": "stream",
     "text": [
      "\u001b[33mWARN: gym.spaces.Box autodetected dtype as <class 'numpy.float32'>. Please provide explicit dtype.\u001b[0m\n",
      "\u001b[33mWARN: gym.spaces.Box autodetected dtype as <class 'numpy.float32'>. Please provide explicit dtype.\u001b[0m\n",
      "\u001b[33mWARN: gym.spaces.Box autodetected dtype as <class 'numpy.float32'>. Please provide explicit dtype.\u001b[0m\n",
      "\u001b[33mWARN: gym.spaces.Box autodetected dtype as <class 'numpy.float32'>. Please provide explicit dtype.\u001b[0m\n"
     ]
    },
    {
     "data": {
      "text/plain": [
       "[42]"
      ]
     },
     "execution_count": 2,
     "metadata": {},
     "output_type": "execute_result"
    }
   ],
   "source": [
    "episode_length = 30\n",
    "seed = 42\n",
    "\n",
    "system = PDSystemEnv()\n",
    "env = gym.make(\"PDSystemEnv-v0\")\n",
    "env._max_episode_steps = episode_length\n",
    "\n",
    "np.random.seed(seed)\n",
    "tf.set_random_seed(seed)\n",
    "env.seed(seed)\n"
   ]
  },
  {
   "cell_type": "code",
   "execution_count": 3,
   "metadata": {},
   "outputs": [],
   "source": [
    "def leftmost_emptiest_tank_policy(s, system):\n",
    "    min_boolean_indexes = np.isin(s, np.min(s))\n",
    "    min_indexes = np.where(min_boolean_indexes)\n",
    "    min_indexes = min_indexes[0]\n",
    "    #n_min = len(min_indexes)\n",
    "\n",
    "    possible_indexes = []\n",
    "    \n",
    "    for tank_visited in min_indexes:\n",
    "        hypothetical_next_tank_state = s[tank_visited] + system.truck_max_loads\n",
    "        #print(hypothetical_next_tank_state, system.tank_max_loads[tank_visited])\n",
    "        if hypothetical_next_tank_state <= system.tank_max_loads[tank_visited]:\n",
    "                    possible_indexes.append(tank_visited)\n",
    "    \n",
    "    \n",
    "    if len(possible_indexes) != 0:\n",
    "        tank_to_go = possible_indexes[0] # THIS IS WHAT CHANGES WITH RESPECT TO THE emptiest_tank_policy()\n",
    "        return tank_to_go\n",
    "    else:\n",
    "        return system.n #stay in the depot"
   ]
  },
  {
   "cell_type": "markdown",
   "metadata": {},
   "source": [
    "# Creating train, validation and test sets"
   ]
  },
  {
   "cell_type": "code",
   "execution_count": 4,
   "metadata": {},
   "outputs": [],
   "source": [
    "################################################################################\n",
    "# ENSURE THIS PARAMETER VALUES ARE SET AT THE BEGINNING OF THE pdsystem_env.py!!\n",
    "################################################################################\n",
    "\n",
    "# Example k = 1 (trucks), n = 3 (tanks)\n",
    "TANK_MAX_LOADS = np.array([100., 200, 100.])\n",
    "LEVEL_PERCENTAGES = np.array([ #b , c, e\n",
    "                                                [0.02, 0.31, 0.9],\n",
    "                                                [0.01, 0.03, 0.9],\n",
    "                                                [0.05, 0.16, 0.9]\n",
    "                                                   ])\n",
    "TRUCK_MAX_LOADS = np.array([50.])\n",
    "GRAPH_WEIGHTS = np.array([32., 159., 162., 0.])\n",
    "\n",
    "DISCRETE = False\n",
    "########################################"
   ]
  },
  {
   "cell_type": "code",
   "execution_count": 5,
   "metadata": {},
   "outputs": [
    {
     "name": "stdout",
     "output_type": "stream",
     "text": [
      "\u001b[33mWARN: gym.spaces.Box autodetected dtype as <class 'numpy.float32'>. Please provide explicit dtype.\u001b[0m\n",
      "\u001b[33mWARN: gym.spaces.Box autodetected dtype as <class 'numpy.float32'>. Please provide explicit dtype.\u001b[0m\n"
     ]
    }
   ],
   "source": [
    "seed = 42\n",
    "np.random.seed(seed)\n",
    "system = PDSystemEnv()\n",
    "\n",
    "N_TRAIN = 10**4; SEED_TRAIN = 42; train_file = 'train.txt'\n",
    "N_VAL = 10**3; SEED_VAL = 50; validation_file = 'validation.txt'\n",
    "N_TEST = 10**3; SEED_TEST = 58; test_file = 'test.txt'\n",
    "\n",
    "round_decimals = 5\n",
    "\n",
    "CREATE_DATASETS = False\n",
    "\n",
    "def create_datasets(outputfile, n_observations, seed = None):   \n",
    "    if seed != None:\n",
    "        np.random.seed(seed)\n",
    "        \n",
    "    with open('{}'.format(outputfile),'w') as f:\n",
    "        np.savetxt(f, [np.array(['tank1', 'tank2', 'tank3', 'target'])], fmt = \"%s\", delimiter=',')\n",
    "        for i in range(n_observations):\n",
    "            obs = []\n",
    "            for max_load in TANK_MAX_LOADS:\n",
    "                random_load = np.random.random() * max_load\n",
    "                obs.append(np.round(random_load,round_decimals)  )\n",
    "\n",
    "            obs.append(leftmost_emptiest_tank_policy(np.array(obs), system))   \n",
    "            np.savetxt(f, [np.array(obs)], fmt = ('%f','%f', '%f', '%d'), delimiter=',')  #!! fmt only for n=3\n",
    "\n",
    "if CREATE_DATASETS:          \n",
    "    create_datasets(train_file, N_TRAIN, SEED_TRAIN) \n",
    "    create_datasets(validation_file, N_VAL, SEED_VAL)      \n",
    "    create_datasets(test_file, N_TEST, SEED_TEST)            "
   ]
  },
  {
   "cell_type": "markdown",
   "metadata": {},
   "source": [
    "# Exploring data sets"
   ]
  },
  {
   "cell_type": "code",
   "execution_count": 6,
   "metadata": {},
   "outputs": [],
   "source": [
    "import pandas as pd"
   ]
  },
  {
   "cell_type": "code",
   "execution_count": 7,
   "metadata": {},
   "outputs": [],
   "source": [
    "train = pd.read_table(train_file, sep = \",\")\n",
    "test = pd.read_table(test_file, sep = \",\")\n",
    "validation = pd.read_table(validation_file, sep = \",\")"
   ]
  },
  {
   "cell_type": "code",
   "execution_count": 8,
   "metadata": {},
   "outputs": [
    {
     "data": {
      "image/png": "[encoded data removed]",
      "text/plain": [
       "<matplotlib.figure.Figure at 0x7f46bca96a90>"
      ]
     },
     "metadata": {},
     "output_type": "display_data"
    }
   ],
   "source": [
    "train.hist()\n",
    "plt.show()"
   ]
  },
  {
   "cell_type": "code",
   "execution_count": 9,
   "metadata": {},
   "outputs": [
    {
     "data": {
      "image/png": "[encoded data removed]",
      "text/plain": [
       "<matplotlib.figure.Figure at 0x7f4691e5ceb8>"
      ]
     },
     "metadata": {},
     "output_type": "display_data"
    },
    {
     "data": {
      "image/png": "[encoded data removed]",
      "text/plain": [
       "<matplotlib.figure.Figure at 0x7f468e52cc18>"
      ]
     },
     "metadata": {},
     "output_type": "display_data"
    }
   ],
   "source": [
    "test.hist()\n",
    "validation.hist()\n",
    "\n",
    "plt.show()"
   ]
  },
  {
   "cell_type": "code",
   "execution_count": 10,
   "metadata": {},
   "outputs": [],
   "source": [
    "y_train = train[\"target\"].values#.reshape((N_TRAIN, ))\n",
    "X_train = train[[\"tank1\", \"tank2\",\"tank3\"]].values\n",
    "\n",
    "y_test = test[\"target\"].values#.reshape((N_TEST, ))\n",
    "X_test = test[[\"tank1\", \"tank2\",\"tank3\"]].values\n",
    "\n",
    "y_val = validation[\"target\"]#.reshape((N_VAL, ))\n",
    "X_val = validation[[\"tank1\", \"tank2\",\"tank3\"]].values"
   ]
  },
  {
   "cell_type": "code",
   "execution_count": 11,
   "metadata": {},
   "outputs": [],
   "source": [
    "X_train = X_train.astype('float32')\n",
    "X_test = X_test.astype('float32')\n",
    "X_val = X_val.astype('float32')"
   ]
  },
  {
   "cell_type": "markdown",
   "metadata": {},
   "source": [
    "# Stochastic gradient descent classifier "
   ]
  },
  {
   "cell_type": "code",
   "execution_count": 12,
   "metadata": {},
   "outputs": [],
   "source": [
    "from sklearn.linear_model import SGDClassifier"
   ]
  },
  {
   "cell_type": "code",
   "execution_count": 13,
   "metadata": {},
   "outputs": [],
   "source": [
    "from sklearn.model_selection import cross_val_predict, cross_val_score\n",
    "from sklearn.metrics import confusion_matrix"
   ]
  },
  {
   "cell_type": "code",
   "execution_count": 14,
   "metadata": {},
   "outputs": [],
   "source": [
    "sgd_clf = SGDClassifier(random_state = 42)\n",
    "sgd_clf.fit(X_train, y_train);"
   ]
  },
  {
   "cell_type": "markdown",
   "metadata": {},
   "source": [
    "## Cross validation accuracy"
   ]
  },
  {
   "cell_type": "code",
   "execution_count": 15,
   "metadata": {},
   "outputs": [],
   "source": [
    "CV = 10"
   ]
  },
  {
   "cell_type": "code",
   "execution_count": 16,
   "metadata": {
    "scrolled": true
   },
   "outputs": [
    {
     "name": "stdout",
     "output_type": "stream",
     "text": [
      "Average cross validation score:  0.805050233881416\n"
     ]
    }
   ],
   "source": [
    "cvs = cross_val_score(sgd_clf, X_train, y_train, cv = CV, scoring = \"accuracy\")\n",
    "print(\"Average cross validation score: \", np.mean(cvs))"
   ]
  },
  {
   "cell_type": "code",
   "execution_count": 17,
   "metadata": {},
   "outputs": [],
   "source": [
    "from sklearn.preprocessing import StandardScaler\n"
   ]
  },
  {
   "cell_type": "code",
   "execution_count": 18,
   "metadata": {},
   "outputs": [],
   "source": [
    "scaler = StandardScaler()\n",
    "X_train_scaled = scaler.fit_transform(X_train.astype(np.float64))"
   ]
  },
  {
   "cell_type": "code",
   "execution_count": 19,
   "metadata": {},
   "outputs": [
    {
     "name": "stdout",
     "output_type": "stream",
     "text": [
      "Average cross validation score for scaled train data:  0.9026149060019663\n"
     ]
    }
   ],
   "source": [
    "cvs = cross_val_score(sgd_clf, X_train_scaled, y_train, cv = CV, scoring = \"accuracy\")\n",
    "print(\"Average cross validation score for scaled train data: \", np.mean(cvs));"
   ]
  },
  {
   "cell_type": "markdown",
   "metadata": {},
   "source": [
    "## Error Analysis"
   ]
  },
  {
   "cell_type": "code",
   "execution_count": 20,
   "metadata": {},
   "outputs": [
    {
     "data": {
      "text/plain": [
       "array([[3218,   33,   64,    8],\n",
       "       [ 112, 1420,   45,   66],\n",
       "       [ 198,   89, 3027,   52],\n",
       "       [ 188,   64,   55, 1361]])"
      ]
     },
     "execution_count": 20,
     "metadata": {},
     "output_type": "execute_result"
    }
   ],
   "source": [
    "y_train_pred = cross_val_predict(sgd_clf, X_train_scaled, y_train, cv = CV)\n",
    "conf_mx = confusion_matrix(y_train, y_train_pred)\n",
    "conf_mx"
   ]
  },
  {
   "cell_type": "code",
   "execution_count": 21,
   "metadata": {},
   "outputs": [
    {
     "data": {
      "image/png": "[encoded data removed]",
      "text/plain": [
       "<matplotlib.figure.Figure at 0x7f468a7f1860>"
      ]
     },
     "metadata": {},
     "output_type": "display_data"
    }
   ],
   "source": [
    "plt.matshow(conf_mx, cmap = plt.cm.gray)\n",
    "plt.show()"
   ]
  },
  {
   "cell_type": "code",
   "execution_count": 22,
   "metadata": {},
   "outputs": [],
   "source": [
    "row_sums = conf_mx.sum(axis = 1, keepdims = True)\n",
    "norm_conf_mx = conf_mx / row_sums"
   ]
  },
  {
   "cell_type": "code",
   "execution_count": 23,
   "metadata": {},
   "outputs": [
    {
     "data": {
      "image/png": "[encoded data removed]",
      "text/plain": [
       "<matplotlib.figure.Figure at 0x7f468212a208>"
      ]
     },
     "metadata": {},
     "output_type": "display_data"
    }
   ],
   "source": [
    "np.fill_diagonal(norm_conf_mx, 0)\n",
    "plt.matshow(norm_conf_mx, cmap = plt.cm.gray)\n",
    "plt.show()"
   ]
  },
  {
   "cell_type": "markdown",
   "metadata": {},
   "source": [
    "## Test prediction accuracy of the model trained on the whole train set"
   ]
  },
  {
   "cell_type": "code",
   "execution_count": 24,
   "metadata": {},
   "outputs": [],
   "source": [
    "y_test_pred = sgd_clf.predict(X_test)"
   ]
  },
  {
   "cell_type": "code",
   "execution_count": 25,
   "metadata": {},
   "outputs": [
    {
     "data": {
      "text/plain": [
       "array([[344,  10,   0,   0],\n",
       "       [  9, 119,  13,   0],\n",
       "       [ 30,  14, 300,   0],\n",
       "       [ 73,  25,  16,  47]])"
      ]
     },
     "execution_count": 25,
     "metadata": {},
     "output_type": "execute_result"
    }
   ],
   "source": [
    "conf_mx = confusion_matrix(y_test, y_test_pred)\n",
    "conf_mx"
   ]
  },
  {
   "cell_type": "code",
   "execution_count": 26,
   "metadata": {},
   "outputs": [
    {
     "data": {
      "text/plain": [
       "0.81"
      ]
     },
     "execution_count": 26,
     "metadata": {},
     "output_type": "execute_result"
    }
   ],
   "source": [
    "test_accuracy = np.trace(np.asarray(conf_mx))/conf_mx.sum()\n",
    "test_accuracy"
   ]
  },
  {
   "cell_type": "code",
   "execution_count": 27,
   "metadata": {},
   "outputs": [
    {
     "data": {
      "text/plain": [
       "0.928"
      ]
     },
     "execution_count": 27,
     "metadata": {},
     "output_type": "execute_result"
    }
   ],
   "source": [
    "sgdscaled_clf = SGDClassifier(random_state = 42)\n",
    "sgdscaled_clf.fit(X_train_scaled, y_train);\n",
    "\n",
    "scaler = StandardScaler()\n",
    "X_test_scaled = scaler.fit_transform(X_test.astype(np.float64))\n",
    "\n",
    "y_test_scaled_pred = sgdscaled_clf.predict(X_test_scaled)\n",
    "conf_mx = confusion_matrix(y_test, y_test_scaled_pred)\n",
    "test_accuracy = np.trace(np.asarray(conf_mx))/conf_mx.sum()\n",
    "test_accuracy"
   ]
  },
  {
   "cell_type": "code",
   "execution_count": 28,
   "metadata": {},
   "outputs": [
    {
     "data": {
      "image/png": "[encoded data removed]",
      "text/plain": [
       "<matplotlib.figure.Figure at 0x7f468215b438>"
      ]
     },
     "metadata": {},
     "output_type": "display_data"
    }
   ],
   "source": [
    "plt.matshow(conf_mx, cmap = plt.cm.gray)\n",
    "plt.show()"
   ]
  },
  {
   "cell_type": "code",
   "execution_count": 29,
   "metadata": {},
   "outputs": [],
   "source": [
    "row_sums = conf_mx.sum(axis = 1, keepdims = True)\n",
    "norm_conf_mx = conf_mx / row_sums"
   ]
  },
  {
   "cell_type": "code",
   "execution_count": 30,
   "metadata": {},
   "outputs": [
    {
     "data": {
      "image/png": "[encoded data removed]",
      "text/plain": [
       "<matplotlib.figure.Figure at 0x7f4682114f98>"
      ]
     },
     "metadata": {},
     "output_type": "display_data"
    }
   ],
   "source": [
    "np.fill_diagonal(norm_conf_mx, 0)\n",
    "plt.matshow(norm_conf_mx, cmap = plt.cm.gray)\n",
    "plt.show()"
   ]
  },
  {
   "cell_type": "markdown",
   "metadata": {},
   "source": [
    "# Random forest classifier"
   ]
  },
  {
   "cell_type": "code",
   "execution_count": 31,
   "metadata": {},
   "outputs": [],
   "source": [
    "from sklearn.ensemble import RandomForestClassifier\n",
    "\n",
    "rf_clf = RandomForestClassifier(random_state = 42)\n",
    "rf_clf.fit(X_train, y_train);"
   ]
  },
  {
   "cell_type": "markdown",
   "metadata": {},
   "source": [
    "## Cross validation accuracy"
   ]
  },
  {
   "cell_type": "code",
   "execution_count": 32,
   "metadata": {},
   "outputs": [],
   "source": [
    "CV = 10"
   ]
  },
  {
   "cell_type": "code",
   "execution_count": 33,
   "metadata": {
    "scrolled": true
   },
   "outputs": [
    {
     "name": "stdout",
     "output_type": "stream",
     "text": [
      "Average cross validation score:  0.9851987684034821\n"
     ]
    }
   ],
   "source": [
    "cvs = cross_val_score(rf_clf, X_train, y_train, cv = CV, scoring = \"accuracy\")\n",
    "print(\"Average cross validation score: \", np.mean(cvs))"
   ]
  },
  {
   "cell_type": "code",
   "execution_count": 34,
   "metadata": {},
   "outputs": [],
   "source": [
    "from sklearn.preprocessing import StandardScaler\n"
   ]
  },
  {
   "cell_type": "code",
   "execution_count": 35,
   "metadata": {},
   "outputs": [],
   "source": [
    "scaler = StandardScaler()\n",
    "X_train_scaled = scaler.fit_transform(X_train.astype(np.float64))"
   ]
  },
  {
   "cell_type": "code",
   "execution_count": 36,
   "metadata": {},
   "outputs": [
    {
     "name": "stdout",
     "output_type": "stream",
     "text": [
      "Average cross validation score for scaled train data:  0.9851987684034821\n"
     ]
    }
   ],
   "source": [
    "cvs = cross_val_score(rf_clf, X_train_scaled, y_train, cv = CV, scoring = \"accuracy\")\n",
    "print(\"Average cross validation score for scaled train data: \", np.mean(cvs));"
   ]
  },
  {
   "cell_type": "markdown",
   "metadata": {},
   "source": [
    "## Error Analysis"
   ]
  },
  {
   "cell_type": "code",
   "execution_count": null,
   "metadata": {},
   "outputs": [],
   "source": []
  },
  {
   "cell_type": "code",
   "execution_count": 37,
   "metadata": {},
   "outputs": [
    {
     "data": {
      "text/plain": [
       "array([[3285,   17,   20,    1],\n",
       "       [  23, 1594,   13,   13],\n",
       "       [  32,   19, 3315,    0],\n",
       "       [   0,   10,    0, 1658]])"
      ]
     },
     "execution_count": 37,
     "metadata": {},
     "output_type": "execute_result"
    }
   ],
   "source": [
    "y_train_pred = cross_val_predict(rf_clf, X_train_scaled, y_train, cv = CV)\n",
    "conf_mx = confusion_matrix(y_train, y_train_pred)\n",
    "conf_mx"
   ]
  },
  {
   "cell_type": "code",
   "execution_count": 38,
   "metadata": {},
   "outputs": [
    {
     "data": {
      "image/png": "[encoded data removed]",
      "text/plain": [
       "<matplotlib.figure.Figure at 0x7f4681118f60>"
      ]
     },
     "metadata": {},
     "output_type": "display_data"
    }
   ],
   "source": [
    "plt.matshow(conf_mx, cmap = plt.cm.gray)\n",
    "plt.show()"
   ]
  },
  {
   "cell_type": "code",
   "execution_count": 39,
   "metadata": {},
   "outputs": [],
   "source": [
    "row_sums = conf_mx.sum(axis = 1, keepdims = True)\n",
    "norm_conf_mx = conf_mx / row_sums"
   ]
  },
  {
   "cell_type": "code",
   "execution_count": 40,
   "metadata": {},
   "outputs": [
    {
     "data": {
      "image/png": "[encoded data removed]",
      "text/plain": [
       "<matplotlib.figure.Figure at 0x7f46811355c0>"
      ]
     },
     "metadata": {},
     "output_type": "display_data"
    }
   ],
   "source": [
    "np.fill_diagonal(norm_conf_mx, 0)\n",
    "plt.matshow(norm_conf_mx, cmap = plt.cm.gray)\n",
    "plt.show()"
   ]
  },
  {
   "cell_type": "markdown",
   "metadata": {},
   "source": [
    "## Test prediction accuracy of the model trained on the whole train set"
   ]
  },
  {
   "cell_type": "code",
   "execution_count": 41,
   "metadata": {},
   "outputs": [],
   "source": [
    "y_test_pred = rf_clf.predict(X_test)"
   ]
  },
  {
   "cell_type": "code",
   "execution_count": 42,
   "metadata": {},
   "outputs": [
    {
     "data": {
      "text/plain": [
       "array([[349,   3,   2,   0],\n",
       "       [  0, 140,   0,   1],\n",
       "       [  2,   0, 342,   0],\n",
       "       [  0,   2,   0, 159]])"
      ]
     },
     "execution_count": 42,
     "metadata": {},
     "output_type": "execute_result"
    }
   ],
   "source": [
    "conf_mx = confusion_matrix(y_test, y_test_pred)\n",
    "conf_mx"
   ]
  },
  {
   "cell_type": "code",
   "execution_count": 43,
   "metadata": {},
   "outputs": [
    {
     "data": {
      "text/plain": [
       "0.99"
      ]
     },
     "execution_count": 43,
     "metadata": {},
     "output_type": "execute_result"
    }
   ],
   "source": [
    "test_accuracy = np.trace(np.asarray(conf_mx))/conf_mx.sum()\n",
    "test_accuracy"
   ]
  },
  {
   "cell_type": "code",
   "execution_count": 44,
   "metadata": {},
   "outputs": [
    {
     "data": {
      "text/plain": [
       "0.977"
      ]
     },
     "execution_count": 44,
     "metadata": {},
     "output_type": "execute_result"
    }
   ],
   "source": [
    "rfscaled_clf = RandomForestClassifier(random_state = 42)\n",
    "rfscaled_clf.fit(X_train_scaled, y_train);\n",
    "\n",
    "scaler = StandardScaler()\n",
    "X_test_scaled = scaler.fit_transform(X_test.astype(np.float64))\n",
    "\n",
    "y_test_scaled_pred = rfscaled_clf.predict(X_test_scaled)\n",
    "conf_mx = confusion_matrix(y_test, y_test_scaled_pred)\n",
    "test_accuracy = np.trace(np.asarray(conf_mx))/conf_mx.sum()\n",
    "test_accuracy"
   ]
  },
  {
   "cell_type": "code",
   "execution_count": 45,
   "metadata": {},
   "outputs": [
    {
     "data": {
      "image/png": "[encoded data removed]",
      "text/plain": [
       "<matplotlib.figure.Figure at 0x7f46820b5cc0>"
      ]
     },
     "metadata": {},
     "output_type": "display_data"
    }
   ],
   "source": [
    "plt.matshow(conf_mx, cmap = plt.cm.gray)\n",
    "plt.show()"
   ]
  },
  {
   "cell_type": "code",
   "execution_count": 46,
   "metadata": {},
   "outputs": [],
   "source": [
    "row_sums = conf_mx.sum(axis = 1, keepdims = True)\n",
    "norm_conf_mx = conf_mx / row_sums"
   ]
  },
  {
   "cell_type": "code",
   "execution_count": 47,
   "metadata": {},
   "outputs": [
    {
     "data": {
      "image/png": "[encoded data removed]",
      "text/plain": [
       "<matplotlib.figure.Figure at 0x7f468110e828>"
      ]
     },
     "metadata": {},
     "output_type": "display_data"
    }
   ],
   "source": [
    "np.fill_diagonal(norm_conf_mx, 0)\n",
    "plt.matshow(norm_conf_mx, cmap = plt.cm.gray)\n",
    "plt.show()"
   ]
  },
  {
   "cell_type": "markdown",
   "metadata": {},
   "source": [
    "# Neural Network Classifier"
   ]
  },
  {
   "cell_type": "code",
   "execution_count": null,
   "metadata": {},
   "outputs": [],
   "source": []
  },
  {
   "cell_type": "code",
   "execution_count": null,
   "metadata": {},
   "outputs": [],
   "source": [
    "class NNClassifier(object):\n",
    "    \"\"\"\n",
    "    Input to the network is the state, output is the action\n",
    "    under a deterministic policy.\n",
    "    \"\"\"\n",
    "\n",
    "    def __init__(self, sess, learning_rate):\n",
    "        self.sess = sess\n",
    "        self.learning_rate = learning_rate\n",
    "\n",
    "        # Network architecture\n",
    "        #self.action, self.y, self.X = self.create_network()\n",
    "        self.action = self.create_network()\n",
    "\n",
    "        self.network_params = tf.trainable_variables()\n",
    "        \n",
    "    def create_network(self):\n",
    "        with tf.name_scope(\"dnn\"):\n",
    "            #inputs = tflearn.input_data(shape=[None, self.s_dim])\n",
    "            tf.set_random_seed(seed)\n",
    "            # 1. Parameters to determine the NN architecture\n",
    "\n",
    "            n_inputs = env.observation_space.shape[1]\n",
    "            n_hidden1 = 20; activation1 = tf.nn.elu\n",
    "            n_hidden2 = 6; activation2 = tf.nn.elu\n",
    "            n_outputs = env.action_space.shape[1]\n",
    "\n",
    "            self.initializer = tf.contrib.layers.variance_scaling_initializer()\n",
    "\n",
    "            # 2. Build the Neural Network\n",
    "            \n",
    "            self.X = tf.placeholder(tf.float32, shape = (None, n_inputs), name = \"X\")\n",
    "            self.y = tf.placeholder(tf.int64, shape = (None), name = \"y\")\n",
    "            \n",
    "            hidden1 = tf.layers.dense(self.X, n_hidden1, activation = activation1,\n",
    "                                     kernel_initializer = self.initializer)\n",
    "            hidden2 = tf.layers.dense(hidden1, n_hidden2, activation = activation2,\n",
    "                                     kernel_initializer = self.initializer)\n",
    "            logits = tf.layers.dense(hidden2, n_outputs,kernel_initializer = self.initializer)\n",
    "            \n",
    "        with tf.name_scope(\"loss\"):\n",
    "            xentropy = tf.nn.sparse_softmax_cross_entropy_with_logits(labels = self.y,\n",
    "                                                                      logits = logits)\n",
    "            loss = tf.reduce_mean(xentropy, name = \"loss\")\n",
    "            \n",
    "        with tf.name_scope(\"train\"):\n",
    "            # Optimization Op\n",
    "            optimizer = tf.train.AdamOptimizer(self.learning_rate)\n",
    "            self.optimize = optimizer.minimize(loss)\n",
    "            \n",
    "        with tf.name_scope(\"eval\"):\n",
    "            correct = tf.nn.in_top_k(logits, self.y, 1)\n",
    "            self.accuracy = tf.reduce_mean(tf.cast(correct,tf.float32))\n",
    "      \n",
    "        with tf.name_scope(\"action\"):\n",
    "            outputs = tf.nn.softmax(logits)\n",
    "            # 3. Select a random action (where to go) based on the estimated probabilities\n",
    "            self.action = tf.multinomial(tf.log(outputs), num_samples = 1)\n",
    "\n",
    "        self.init = tf.global_variables_initializer()\n",
    "        \n",
    "        return self.action#, y, X\n",
    "\n",
    "    def train(self,X,y):\n",
    "        self.sess.run(self.optimize, feed_dict={\n",
    "            self.y: y,\n",
    "            self.X: X\n",
    "        })\n",
    "\n",
    "    def predict_action(self, X, y):\n",
    "        return self.sess.run(self.action, feed_dict={\n",
    "            self.X: X,\n",
    "            self.y: y\n",
    "        })\n",
    "    \n",
    "    def get_accuracy(self, X, y):\n",
    "        return self.sess.run(self.accuracy, feed_dict={\n",
    "            self.X: X,\n",
    "            self.y: y\n",
    "        })\n",
    "\n",
    "    def get_num_trainable_vars(self):\n",
    "        return self.num_trainable_vars\n",
    "\n",
    "    "
   ]
  },
  {
   "cell_type": "code",
   "execution_count": 86,
   "metadata": {},
   "outputs": [],
   "source": [
    "#BOOK ML\n",
    "def fetch_batch(X,y,epoch, batch_index, batch_size, data_size):\n",
    "    np.random.seed(epoch * n_batches + batch_index)  # not shown in the book\n",
    "    indices = np.random.randint(data_size, size=batch_size)  # not shown\n",
    "    X_batch = X[indices] # not shown\n",
    "    y_batch = y[indices] # not shown\n",
    "    return X_batch, y_batch"
   ]
  },
  {
   "cell_type": "code",
   "execution_count": 89,
   "metadata": {},
   "outputs": [
    {
     "name": "stdout",
     "output_type": "stream",
     "text": [
      "Epoch:  0  Train accuracy:  0.88  Validation accuracy:  0.819\n",
      "Epoch:  500  Train accuracy:  1.0  Validation accuracy:  0.993\n",
      "Epoch:  1000  Train accuracy:  1.0  Validation accuracy:  0.984\n",
      "Epoch:  1500  Train accuracy:  0.99  Validation accuracy:  0.993\n",
      "Epoch:  2000  Train accuracy:  1.0  Validation accuracy:  0.995\n",
      "Epoch:  2500  Train accuracy:  1.0  Validation accuracy:  0.989\n",
      "Epoch:  3000  Train accuracy:  0.98  Validation accuracy:  0.995\n",
      "Epoch:  3500  Train accuracy:  0.99  Validation accuracy:  0.991\n",
      "Epoch:  4000  Train accuracy:  0.99  Validation accuracy:  0.977\n",
      "Epoch:  4500  Train accuracy:  0.96  Validation accuracy:  0.978\n",
      "Epoch:  5000  Train accuracy:  1.0  Validation accuracy:  0.989\n",
      "Epoch:  5000  Train accuracy:  1.0  Validation accuracy:  0.989  Test accuracy:  0.996\n"
     ]
    }
   ],
   "source": [
    "np.random.seed(42)\n",
    "\n",
    "epochs = 5000\n",
    "batch_size = 100\n",
    "n_batches = int(np.ceil(N_TRAIN/ batch_size))\n",
    "\n",
    "learning_rate = 0.01\n",
    "\n",
    "X = X_train\n",
    "y = y_train\n",
    "\n",
    "m = y.shape[0]\n",
    "\n",
    "summary_freq = np.ceil(epochs/10)\n",
    "\n",
    "#saver = tf.train.Saver()\n",
    "####\n",
    "#X_train.dtype = 'float32'\n",
    "#X_val.dtype = 'float32'\n",
    "#X_test.dtype = 'float32'\n",
    "###\n",
    "\n",
    "with tf.Session() as sess:\n",
    "    nn_clf = NNClassifier(sess, learning_rate)\n",
    "    nn_clf.create_network()\n",
    "    nn_clf.init.run()\n",
    "    for epoch in range(epochs+1):\n",
    "        for batch_index in range(n_batches):\n",
    "            X_batch, y_batch = fetch_batch(X,y,epoch, batch_index, batch_size, m)\n",
    "            #print(\"Xbatch shape\",X_batch.shape, \"y_batch shape\", y_batch.shape)\n",
    "            nn_clf.train(X_batch, y_batch)\n",
    "        acc_train = nn_clf.get_accuracy(X_batch, y_batch)\n",
    "        acc_val = nn_clf.get_accuracy(X_val, y_val)\n",
    "        if epoch % summary_freq  == 0:\n",
    "            print(\"Epoch: \", epoch, \" Train accuracy: \", acc_train, \" Validation accuracy: \", acc_val)\n",
    "        #if epoch == 3000:\n",
    "            #break;\n",
    "            \n",
    "    acc_test = nn_clf.get_accuracy(X_test, y_test)\n",
    "    print(\"Epoch: \", epoch, \" Train accuracy: \", acc_train, \" Validation accuracy: \", acc_val,\n",
    "         \" Test accuracy: \", acc_test)\n",
    "            \n",
    "    #save_path = saver.save(sess, \"./final_nn_classifier.ckpt\")\n",
    "    "
   ]
  },
  {
   "cell_type": "code",
   "execution_count": 73,
   "metadata": {},
   "outputs": [
    {
     "data": {
      "text/plain": [
       "(10000, 3)"
      ]
     },
     "execution_count": 73,
     "metadata": {},
     "output_type": "execute_result"
    }
   ],
   "source": [
    "y_train.shape[0]\n",
    "X_train.shape"
   ]
  },
  {
   "cell_type": "code",
   "execution_count": null,
   "metadata": {},
   "outputs": [],
   "source": [
    "X_train.dtype = 'float32'"
   ]
  },
  {
   "cell_type": "code",
   "execution_count": null,
   "metadata": {},
   "outputs": [],
   "source": [
    "X_train.dtype"
   ]
  },
  {
   "cell_type": "code",
   "execution_count": null,
   "metadata": {},
   "outputs": [],
   "source": [
    "X_train"
   ]
  },
  {
   "cell_type": "code",
   "execution_count": null,
   "metadata": {},
   "outputs": [],
   "source": [
    "X_train"
   ]
  },
  {
   "cell_type": "code",
   "execution_count": null,
   "metadata": {},
   "outputs": [],
   "source": []
  }
 ],
 "metadata": {
  "kernelspec": {
   "display_name": "Python 3",
   "language": "python",
   "name": "python3"
  },
  "language_info": {
   "codemirror_mode": {
    "name": "ipython",
    "version": 3
   },
   "file_extension": ".py",
   "mimetype": "text/x-python",
   "name": "python",
   "nbconvert_exporter": "python",
   "pygments_lexer": "ipython3",
   "version": "3.5.4"
  },
  "toc": {
   "nav_menu": {},
   "number_sections": true,
   "sideBar": true,
   "skip_h1_title": false,
   "title_cell": "Table of Contents",
   "title_sidebar": "Contents",
   "toc_cell": false,
   "toc_position": {},
   "toc_section_display": true,
   "toc_window_display": false
  }
 },
 "nbformat": 4,
 "nbformat_minor": 2
}
