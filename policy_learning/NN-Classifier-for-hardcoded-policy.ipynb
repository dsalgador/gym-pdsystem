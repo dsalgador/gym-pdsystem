{
 "cells": [
  {
   "cell_type": "code",
   "execution_count": 1,
   "metadata": {},
   "outputs": [
    {
     "name": "stderr",
     "output_type": "stream",
     "text": [
      "/home/dsalgador/anaconda3/envs/tensorflow/lib/python3.5/site-packages/h5py/__init__.py:36: FutureWarning: Conversion of the second argument of issubdtype from `float` to `np.floating` is deprecated. In future, it will be treated as `np.float64 == np.dtype(float).type`.\n",
      "  from ._conv import register_converters as _register_converters\n"
     ]
    }
   ],
   "source": [
    "\"\"\" \n",
    "The algorithm is tested on the PDSystemEnv  gym task \n",
    "and developed with Tensorflow\n",
    "\n",
    "Author: Daniel Salgado Rojo\n",
    "\"\"\"\n",
    "import tensorflow as tf\n",
    "import numpy as np\n",
    "import gym\n",
    "import gym_pdsystem\n",
    "from gym import wrappers\n",
    "#import tflearn\n",
    "import argparse\n",
    "import pprint as pp\n",
    "\n",
    "#from ddpg.replay_buffer import ReplayBuffer\n",
    "\n",
    "from datetime import datetime\n",
    "\n",
    "import random\n",
    "from gym_pdsystem.envs.pdsystem_env import PDSystemEnv\n",
    "\n",
    "import gym_pdsystem.utils.utilsq as ut\n",
    "import gym_pdsystem.utils.constants as ct\n",
    "\n",
    "\n",
    "from matplotlib import animation, rc\n",
    "import matplotlib.pyplot as plt\n",
    "from IPython.display import HTML\n",
    "\n",
    "\n",
    "#TO OMMIT WARNINGS\n",
    "import warnings\n",
    "warnings.filterwarnings('ignore')"
   ]
  },
  {
   "cell_type": "code",
   "execution_count": 2,
   "metadata": {},
   "outputs": [
    {
     "name": "stdout",
     "output_type": "stream",
     "text": [
      "\u001b[33mWARN: gym.spaces.Box autodetected dtype as <class 'numpy.float32'>. Please provide explicit dtype.\u001b[0m\n",
      "\u001b[33mWARN: gym.spaces.Box autodetected dtype as <class 'numpy.float32'>. Please provide explicit dtype.\u001b[0m\n",
      "\u001b[33mWARN: gym.spaces.Box autodetected dtype as <class 'numpy.float32'>. Please provide explicit dtype.\u001b[0m\n",
      "\u001b[33mWARN: gym.spaces.Box autodetected dtype as <class 'numpy.float32'>. Please provide explicit dtype.\u001b[0m\n"
     ]
    },
    {
     "data": {
      "text/plain": [
       "[42]"
      ]
     },
     "execution_count": 2,
     "metadata": {},
     "output_type": "execute_result"
    }
   ],
   "source": [
    "episode_length = 30\n",
    "seed = 42\n",
    "\n",
    "system = PDSystemEnv()\n",
    "env = gym.make(\"PDSystemEnv-v0\")\n",
    "env._max_episode_steps = episode_length\n",
    "\n",
    "np.random.seed(seed)\n",
    "tf.set_random_seed(seed)\n",
    "env.seed(seed)\n"
   ]
  },
  {
   "cell_type": "code",
   "execution_count": 3,
   "metadata": {},
   "outputs": [],
   "source": [
    "def leftmost_emptiest_tank_policy(s, system):\n",
    "    min_boolean_indexes = np.isin(s, np.min(s))\n",
    "    min_indexes = np.where(min_boolean_indexes)\n",
    "    min_indexes = min_indexes[0]\n",
    "    #n_min = len(min_indexes)\n",
    "\n",
    "    possible_indexes = []\n",
    "    \n",
    "    for tank_visited in min_indexes:\n",
    "        hypothetical_next_tank_state = s[tank_visited] + system.truck_max_loads\n",
    "        #print(hypothetical_next_tank_state, system.tank_max_loads[tank_visited])\n",
    "        if hypothetical_next_tank_state <= system.tank_max_loads[tank_visited]:\n",
    "                    possible_indexes.append(tank_visited)\n",
    "    \n",
    "    \n",
    "    if len(possible_indexes) != 0:\n",
    "        tank_to_go = possible_indexes[0] # THIS IS WHAT CHANGES WITH RESPECT TO THE emptiest_tank_policy()\n",
    "        return tank_to_go\n",
    "    else:\n",
    "        return system.n #stay in the depot"
   ]
  },
  {
   "cell_type": "markdown",
   "metadata": {},
   "source": [
    "# Creating train, validation and test sets"
   ]
  },
  {
   "cell_type": "code",
   "execution_count": 4,
   "metadata": {},
   "outputs": [],
   "source": [
    "################################################################################\n",
    "# ENSURE THIS PARAMETER VALUES ARE SET AT THE BEGINNING OF THE pdsystem_env.py!!\n",
    "################################################################################\n",
    "\n",
    "# Example k = 1 (trucks), n = 3 (tanks)\n",
    "TANK_MAX_LOADS = np.array([100., 200, 100.])\n",
    "LEVEL_PERCENTAGES = np.array([ #b , c, e\n",
    "                                                [0.02, 0.31, 0.9],\n",
    "                                                [0.01, 0.03, 0.9],\n",
    "                                                [0.05, 0.16, 0.9]\n",
    "                                                   ])\n",
    "TRUCK_MAX_LOADS = np.array([50.])\n",
    "GRAPH_WEIGHTS = np.array([32., 159., 162., 0.])\n",
    "\n",
    "DISCRETE = False\n",
    "########################################"
   ]
  },
  {
   "cell_type": "code",
   "execution_count": 5,
   "metadata": {},
   "outputs": [
    {
     "name": "stdout",
     "output_type": "stream",
     "text": [
      "\u001b[33mWARN: gym.spaces.Box autodetected dtype as <class 'numpy.float32'>. Please provide explicit dtype.\u001b[0m\n",
      "\u001b[33mWARN: gym.spaces.Box autodetected dtype as <class 'numpy.float32'>. Please provide explicit dtype.\u001b[0m\n"
     ]
    }
   ],
   "source": [
    "seed = 42\n",
    "np.random.seed(seed)\n",
    "system = PDSystemEnv()\n",
    "\n",
    "N_TRAIN = 10**4; SEED_TRAIN = 42; train_file = 'train.txt'\n",
    "N_VAL = 10**3; SEED_VAL = 50; validation_file = 'validation.txt'\n",
    "N_TEST = 10**3; SEED_TEST = 58; test_file = 'test.txt'\n",
    "\n",
    "round_decimals = 5\n",
    "\n",
    "CREATE_DATASETS = False\n",
    "\n",
    "def create_datasets(outputfile, n_observations, seed = None):   \n",
    "    if seed != None:\n",
    "        np.random.seed(seed)\n",
    "        \n",
    "    with open('{}'.format(outputfile),'w') as f:\n",
    "        np.savetxt(f, [np.array(['tank1', 'tank2', 'tank3', 'target'])], fmt = \"%s\", delimiter=',')\n",
    "        for i in range(n_observations):\n",
    "            obs = []\n",
    "            for max_load in TANK_MAX_LOADS:\n",
    "                random_load = np.random.random() * max_load\n",
    "                obs.append(np.round(random_load,round_decimals)  )\n",
    "\n",
    "            obs.append(leftmost_emptiest_tank_policy(np.array(obs), system))   \n",
    "            np.savetxt(f, [np.array(obs)], fmt = ('%f','%f', '%f', '%d'), delimiter=',')  #!! fmt only for n=3\n",
    "\n",
    "if CREATE_DATASETS:          \n",
    "    create_datasets(train_file, N_TRAIN, SEED_TRAIN) \n",
    "    create_datasets(validation_file, N_VAL, SEED_VAL)      \n",
    "    create_datasets(test_file, N_TEST, SEED_TEST)            "
   ]
  },
  {
   "cell_type": "markdown",
   "metadata": {},
   "source": [
    "# Exploring data sets"
   ]
  },
  {
   "cell_type": "code",
   "execution_count": 6,
   "metadata": {},
   "outputs": [],
   "source": [
    "import pandas as pd"
   ]
  },
  {
   "cell_type": "code",
   "execution_count": 7,
   "metadata": {},
   "outputs": [],
   "source": [
    "train = pd.read_table(train_file, sep = \",\")\n",
    "test = pd.read_table(test_file, sep = \",\")\n",
    "validation = pd.read_table(validation_file, sep = \",\")"
   ]
  },
  {
   "cell_type": "code",
   "execution_count": 8,
   "metadata": {},
   "outputs": [
    {
     "data": {
      "image/png": "[encoded data removed]",
      "text/plain": [
       "<matplotlib.figure.Figure at 0x7fe270a84b38>"
      ]
     },
     "metadata": {},
     "output_type": "display_data"
    }
   ],
   "source": [
    "train.hist()\n",
    "plt.show()"
   ]
  },
  {
   "cell_type": "code",
   "execution_count": 9,
   "metadata": {},
   "outputs": [
    {
     "data": {
      "image/png": "[encoded data removed]",
      "text/plain": [
       "<matplotlib.figure.Figure at 0x7fe2463e98d0>"
      ]
     },
     "metadata": {},
     "output_type": "display_data"
    },
    {
     "data": {
      "image/png": "[encoded data removed]",
      "text/plain": [
       "<matplotlib.figure.Figure at 0x7fe242aacbe0>"
      ]
     },
     "metadata": {},
     "output_type": "display_data"
    }
   ],
   "source": [
    "test.hist()\n",
    "validation.hist()\n",
    "\n",
    "plt.show()"
   ]
  },
  {
   "cell_type": "code",
   "execution_count": 10,
   "metadata": {},
   "outputs": [],
   "source": [
    "y_train = train[\"target\"].values#.reshape((N_TRAIN, ))\n",
    "X_train = train[[\"tank1\", \"tank2\",\"tank3\"]].values\n",
    "\n",
    "y_test = test[\"target\"].values#.reshape((N_TEST, ))\n",
    "X_test = test[[\"tank1\", \"tank2\",\"tank3\"]].values\n",
    "\n",
    "y_val = validation[\"target\"]#.reshape((N_VAL, ))\n",
    "X_val = validation[[\"tank1\", \"tank2\",\"tank3\"]].values"
   ]
  },
  {
   "cell_type": "code",
   "execution_count": 11,
   "metadata": {},
   "outputs": [],
   "source": [
    "X_train = X_train.astype('float32')\n",
    "X_test = X_test.astype('float32')\n",
    "X_val = X_val.astype('float32')"
   ]
  },
  {
   "cell_type": "markdown",
   "metadata": {},
   "source": [
    "# Stochastic gradient descent classifier "
   ]
  },
  {
   "cell_type": "code",
   "execution_count": 12,
   "metadata": {},
   "outputs": [],
   "source": [
    "from sklearn.linear_model import SGDClassifier"
   ]
  },
  {
   "cell_type": "code",
   "execution_count": 13,
   "metadata": {},
   "outputs": [],
   "source": [
    "from sklearn.model_selection import cross_val_predict, cross_val_score\n",
    "from sklearn.metrics import confusion_matrix"
   ]
  },
  {
   "cell_type": "code",
   "execution_count": 14,
   "metadata": {},
   "outputs": [],
   "source": [
    "sgd_clf = SGDClassifier(random_state = 42)\n",
    "sgd_clf.fit(X_train, y_train);"
   ]
  },
  {
   "cell_type": "markdown",
   "metadata": {},
   "source": [
    "## Cross validation accuracy"
   ]
  },
  {
   "cell_type": "code",
   "execution_count": 15,
   "metadata": {},
   "outputs": [],
   "source": [
    "CV = 10"
   ]
  },
  {
   "cell_type": "code",
   "execution_count": 16,
   "metadata": {
    "scrolled": true
   },
   "outputs": [
    {
     "name": "stdout",
     "output_type": "stream",
     "text": [
      "Average cross validation score:  0.805050233881416\n"
     ]
    }
   ],
   "source": [
    "cvs = cross_val_score(sgd_clf, X_train, y_train, cv = CV, scoring = \"accuracy\")\n",
    "print(\"Average cross validation score: \", np.mean(cvs))"
   ]
  },
  {
   "cell_type": "code",
   "execution_count": 17,
   "metadata": {},
   "outputs": [],
   "source": [
    "from sklearn.preprocessing import StandardScaler\n"
   ]
  },
  {
   "cell_type": "code",
   "execution_count": 18,
   "metadata": {},
   "outputs": [],
   "source": [
    "scaler = StandardScaler()\n",
    "X_train_scaled = scaler.fit_transform(X_train.astype(np.float64))"
   ]
  },
  {
   "cell_type": "code",
   "execution_count": 19,
   "metadata": {},
   "outputs": [
    {
     "name": "stdout",
     "output_type": "stream",
     "text": [
      "Average cross validation score for scaled train data:  0.9026149060019663\n"
     ]
    }
   ],
   "source": [
    "cvs = cross_val_score(sgd_clf, X_train_scaled, y_train, cv = CV, scoring = \"accuracy\")\n",
    "print(\"Average cross validation score for scaled train data: \", np.mean(cvs));"
   ]
  },
  {
   "cell_type": "markdown",
   "metadata": {},
   "source": [
    "## Error Analysis"
   ]
  },
  {
   "cell_type": "code",
   "execution_count": 20,
   "metadata": {},
   "outputs": [
    {
     "data": {
      "text/plain": [
       "array([[3218,   33,   64,    8],\n",
       "       [ 112, 1420,   45,   66],\n",
       "       [ 198,   89, 3027,   52],\n",
       "       [ 188,   64,   55, 1361]])"
      ]
     },
     "execution_count": 20,
     "metadata": {},
     "output_type": "execute_result"
    }
   ],
   "source": [
    "y_train_pred = cross_val_predict(sgd_clf, X_train_scaled, y_train, cv = CV)\n",
    "conf_mx = confusion_matrix(y_train, y_train_pred)\n",
    "conf_mx"
   ]
  },
  {
   "cell_type": "code",
   "execution_count": 21,
   "metadata": {},
   "outputs": [
    {
     "data": {
      "image/png": "[encoded data removed]",
      "text/plain": [
       "<matplotlib.figure.Figure at 0x7fe23f1ee710>"
      ]
     },
     "metadata": {},
     "output_type": "display_data"
    }
   ],
   "source": [
    "plt.matshow(conf_mx, cmap = plt.cm.gray)\n",
    "plt.show()"
   ]
  },
  {
   "cell_type": "code",
   "execution_count": 22,
   "metadata": {},
   "outputs": [],
   "source": [
    "row_sums = conf_mx.sum(axis = 1, keepdims = True)\n",
    "norm_conf_mx = conf_mx / row_sums"
   ]
  },
  {
   "cell_type": "code",
   "execution_count": 23,
   "metadata": {},
   "outputs": [
    {
     "data": {
      "image/png": "[encoded data removed]",
      "text/plain": [
       "<matplotlib.figure.Figure at 0x7fe2366ad518>"
      ]
     },
     "metadata": {},
     "output_type": "display_data"
    }
   ],
   "source": [
    "np.fill_diagonal(norm_conf_mx, 0)\n",
    "plt.matshow(norm_conf_mx, cmap = plt.cm.gray)\n",
    "plt.show()"
   ]
  },
  {
   "cell_type": "markdown",
   "metadata": {},
   "source": [
    "## Test prediction accuracy of the model trained on the whole train set"
   ]
  },
  {
   "cell_type": "code",
   "execution_count": 24,
   "metadata": {},
   "outputs": [],
   "source": [
    "y_test_pred = sgd_clf.predict(X_test)"
   ]
  },
  {
   "cell_type": "code",
   "execution_count": 25,
   "metadata": {},
   "outputs": [
    {
     "data": {
      "text/plain": [
       "array([[344,  10,   0,   0],\n",
       "       [  9, 119,  13,   0],\n",
       "       [ 30,  14, 300,   0],\n",
       "       [ 73,  25,  16,  47]])"
      ]
     },
     "execution_count": 25,
     "metadata": {},
     "output_type": "execute_result"
    }
   ],
   "source": [
    "conf_mx = confusion_matrix(y_test, y_test_pred)\n",
    "conf_mx"
   ]
  },
  {
   "cell_type": "code",
   "execution_count": 26,
   "metadata": {},
   "outputs": [
    {
     "data": {
      "text/plain": [
       "0.81"
      ]
     },
     "execution_count": 26,
     "metadata": {},
     "output_type": "execute_result"
    }
   ],
   "source": [
    "test_accuracy = np.trace(np.asarray(conf_mx))/conf_mx.sum()\n",
    "test_accuracy"
   ]
  },
  {
   "cell_type": "code",
   "execution_count": 27,
   "metadata": {},
   "outputs": [
    {
     "data": {
      "text/plain": [
       "0.928"
      ]
     },
     "execution_count": 27,
     "metadata": {},
     "output_type": "execute_result"
    }
   ],
   "source": [
    "sgdscaled_clf = SGDClassifier(random_state = 42)\n",
    "sgdscaled_clf.fit(X_train_scaled, y_train);\n",
    "\n",
    "scaler = StandardScaler()\n",
    "X_test_scaled = scaler.fit_transform(X_test.astype(np.float64))\n",
    "\n",
    "y_test_scaled_pred = sgdscaled_clf.predict(X_test_scaled)\n",
    "conf_mx = confusion_matrix(y_test, y_test_scaled_pred)\n",
    "test_accuracy = np.trace(np.asarray(conf_mx))/conf_mx.sum()\n",
    "test_accuracy"
   ]
  },
  {
   "cell_type": "code",
   "execution_count": 28,
   "metadata": {},
   "outputs": [
    {
     "data": {
      "image/png": "[encoded data removed]",
      "text/plain": [
       "<matplotlib.figure.Figure at 0x7fe2366de5f8>"
      ]
     },
     "metadata": {},
     "output_type": "display_data"
    }
   ],
   "source": [
    "plt.matshow(conf_mx, cmap = plt.cm.gray)\n",
    "plt.show()"
   ]
  },
  {
   "cell_type": "code",
   "execution_count": 29,
   "metadata": {},
   "outputs": [],
   "source": [
    "row_sums = conf_mx.sum(axis = 1, keepdims = True)\n",
    "norm_conf_mx = conf_mx / row_sums"
   ]
  },
  {
   "cell_type": "code",
   "execution_count": 30,
   "metadata": {},
   "outputs": [
    {
     "data": {
      "image/png": "[encoded data removed]",
      "text/plain": [
       "<matplotlib.figure.Figure at 0x7fe2366999e8>"
      ]
     },
     "metadata": {},
     "output_type": "display_data"
    }
   ],
   "source": [
    "np.fill_diagonal(norm_conf_mx, 0)\n",
    "plt.matshow(norm_conf_mx, cmap = plt.cm.gray)\n",
    "plt.show()"
   ]
  },
  {
   "cell_type": "markdown",
   "metadata": {},
   "source": [
    "# Random forest classifier"
   ]
  },
  {
   "cell_type": "code",
   "execution_count": 31,
   "metadata": {},
   "outputs": [],
   "source": [
    "from sklearn.ensemble import RandomForestClassifier\n",
    "\n",
    "rf_clf = RandomForestClassifier(random_state = 42)\n",
    "rf_clf.fit(X_train, y_train);"
   ]
  },
  {
   "cell_type": "markdown",
   "metadata": {},
   "source": [
    "## Cross validation accuracy"
   ]
  },
  {
   "cell_type": "code",
   "execution_count": 32,
   "metadata": {},
   "outputs": [],
   "source": [
    "CV = 10"
   ]
  },
  {
   "cell_type": "code",
   "execution_count": 33,
   "metadata": {
    "scrolled": true
   },
   "outputs": [
    {
     "name": "stdout",
     "output_type": "stream",
     "text": [
      "Average cross validation score:  0.9851987684034821\n"
     ]
    }
   ],
   "source": [
    "cvs = cross_val_score(rf_clf, X_train, y_train, cv = CV, scoring = \"accuracy\")\n",
    "print(\"Average cross validation score: \", np.mean(cvs))"
   ]
  },
  {
   "cell_type": "code",
   "execution_count": 34,
   "metadata": {},
   "outputs": [],
   "source": [
    "from sklearn.preprocessing import StandardScaler\n"
   ]
  },
  {
   "cell_type": "code",
   "execution_count": 35,
   "metadata": {},
   "outputs": [],
   "source": [
    "scaler = StandardScaler()\n",
    "X_train_scaled = scaler.fit_transform(X_train.astype(np.float64))"
   ]
  },
  {
   "cell_type": "code",
   "execution_count": 36,
   "metadata": {},
   "outputs": [
    {
     "name": "stdout",
     "output_type": "stream",
     "text": [
      "Average cross validation score for scaled train data:  0.9851987684034821\n"
     ]
    }
   ],
   "source": [
    "cvs = cross_val_score(rf_clf, X_train_scaled, y_train, cv = CV, scoring = \"accuracy\")\n",
    "print(\"Average cross validation score for scaled train data: \", np.mean(cvs));"
   ]
  },
  {
   "cell_type": "markdown",
   "metadata": {},
   "source": [
    "## Error Analysis"
   ]
  },
  {
   "cell_type": "code",
   "execution_count": 37,
   "metadata": {},
   "outputs": [
    {
     "data": {
      "text/plain": [
       "array([[3285,   17,   20,    1],\n",
       "       [  23, 1594,   13,   13],\n",
       "       [  32,   19, 3315,    0],\n",
       "       [   0,   10,    0, 1658]])"
      ]
     },
     "execution_count": 37,
     "metadata": {},
     "output_type": "execute_result"
    }
   ],
   "source": [
    "y_train_pred = cross_val_predict(rf_clf, X_train_scaled, y_train, cv = CV)\n",
    "conf_mx = confusion_matrix(y_train, y_train_pred)\n",
    "conf_mx"
   ]
  },
  {
   "cell_type": "code",
   "execution_count": 38,
   "metadata": {},
   "outputs": [
    {
     "data": {
      "image/png": "[encoded data removed]",
      "text/plain": [
       "<matplotlib.figure.Figure at 0x7fe235699fd0>"
      ]
     },
     "metadata": {},
     "output_type": "display_data"
    }
   ],
   "source": [
    "plt.matshow(conf_mx, cmap = plt.cm.gray)\n",
    "plt.show()"
   ]
  },
  {
   "cell_type": "code",
   "execution_count": 39,
   "metadata": {},
   "outputs": [],
   "source": [
    "row_sums = conf_mx.sum(axis = 1, keepdims = True)\n",
    "norm_conf_mx = conf_mx / row_sums"
   ]
  },
  {
   "cell_type": "code",
   "execution_count": 40,
   "metadata": {},
   "outputs": [
    {
     "data": {
      "image/png": "[encoded data removed]",
      "text/plain": [
       "<matplotlib.figure.Figure at 0x7fe235699dd8>"
      ]
     },
     "metadata": {},
     "output_type": "display_data"
    }
   ],
   "source": [
    "np.fill_diagonal(norm_conf_mx, 0)\n",
    "plt.matshow(norm_conf_mx, cmap = plt.cm.gray)\n",
    "plt.show()"
   ]
  },
  {
   "cell_type": "markdown",
   "metadata": {},
   "source": [
    "## Test prediction accuracy of the model trained on the whole train set"
   ]
  },
  {
   "cell_type": "code",
   "execution_count": 41,
   "metadata": {},
   "outputs": [],
   "source": [
    "y_test_pred = rf_clf.predict(X_test)"
   ]
  },
  {
   "cell_type": "code",
   "execution_count": 42,
   "metadata": {},
   "outputs": [
    {
     "data": {
      "text/plain": [
       "array([[349,   3,   2,   0],\n",
       "       [  0, 140,   0,   1],\n",
       "       [  2,   0, 342,   0],\n",
       "       [  0,   2,   0, 159]])"
      ]
     },
     "execution_count": 42,
     "metadata": {},
     "output_type": "execute_result"
    }
   ],
   "source": [
    "conf_mx = confusion_matrix(y_test, y_test_pred)\n",
    "conf_mx"
   ]
  },
  {
   "cell_type": "code",
   "execution_count": 43,
   "metadata": {},
   "outputs": [
    {
     "data": {
      "text/plain": [
       "0.99"
      ]
     },
     "execution_count": 43,
     "metadata": {},
     "output_type": "execute_result"
    }
   ],
   "source": [
    "test_accuracy = np.trace(np.asarray(conf_mx))/conf_mx.sum()\n",
    "test_accuracy"
   ]
  },
  {
   "cell_type": "code",
   "execution_count": 44,
   "metadata": {},
   "outputs": [
    {
     "data": {
      "text/plain": [
       "0.977"
      ]
     },
     "execution_count": 44,
     "metadata": {},
     "output_type": "execute_result"
    }
   ],
   "source": [
    "rfscaled_clf = RandomForestClassifier(random_state = 42)\n",
    "rfscaled_clf.fit(X_train_scaled, y_train);\n",
    "\n",
    "scaler = StandardScaler()\n",
    "X_test_scaled = scaler.fit_transform(X_test.astype(np.float64))\n",
    "\n",
    "y_test_scaled_pred = rfscaled_clf.predict(X_test_scaled)\n",
    "conf_mx = confusion_matrix(y_test, y_test_scaled_pred)\n",
    "test_accuracy = np.trace(np.asarray(conf_mx))/conf_mx.sum()\n",
    "test_accuracy"
   ]
  },
  {
   "cell_type": "code",
   "execution_count": 45,
   "metadata": {},
   "outputs": [
    {
     "data": {
      "image/png": "[encoded data removed]",
      "text/plain": [
       "<matplotlib.figure.Figure at 0x7fe2356690b8>"
      ]
     },
     "metadata": {},
     "output_type": "display_data"
    }
   ],
   "source": [
    "plt.matshow(conf_mx, cmap = plt.cm.gray)\n",
    "plt.show()"
   ]
  },
  {
   "cell_type": "code",
   "execution_count": 46,
   "metadata": {},
   "outputs": [],
   "source": [
    "row_sums = conf_mx.sum(axis = 1, keepdims = True)\n",
    "norm_conf_mx = conf_mx / row_sums"
   ]
  },
  {
   "cell_type": "code",
   "execution_count": 47,
   "metadata": {},
   "outputs": [
    {
     "data": {
      "image/png": "[encoded data removed]",
      "text/plain": [
       "<matplotlib.figure.Figure at 0x7fe2356214a8>"
      ]
     },
     "metadata": {},
     "output_type": "display_data"
    }
   ],
   "source": [
    "np.fill_diagonal(norm_conf_mx, 0)\n",
    "plt.matshow(norm_conf_mx, cmap = plt.cm.gray)\n",
    "plt.show()"
   ]
  },
  {
   "cell_type": "markdown",
   "metadata": {},
   "source": [
    "# Neural Network Classifier"
   ]
  },
  {
   "cell_type": "code",
   "execution_count": 48,
   "metadata": {},
   "outputs": [],
   "source": [
    "def reset_graph(seed=42):\n",
    "    tf.reset_default_graph()\n",
    "    tf.set_random_seed(seed)\n",
    "    np.random.seed(seed)\n"
   ]
  },
  {
   "cell_type": "code",
   "execution_count": 49,
   "metadata": {},
   "outputs": [],
   "source": [
    "class NNClassifier(object):\n",
    "    \"\"\"\n",
    "    Input to the network is the state, output is the action\n",
    "    under a deterministic policy.\n",
    "    \"\"\"\n",
    "\n",
    "    def __init__(self, sess, learning_rate, model_file = None):\n",
    "        self.sess = sess\n",
    "        self.learning_rate = learning_rate\n",
    "\n",
    "        # Network architecture\n",
    "        #self.action, self.y, self.X = self.create_network()\n",
    "        self.action = self.create_network()\n",
    "\n",
    "        self.network_params = tf.trainable_variables()\n",
    "        \n",
    "    def create_network(self):\n",
    "       \n",
    "        with tf.name_scope(\"dnn\"):\n",
    "            #inputs = tflearn.input_data(shape=[None, self.s_dim])\n",
    "            tf.set_random_seed(seed)\n",
    "            # 1. Parameters to determine the NN architecture\n",
    "\n",
    "            n_inputs = env.observation_space.shape[1]\n",
    "            n_hidden1 = 20; activation1 = tf.nn.elu\n",
    "            n_hidden2 = 6; activation2 = tf.nn.elu\n",
    "            n_outputs = env.action_space.shape[1]\n",
    "\n",
    "            self.initializer = tf.contrib.layers.variance_scaling_initializer()\n",
    "\n",
    "            # 2. Build the Neural Network\n",
    "            \n",
    "            self.X = tf.placeholder(tf.float32, shape = (None, n_inputs), name = \"X\")\n",
    "            self.y = tf.placeholder(tf.int64, shape = (None), name = \"y\")\n",
    "            \n",
    "            hidden1 = tf.layers.dense(self.X, n_hidden1, activation = activation1,\n",
    "                                     kernel_initializer = self.initializer)\n",
    "            hidden2 = tf.layers.dense(hidden1, n_hidden2, activation = activation2,\n",
    "                                     kernel_initializer = self.initializer)\n",
    "            logits = tf.layers.dense(hidden2, n_outputs,kernel_initializer = self.initializer)\n",
    "            \n",
    "        with tf.name_scope(\"loss\"):\n",
    "            xentropy = tf.nn.sparse_softmax_cross_entropy_with_logits(labels = self.y,\n",
    "                                                                      logits = logits)\n",
    "            loss = tf.reduce_mean(xentropy, name = \"loss\")\n",
    "            \n",
    "        with tf.name_scope(\"train\"):\n",
    "            # Optimization Op\n",
    "            optimizer = tf.train.AdamOptimizer(self.learning_rate)\n",
    "            self.optimize = optimizer.minimize(loss)\n",
    "            \n",
    "        with tf.name_scope(\"eval\"):\n",
    "            correct = tf.nn.in_top_k(logits, self.y, 1)\n",
    "            self.accuracy = tf.reduce_mean(tf.cast(correct,tf.float32))\n",
    "      \n",
    "        with tf.name_scope(\"action\"):\n",
    "            outputs = tf.nn.softmax(logits)\n",
    "            # 3. Select a random action (where to go) based on the estimated probabilities\n",
    "            self.action = tf.multinomial(tf.log(outputs), num_samples = 1)\n",
    "\n",
    "        self.init = tf.global_variables_initializer()\n",
    "        \n",
    "        if model_file != None:\n",
    "            self.saver = tf.train.Saver()\n",
    "        \n",
    "        return self.action#, y, X\n",
    "\n",
    "    def train(self,X,y):\n",
    "        self.sess.run(self.optimize, feed_dict={\n",
    "            self.y: y,\n",
    "            self.X: X\n",
    "        })\n",
    "\n",
    "    def predict_action(self, X, y):\n",
    "        return self.sess.run(self.action, feed_dict={\n",
    "            self.X: X,\n",
    "            self.y: y\n",
    "        })\n",
    "    \n",
    "    def get_accuracy(self, X, y):\n",
    "        return self.sess.run(self.accuracy, feed_dict={\n",
    "            self.X: X,\n",
    "            self.y: y\n",
    "        })\n",
    "\n",
    "    def get_num_trainable_vars(self):\n",
    "        return self.num_trainable_vars\n",
    "    \n",
    "    def fetch_batch(self, X,y,epoch, batch_index, batch_size, data_size, n_batches):\n",
    "        #np.random.seed(epoch * n_batches + batch_index)  # not shown in the book\n",
    "        indices = np.random.randint(data_size, size=batch_size)  # not shown\n",
    "        X_batch = X[indices] # not shown\n",
    "        y_batch = y[indices] # not shown\n",
    "        return X_batch, y_batch\n",
    "\n",
    "    def fit(self, X_train, y_train, X_val, y_val, epochs = 10, batch_size = 50, summary_freq = None):\n",
    "        N_TRAIN = X_train.shape[0]\n",
    "        m = y_train.shape[0]\n",
    "        \n",
    "        n_batches = int(np.ceil(N_TRAIN/ batch_size))\n",
    "        #print(n_batches)\n",
    "             \n",
    "        for epoch in range(epochs+1):\n",
    "            for batch_index in range(n_batches):\n",
    "                X_batch, y_batch = self.fetch_batch(X_train,y_train,epoch, batch_index, batch_size, m, n_batches)\n",
    "                #print(\"Xbatch shape\",X_batch.shape, \"y_batch shape\", y_batch.shape)\n",
    "                self.train(X_batch, y_batch)\n",
    "            if summary_freq != None:    \n",
    "                acc_train = self.get_accuracy(X_batch, y_batch)\n",
    "                acc_val = self.get_accuracy(X_val, y_val)\n",
    "                if epoch % summary_freq  == 0:\n",
    "                    print(\"Epoch: \", epoch, \" Train (batch) accuracy: \", acc_train, \" Validation accuracy: \", acc_val)\n"
   ]
  },
  {
   "cell_type": "code",
   "execution_count": 50,
   "metadata": {},
   "outputs": [
    {
     "name": "stdout",
     "output_type": "stream",
     "text": [
      "WARNING:tensorflow:From /home/dsalgador/anaconda3/envs/tensorflow/lib/python3.5/site-packages/tensorflow/contrib/learn/python/learn/datasets/base.py:198: retry (from tensorflow.contrib.learn.python.learn.datasets.base) is deprecated and will be removed in a future version.\n",
      "Instructions for updating:\n",
      "Use the retry module or similar alternatives.\n",
      "Epoch:  0  Train (batch) accuracy:  0.82  Validation accuracy:  0.868\n",
      "Epoch:  1  Train (batch) accuracy:  0.89  Validation accuracy:  0.895\n",
      "All Train accuracy 0.9092  Test accuracy:  0.901\n"
     ]
    }
   ],
   "source": [
    "reset_graph()\n",
    "\n",
    "seed = 43\n",
    "np.random.seed(seed)\n",
    "\n",
    "epochs = 1\n",
    "batch_size = 100\n",
    "\n",
    "learning_rate = 0.01\n",
    "summary_freq = np.ceil(epochs/10)\n",
    "\n",
    "\n",
    "model_file = None#'./final_nn_classifier.ckpt'\n",
    "\n",
    "\n",
    "with tf.Session() as sess:\n",
    "\n",
    "                nn_clf = NNClassifier(sess, learning_rate, model_file)\n",
    "                nn_clf.init.run()\n",
    "                nn_clf.fit(X_train, y_train, X_val, y_val, epochs = epochs, batch_size = batch_size, summary_freq = summary_freq)\n",
    "                acc_test = nn_clf.get_accuracy(X_test, y_test)\n",
    "                acc_train = nn_clf.get_accuracy(X_train, y_train)\n",
    "\n",
    "                print(\"All Train accuracy\", acc_train, \" Test accuracy: \", acc_test)"
   ]
  },
  {
   "cell_type": "code",
   "execution_count": 51,
   "metadata": {},
   "outputs": [
    {
     "name": "stdout",
     "output_type": "stream",
     "text": [
      "0.01\n"
     ]
    }
   ],
   "source": [
    "reset_graph()\n",
    "\n",
    "# sess = tf.Session() \n",
    "with tf.Session() as sess:\n",
    "    #reset_graph()\n",
    "    #nn_clf = NNClassifier(sess, learning_rate, model_file)\n",
    "    #nn_clf.init.run()\n",
    "    #saver = tf.train.import_meta_graph('./final_nn_classifier.ckpt.meta')\n",
    "    print(    nn_clf.learning_rate)\n",
    "    nn_clf.sess = sess\n",
    "    nn_clf.create_network()\n",
    "    \n",
    "    #nn_clf.saver.restore(sess, './final_nn_classifier.ckpt')\n",
    "    #print(    nn_clf.learning_rate)\n",
    "    #acc_test = nn_clf.get_accuracy(X_test, y_test)\n",
    "    #print(\" Test accuracy: \", acc_test)"
   ]
  },
  {
   "cell_type": "markdown",
   "metadata": {},
   "source": [
    "## Saving and restoring models"
   ]
  },
  {
   "cell_type": "code",
   "execution_count": 52,
   "metadata": {},
   "outputs": [
    {
     "name": "stdout",
     "output_type": "stream",
     "text": [
      "Epoch:  0  Train (batch) accuracy:  0.94  Validation accuracy:  0.899\n",
      "Saved model with validation accuracy  0.899\n",
      "Epoch:  200  Train (batch) accuracy:  0.98  Validation accuracy:  0.976\n",
      "Saved model with validation accuracy  0.976\n",
      "Epoch:  400  Train (batch) accuracy:  0.98  Validation accuracy:  0.989\n",
      "Saved model with validation accuracy  0.989\n",
      "Epoch:  600  Train (batch) accuracy:  1.0  Validation accuracy:  0.985\n",
      "Epoch:  800  Train (batch) accuracy:  1.0  Validation accuracy:  0.982\n",
      "Epoch:  1000  Train (batch) accuracy:  1.0  Validation accuracy:  0.991\n",
      "Saved model with validation accuracy  0.991\n",
      "Epoch:  1200  Train (batch) accuracy:  1.0  Validation accuracy:  0.994\n",
      "Saved model with validation accuracy  0.994\n",
      "Epoch:  1400  Train (batch) accuracy:  1.0  Validation accuracy:  0.995\n",
      "Saved model with validation accuracy  0.995\n",
      "Epoch:  1600  Train (batch) accuracy:  1.0  Validation accuracy:  0.987\n",
      "Epoch:  1800  Train (batch) accuracy:  1.0  Validation accuracy:  0.992\n",
      "Epoch:  2000  Train (batch) accuracy:  0.98  Validation accuracy:  0.981\n"
     ]
    }
   ],
   "source": [
    "reset_graph()\n",
    "\n",
    "seed = 42\n",
    "learning_rate = 0.01 #0.01\n",
    "\n",
    "model_file = './final_nn_classifier_scaled_{}.ckpt'.format(learning_rate)\n",
    "graph_file =  '{}.meta'.format(model_file)\n",
    "epochs = 2000 #2000\n",
    "batch_size = 50 #50\n",
    "\n",
    "summary_freq = 200#np.ceil(epochs/10) #200\n",
    "\n",
    "\n",
    "hidden1_neurons = 100 #100\n",
    "hidden2_neurons = 50 #50\n",
    "\n",
    "scaling = False\n",
    "\n",
    "if scaling:\n",
    "    scaler = StandardScaler()\n",
    "    X_train = scaler.fit_transform(X_train.astype(np.float64))\n",
    "    X_val = scaler.fit_transform(X_val.astype(np.float64))\n",
    "    X_test = scaler.fit_transform(X_test.astype(np.float64))\n",
    "\n",
    "\n",
    "    \n",
    "\n",
    "\n",
    "with tf.name_scope(\"dnn\"):\n",
    "            #inputs = tflearn.input_data(shape=[None, self.s_dim])\n",
    "            tf.set_random_seed(seed)\n",
    "            # 1. Parameters to determine the NN architecture\n",
    "\n",
    "            n_inputs = env.observation_space.shape[1]\n",
    "            n_hidden1 = hidden1_neurons; activation1 = tf.nn.elu\n",
    "            n_hidden2 = hidden2_neurons; activation2 = tf.nn.elu\n",
    "            n_outputs = env.action_space.shape[1]\n",
    "\n",
    "            initializer = tf.contrib.layers.variance_scaling_initializer()\n",
    "\n",
    "            # 2. Build the Neural Network\n",
    "            \n",
    "            X = tf.placeholder(tf.float32, shape = (None, n_inputs), name = \"X\")\n",
    "            y = tf.placeholder(tf.int64, shape = (None), name = \"y\")\n",
    "            \n",
    "            hidden1 = tf.layers.dense(X, n_hidden1, activation = activation1,\n",
    "                                     kernel_initializer = initializer)\n",
    "            hidden2 = tf.layers.dense(hidden1, n_hidden2, activation = activation2,\n",
    "                                     kernel_initializer = initializer)\n",
    "            logits = tf.layers.dense(hidden2, n_outputs,kernel_initializer = initializer)\n",
    "            \n",
    "with tf.name_scope(\"loss\"):\n",
    "            xentropy = tf.nn.sparse_softmax_cross_entropy_with_logits(labels = y,\n",
    "                                                                      logits = logits)\n",
    "            loss = tf.reduce_mean(xentropy, name = \"loss\")\n",
    "            \n",
    "with tf.name_scope(\"train\"):\n",
    "            # Optimization Op\n",
    "            optimizer = tf.train.AdamOptimizer(learning_rate)\n",
    "            optimize = optimizer.minimize(loss)\n",
    "            \n",
    "with tf.name_scope(\"eval\"):\n",
    "            correct = tf.nn.in_top_k(logits, y, 1)\n",
    "            accuracy = tf.reduce_mean(tf.cast(correct,tf.float32))\n",
    "            \n",
    "with tf.name_scope(\"action\"):\n",
    "            outputs = tf.nn.softmax(logits)\n",
    "            # 3. Select a random action (where to go) based on the estimated probabilities\n",
    "            action = tf.multinomial(tf.log(outputs), num_samples = 1)\n",
    "\n",
    "init = tf.global_variables_initializer()\n",
    "        \n",
    "if model_file != None:\n",
    "            saver = tf.train.Saver()\n",
    "        \n",
    "\n",
    "def fetch_batch(X,y,epoch, batch_index, batch_size, data_size, n_batches):\n",
    "        #np.random.seed(epoch * n_batches + batch_index)  # not shown in the book\n",
    "        indices = np.random.randint(data_size, size=batch_size)  # not shown\n",
    "        X_batch = X[indices] # not shown\n",
    "        y_batch = y[indices] # not shown\n",
    "        return X_batch, y_batch\n",
    "    \n",
    "    \n",
    "best_acc_val = 0\n",
    "acc_val = 0\n",
    "# early_stopping = True\n",
    "# stopping_counter = 0\n",
    "# max_stopping_counter = 100\n",
    "\n",
    "with tf.Session() as sess:\n",
    "        init.run()\n",
    "        N_TRAIN = X_train.shape[0]\n",
    "        m = y_train.shape[0]\n",
    "        \n",
    "        n_batches = int(np.ceil(N_TRAIN/ batch_size))\n",
    "        #print(n_batches)\n",
    "             \n",
    "        for epoch in range(epochs+1):\n",
    "            for batch_index in range(n_batches):\n",
    "                X_batch, y_batch = fetch_batch(X_train,y_train,epoch, batch_index, batch_size, m, n_batches)\n",
    "                #print(\"Xbatch shape\",X_batch.shape, \"y_batch shape\", y_batch.shape)\n",
    "                sess.run(optimize, feed_dict={\n",
    "                                    y: y_batch,\n",
    "                                    X: X_batch\n",
    "                                })\n",
    "    \n",
    "            if summary_freq != None: \n",
    "                            \n",
    "                if epoch % summary_freq  == 0:\n",
    "                    \n",
    "\n",
    "                    acc_train = sess.run(accuracy, feed_dict={\n",
    "                                        y: y_batch,\n",
    "                                        X: X_batch\n",
    "                                    })\n",
    "                    acc_val = sess.run(accuracy, feed_dict={\n",
    "                                        y: y_val,\n",
    "                                        X: X_val\n",
    "                                    }) \n",
    "                                    \n",
    "                    \n",
    "                    best_acc_val = max(best_acc_val, acc_val)\n",
    "\n",
    "                    #print(acc_val, best_acc_val)\n",
    "\n",
    "                    print(\"Epoch: \", epoch, \" Train (batch) accuracy: \", acc_train, \n",
    "                          \" Validation accuracy: \", acc_val)\n",
    "                    if best_acc_val <= acc_val:                        \n",
    "                        save_path = saver.save(sess, model_file)\n",
    "                        print(\"Saved model with validation accuracy \", acc_val)\n",
    "                                     \n",
    "        #save_path = saver.save(sess, model_file)   "
   ]
  },
  {
   "cell_type": "code",
   "execution_count": 53,
   "metadata": {},
   "outputs": [
    {
     "name": "stdout",
     "output_type": "stream",
     "text": [
      "INFO:tensorflow:Restoring parameters from ./final_nn_classifier_scaled_0.01.ckpt\n",
      " Test accuracy of the best model saved (according to validation accuracy):  0.995\n"
     ]
    }
   ],
   "source": [
    "\n",
    "with tf.Session() as sess: \n",
    "    saver.restore(sess, model_file)\n",
    "    acc_test = sess.run(accuracy, feed_dict={\n",
    "                                    y: y_test,\n",
    "                                    X: X_test\n",
    "                               })\n",
    "    print(\" Test accuracy of the best model saved (according to validation accuracy): \", acc_test)\n",
    "    \n",
    "    "
   ]
  },
  {
   "cell_type": "markdown",
   "metadata": {},
   "source": [
    "## Adding summaries to visualize performance metrics with TensorBoard"
   ]
  },
  {
   "cell_type": "code",
   "execution_count": 70,
   "metadata": {},
   "outputs": [
    {
     "ename": "ValueError",
     "evalue": "Tensor conversion requested dtype float32 for Tensor with dtype int64: 'Tensor(\"dnn/y:0\", dtype=int64)'",
     "output_type": "error",
     "traceback": [
      "\u001b[0;31m---------------------------------------------------------------------------\u001b[0m",
      "\u001b[0;31mValueError\u001b[0m                                Traceback (most recent call last)",
      "\u001b[0;32m<ipython-input-70-fd999a2b7c53>\u001b[0m in \u001b[0;36m<module>\u001b[0;34m()\u001b[0m\n\u001b[1;32m     49\u001b[0m \u001b[0;32mwith\u001b[0m \u001b[0mtf\u001b[0m\u001b[0;34m.\u001b[0m\u001b[0mname_scope\u001b[0m\u001b[0;34m(\u001b[0m\u001b[0;34m\"loss\"\u001b[0m\u001b[0;34m)\u001b[0m\u001b[0;34m:\u001b[0m\u001b[0;34m\u001b[0m\u001b[0m\n\u001b[1;32m     50\u001b[0m             xentropy = tf.nn.sigmoid_cross_entropy_with_logits(labels = y,\n\u001b[0;32m---> 51\u001b[0;31m                                                                       logits = logits)\n\u001b[0m\u001b[1;32m     52\u001b[0m \u001b[0;31m#             xentropy = tf.nn.sparse_softmax_cross_entropy_with_logits(labels = y,\u001b[0m\u001b[0;34m\u001b[0m\u001b[0;34m\u001b[0m\u001b[0m\n\u001b[1;32m     53\u001b[0m \u001b[0;31m#                                                                       logits = logits)\u001b[0m\u001b[0;34m\u001b[0m\u001b[0;34m\u001b[0m\u001b[0m\n",
      "\u001b[0;32m~/anaconda3/envs/tensorflow/lib/python3.5/site-packages/tensorflow/python/ops/nn_impl.py\u001b[0m in \u001b[0;36msigmoid_cross_entropy_with_logits\u001b[0;34m(_sentinel, labels, logits, name)\u001b[0m\n\u001b[1;32m    179\u001b[0m     \u001b[0mneg_abs_logits\u001b[0m \u001b[0;34m=\u001b[0m \u001b[0marray_ops\u001b[0m\u001b[0;34m.\u001b[0m\u001b[0mwhere\u001b[0m\u001b[0;34m(\u001b[0m\u001b[0mcond\u001b[0m\u001b[0;34m,\u001b[0m \u001b[0;34m-\u001b[0m\u001b[0mlogits\u001b[0m\u001b[0;34m,\u001b[0m \u001b[0mlogits\u001b[0m\u001b[0;34m)\u001b[0m\u001b[0;34m\u001b[0m\u001b[0m\n\u001b[1;32m    180\u001b[0m     return math_ops.add(\n\u001b[0;32m--> 181\u001b[0;31m         \u001b[0mrelu_logits\u001b[0m \u001b[0;34m-\u001b[0m \u001b[0mlogits\u001b[0m \u001b[0;34m*\u001b[0m \u001b[0mlabels\u001b[0m\u001b[0;34m,\u001b[0m\u001b[0;34m\u001b[0m\u001b[0m\n\u001b[0m\u001b[1;32m    182\u001b[0m         \u001b[0mmath_ops\u001b[0m\u001b[0;34m.\u001b[0m\u001b[0mlog1p\u001b[0m\u001b[0;34m(\u001b[0m\u001b[0mmath_ops\u001b[0m\u001b[0;34m.\u001b[0m\u001b[0mexp\u001b[0m\u001b[0;34m(\u001b[0m\u001b[0mneg_abs_logits\u001b[0m\u001b[0;34m)\u001b[0m\u001b[0;34m)\u001b[0m\u001b[0;34m,\u001b[0m\u001b[0;34m\u001b[0m\u001b[0m\n\u001b[1;32m    183\u001b[0m         name=name)\n",
      "\u001b[0;32m~/anaconda3/envs/tensorflow/lib/python3.5/site-packages/tensorflow/python/ops/math_ops.py\u001b[0m in \u001b[0;36mbinary_op_wrapper\u001b[0;34m(x, y)\u001b[0m\n\u001b[1;32m    960\u001b[0m       \u001b[0;32mif\u001b[0m \u001b[0;32mnot\u001b[0m \u001b[0misinstance\u001b[0m\u001b[0;34m(\u001b[0m\u001b[0my\u001b[0m\u001b[0;34m,\u001b[0m \u001b[0msparse_tensor\u001b[0m\u001b[0;34m.\u001b[0m\u001b[0mSparseTensor\u001b[0m\u001b[0;34m)\u001b[0m\u001b[0;34m:\u001b[0m\u001b[0;34m\u001b[0m\u001b[0m\n\u001b[1;32m    961\u001b[0m         \u001b[0;32mtry\u001b[0m\u001b[0;34m:\u001b[0m\u001b[0;34m\u001b[0m\u001b[0m\n\u001b[0;32m--> 962\u001b[0;31m           \u001b[0my\u001b[0m \u001b[0;34m=\u001b[0m \u001b[0mops\u001b[0m\u001b[0;34m.\u001b[0m\u001b[0mconvert_to_tensor\u001b[0m\u001b[0;34m(\u001b[0m\u001b[0my\u001b[0m\u001b[0;34m,\u001b[0m \u001b[0mdtype\u001b[0m\u001b[0;34m=\u001b[0m\u001b[0mx\u001b[0m\u001b[0;34m.\u001b[0m\u001b[0mdtype\u001b[0m\u001b[0;34m.\u001b[0m\u001b[0mbase_dtype\u001b[0m\u001b[0;34m,\u001b[0m \u001b[0mname\u001b[0m\u001b[0;34m=\u001b[0m\u001b[0;34m\"y\"\u001b[0m\u001b[0;34m)\u001b[0m\u001b[0;34m\u001b[0m\u001b[0m\n\u001b[0m\u001b[1;32m    963\u001b[0m         \u001b[0;32mexcept\u001b[0m \u001b[0mTypeError\u001b[0m\u001b[0;34m:\u001b[0m\u001b[0;34m\u001b[0m\u001b[0m\n\u001b[1;32m    964\u001b[0m           \u001b[0;31m# If the RHS is not a tensor, it might be a tensor aware object\u001b[0m\u001b[0;34m\u001b[0m\u001b[0;34m\u001b[0m\u001b[0m\n",
      "\u001b[0;32m~/anaconda3/envs/tensorflow/lib/python3.5/site-packages/tensorflow/python/framework/ops.py\u001b[0m in \u001b[0;36mconvert_to_tensor\u001b[0;34m(value, dtype, name, preferred_dtype)\u001b[0m\n\u001b[1;32m    948\u001b[0m       \u001b[0mname\u001b[0m\u001b[0;34m=\u001b[0m\u001b[0mname\u001b[0m\u001b[0;34m,\u001b[0m\u001b[0;34m\u001b[0m\u001b[0m\n\u001b[1;32m    949\u001b[0m       \u001b[0mpreferred_dtype\u001b[0m\u001b[0;34m=\u001b[0m\u001b[0mpreferred_dtype\u001b[0m\u001b[0;34m,\u001b[0m\u001b[0;34m\u001b[0m\u001b[0m\n\u001b[0;32m--> 950\u001b[0;31m       as_ref=False)\n\u001b[0m\u001b[1;32m    951\u001b[0m \u001b[0;34m\u001b[0m\u001b[0m\n\u001b[1;32m    952\u001b[0m \u001b[0;34m\u001b[0m\u001b[0m\n",
      "\u001b[0;32m~/anaconda3/envs/tensorflow/lib/python3.5/site-packages/tensorflow/python/framework/ops.py\u001b[0m in \u001b[0;36minternal_convert_to_tensor\u001b[0;34m(value, dtype, name, as_ref, preferred_dtype, ctx)\u001b[0m\n\u001b[1;32m   1038\u001b[0m \u001b[0;34m\u001b[0m\u001b[0m\n\u001b[1;32m   1039\u001b[0m     \u001b[0;32mif\u001b[0m \u001b[0mret\u001b[0m \u001b[0;32mis\u001b[0m \u001b[0;32mNone\u001b[0m\u001b[0;34m:\u001b[0m\u001b[0;34m\u001b[0m\u001b[0m\n\u001b[0;32m-> 1040\u001b[0;31m       \u001b[0mret\u001b[0m \u001b[0;34m=\u001b[0m \u001b[0mconversion_func\u001b[0m\u001b[0;34m(\u001b[0m\u001b[0mvalue\u001b[0m\u001b[0;34m,\u001b[0m \u001b[0mdtype\u001b[0m\u001b[0;34m=\u001b[0m\u001b[0mdtype\u001b[0m\u001b[0;34m,\u001b[0m \u001b[0mname\u001b[0m\u001b[0;34m=\u001b[0m\u001b[0mname\u001b[0m\u001b[0;34m,\u001b[0m \u001b[0mas_ref\u001b[0m\u001b[0;34m=\u001b[0m\u001b[0mas_ref\u001b[0m\u001b[0;34m)\u001b[0m\u001b[0;34m\u001b[0m\u001b[0m\n\u001b[0m\u001b[1;32m   1041\u001b[0m \u001b[0;34m\u001b[0m\u001b[0m\n\u001b[1;32m   1042\u001b[0m     \u001b[0;32mif\u001b[0m \u001b[0mret\u001b[0m \u001b[0;32mis\u001b[0m \u001b[0mNotImplemented\u001b[0m\u001b[0;34m:\u001b[0m\u001b[0;34m\u001b[0m\u001b[0m\n",
      "\u001b[0;32m~/anaconda3/envs/tensorflow/lib/python3.5/site-packages/tensorflow/python/framework/ops.py\u001b[0m in \u001b[0;36m_TensorTensorConversionFunction\u001b[0;34m(t, dtype, name, as_ref)\u001b[0m\n\u001b[1;32m    881\u001b[0m     raise ValueError(\n\u001b[1;32m    882\u001b[0m         \u001b[0;34m\"Tensor conversion requested dtype %s for Tensor with dtype %s: %r\"\u001b[0m \u001b[0;34m%\u001b[0m\u001b[0;34m\u001b[0m\u001b[0m\n\u001b[0;32m--> 883\u001b[0;31m         (dtype.name, t.dtype.name, str(t)))\n\u001b[0m\u001b[1;32m    884\u001b[0m   \u001b[0;32mreturn\u001b[0m \u001b[0mt\u001b[0m\u001b[0;34m\u001b[0m\u001b[0m\n\u001b[1;32m    885\u001b[0m \u001b[0;34m\u001b[0m\u001b[0m\n",
      "\u001b[0;31mValueError\u001b[0m: Tensor conversion requested dtype float32 for Tensor with dtype int64: 'Tensor(\"dnn/y:0\", dtype=int64)'"
     ]
    }
   ],
   "source": [
    "reset_graph()\n",
    "\n",
    "seed = 42\n",
    "learning_rate = 0.01 #0.01\n",
    "\n",
    "model_file = './final_nn_classifier_{}.ckpt'.format(learning_rate)\n",
    "graph_file =  '{}.meta'.format(model_file)\n",
    "epochs = 10000 #2000\n",
    "batch_size = 50 #50\n",
    "\n",
    "summary_freq = 100#np.ceil(epochs/10) #200\n",
    "\n",
    "\n",
    "hidden1_neurons = 100 #100\n",
    "hidden2_neurons = 50 #50\n",
    "\n",
    "scaling = False\n",
    "\n",
    "if scaling:\n",
    "    scaler = StandardScaler()\n",
    "    X_train = scaler.fit_transform(X_train.astype(np.float64))\n",
    "    X_val = scaler.fit_transform(X_val.astype(np.float64))\n",
    "    X_test = scaler.fit_transform(X_test.astype(np.float64))\n",
    "\n",
    "\n",
    "with tf.name_scope(\"dnn\"):\n",
    "            #inputs = tflearn.input_data(shape=[None, self.s_dim])\n",
    "            tf.set_random_seed(seed)\n",
    "            # 1. Parameters to determine the NN architecture\n",
    "\n",
    "            n_inputs = env.observation_space.shape[1]\n",
    "            n_hidden1 = hidden1_neurons; activation1 = tf.nn.elu\n",
    "            n_hidden2 = hidden2_neurons; activation2 = tf.nn.elu\n",
    "            n_outputs = env.action_space.shape[1]\n",
    "\n",
    "            initializer = tf.contrib.layers.variance_scaling_initializer()\n",
    "\n",
    "            # 2. Build the Neural Network\n",
    "            \n",
    "            X = tf.placeholder(tf.float32, shape = (None, n_inputs), name = \"X\")\n",
    "            y = tf.placeholder(tf.int64, shape = (None), name = \"y\")\n",
    "            \n",
    "            hidden1 = tf.layers.dense(X, n_hidden1, activation = activation1,\n",
    "                                     kernel_initializer = initializer)\n",
    "            hidden2 = tf.layers.dense(hidden1, n_hidden2, activation = activation2,\n",
    "                                     kernel_initializer = initializer)\n",
    "            logits = tf.layers.dense(hidden2, n_outputs,kernel_initializer = initializer)\n",
    "            \n",
    "with tf.name_scope(\"loss\"):\n",
    "            \n",
    "            xentropy = tf.nn.sparse_softmax_cross_entropy_with_logits(labels = y,\n",
    "                                                                      logits = logits)\n",
    "            loss = tf.reduce_mean(xentropy, name = \"loss\")\n",
    "            \n",
    "tf.summary.scalar('average_cross_entropy', loss)\n",
    "            \n",
    "with tf.name_scope(\"train\"):\n",
    "            # Optimization Op\n",
    "            optimizer = tf.train.AdamOptimizer(learning_rate)\n",
    "            optimize = optimizer.minimize(loss)\n",
    "            \n",
    "with tf.name_scope(\"eval\"):\n",
    "            correct = tf.nn.in_top_k(logits, y, 1)\n",
    "            accuracy = tf.reduce_mean(tf.cast(correct,tf.float32))\n",
    "tf.summary.scalar('accuracy', accuracy)\n",
    "\n",
    "            \n",
    "with tf.name_scope(\"action\"):\n",
    "            outputs = tf.nn.softmax(logits)\n",
    "            # 3. Select a random action (where to go) based on the estimated probabilities\n",
    "            action = tf.multinomial(tf.log(outputs), num_samples = 1)\n",
    "\n",
    "merged = tf.summary.merge_all()\n",
    "init = tf.global_variables_initializer()\n",
    "        \n",
    "if model_file != None:\n",
    "            saver = tf.train.Saver()\n",
    "        \n",
    "\n",
    "def fetch_batch(X,y,epoch, batch_index, batch_size, data_size, n_batches):\n",
    "        #np.random.seed(epoch * n_batches + batch_index)  # not shown in the book\n",
    "        indices = np.random.randint(data_size, size=batch_size)  # not shown\n",
    "        X_batch = X[indices] # not shown\n",
    "        y_batch = y[indices] # not shown\n",
    "        return X_batch, y_batch\n",
    "    \n",
    "    \n",
    "best_acc_val = 0\n",
    "acc_val = 0\n",
    "\n",
    "now = datetime.utcnow().strftime(\"%Y%m%d%H%M%S\")\n",
    "root_logdir = \"tf_logs\"\n",
    "logdir = \"{}/run-{}/\".format(root_logdir, now)\n",
    "\n",
    "with tf.Session() as sess:\n",
    "        train_writer = tf.summary.FileWriter(log_dir + '/train', sess.graph)\n",
    "        val_writer = tf.summary.FileWriter(log_dir + '/val')\n",
    "        \n",
    "        init.run()\n",
    "        N_TRAIN = X_train.shape[0]\n",
    "        m = y_train.shape[0]\n",
    "        \n",
    "        n_batches = int(np.ceil(N_TRAIN/ batch_size))\n",
    "        #print(n_batches)\n",
    "             \n",
    "        for epoch in range(epochs+1):\n",
    "            \n",
    "            for batch_index in range(n_batches):\n",
    "                X_batch, y_batch = fetch_batch(X_train,y_train,epoch, batch_index, batch_size, m, n_batches)\n",
    "                #print(\"Xbatch shape\",X_batch.shape, \"y_batch shape\", y_batch.shape)\n",
    "                sess.run(optimize, feed_dict={\n",
    "                                    y: y_batch,\n",
    "                                    X: X_batch\n",
    "                                })\n",
    "    \n",
    "            if summary_freq != None: \n",
    "                            \n",
    "                if epoch % summary_freq  == 0:\n",
    "                    \n",
    "\n",
    "                    summary, acc_train = sess.run([merged, accuracy], feed_dict={\n",
    "                                        y: y_batch,\n",
    "                                        X: X_batch\n",
    "                                    })\n",
    "                    train_writer.add_summary(summary, epoch)\n",
    "\n",
    "                    summary, acc_val = sess.run([merged, accuracy], feed_dict={\n",
    "                                        y: y_val,\n",
    "                                        X: X_val\n",
    "                                    }) \n",
    "                                    \n",
    "                    val_writer.add_summary(summary, epoch)\n",
    "\n",
    "                    best_acc_val = max(best_acc_val, acc_val)\n",
    "                    #print(acc_val, best_acc_val)\n",
    "\n",
    "                    print(\"Epoch: \", epoch, \" Train (batch) accuracy: \", acc_train, \n",
    "                          \" Validation accuracy: \", acc_val)\n",
    "                    if best_acc_val <= acc_val:                        \n",
    "                        save_path = saver.save(sess, model_file)\n",
    "                        print(\"Saved model with validation accuracy \", acc_val)\n",
    "        train_writer.close()\n",
    "        val_writer.close()                            \n",
    "        #save_path = saver.save(sess, model_file)   "
   ]
  },
  {
   "cell_type": "code",
   "execution_count": 65,
   "metadata": {},
   "outputs": [
    {
     "name": "stdout",
     "output_type": "stream",
     "text": [
      "INFO:tensorflow:Restoring parameters from ./final_nn_classifier_0.01.ckpt\n",
      " Test accuracy of the best model saved (according to validation accuracy):  0.999\n"
     ]
    }
   ],
   "source": [
    "\n",
    "with tf.Session() as sess: \n",
    "    saver.restore(sess, model_file)\n",
    "    acc_test = sess.run(accuracy, feed_dict={\n",
    "                                    y: y_test,\n",
    "                                    X: X_test\n",
    "                               })\n",
    "    print(\" Test accuracy of the best model saved (according to validation accuracy): \", acc_test)\n",
    "\n",
    "    "
   ]
  },
  {
   "cell_type": "markdown",
   "metadata": {},
   "source": [
    "## \"Playing\" the product delivery game with the learnt policy"
   ]
  },
  {
   "cell_type": "code",
   "execution_count": 66,
   "metadata": {},
   "outputs": [
    {
     "name": "stdout",
     "output_type": "stream",
     "text": [
      "\u001b[33mWARN: gym.spaces.Box autodetected dtype as <class 'numpy.float32'>. Please provide explicit dtype.\u001b[0m\n",
      "\u001b[33mWARN: gym.spaces.Box autodetected dtype as <class 'numpy.float32'>. Please provide explicit dtype.\u001b[0m\n",
      "\u001b[33mWARN: gym.spaces.Box autodetected dtype as <class 'numpy.float32'>. Please provide explicit dtype.\u001b[0m\n",
      "\u001b[33mWARN: gym.spaces.Box autodetected dtype as <class 'numpy.float32'>. Please provide explicit dtype.\u001b[0m\n"
     ]
    }
   ],
   "source": [
    "episode_length = 30\n",
    "seed = 42\n",
    "\n",
    "system = PDSystemEnv()\n",
    "env = gym.make(\"PDSystemEnv-v0\")\n",
    "env._max_episode_steps = episode_length\n",
    "\n",
    "test  = True"
   ]
  },
  {
   "cell_type": "code",
   "execution_count": 67,
   "metadata": {},
   "outputs": [],
   "source": [
    "def leftmost_emptiest_tank_policy(s, system):\n",
    "    min_boolean_indexes = np.isin(s, np.min(s))\n",
    "    min_indexes = np.where(min_boolean_indexes)\n",
    "    min_indexes = min_indexes[0]\n",
    "    #n_min = len(min_indexes)\n",
    "\n",
    "    possible_indexes = []\n",
    "    \n",
    "    for tank_visited in min_indexes:\n",
    "        hypothetical_next_tank_state = s[tank_visited] + system.truck_max_loads\n",
    "        #print(hypothetical_next_tank_state, system.tank_max_loads[tank_visited])\n",
    "        if hypothetical_next_tank_state <= system.tank_max_loads[tank_visited]:\n",
    "                    possible_indexes.append(tank_visited)\n",
    "    \n",
    "    \n",
    "    if len(possible_indexes) != 0:\n",
    "        tank_to_go = possible_indexes[0] # THIS IS WHAT CHANGES WITH RESPECT TO THE emptiest_tank_policy()\n",
    "        return np.array([tank_to_go])\n",
    "    else:\n",
    "        return np.array([system.n]) #stay in the depot"
   ]
  },
  {
   "cell_type": "code",
   "execution_count": 68,
   "metadata": {},
   "outputs": [
    {
     "name": "stdout",
     "output_type": "stream",
     "text": [
      "INFO:tensorflow:Restoring parameters from ./final_nn_classifier_0.01.ckpt\n"
     ]
    }
   ],
   "source": [
    "frames = []\n",
    "n_episodes = 10\n",
    "\n",
    "with tf.Session() as sess:\n",
    "        sess.run(init)\n",
    "        saver.restore(sess, model_file)\n",
    "        for episode in range(n_episodes):\n",
    "            state = env.reset()\n",
    "            for step in range(episode_length):\n",
    "                system.state = state\n",
    "                img = system.visualize()\n",
    "                frames.append(img)\n",
    "\n",
    "                action_val = action.eval(feed_dict={X: state.reshape(1, n_inputs)})\n",
    " \n",
    "                state, reward, done, info = env.step(action_val[0])\n",
    "                #print(action_val[0],emptiest_tank_policy(state, system))\n",
    "        \n",
    "                if done:\n",
    "                    break\n",
    "        env.close()\n",
    "    "
   ]
  },
  {
   "cell_type": "code",
   "execution_count": 69,
   "metadata": {},
   "outputs": [
    {
     "data": {
      "text/html": [
       "<video width=\"432\" height=\"288\" controls autoplay>\n",
       "  <source type=\"video/mp4\" src=\"data:video/mp4;base64,AAAAHGZ0eXBNNFYgAAACAGlzb21pc28yYXZjMQAAAAhmcmVlAADBt21kYXQAAAKuBgX//6rcRem9\n",
       "5tlIt5Ys2CDZI+7veDI2NCAtIGNvcmUgMTUyIHIyODU0IGU5YTU5MDMgLSBILjI2NC9NUEVHLTQg\n",
       "QVZDIGNvZGVjIC0gQ29weWxlZnQgMjAwMy0yMDE3IC0gaHR0cDovL3d3dy52aWRlb2xhbi5vcmcv\n",
       "eDI2NC5odG1sIC0gb3B0aW9uczogY2FiYWM9MSByZWY9MyBkZWJsb2NrPTE6MDowIGFuYWx5c2U9\n",
       "MHgzOjB4MTEzIG1lPWhleCBzdWJtZT03IHBzeT0xIHBzeV9yZD0xLjAwOjAuMDAgbWl4ZWRfcmVm\n",
       "PTEgbWVfcmFuZ2U9MTYgY2hyb21hX21lPTEgdHJlbGxpcz0xIDh4OGRjdD0xIGNxbT0wIGRlYWR6\n",
       "b25lPTIxLDExIGZhc3RfcHNraXA9MSBjaHJvbWFfcXBfb2Zmc2V0PS0yIHRocmVhZHM9OSBsb29r\n",
       "YWhlYWRfdGhyZWFkcz0xIHNsaWNlZF90aHJlYWRzPTAgbnI9MCBkZWNpbWF0ZT0xIGludGVybGFj\n",
       "ZWQ9MCBibHVyYXlfY29tcGF0PTAgY29uc3RyYWluZWRfaW50cmE9MCBiZnJhbWVzPTMgYl9weXJh\n",
       "bWlkPTIgYl9hZGFwdD0xIGJfYmlhcz0wIGRpcmVjdD0xIHdlaWdodGI9MSBvcGVuX2dvcD0wIHdl\n",
       "aWdodHA9MiBrZXlpbnQ9MjUwIGtleWludF9taW49MTAgc2NlbmVjdXQ9NDAgaW50cmFfcmVmcmVz\n",
       "aD0wIHJjX2xvb2thaGVhZD00MCByYz1jcmYgbWJ0cmVlPTEgY3JmPTIzLjAgcWNvbXA9MC42MCBx\n",
       "cG1pbj0wIHFwbWF4PTY5IHFwc3RlcD00IGlwX3JhdGlvPTEuNDAgYXE9MToxLjAwAIAAAA03ZYiE\n",
       "ABD//veBvzLLXyK6yXH5530srM885DxyXYmuuNAAAAMADN2InuDwrXQ9FeAAIdqvwV2uIFyuvHMD\n",
       "yR5pPdHJHFBuHRRiPYVnF3K+jIXExkxwoCmIwV4EYu9rnjS16428Eowic5JEEljxCw/4mtrWylKu\n",
       "lpJX++XTo7Ee4Q+YEHLkDwBvY0JxicwScY5Y/Dz3oa3ympps0kTL7ZPKZhgOc4DEZk6AGEzuakcu\n",
       "4tRrz/sBJkEC+F9raUJl3V9XkBVHDdlmzh+9/Lm1F+fJ+ib6xO+7lVAjrUJoFfaXd/itIyCbdTrM\n",
       "5qeqxnLf16NEO5087mqJPOJikgKAlaYhbXOsPJJa3kJigM2Z84kEbYzqUBvyJjfq3SPFbqK2AWOH\n",
       "KGDEs6rNekZIbIS5onZTOHT+zQTcYzqnW+2Qnty1dWMQ921OeZ9SEQaaffXHmkjpKC8cKop+ib0B\n",
       "xnksRL3EGbN6CXuRiQo/aevwmiYsiaBTKODaTJpXIAX8qHkChpKXagSecXZdJLQf58WC/HO1StYI\n",
       "pUIUoqhDR+i/yFrImUkU0N/xyP7wBM65hX8WUCN9TVOfAs9yoT2CpRdAAT64FGT1DXUE9+htVXly\n",
       "T6m2XsTwCxpPXFM+wGDjKX1C9h4xWf6WkcCPIAY3yTFxzRfD5DF+IFJIEk1tLwq4iAd9rKy1Qpvz\n",
       "vmlo6+2cI+HNjz4RO3T+RMvaiSCscs74dxkA/ST7+qQGbIdfI6heVt70TaA5spx+iue7gb3umsOl\n",
       "ImESwHSuopTkcz4ApVbF996IeUmkM5NQqIbRbEsIldFN/QMgalPOhUTR4KnYj7crtPPg6BcWvmL5\n",
       "96BsZBO3mxGZEsho0WrN0Khj/s5x10k2e1RVqT67Sss+3BLfurVnEwRI/3+eHmS1wOSeMMIwT+Da\n",
       "PbArdgQPOY8bQstPlQ0krg5Rsszevy9NknJg5+uOh7d+pOxl3AHTTIY20UCPvx22X5hDK+98PT5a\n",
       "pu5ZrgTRZm3DcaHiBeahUD/WJUPKgWOpdPDXshIv/CXBPOGk1tV4RczyJTZbjhvbsIA0F4QPFA4c\n",
       "jpen2Xme6Ka3Ncp7OwyE5yjqRIpWkTQ89k1JUxqjyFnw9TupcfZqjd/qgcNrjCIiamHJMGuV5lEz\n",
       "KP5t1IncDfMuPt6j6QGKwqNssZ+wfFEdX5i+Ci8zo4c66/X4EhhcKlTM8M6MNBXsVTfHY5RnsbYx\n",
       "U3/+auG7YUBLfPoPvxIyqLUE/BWKCUrFBZIQ+px+iscjolFeR/9udN4PnUehBlo9i90tckaLecSd\n",
       "JmH0ntvx8h/uo+ErRdYKB/Sf6jcZCqfjkVdyLVFPr2XcaMOqPKh6R2iPO7Y2KfKcF4UWMWwQSC5U\n",
       "5qGam/tSvN2i403vkQRBRZVGKxjRtJcT6maShYKJB3MnkFxAWMth5csvLIlaJ1iHdYKzOO5IvgNf\n",
       "lNound1jB6MmZyKdpAgyTeZxhwNufHtnMU1Fxa/lDRy5QH4Vx9dvKe9c/LG4CjP5xFnV6M3cAAAD\n",
       "AA/a7Gp/Oysv/e2QizpESeFbjCVgB8wAM+K6zfqf7gZCo1B7A4aTeJQz1kuoAPsFF4dn1IuwiMAB\n",
       "T9vP8W6WxHd9/Zv9mPHSPeDpwcLq6wG44TJhZbBvHK/1aWvoInPQ4/MLNCyeTjawZ8oWCqMvIZaw\n",
       "LRcn5xDVufvt4r5FYznt/TpH2NIS9BbFIQo2RpPBjtxotwW71ZAdTxWXWLaJNcdX526BdIayhxa6\n",
       "5p4CV50dAvNBWjwr2BFJw4pzsYA5u0RlbC4SQAHfrON4trmS5CuMnCHVarei/mCI8mtjcIL6ErQi\n",
       "OD+EuLeejVbu2PKBJV78Jit5CvKFhOWRfIDpnQJ0RsYhYu8UV00wIPxgYI2WJtW85BJ09/pWPt3H\n",
       "cKNwRSiRFTl4Ge2TR+2z74lHBu0DchAUYo0pQwHCY/zH9tVko8ZUJs5BkYikWGkmwLKLuLWRCOUl\n",
       "7TqFvxe+CGM+F6xPU037XA+S+v9diQU45o7DDeod9J/a3rCUqMKufe0dAJfwenq2WANJBOW48l3v\n",
       "lSFGRraVknbHtzDVHR/jqtwLCnvggR68HxRHYHY+xsZdcc+mml0SJlLqSWuBZ99s9/L4Gv0IweCR\n",
       "jPyHsdrpw1Z6+nwNIecWIoN3QUAibyTBJTZLHCuRlAx7pyKxIFI9vW2mw9gGydyA+xb2PneZ1NlV\n",
       "Y0rNbzgcH8rvsHF37ktp6FhtYfOji5VD/LSlAAOeRG9kKhOxF7U1/RRiJbCYgeKzi0ZDPIahbxWC\n",
       "tTZJCXHMPnu3IIf3/vb3sdT2mu5FKRdaHTZzTa0BBjPplrbGyUXtp/RlIVp6Z7lHPJLlB8JBTIRm\n",
       "KA8IS0kIv8lmFuroqN6Wga7NyiR4cgqcbEuxIEhNKtuz4b+EqcB4xO52QrQ7YFFA2Up0wXUqLBPo\n",
       "F5F5d9pyH1mY0UCK4IEV/4KAJJ5HgtkxZeEjVXzzP7vGVcvrDByCffbAIvLJHiuNgLH/kRDXAXoL\n",
       "58I7kY+SuR4D4w0fI58WOo+znvwD5drI9i+WK5ci1ZfYQie5cziSDaWluCWXGpSeYCtPIBeulq2X\n",
       "bXBXt3KFPxjNCVGdw1VImhBTXZZCYXZjua+rnbGvMvKkEd8Zsy9IPyBctsQBjUZ335yyz28h/y9P\n",
       "6ys3uVq/s5FG5+guNXroDV0jplqMfo3v0j/8QkxIS1dvbPfLUxkmlPsL9dHcJlq1kSBLOoj2g/lU\n",
       "vxrvPoGqhpGXwJHMLEA2lZ/PQtXb7yG2XexFw+qg4DJ3tjYX6pr0x8yOM9u29ay5cmbIRbcdG5z5\n",
       "ahIJZWjonH3IgtIwnBdUoOpey9o7MXp5y/zCKqJgFawUeK0V5NJv10+RaaH/LbpKQoXUfvhf7LM5\n",
       "nkjd2FJpOj6z1eIn4hIN32urcV8dbnxVXAB+02Iv24ewTOGFT2mUWWcCXZn1977E+X1sGOG5ivNs\n",
       "HjYZURqFLo/BwYE5aSI5BjReuPuORrHshqAtIAmff5LurKDZmuwe/sXStl9GDGUWgzW5Tp/Oita3\n",
       "v8fCMo7UUiqQ+tV2gxOqNd6AMj2rhXXVSWpaI9UklaGyUCvZGIf4kmgXDMWZCrDnj41zON3NbqIq\n",
       "J6WwuqiHYsBPOYtW5H6b1y/wZlA9j4j5UOT+zL2OZozMZl+XD0KwJQvp8XB3+5A6zwFObQ2HdGDz\n",
       "BAwjSKGzcNb5vV9R/oCX6891e5cFEh9LXXSNcLBnP6v/97/7iqSaMGZ/bTpdEk6Xjdukft/NtKM8\n",
       "Bw0cY39SKjHblph5AdJGp4AtIpf+e88/HQ7fkKmaXmKCMpOCf3G3BfAAGjRn9oBklCdszTiv+5ub\n",
       "ne6Sbfk8KV5EYvAYbdD0vow/3GDSBRFVsu+TE7UwGn/kz8wONpSKlUbAPvqGw2EXEWmURdwVl7j8\n",
       "sozOnoSt9YnIr/zL5omINSOJitqdKz04/9OiDrBaDjnPKGILwjP97MU+ok8eh+9CXrJrd69jatXK\n",
       "yIlApqXFf+VrxwwrFFVR2NhZV5I81p44iTKNDnBIMrx6P9PMT+iJ0qeclaQrFKNUL3wE3z6BnVn7\n",
       "UYkL2o/Mz6JhyiKyY+X4E/s6SxTggsrLoKwZyq9waP8JW/0ek/mKC9QG0exrfiZIFq54fJv617ca\n",
       "cmiqhKCP5sgpEgeGiOrHGU0k3k5TGJxmbF5lRRfgY3ZRo1nFiFVxaPvwfC9kdV3b6lPBDKHPckAG\n",
       "/q92D/ln5ZgjogeOPSbXkhDvXXTaAqnNP7DgyNIxaTIUCN0zGE4+MKl9DGBu1SJCOC+LeA6s7rhS\n",
       "iB89lkHehOBbC5W941Ga+CMBRviJkejSVk4G0f9wupw2brZcw9bQTNolcyS1MQW9a1ddyF8R+7/t\n",
       "4sjsA6vCHZQz5gjjNv1Fwl1Mu0I+gCDGM9zIhazzo7dQdZuptUEeEDfbo1Jo0o+yJP70is0YnqzR\n",
       "U9UwVMOI9B7HiN1H2tapLatfcjC0qjCweoN9V+j7pzMJVahecia/fTLtHj+7C4Y5A3LFLfiQlW+i\n",
       "RzCcnulUm/Fb1keFf6DdqHDhwHVOLjzs8TANgSKNkhtvwf7M/IpLcAXUHbE4fWSbU2+cH0dihtIC\n",
       "GaXdAyPtFtOdNdK4qkaUz+Wn780ounqgzitiDVHS5hx4AZnM0kzq/aJ1sOyauXbf+acWrA+xm48g\n",
       "LtQEevNg/UcshPqyMnryzW8xwKWVE3Po6+qPVhSP5ZgbDI7WIHzrILi8sjR+uiueWiE9LIggnAb5\n",
       "FXbhVA2/A/d7S4tP7ip6WktV8hZcFY5K98IjiFg33SISZtQHwk/os7nVOw5YfVstnjjd2cPDWH2E\n",
       "T7CIMO1AqWhRTR8eouRhfcfO6ATXHdHno4WIcUxDp4hM6RnHY8TfDCRUW9OoUx6ImyAfB5FYwy1k\n",
       "tHbU7Zg/oKp2V2e6iZeh6IKDv8R4sBgNKZiFxRcsYkUGfjIxcSJgQsuhYO3jrZh33ZIJFMQGT0e4\n",
       "VsTj0wAAL6XkcPQ5UoAABa0AAAGFQZoibEEP/qpVADDgBhugAHLRi0g1gD24F/pbx/p7S3g5UIQ0\n",
       "11xjdwJENTCVMskQNGQM8GzBN8ZG83qGDk2RNCpfGDvWOvCJc47oXYDDx+S5bE91vbwj6zW82Nz1\n",
       "9+h/1piVfCGoPEKa7pGi/nhfAwBuwKMTDNAhY5ET+8xZr5NPeJVXYnaIe4IL6/4/v8uu9fQVmUZx\n",
       "iaJ8O2NW9M57OXiFlBH/8vAQrd/s9ka2PAyUfREigi5LsdLLiQTAAyT4rFZd67T5dmvmsayUgAAJ\n",
       "Z0G+Ac+wv5/jc91MLz8HHV6/cSHoVdJpKqxUMY1RSdAV+fkp0V9tar/S0k2IBwDAQMiUpn5h2yFK\n",
       "NK0tvNOsL/vhHml5EqfTwqGZTO41Hz3ngrJf+srleo+y1/d+oGY8eIw5vgDvlx+3pF30axBuhzUK\n",
       "xRmmUZPPWtJT5zIpJowYpRDY0Rdvb3rD/N4FRKdPjvMLdLH+ZTzcUJhmKmSl7ep8BEud1KiCtcO8\n",
       "D4exNU5Z4QCstTAAAACJAZ5BeQ3/AH9GkZUJZtNor5gEd0No/xVxY2e2T/VACTIXgbR90udU7lXc\n",
       "2vCwsUCN/5rGZ+YmsB4J0WbP0UROuMMbS2pvhUIOFKYoYxbJUdRYpMcImA+TJbowVqBaxHSa45mo\n",
       "oDnPDxnYXUtXgeuoh0Ql0bZvocav8L3zaYRYf6TMdAmJPfpoGzEAAABZQZpFPCGTKYQQ//6qVQAA\n",
       "Lx8Xr1XY4CME10tS94tQASVW6hbVeYzNTUeX0cEsA2oJEWUzyIw+3Q+l36w7yaoqo2rS/lCDUorU\n",
       "KACn5+eDVb9DH7BsGu8N0CAAAACWQZ5jalPDfwAAmuRerTg+o/b5J0QDOOdx8QIwmws1IadvSN5s\n",
       "qGWimoeL41+2Q4zQ/KmOjYmjMjpqUB+Fz4+LpO6Iib796YABKXNzEdTPTkBFsMtdszOU5kAtmqgm\n",
       "+dGKPi4P/B5bppMIuB6CSMMZOhsCw/x7DY++CYnIAAQJ5ECPpeQ7fiyHvqZGRflQHabbj9ehwn+x\n",
       "AAAAewGehGpDfwAAmsZKRhsMLpWPykijjn1q4kavianX1YLVZN4w4W3TflR6lxtBFcGO3QAlVOi8\n",
       "etHFc7ySX5rSP2QcrVoKNFLQR/qTvdQexH8w5SdgwobgvT92B172wNb63hZypM/Tp/YtcKkcINdD\n",
       "hlNAM7/ZMoDaJLppIQAAAN5BmodJqEFomUwU8EP//qpVAABQPS1AGsReDuqxmVKUAPE13WMMTi7x\n",
       "AwAaK4H+N1KaCl6g/eO1P/tl2pnM8JeUMUYV30DelIwQIpQrUjQk+dgJK5jQHsULJN9tVAxU9k2F\n",
       "stVVo9ZS0aiGmZ3/+JFaQO1bzyiDC+68s8JUYAwd17ZVNO8pvnK6ivUODhL1aWSzr2SAPWM2jDS/\n",
       "zoTKNuGvNmx0GLFIGIYpYajGT6OI1NYtUEI0rZH/EJ3/RohN5SkeeSaRJmrMK5gRZE9vsiBXFvb+\n",
       "5xvboaI5pJcLx00AAAB1AZ6makN/AADdF0mIK7RIRGIYGA3sAG719KNYTDLsdheN7J3u0Ej3obcB\n",
       "W8vpOfc9HjLDwOW10SaE66DPY76BRtWCHi4AVDyTyNCn3mpBeKouwq8jkmL/61njE83OGG/Q33xJ\n",
       "jPtRoigapD7rvCNQbNENmzl7AAAAZUGaqEnhClJlMCCH//6qVQAAUEQhe2ABWHecQlag+2emj9jS\n",
       "bWCJprTZWLfD9YXrJcM6o9Tsr/bvykHaY9453VS/0kJ/kG8PPNSuG6pJQlWNcmvEvRgmhmy0EUjF\n",
       "NvPJVznNPnrAAAAAzUGay0nhDomUwIIf/qpVAABePVFAATBnzX/PyuUJ0GpYKZ5wsI5GsnasXh3C\n",
       "dBZaXd+gRVrasvepb2e9ftWdTJRHk63EBSDwUURSgaq1QsL5+i9O/etjUl7gbUJ61GnZnIFoRjkq\n",
       "aT08H62vyeC7tERx/gFIXIai7pfyyEHNYY7+P5Q2y1sEx4EJdDMc/WuZz5bG6JWyTlGT7JmlgXGp\n",
       "ciCHc6/R1fe4EBgB4KMQwTBToof2TCe05oUB3JuNKosELN07h9+ZbWfaOHRByuAAAAB7QZ7pRRE8\n",
       "N/8AAP4UIDnPRpDqgD3IAAbshuLSr2qFJL4sE7aj/irX4U+A81FKBTLoxscPq+3NGY3kMDa9IHbW\n",
       "xz+pxUqLYCtsAXAKTvhOQD7TIURLgfY6bA1+9c0nxtEQH8nLzDwOmXng9WZ0Bk01higqJ93qy2Zw\n",
       "oI+BAAAAawGfCmpDfwAA/gRlbtRhRzwxZ7FyOg9qwi+TklOE80CKTXaaiDZgHMPuiAErn6CMgOlD\n",
       "0NCK8dD9JI5eLwcm5MAbfixVt255f+67HJkeCYdUM1Wv2T14FPn1MqaDXxrsuMEK1RsMeamvUfKQ\n",
       "AAAAckGbDkmoQWiZTAgh//6qVQAAXj4vXquxwEYJrpal43w9o4RAO3x0AF2kbWjmR724hyNR+fXQ\n",
       "LKyPA/C29YzOfcW8T+scv9/mxm4jv/sv9x75lXLs9UqoeiTHRQDEqO1xSs7gyu/w9mc0CBJOn/6n\n",
       "TG/BWwAAAHxBnyxFESw3/wAA/fawjDYYU5fUjkAC7voeZJH60vatonf9UW7ySf4mxXam49+syP/f\n",
       "0iLs06U4siQ5PcBud255yE3M4a+cLeDcdV/uARTiL5S5P2lRXWpTs3ktpxNE+hIqAVCtbazqZZqP\n",
       "HLHlndc7pEXJie5z+1LFfAh5AAAAQgGfTWpDfwAA+HawjDf0q+Z0B03L8Ykk6ms+lRfnbVAArNcC\n",
       "x+0aNpUyK3D2viocpdDfNn+7TB+MPa4pZkMaqrFPaQAAAH9Bm1BJqEFsmUwUTD///qmWAAC2/McE\n",
       "o+lIM/0F0fmw4ebCKrZhIBiJLmAC16dAoyFpSGlbgtcUo4I0i2N1QL4rrS4iGRSWufyFJfC7mONx\n",
       "HqlTS1b+nfwrtONgrNg297XE4DgY3tMpa5jW70TlLKhmdHsEFdbSbDCHKEwCJMHdAAAAUQGfb2pD\n",
       "fwAAms55gloBYAWq2ejZjMeDFL5gO/GuaZmO6Rk1fEVpBVZfvUlYJIAjhO9ey7WOTMBqNnSZsJyn\n",
       "EzYZOMcPSZzzafLRG3B5TiOkgAAAAL5Bm3FJ4QpSZTAgh//+qlUAAFA8TeANjBcjjrTh5xLoeZBk\n",
       "SWdvXnhKWYzSfCh1mczpsE9VWMTpETQxqWgPjxEGJmd1mYkQhSiUM469U8zH2zJpBTgj+xJ/D43q\n",
       "Tp4Ey//MohxIUFQm5a6cOYbFD4b7qJmIxT59/+6cAm9qDzNd9NT8Bh95jWBDEqvg8LkvXDjZrVEa\n",
       "mtV8Ye+n1TuMyvjUCvEj0g91gEMLHPetiux5cwyfJ1eQgib4NH9ML1/QAAAAvEGbk0nhDomUwU0T\n",
       "D//+qZYAAt+XV/j/NsQADRWycFNQIPSXheylQ6Wi9b9GvloFwjwOCVCM2SVW1HBxelw6JDrDCM1L\n",
       "ZLgztz6HOmU9U6+ZgM286emyLSyXlvy3i7uL8Z8Ghng2J/RU29Fm1FPM+yFVhreCb+aaxT5aKF7w\n",
       "UR006dsx47ZFx/eEyXrUXxReUcksZq0MUCVCHAAAAwAyBOqQJ3GqWKzjt+xnkA7KKGOhr2FgBqqs\n",
       "IkiVtzphAAAAegGfsmpDfwACC16Ac56NIREvRmTenOliuxnnCLgA3hhQG9zWVlpeWDfBS9M13CBM\n",
       "LWyQZ2X/N6Z3OE/g9Fk9qTAF/mwLPb2w+TL2eZhzWHQjv7p/Q/3Hzz7oBs7BtRRXD3K33wI5bpHy\n",
       "z8pU/XmBxwSIVFICqIaVyw4IAAAAbUGbtEnhDyZTAgh//qpVAADBe9LZTroCUzyk5ROUlLu8WRa7\n",
       "E2PB37MJhR6TjsBKSChWqeJoLuA/taVHYf/5k/MN11cT8HWBb566zBq+BqTbKxcYdFFipc4T1tiH\n",
       "A1PspTudThzudpkvln8UJDwAAACaQZvVSeEPJlMCCH/+qlUAALthSgwMAAsFb9VynNvfG/IkhwNV\n",
       "3c9pfqMtuzb4Ulg4+XBtdiBB4POXkGbWQM+cMy0YZ5xDY0tml999g59+sbnx67NnBnW5rVcH7Ito\n",
       "hixVhdPiTIkAfbKHkDz6507MpdEw6lZ3n24Z3Sh0hy5jAJc6/Ya2XTrFkPQE0F5dBIiN8d8BpiJ+\n",
       "AEBP8QAAAGpBm/dJ4Q8mUwURPBD//qpVAABdwFv/YgA+2gHbLuR85CfobwGdU/eYp2P9JPeoHnqd\n",
       "tRCEazbwcLX7iZ4wS6JHu7XKStXs9w18MGWvicGLUWvawhZdrEidglWGhB/ya10mMmUCk3rdiUJO\n",
       "AAAAdgGeFmpDfwAA/gRlfrwtMAAuLkU6xCLVcSE6nKXX5CkiIOu1n3lYZ8Dwjsvei11E0X/qXLve\n",
       "WYTfRciitbSI27Q5bLQAcUzT+aWVOwK9h50VI9FF5s3u8iuyOsaTBnb66jvJUkwgBmeh+F9fH6eO\n",
       "OHeOhwqYxvUAAABZQZoZSeEPJlMFPD///qmWAAFv+FbXh6gmjs2stC3Pf7LG8LXOke3H3IeQo9lj\n",
       "Aa3ZEZoFYvBgwmGDos8mIALVEOqvD0MQIF4gj87JSY/m/rn/6xzzgg2iyL0AAABZAZ44akN/AAD9\n",
       "9rI8BFXGmZJk6eMcIP8yJ6n/UhgTYodH7XtVSNq0YwXAepKwvREHa4QT4PtvD/kY4zi/222D/R1q\n",
       "nlset56a8gmdxm3TfMOteqDsfpv6F7AAAADMQZo6SeEPJlMCCH/+qlUAAFA9LUAaxF4O6rGZUpQA\n",
       "8TXdYwxOLvEDABorgf43UpoKXqD947U/+2Xamczwl5QxRhXfQN6UjBAilCtSNCT52AkrmNAexQsk\n",
       "321UDFT2RrxbDAkXvS0aiGmZ3/+JFaQO1bzyiDC+68s8JUX/FCwchVNO8pvnK6ivUODhL1aWSzr2\n",
       "SAPWNY2gPxVgnYaR0bSf5tt0klCj/QDpThX5Xm8lauoW1lICha5LTPbpEia+w6csN0yfK1jFdn5b\n",
       "gR3RAAAAikGaW0nhDyZTAgh//qpVAABQRCF7YAFYd5xCVqD7Z6aP2NJt528f6Z/MchJuK0qKwZCf\n",
       "dv3n01r1Cv4/Hr8H7CP5HeGz7jxw2RZ4Dy3ljCpVnGKcilRNlkZ4lBYZ8f2EjagLibbkOKpvM+Lm\n",
       "5LG3SQymfKTWfMP8Z5lyqrvdo/kUv74stPvf+9D9JAAAALtBmn1J4Q8mUwURPBD//qpVAAXjK5/4\n",
       "/zkPABL060HYpKT46+jWTtQGKsSW9Fvd3oYQCj3nFqOBv+Z1N2k78aQp6cUyBXnVgSt9rfZGhVD2\n",
       "ujoj4ERruKMeGk6bpQYr78wCnxG28dwYZYE9SKV+TKnZ2u/SxTdTyxfnX7JHKFzAv+dbb/WhbChO\n",
       "AkaWn8YpkKxb582xFwn+vrcxsrJ4hwS0ODcSlroGJNoALj1Gj+kVIQqcgjg5HOP8Sx3RAAAAdwGe\n",
       "nGpDfwAP4UIDnPRpDc1zZmkoLOFn2g+v3FunbZfAslzRuNiM2ZUFB1XSW01K0Z9PIClaaVPt3nNz\n",
       "N6+0vU5gbBUpTm4T96fp2nULd8L4UJoqB5QW1S0yj0w04pfDOQYolvx01kDlvwhYE5jm9zYD2j9M\n",
       "pBOxAAAAYUGan0nhDyZTBTw///6plgAW4JsfSkGf6C6P8TuDaQyqVd1XjgACvAAHvJ6RQQcv9D2V\n",
       "2R6m0Bh/eWq6sUVAALJmGvl6Vd/wuGVwtVCjsBM89T5h27bLWMNPFc2ngBohBDwAAACEAZ6+akN/\n",
       "ABBci5xn47O375/K0eQAkNQ6l4APyWtNoAPWuq9Z+ZUejxUbBx4PUYg97Y5k362Esjfm+sT4YovR\n",
       "7VWcPgS80wz5KD8wjjvLSWLloKx053dw4ngUUr/YQYzh9uAxtZyQ67rG5V16C9z3aQq+oipbDUn7\n",
       "MtMolaZGFM5DWDZgAAAAXkGaoEnhDyZTAgh//qpVAAA3mcNU7qACIStdSspnEOyTZnWBKJ26LGr0\n",
       "0ZcVIpjhU1s1T8VMCKfl4uUjAFya732zvWpmUt05h/91+9YqhbiW19vfaX9FYUys49Q/Hn0AAAB4\n",
       "QZrCSeEPJlMFETw///6plgAA2VzBF26Uk0BQXR+cDyOXTtuEC0AjRgAA4kBzrnuAeRgR8hnfQdAD\n",
       "Mm2+1NZYJUWqfXlQ8BDx/KcKbrMdllluyz3KJjL8LT9cAmYnhqcpoUjxiN+t0TzfVzHDJxRr5c4v\n",
       "73shltWgAAAAXQGe4WpDfwAAmsZLHgIq40zJMnTxjhB/mRPU/6kMCjEKbyJaUlkalcN1UDAPbqvx\n",
       "XG32xotMXQgmJLW7OsobUHHCFu9xfxNjUGVXbQwgk5pn0uUP4pCu+u5td9PFVQAAAJxBmuNJ4Q8m\n",
       "UwIIf/6qVQAAbyivIAia8BDlxuBsCSeTPvWmJZFhPLisFujbYQj6r/DM6wkPtfpk/Q2sB+IQGIpz\n",
       "OCZZUTnMp3TXipmPFBGp+8ZhU4SlHOzInlAAH94biH+CDOUGoKfrxHCS/oK9+A0Yxp8aelT3qNxE\n",
       "F49Oh3n8jsqqoSFxqP6Jvwo/apV9ewyuzdoOmOI8AAD9BDwAAAB5QZsFSeEPJlMFETw///6plgAB\n",
       "srmCIhJjDCJIICOlLNBUKCyoKoYa1UOoslFzE0WMfiTV7HHK7S8PAiYJSWlw9qv39gsgB/6rAX9Y\n",
       "b6oSXeDUjhDiE6fP/i0uv0LAQyTFB4TyW5aixZy023dQVqMOkzi/M3VWLmA6YQAAAGYBnyRqQ38A\n",
       "ATWMlIw2GE3hGgIrfJigRv/OAXy5NYDwZFrTeMOGvDn9Laoi8zAy3Bat70BRdTw7KH3Yt8FmAYza\n",
       "5N8qbOPxYYkIWEg8w6/OKWJWjNawpc2TwuVsdTJ7RoLC5YFCG/EAAABRQZsmSeEPJlMCH//+qZYA\n",
       "AbK5giISYwwiTOQcKoYDv0AGgpTEzI7niUMDuQrOcA6WDeRqqYAQGEDXI386510bPXQv7DLLFauP\n",
       "5/bapeL7W3+BAAAAwUGbR0nhDyZTAh///qmWAALb8xHJhGuOcLyjDwcgEn/iE+/AAhAXM3if/z8Z\n",
       "K69Bkm7Ye2Ay69bNyfYgK/7QipjfzsklbTG/WBjbPoO+38DoSTTv2fiRam9mifg3h7qtuz0pYTaS\n",
       "sjY7zFS9ZuLRKwEBN0dw0RtOKLm23LqOaVW0CHoP56mSHQXxxFjeELrLSdbzgYPj3mdgLFBCVMh7\n",
       "IDec94qpNhZSfumXG7zMAMuQCVBUv5lynO9tqU8EVdGCHdEAAADJQZtoSeEPJlMCCH/+qlUAAGC9\n",
       "6WUCBK2KKrUryqbfs3+OAKDecDs1HCMkNfT3D/G6fyE4tiBp8/VELiIJMzBUHuu8ExlXsgfUdSz1\n",
       "RCTJv1b57i0m6YAzBeNcW5Mzz+gryEtvV8cxi8glJj7rbxhDJnWHusja/7eOz29fPWlR6ulZatgE\n",
       "86h+w8osaka/hvAHvLnq+u6exeYEv3ADI+0HRpOsHt5lrqqL61idOfPlU+HD5JSyoaGMH5ZAd65t\n",
       "u8s7LAbk0WIgETwQAAAAfEGbiUnhDyZTAgh//qpVAAC3/F69V2OAnwqMMW5wBChQ3Ac3BZDzv9ic\n",
       "fW1bw35cvHfZqDldgXGEG8gtfHi67kbjmKygB+JQAVKSum3WrzPnt2YyIOp4AAw3uh0qkOr/0GkI\n",
       "JP/nfuLOUu5aWaAxIowImF1C5HeEcNN+YisAAACwQZurSeEPJlMFETwQ//6qVQAAbzAhgV8P3IHP\n",
       "1LyWdd7K9nwSdypqnn3nBWBhwAGWdk9nTT4EprPwjy4Gk2vjl3FnovndcLjrSDJwL3jbNJozVfYC\n",
       "fPpy0UAYO2WJrK/ewaSzz3taTaoEliNUd0G+kkas+CM/83VSccXs8uimMGZ3w5KdZWYNU2J+lOml\n",
       "T6XdrLe1gYAKBlc4nmnaOcs5AGPhmki2Z7K31TKBkLsyWjEAAAB2AZ/KakN/AAF+U2UGPEOVvZIc\n",
       "JIQEROwWjC6jCfJBVlAJy/dLR8FKfW2ON20uK/VPmXoLX5RmuXkc5rQjMNpTqAAA6wABaAALD6jK\n",
       "aQAyj4TJ7Z26QyAOzaAtKVJtjiwvFjKiUhLvWaIt03ndUSsFruxrNpBnwAAAAF1Bm8xJ4Q8mUwII\n",
       "f/6qVQAAbzAhgV8P3IHa6WvPTV2m2BjdYvgAvsEpwKDLu1jkeON+n/4T8KgrYcwybfWbkgd1V4Zq\n",
       "3yYOhvveHwpLS7OuZRXyWpweuIMV86oad0AAAAB0QZvuSeEPJlMFETwQ//6qVQAAbzAhgV8P3IHa\n",
       "6bGaAx1lXnvtuerS4A8HeLItdiagjomWE7s7EEJ520uzW5im6ESJYCh8IHDQiplYQHwmMDLnqlmi\n",
       "+jCLb8CUIMCuAoV7kP8bbaHgyOG7bIYHSusTAihVbEEAAAB+AZ4NakN/AAE1jJSMNhhNQrmOkIFI\n",
       "AqK9d89PZATpNKd9jbFcNW60kS31V22IzYUMf/68aE9675Moy8ZzlbFEwhuotow4w0uB+gFaYk4k\n",
       "/UddXBZ32RgDIrWF4lz/q966Sl+GdQA6XdwQNir9AYAAeoAABJQAAO4AAMI9vDTNAAAAZkGaEEnh\n",
       "DyZTBTw///6plgAA2VTEcgRCcKIa06oXUuMHU3z0FU2oKbpEztkvAiOHE4CH+y+40slYxXbXp46A\n",
       "DkbaPyw/ErEqgCqjV9cywyuY9aprfP4Wo322kztMiHiBgggcMCSe7wAAAIIBni9qQ38AATT9RluD\n",
       "lQALaSmjmCFlyWhdMCGU5pa3YGXq7lrACP/UggVxScPoUFcgUH85ZItRkW+qCY+ZIrO+z5ergJPZ\n",
       "FhBwemGxJN+Lw4UwWi5g0aDxFQmsvvlc714pXosUqeS9As25xiEQreqeA/cIIwFPERm71hGDsmeC\n",
       "xDUgAAAA3kGaMUnhDyZTAh///qmWAAE4QP+AWu6/O27CiO4Ks+pJgutjM12a7yqtffVY64IJ//vo\n",
       "qnS0kOLCc9wA+Gdm4BFCD1Ba01Mn3o+i3wkoHtpesGwxphwLpCoPJ3oBf37m9cW6YH/4lqyAzUrK\n",
       "i0XHRjbcZXYZntgy6HjrVH40TAbaJ+0Cx090mlL9Gn4cmhpvXPj+QHrAqz/fsmJ4g9UBAg4kiwBL\n",
       "Hx/sNMvety7sY4X+QVdZjDV8H9o6iU1bcsDI24mK+P4vXQQHJc3tQjZ4zrgad0D5cG2e6JtsIA2e\n",
       "kAAAARRBmlJJ4Q8mUwIIf/6qVQAAbyivIAia85k7p33XBe+Ktx8Jb8QjncdGmKV7qxg4pf2NCBh5\n",
       "j/+jIJXGe1x7CG5HzkJ+htYD5C5XgBbUKpb60m1U/fKI0J938gK2FiLu4oHZw+SXRWFHsy2dsmGC\n",
       "Icird07sXIbLEMCDm/9ERNlPJHuJ2HoOwctdaMf0I3zigtXLMEGVPJCkrQ11zMbCQNd7GrKifnL4\n",
       "4GprEpp2btSyZj0kNwn+J4tEJR5NoBCHPAqYmLGr/in9wehyCTT/QsoLhZlouj7qyVyAfbJyae3t\n",
       "iXP/CbYrF5UcTAfbcPixVkYYHdU+1GyiXgRaNwdFxvUdd9t3lB16Bo0/oHpdesC2nJyHK2kAAADS\n",
       "QZpzSeEPJlMCCH/+qlUAALt3nYJ9Glm/jY2FJY0Q/U6vsAjGqUP0IpZjWycr/wY+S6lR0bZO3lWT\n",
       "H1NlO7+lN+btIniTQQB2fl66LlvgeL/oDECdwkPZKTYqLfrO4zxJPgD3y9u+VUVxzhwZLOGT36pK\n",
       "3jHw6Hj2cziL7g+VoyvfXr/HiDShkkrLEWoS6QY3ifplXmm4L+2dAs+6xzlJuB4ZR4Dh9wvQbpWz\n",
       "ldFti32gtjy517wnLDRYeNAzdzyKkSZC9sU5r44vGPa6upMmVkz4AAAAhkGalUnhDyZTBRE8EP/+\n",
       "qlUAALuIVK0BLrCut01wOeFdAESqKUpKYfXMqP/I2Ia95cE7NsCu8pEQwe4SLssgZ8N9BsD4HbTk\n",
       "1ALpWcC/Jei7XxrMP7NaA+1oz1VgRKeV3kAAS735oTJc4ZT47p1s/bNjRbqqfiBU3HNqlyIpj6xu\n",
       "55g2BRWwAAAAcAGetGpDfwAB8XTsNAo459auBc9CVDa2q/Cpk3jDhakyB9LaylTMpU4Hp4HhK8We\n",
       "4bE0tHmmczE3AyarxfR4k5irbS3aABbRYWUZBMAHVnCmC1LX9BFoZNdnQLZHTaoAFGHq7AQUAh4A\n",
       "ABXbNCacPmEAAADAQZq2SeEPJlMCCP/+tSqAADeTRh40f8X5ah7dZRfz+szDIkiO+9zwAc0FpF/s\n",
       "up1ziLuDXiWdvgG92YZq/9LfSZKBrtHzsa9+1AsJ3FsZDfQcXQnuj5BVMIvMg+4J+lDmLvt3Zxqp\n",
       "wIUFCU8jEzNRuJb/8y0QCTfseWjI9ZXRzlOmtyfDddRyVmTW3SvDQnPBkwj6h9eN/YzICmYO9oiR\n",
       "PQari5xq/dvhCrZZ/gAkbutQz8bwcVS6sRC4h50sqNVQAAAAj0Ga2knhDyZTAgh//qpVAABePi9e\n",
       "q7HARgmmCsmQ9Gr0kpDb8vDs/xsA/iGNAAQFU/TPQWr1MkNJy4CP8iTtGgI1nzN1YFYwmPefiKhC\n",
       "d1DNGYY22+hoag+0hVsUlRVTg04EzsuM5DevuLFQInhbGQCzsPADCOskNghf9ZVfUu+gB34xroXp\n",
       "k6qnSHd4mVFlAAAAekGe+EURPDv/AADZkftKiW6+a3bXUBTKMAA06LxDE1JxMgBkPUxsVUgg9DbV\n",
       "QoMIUpwJubv5H7o8zbCP7AiNwZVCeug0y6qvwxLlzJlPCZ/jVL2YXMqABb87tYUu55TgeV20QtUS\n",
       "00KRU12VZ+GO1uhJew5k8LVxDbiJAAAAbwGfF3RDfwABNbxFp66d7RyT5i3zcAAGSA49G+kmpKE+\n",
       "ldtz/qlfaABHqhpJDuovfq6W1XeaRtNzYxv2DCd6NqHB2hH4jm5F9izU2Eg6wMRm/FXUzf+hxJmh\n",
       "/QhSXenhmYFuFXscClB3MusnvJ3Z6wAAAGsBnxlqQ38AATWMlIw2GE9JvdVSQv/3otgVxNfQ2gIb\n",
       "wgttenGibFXWRMgw/Ml0skxAxjlWeWgEgPv/ejW5mqy/+HV50dqcaB0PgrUAFjBwnx3KqHU0Woto\n",
       "3ivYWnV0EFtTmPNYKmJUEQhobwAAAJFBmxxJqEFomUwU8EP//qpVAABeAxiINpuVgAy2sNCh0V+G\n",
       "V4EX3nsZ50eRrXanPCUsAxVfBWH5hl9UwSgX9lyawX8RMS7fEI6w2KJ0OAzDWadLHlWdxp7xk/RY\n",
       "tS6jj5X7NSxoxhe9V9dhTYWKq+utA4Mdo9Q12PoZ74i80OzrbQ9jpXHcoDHs4UAQJwoeKSzAAAAA\n",
       "ugGfO2pDfwAP6HiACH6IDkeWBEBzTOUdJB0lYZXj/f7EUQ528jsLwbeh/lF9vlE/wzvOq3Wza0FQ\n",
       "5KheJ9BG0fSA6CxNETWIVVYThfcwA7un8ERSjfxfUZzJXHiPvELSeENN/Jp91XoFMKMSyUb1hjjE\n",
       "ithm/Omi5/pu+ucqHLgGf1so/n7VSAybKs+LJflVrMfsGw7AfzhUrv240qfcuta5mFe/Nodn51Gj\n",
       "nt9Slcq0vNa7TcQdXt/LGQAAAM5Bmz5J4QpSZTBSwQ/+qlUAAF3AXAIvwHgBLRI1L41M3EQPppe5\n",
       "m3wRA+eNc47lwVwogq5Xw2ItrTLxHu1BZKa1d+dg9zHL8W6v/sz2riXmFxA4GG4oHxgaGelWvAdm\n",
       "wZFfT+P3I0s3c1fXuHvvsM//+V+1+F5LnvggYmqrSHPl7/gXWu7VQQYAVS6I+EgLyuGaN2faJNHB\n",
       "8zN7W6Dy1gnHsJN/19t8BdtNmUfRM2KAABaVgfi/g/840YvVpI20dMuf49v3zlFiRkuMuSdgQQAA\n",
       "AFsBn11qQ38AAQXIvcFWXlDwncz2pF8l7y17wiUtivhSxAzevajQ3b3suHRpPySX5UA/eCTy71R6\n",
       "vWOwAXAEh4c0j5x1lC+tO5rSTm5tSarqLm5s3dlJn5/wUuOuAAAAkUGbX0nhDomUwIIf/qpVAABd\n",
       "xuo3qVusK60JzvgAAG4ReDt10uA/0aV6dcxC2P48siHpmrSjlEfeB9XrGbLHngJigX3l4NlymWlV\n",
       "ND6Fd2fCVRFXOFglm3VmCsynn+nUQ2mdOHuvu9QglEP407FmPE8QufaL2v93dxDnTHZy2abzffLj\n",
       "UkfJ7cLYI8iBJo0bFbQAAABcQZtiSeEPJlMCH//+qZYAAThjwQ3GMV9SDeCorfL+d7XDDfI0azEk\n",
       "nb8SybhvetOhMf7GSzq6XYffKj8gm59UaYQVVcuhwAkrxBMQA7THibbyBVIEV1HhCINvO+cAAADh\n",
       "QZ+ARRE8N/8AAN0AKGs6DBMpJOglhK/YYAOWAk7vY/gH4b1XFM8+lpuua3L79HLyO6+DjTpu7ZiR\n",
       "sINzwSupVSwO27NcX7FwzWjAB50ZhNo/FS2/dtVeuhvf8lmOfR/YnmZ6JtMt6SqQRDA0GGf9Lake\n",
       "kBNILMO/nkys9KnDoQd53NQpEgFyoDNMlw9CWWUdkQu7vcbcNCeewCvmX5xqNEbhFlNfJx9mmIGn\n",
       "yjUUlYXbadhRLv9PlIM1Z8IVmynEfy6jASe6S68hZ1trOmf70WNOI6G7qQy6XTrgDXgFRUl4AAAA\n",
       "VQGfoWpDfwAAmsZLHgIq40zJMnTxjhB/mRPU/6kMCjEKbyJaUllK67AnAATYIVui5KRSxRLVBSAy\n",
       "w8787vujP6XZcWr7axT1b5C6UCtLAAYvIRJ2QssAAABlQZujSahBaJlMCCH//qpVAAA3mEqhABQ0\n",
       "oJ2S6o9gFEq9K8ulxS3wBF22Oocz4tcD8RcT4LK8Yn9ly2g2YpZfhYn9YywpgmMN9DZ+nm1SNUCv\n",
       "PD7zMDOdTwWt28jYN753XOyijUgAAACMQZvFSeEKUmUwURLD//6plgAA2nulHM/UE0dmw53fBItA\n",
       "AEA29/iKJjcc0bqsV5xleD4YUEdSrtC5qjT+7qcJyNcvlQQ9MZH/0sJvPKGnDCnhm+whcvXy7FY+\n",
       "Dyiinwgx4Iy+bd5gPK9QbIDs2favlhhtGw/8HhCfGOFoIjTUOXVoWfJFGNA5+/Mgu4EAAABjAZ/k\n",
       "akN/AACaxkseAirjTMkydPGOEH+ZE9T/qQwJ4OPMNnsWMkaHWUOU9mvdaHpJLnKTsaD/RG9k5ig1\n",
       "ueDcSzLN3JqBiZNPe8JPQv4QFsfB2clHEbZ3I74+cXeekAzAyDrhAAAAokGb5knhDomUwIf//qmW\n",
       "AAGymyWAI+QtSg629C8oi1kakJ5p3Cdb0gJGQ3YR13PnCByxlqwQ/GUikR6fsxvs5MPpZobCxzYi\n",
       "+Jt2PE5boWxOWu2/1DvdSxwmAmRv5YVwZsUwXGw49Vx7tf1A9uNo1HSUkXJBxdSTSn5/s28zqLwV\n",
       "uQXSQJL3HGRJbhWY7ZIahhyTkHPulSMpPdiUtSqv1K/DUwAAAL5BmgdJ4Q8mUwIf//6plgAC285s\n",
       "AnjFXHXUadUvBHdJWDhg/InOzqedJjX8MfumepOCo2H9gSO2PCQl7/kHH3xj+YriV3RwyFeYOsqg\n",
       "GldYRcccAzLtU7wj28BNpn5P5HCzvEmxpYO5G58olzCROY+P696Pc+0V4Dc/U4jaHFIPCGkgiE9V\n",
       "qbavFiBVSyEshwOMb3J9OqhWccXF+dUOZivAgOH/8weyb7KD2WBBew4Hy9TSv2/OSc1j/syDjCDh\n",
       "AAAAzEGaKEnhDyZTAh///qmWAALcE2PpSDP9BdtgXpeB6DzlJGJE+MYAofzQWT5ueDo6vAzQUYap\n",
       "TrX31W0R8IiyBK6ct4Ja0s3YFpUAL+b9HKIgvMTuszEeiKUShlsKRC3rQ746KtaR/hD43fdzmSl/\n",
       "+JJDc0pTrTwML31w5SJY9qf6wAfBXZfTZ3lNvGsr5qf8qd8rbhtkFJkqN0krd8tborzlF2N7G7o8\n",
       "7DauTcNuLf3QJ2jUlLMW1FPtQ5ymfgZQVsTHmLfWgiGYN3Ok/wAAAFxBmklJ4Q8mUwIf//6plgAB\n",
       "sscCu4ccG6kF+VUmszCc/xK0rFhAAABR5pqACX4iIu/TtgXc21f/2rmRiKpaFxofrWQaIDjxLGlZ\n",
       "C1vX4Lr68wG+9UKk49/eEaSupAAAAE9BmmpJ4Q8mUwIf//6plgABsrmCIhJjDCN4MA+cAGgbx+aA\n",
       "EI3RS8JSLpJ5pFojToMl1yHDWrWj2jppTxvZZNJZOcGvjl36nk5D9H8hfNVxAAAAaEGai0nhDyZT\n",
       "Ah///qmWAAF4+FbydYCkKTtoPKuHZTlq5eSeTcuh9//BTeei0WdxlKep365JyRs7wmRFdBrpSZXK\n",
       "CL0U6XyOZaQk2cCRbEfa9pr3uLlfuo85nY3pOG2FyQKrf8z9KRwcAAAAakGarEnhDyZTAh///qmW\n",
       "AAG0OOgJsAQ51lPjyFD5X+fzwbTI7xD8Wrr5ADvhmct98mbeYZAf/mq/aVlYh+RK09Kh90Klb7lp\n",
       "tV7UF7wQMlIG54onbgJXbV09KV1mABDMhSRnk+AASHViR2UAAACtQZrNSeEPJlMCCH/+qlUAAG8w\n",
       "IYFfD9yB6z8KgBuCfrlwVtP4knXRhNcXusHuY5fkKKOhuM4JkIC79UOwMSJKvPNdIiwhWwWd9tGP\n",
       "267AWEDF/+rsOzKC0LuUPj9AZuuA4qrq+jsUC8b8Yua5T1p874GGBy3Q5qLXLfcWxWeZpks7xpaT\n",
       "Yzc5Gs384NXFTbZJ9Xnq4lq6a+Q4foCkrHHA1+aQrpKugTBLX+6pQl8AAABuQZrvSeEPJlMFETw/\n",
       "//6plgABsrmCIhJjDCL5BXA98FMgIXq8kDdH03+AzM4wU6JovgWZC4U7OCXKII1DMNibxkFfh4jj\n",
       "FEJKGWpsl3AW6HGL/8cMlPg5KO+2cYK+CJ32gylXv/q/20LYS5VgTjkAAABtAZ8OakN/AAE1r0A5\n",
       "z0aQ9AG6xbpvZIeldQxR3xIf6K4cq0M7O9oFzRVjGYASgKebKklCPA9pVPceUebPqWh6D6H4mP3Q\n",
       "64rcFscKkpPaGTiznm9Ss6W7WgpBbv9QYeccyGL4hrdB3vxctGA2YQAAAFJBmxBJ4Q8mUwIIf/6q\n",
       "VQAAbzAhgV8P3IHa6WvPTV35ZkCxYn/q06RgdgBwAxxcZTLfTjrE1+MVi0606R9CDotsF/kZnmad\n",
       "POlJD+Y4xp8hD6SAAAAA2UGbMknhDyZTBRE8P//+qZYAATg9toBSbso+ghNONffVY8AkzC1Qwl8a\n",
       "ewy7XGOY+uD6saNbQMjAguc5wukKg8nRCwkrH+hEFPproRVbL1ER6VhFqMp5++KEqNOrf3FHDxS9\n",
       "YckQ7WnwZ+oi1Nws17egN32bNWspLv/fTugBqBVi4/M01GUgB3l94KKR9WIM2OIP1g3hrSvn8cmB\n",
       "FAj9UHixVvtGpjs21WccroBuDD4ZTcUcSjYb0ACJRZSXxgWgXhJtbjeguSaGzuVmq63fZZAkvx9B\n",
       "BH/AVMAAAACIAZ9RakN/AADdF0mIK7RIRGH4y82+FNkEcq8CelMKOOfWrqK7tTWA8GLHlt3ZFKLi\n",
       "BQrrRO3nateFdkzkZe2ct3XIPEZ+wpsb5RPMfQOY50Y9r5tRBxCGO/3Dn0zvFvsdDnkYY6yMce4q\n",
       "w7bRDB6bM0CkbyKc7JEWWiND9Wwz/TsJytD0WKIOOQAAAHFBm1NJ4Q8mUwIIf/6qVQAAUEQhgV8P\n",
       "3H9kOJA6gACSrCbXIRH40inaFi1tcfiCkeDrH01rlKpJQnlZ0eAvzAdlhAy10SCm655iVhHQBbKc\n",
       "vCM3Qv81+sHfap5+zdQjCt1Erwqc7YlRmW3LEAnFUbavMAAAARlBm3VJ4Q8mUwURPD///qmWAAKC\n",
       "E2n/wrQBYfkTxx0ndbnncGPHgn59FPgKpVVK9Kq5e1RhsCIGHlP/2MhK4zNMbSDlpoQnF8hva6Gu\n",
       "V2cG09g+9aThsPbuOJJ908gK2FCcN2ovdQ+ST69Ml/abe5plvKGIKLRshRQPsFDAXxdy3L77o0Cq\n",
       "Vj9IAv3jf4KDZm1bk/XYbnKOcqT/nGVBQ/rrfGt8T9BeAWUM6Cgm3VwmYP9rYhSLn6qJAtkZGIDL\n",
       "9sF3E5iRmeR5VyyI0VyVWypF0Iotm/0zuuimCr5Ciqy69PPG0W6C27G/ewKASJ8Cd06i7oumEaJ3\n",
       "Me6oj9z3V0XoMMDaJqMaYq+SovtvF/ykbKIdu2LweuUDnwAAAFEBn5RqQ38AATWvQDnPRpEE6aBm\n",
       "E/Smr1eJw7geTADmiKv8ABZCUVkoOLbV/kLo/nySwQNOwHKXbgFKfW2OQFVoW4PXMvQryBXeYujZ\n",
       "BVLMHdEAAADZQZuWSeEPJlMCCH/+qlUAAG8wIYFfD9yB9x3kBjOIt5xOMXrSXaAaxF4O3XVFE/B4\n",
       "wT89Vyun+0i27MYo1k7Tp1zERy//hYXb5igq0O1uJA//kWkQdJgoftTo0blKa8f7VU7dP8xu5Y5p\n",
       "BkIOGSZlZwYEcceEpUhH//JFg2Tmzypq7BsrtIgWQ/ghAunzZE66o1TkVOUeBL5O7O1HHuvLISwo\n",
       "7kAAABm9h5/gwlfYPoh6eCs2XWDnN9wto7m+l2Mp2WvqEQhEcJ788TdsGg4PIPlNEVg2AKhnwAAA\n",
       "AKJBm7dJ4Q8mUwIIf/6qVQAAYL3pZQfZyAFokal/6LMa/XKzn0Q2Gkeq5eU+cwkKmZhqJiJ3cbmh\n",
       "ucl6Zrmv++3gMGS3Nq77rhU706fvZHTzd2yusALoAoieIwBrECk8pP84n4AUQeuf5/H8x1JhTKN8\n",
       "bodce1L4xetOH/sKMdOURnWtAbdMdJ68dS2rexdq0E97UonFLxKc5cWkhgAOL9auoYEAAADNQZva\n",
       "SeEPJlMCCH/+qlUABdvt2AAJNlKTlE5SVBV2L9wV827bM4qKuT0CJyopn8DVvMvumzcn2ID//EIr\n",
       "7qrMRMviekxG3+baLX6WSDRfXgS2rhd320VRetHePQUtd1LzDw832gGXlbuB3WJy1KGuUCwtTAGY\n",
       "MeXAiHuv4cEPgLUBFDRmnhdEzwQdth/734TpFbhAJJ0HG4kIBWoOCEfwuX6cAzNXDBC9VezI/fJg\n",
       "ne8VN3v0lOuPPykmweB/YQaTPS9OZXeEfrl+P7BgQQAAAIpBn/hFETw3/wAQV2SRjh2YtlHjYN9f\n",
       "JW+y0zI1VAAyQ8mLSnBFJKkdkoNr7uPcpnJzKrnySv7eNYWSgfJnaUFW9cKxOgFOD2OTeLa4W0mk\n",
       "CXccL8FLCXmXC7xuiyD9PKmNVPuT0wQ54vV0KAkYXn3XctV4lLk/Sf4z1MFCupPUehKaxWoHP38y\n",
       "e2IAAABgAZ4ZakN/AA/gSgAMAA11t/DPCbODnzDKPz5lE3Yjd12Z9385crywv5aHEh6VBARKLquB\n",
       "1fgCwAgLPTy00FkqyfanrzOah3U4jD4RlCGLm+6RcPNKgqW7jl5qSk/GxINxAAAAoUGaG0moQWiZ\n",
       "TAgh//6qVQADBe9LKBCTX/0JrcABXtDt+rxP+IQEPQqZiY707X1DUgwac3aw0yCRYrEvbLjmCa5t\n",
       "h+jGG0nKhEjECZGFBYEUMNn/+4aIgu38nRA+7q1xqYwHWbx+qKWPQdUFS3KtGF+raPhQd6JvFpz5\n",
       "dhXGvc/L8EtLa3lNlCs0q9psY2awiryTjGlHZuzpNVjc0WTaUaVUAAAAb0GaPUnhClJlMFESwQ/+\n",
       "qlUAAvHxevVdjgIwTXS1LYeHtHB/eOPuiCMHppuJrsiiUxmNwAVJzkYK7DXjTAmfPEc7186BQZU8\n",
       "YTloFfj94fd9PlDRYfw4CKw1T1DqAAVJwAE9LJSMd4nQpBQPMBICTwAAAJEBnlxqQ38AEFdk4zoK\n",
       "3dyKI3sRtABrnp05hL7YlGa5tI6KltaVLmf4O98bPcv8D00Du2d6zzBo1DJbL8Qa87/lO2dTQ8oM\n",
       "1mV7xmqxt+Nz2uGhJKND5c045+3ZtXb5ct0ULfngDNXQddz7eTOP1L9O0VMFhgqz5Rzzjr/l65C7\n",
       "idFYpSktI7v+6g3TJSlb/TKhAAAAX0GaXknhDomUwIIf/qpVAAF3ATmEzBJojjP/cGsbAk7/cME2\n",
       "YakI4W6xQ92/Lkkln+OMS2w8nos8AiUu2AkETH/e3bWul74keV98f/R/fCN2c2r9eUaERErC7GFN\n",
       "WLUEAAAAeEGaYEnhDyZTBRU8EP/+qlUAAXj4vXquxwEYJrpalv/agAoyPTu6afAm5S/+FWZubifs\n",
       "yDN2gzw0HbNmhcyFS1/Q1eHoseAOjdAAJTUskZJ/y+33QMcibYjiwPkIlAJX6xnBmEvWo+hXRXxF\n",
       "3wan/y4Qo12YSYUKLAAAAH4Bnp9qQ38AEFdkw8M+RZboV1OQAAq6ssQAtVtlnjpUNKDj8ilaMh43\n",
       "ZbJd0q/mJBcWOjC+xDkdwQ9QQvcDNzKzZt+rsdene5idqSSEHcdluCECTrvf+o7o02lYlCd7CUvn\n",
       "Y/PxUTotsaonsEZN2F+8wxcOSEU7yYoSbO/gDjkAAABUQZqBSeEPJlMCCH/+qlUAALwiWnNl2ufE\n",
       "Bz4EdYt+y4z2unvABLstp4kbidP/g2reZ8acdQhm307smsWWCUdDKjmCU3dSRfPly7kSgASF0+EA\n",
       "SeBlAAAAbkGao0nhDyZTBRE8EP/+qlUAALx/VwAPl6VU5Cr5FD4DN6dp1w5l5UcVa+PbJWnpmp+F\n",
       "0ez1hN5XKRDQ0u6YF6U6EUw9xVAUnACC+8vyPvrTQrE+OK9ridY6oeNKKt1XnmDlV+WjcKvPhVUC\n",
       "nhDxAAAAjAGewmpDfwAQV2Sz3/rIPUGJSdOVFnN+Rt4OV8akX2XVzHG+C4tLM8sArhkCk/fvxrSC\n",
       "tBRTWwY/Coxr5pof5gHkjV6N1uQpcIw+tbfZylZ0n2sEJlVXvHS6OZvjuqYNzOA/n8YitOB18T3q\n",
       "sSRM+KqyRVFpW6LOFRNAeDdGIHhgIENV2vSVjvVJBU3QAAAAqEGaxknhDyZTAh///qmWAALN7wgC\n",
       "fM+Tmr+69p3+jGPOx8TnxgKHdlH0EJpxr76rHgEmUrQfKT8mIZdrjHMfXB9WNGtoGRgQW8V7vuBh\n",
       "ZbppKx/oRBT6a6EVWy9REelYRajKefvig6S8KjWNCCD4XJKh8MLKvg3MXXDbNBA5K3JxtMUWiuCo\n",
       "SZlQRkkzntYbbO0p1PpBV9F02tnm3c+7x/m387TBeYLltQAAAGJBnuRFETw3/wAQV2SzjtbO4pb3\n",
       "G1KpZANhTX0B4CFcY975t404ufr4E7pARjFGAOvye4QMrL9q03oQJ8CBV6NWC6ELoF3VVquUAZlW\n",
       "DUgCDnHT2b9TbNdtlH74dY4xn4U1sQAAAHgBnwVqQ38AAP18eSBsAAuHa6m+g7vuBvZQxiJ6eHmo\n",
       "rBjIcAWg9ywXinzCnpFxnS12zmFlI/cuKQpdqq2WdJr3M6GUy2ngf4rj8UM0ct9wCH31NhisDeYt\n",
       "V8DspepOxvkBvuulyj5WwaukBUIvSKR4xPzm6xv5DjkAAADkQZsHSahBaJlMCCH//qpVAABvKK8g\n",
       "CJrwEOXG4GwJJ5M+9aYlkWE8uKwW6NthCPqv8MzrCQ+1+mT9DawH4hAYinM4JllROcyndNeKmY8U\n",
       "Ean7xmFThKWN7A5qc+STHtro0RW3SYGrsjAhungVhSC+g1RBAz9Ec9jLo039oaaEzeLgaWapFAeG\n",
       "dXa3UCTseYYk4B3KOrmclh6U4hthwUWJGAlEuAPc1XevYrxAujP3NXEPpfU+sYzqBKwcE0sU+Un9\n",
       "0l7q0UeSoQdZb/Qj7tcNi9jr9nA4ukhRpw6HgUM30dK0uu9JAAAAeEGbKUnhClJlMFESw//+qZYA\n",
       "AbK5giISYwwjY+yaAnoPa5MVV6zMG1JH8FdMGPPbDQdxcfQbdB9CGBAYiTtozm5ooMobjKalWnSh\n",
       "+FelqxmNfv5BN3t3fZUPlJkALQUJaY0YxCGcAjyWm4A7RwDTTQdR9Yo2hKJ2gAAAAHgBn0hqQ38A\n",
       "EFdkrawJZAugjJc3ykijjn1q393oSobW1X9IKKUYcLJRvyo9RnJtIIgwcHrlVphv2O10LTqyHLad\n",
       "M/SpsnqgiejklsyEgLXBSXkQIzWHQoA2CzGv2lBpkuK9lDi4ZpnkVPwTUs3dHm30viLioiJaGfAA\n",
       "AABXQZtKSeEOiZTAgh/+qlUAAG8wIYFfD9yB2ulrz01b88S6VRs6mUpN57F7NV+OJD25m/n8room\n",
       "9lJl5YcUbCvdNI+iCbADPod3rHcZ7pioG96hUyAEt0spAAAAckGbbEnhDyZTBRU8P//+qZYAAbK5\n",
       "giISYwwiSL/pSzQNCQUnnJQXmuaE+RVEKAEJxLIAxflx+wTHqUaglSp/4ovu4uzYXYtIXgAABRbS\n",
       "mvpZ/uvwDuRQINYpRT8419TjHIf4ABJE3Kdi7idcmBzPkhS+kAAAAIQBn4tqQ38AEFdkrawJZAug\n",
       "hKjrwUsphRxz61dafnqhtbVrdVC8YcNeSEUK7P/c5h9xjgWGfye9KcdwFm/UTvOuGxhEK5q78XyE\n",
       "OG5MpPGGIPGOiEczvUCBl0Y6pIcvX0NSXL1XrVXJ9iNt0oB7Mw0Rc4TFVQT/DvywQR87C9c2jNpg\n",
       "l4AAAABjQZuNSeEPJlMCH//+qZYAAbQxosagCnOI3iAmhHMT+fVEgRREPxauurKd92rldhfVzk+6\n",
       "qN/LRcxjX4ToPciAP6HlVXovoyyPVv1TLtzwxyaU5cx8zkUAACHz5pHFCRalUCRhAAAAc0Gbrknh\n",
       "DyZTAh///qmWAAGyuYIiEmMMIky47QpAK64wZKb9b4g2rXaNAeP4DUBEAog9GPNRCBGcFHtujsPt\n",
       "QKLfW6CXUurms02jz+3MZHN7lAWPh44aDd3mmpOk6W7XOUXzuYQ+rdY1wrIRAQ3qbS7VqHkAAADK\n",
       "QZvPSeEPJlMCH//+qZYAATg9toBRCUyxffsqUrleJrucZmH7tePwe4aq7UgSvGkh+UEAA4oBs4tg\n",
       "WCO2NLYr1uD8bHn9Bnx2S8JnX8vEHOEf874HCKZvtQnqVxcu/lIf/5H8KwqvRT0tsbBrgzjNGbT2\n",
       "qQcfs+z6JwRTFCw2+behp0/+Oxw8UvWHJho2sEo1KeJtcj4SA2ECTzHwFYbbLb+slobo/njMn7wZ\n",
       "iNdoEsmNhcNvKbbdX8TIeoTYWtTYmu4ejdBjv7kygQAAAF5Bm/BJ4Q8mUwIIf/6qVQAAbzLnS49Z\n",
       "cl0UAYaXHfvxwn8qynaorU4zdwugAgiOgsWdjccFJOk5Mf0P/9qbwLmPewp//YHn+3UsPuNHh4dm\n",
       "M63dReivRP+Jvi0L032UAAAAxkGaEUnhDyZTAgh//qpVAAC8fF7aZQgUxde6AQIXqwHX//WYAMtr\n",
       "DSrfrnLFvtnNlOP9GllPjkP5A7tF93Sm76we6pyaaXR4Gppb3vIxg9iH4i2PkdD5EBo/DHVpTNuG\n",
       "ROz3RNzkzWJPVTOqLA/Me4GdfMh9w+dd/wWkMvr3/BKW1pSo1wprFdLzmz+OXs92qdpZc6WxirsY\n",
       "aDIFj6/H+bWLgQmw6irMHcnq0o5D5cJnvt+qVLtYlBtHNF0XxBCZFO8wMLA7ugAAAG9BmjNJ4Q8m\n",
       "UwURPBD//qpVAABvjGioSAIIEEL7oiZGv0yeVL1Y8H146iX0khYzYZQ6/pzHozoNoje3QIxV8C5J\n",
       "L7O9cDHv1a2tTNQHIBEK1VoHbg0VbJVyJ1oWYaUi+jULdooKYMBTZ7ALYD6E6QcAAACIAZ5SakN/\n",
       "ABBXZK2touyzzMK7mr/sUgANAIq+phqNX74IHleNwyMmfEHPh86LkxNkE8ogRcOsJ56eE7m65Vrv\n",
       "ugbG9YwSFypCNMXB6UfvVTDZ50sPfsFynkjmoPjcCrXe3a9LZqZtDvRLnUt9S+u8yVsyWzhSainY\n",
       "be7qBG0rq/R/7Dl+6uYmYAAAALlBmlRJ4Q8mUwIIf/6qVQAAbzAhgV8P3IH3veo1WoG1Q+iS9bMA\n",
       "3BP1y4K2n8STrowmuL3WD3McvyFFHKv4NzQrgFOeOwMSJKvPNdIiwhWwWbSshkKqHoKr/9XYdmUF\n",
       "oXcofH6AzdcBxVXV9HYoF434xc1ynrVhh/7Lpy+BxkcwJz0D0MrCMZDpo1rmY2cvyF5+0htHHmst\n",
       "dAHb6Yhj2wGdwMiQDSuscmYUjfsbNgm9Esq+VoJIOlygvQAAAGZBmnZJ4Q8mUwURPBD//qpVAABv\n",
       "MCGBXw/cgesNto6fQqAABZWxTfwAPuHnRAw+hgHMKMftxzVS2MKfjLYUJAUJbt5tIWMy4VrIfKbT\n",
       "1d2q5+dtel6sY6pzaSmk6mQJ/F/nAk+Mg0MAAABeAZ6VakN/ABBXZK2touyzzMKtm7tToSw02PzC\n",
       "gXKeXWJiXQQiBE3Ih/nraKgAptMx5s92BwsKTctNJTHiDNZKLhV/hrT3p38yrmWvn0r9lpXBJfUw\n",
       "x6PolAr+65DjgAAAAIBBmphJ4Q8mUwU8EP/+qlUAAG8wIYFfD9yB9uUUQ1IMgA3D9eMGTy3z7OyD\n",
       "kQH5YhCyd/Rur5ugtlAr/aZuR04vc92MbBBhubQLLzis1CzAXx930VbbLYByP9teNu0LAQsELLGM\n",
       "SMldko5JCdtlAQBZaoZ0TumBSf/fJqqY1qZZSQAAALkBnrdqQ38AEFdjqawAbSZccjywIgOaZyjp\n",
       "IOkrDK8f7/YiiHO3kdheIfbNXEY75RP8M8Hv5AXi6c0OSoXifQRtH0gOgsTR46F7CKwnC+5gB3dP\n",
       "4IdlG/i+ozmStx2tnNmk8Iab+TT7qvQKYUYlko3hXFWI3a/d77uCvlk+/xXFrGDPkNOAHWeTlCR7\n",
       "HCRnyj5T73iHyNt9uNz5BCS+gTIaeXeBRRQkyfmq2DkTkwg0OT2XsoXE2jFEbQAAAFFBmrlJ4Q8m\n",
       "UwIIf/6qVQAAb4xmesxVJw54xgKbRL363Swuh+bQP6fKWyP/CsJipijjp2kpdgcCRCnQsySTcGAA\n",
       "r2dCq0vRvEKyH2SyrsZ8/8AAAACsQZrbSeEPJlMFETwQ//6qVQAAbzAhgV8P3IH3HjgB7rk94KlZ\n",
       "2zODKXiWwsazWZn9RxW97VaFJ4lCHQANG5xoxwcJIQRGw2qNVNWbmuB3sr5gKUSqHlYZcppAoLxf\n",
       "FW/sVV4sPUq4srv3NFZ8D2DgUJs/INSoSIykrCbe5JXZH/S2bDwYWRksMcH6DvWxZHRxwMnV4msc\n",
       "DH3Djq1XBuQ3JbYS2wLje8gXilQ2YQAAAHkBnvpqQ38AEFdkrawJZAugjSyrTbWfNOwNzS047hrQ\n",
       "AeWRcjILBKj8ylxMfgXAixnBWQHHhoc+bbQsUeYBZYnLorLH7VUmgkyyQzUNFyvREkNGdAOLMfKY\n",
       "pRRCwgHogFDjEfROh1cCS+zqG6Gbd/0MXCfSdt2Z/gfMAAAAWUGa/knhDyZTAgh//qpVAABePi9e\n",
       "q7HARgl31LH54RABxQkGZTJwzlDagDuDinu73rnlT+FhSLlIxRPllqDAKXaJoCAaER2j7/4GrWmw\n",
       "uGnuwt51RZzLawg5AAAAf0GfHEURPDf/ABBXZK2myDOkABQnqXfSIUqJ2Nua1Y3eHxvOitstolhs\n",
       "xeU8XAe5aE5R9bJjO15MvrLmgp2kLK0C+irrI8XIODYi3BxpM603+GFACkduY0hFd+Tp/JRQVwv6\n",
       "96B91WgVIu36whstheubT5GK0ClXrUDmdUdYUfMAAABdAZ89akN/AAE1jJSMNhhOU0fkVQxuhxbE\n",
       "dezXwBAEgSLUOnf17VTA/uaPgAr5ykU/zuTjyyVOgG8Z83lb2bxAFtgoCdeRUDpNFRKmSsNYT2D1\n",
       "LdbZf52XAiKnQBJwAAAAyEGbP0moQWiZTAgh//6qVQAAUDxN4A3BP1y4K2n8STrowmuL3WD3MjhS\n",
       "FFHSW9wS0K4BTnjsDEiSrw6XSIZxWwWedtKP5E7R/hGF/+rsOzKC0LuUPj9AZuuA4qr90jsUC8b8\n",
       "Yua5T1tY2gQcK13x5iMaPlaAgrZW1uVP8Xg16iHPN8Pk+QSPsiw+8deCj/WJ4ZK5KK7wNU/7SmWh\n",
       "4QRwOgc/mM5CTKeqMp+pTH1XabJ9PO1PRzL4VFu1n/oo+1CnELA2aMBdqjPgAAAAbEGbQUnhClJl\n",
       "MFESwQ/+qlUAAFBEIYFfD9x/ZCQeuEqtQNtYdaRZYs6vW3TZUw+m53lJfv3ra4YUrKL6mrfUpIAM\n",
       "R7VuIsF/03eWb42VQk7/16E4hahBGRhPSMjn2p1nOUR1cBs6j0hjkbM7aQAAAEwBn2BqQ38AEFdk\n",
       "rCrevunF7gegcXZgYCCwAlX5LpB3KcPxUfh+B0vYroICEzPfTzt4Fz2UXSRO3JTd5JYSxlX6dcbs\n",
       "4Lt7lgPNME3AAAAAvEGbYknhDomUwIIf/qpVAABvKK8gCISsyd077qnUHBfEjl3BgXY1RT/+euCW\n",
       "CPMWZ0or81ecSecty4rYjf+Dh1SPGDPtFB2lIRKA6A+1+mT9DapSuGKr3TFMXpcrYFG7svbzPRPa\n",
       "2Nv5lSR5Qug+JKyCsaxSLK6a9BnkHrNxp9hfzTBm9x4yH3gETd+vEfEY71qRiQ2uazZEgo8HqNqB\n",
       "SjqEZclqcz0vGZVKAmyv+Q428P5yk5zWfmgWDMIPAAAAXEGbhEnhDyZTBRU8EP/+qlUAAG8wIYFf\n",
       "D9yB64d4PZcnpYTWZSTq+eR/4VhMVjn+xfZlwKls+Ga3AAErmdzH94EiC4iy0spYH4l0SILj9VgD\n",
       "IGEmZPGBwMPQNqQcAAAATwGfo2pDfwAQV2StrAlkC6B/LXfoOVInbG9jxmz5T14AA6dd3bXMvW18\n",
       "0tvAyCC3wNoDNbwW2/NvXeXFVqpGnaMGjqcepHEHH9VQKeiP56UAAAC7QZunSeEPJlMCCH/+qlUA\n",
       "AF4yuf+P85DwAS9BGB5d6D0m0KsqFjI8/W/Rr5bewQHnnLu/p300tZNlgxsinqOjR2IB/U0CagxJ\n",
       "QpxsfrEp65MikuhSaJGr0OdLxKmBHGhLFpJNtUXPpFDvIjenQXuu9/WtZ5bXCg5MvvNo1Pnf3S1S\n",
       "XHC27LT/LvfJSUKOiRFn9n/3e0ZX4rKX12iYUrWNn4k86fMuVPyN6Ix6mF2Xw78lA6OWpnhwkacn\n",
       "YQAAAElBn8VFETw3/wAQV2Strrl08g8nKFcSwCEZFs/Uw3Gzu8KwAuWC4ABcVQiheyrBmvqYSngM\n",
       "mUFmf/ZbiRzvkc6K+ot0rSrozSRhAAAAagGf5mpDfwABNYyUjDYYXjWB7gx4YBntpWHmEnkP/AAW\n",
       "zn1dwop5AGEEhxdEteICaG4tRIl9CZQ9CZxWyHigBeZbTekH4aDdxLlkoFPVP+ed3oExx2JB9qtu\n",
       "scB1QJQmYxEjv8XtmchcJeEAAAB3QZvoSahBaJlMCCH//qpVAABvG3pCiM1AEUWvdQ5GCwjh/fcx\n",
       "vJUGwzkKvkT6/tgdk+scqlqXhdHTP6JgQZP2nxIkzmckCzabOEyg4yvci0E/MkAAP1yr0bL/c9uc\n",
       "VSymTxeKaZZAuw79yMahC9wDJ2LebyLpDlQAAACZQZoKSeEKUmUwURLBD/6qVQAAbzAhgV8P3IH0\n",
       "/kOAWKB/sGnmxEfh2aXg6wAihgAENzC5GAU1UsOjex66TNFsskLNzjSB1YwYX0SPZGgOmTDoh3J7\n",
       "VTe+pU8fxlIn590qlKZWNz/0Fzaokc4cTzmDapZz5pfEqYv6C06/0DXLYYbAC3XyLI/Ejkp+J2g+\n",
       "eANXGZqdfH5lMJNMAAAAYQGeKWpDfwAQV2StrAlkC6CMlzdsaJsLNSGm3PzJcMZ5HUKYjC1H4URa\n",
       "e52MpdkzOSpV7KVeN4DNqAC90zezB7E+ZoQsiZuzaHFStVBKz5mYorYsw68uYAvw5+HosVAsfMEA\n",
       "AABpQZosSeEOiZTBRMEP/qpVAAA3w6YsEuYDAAHWbJG4ZpiOjRzvc5Zn8fyTiifEEa/CDC5ip02F\n",
       "46HyH/DPr7rpxpY4b7g1jyFtSor4M8rrJea4AGWIk8OR+Voc/SSFTpjlMuKra69E9sYOAAAAUQGe\n",
       "S2pDfwAQV2Strrl08g8nKKiPKg624sNBk2iPDLpWPgAL57Ve1nYvF+MpT3/+rVIK0MVSw3/HN6IA\n",
       "SxfEsHXLPoqW4NfQhjNLPisrSLBCtgAAALtBmk1J4Q8mUwIIf/6qVQAAUDxN4A2NeDuqxmVKXOjN\n",
       "V3OIzD92uDFf6NKzN3QkRw/uWTSpiZfeMLCd1GJ0NvE5y2fCDH1En4Sr3TnTkL6pZr3t6Q1CKnsj\n",
       "QdHP3lvVnyvMPc60HJJmLtXisEMGKTXrY3rvurXxso7CrQ/ZTn6ZR17uV12v6+Lrj9/T096MXQZr\n",
       "Nuu8gwMY3JSCzWCLlRr6eMwH06VW+5pNVylZWyuGD+4o2JJzHHt+n6QLAAAA80GacEnhDyZTAh//\n",
       "/qmWAALfl1f4/zbEABD9VnpGn/nY2vHuGq2hpBiV9/1nL1jOhGJIsw7tQ550E/0qSX5QAagKJtIs\n",
       "iTxZE+Jh4f9MSOp2xqcNk/ETOhDQ/yYfF4ib8RMs+/MeHz/9nYvaCuTHhhYAnhzDjo+DO5ctBmx1\n",
       "qfZk0gje10eDGUVyj6JCY9ayEnSAywCZQXZH20vTKttTwCARkvI1P3IS95N8SMrgxbvGUsNZW72D\n",
       "DmKeQ540rBGt7Yh2ALQIYfrT2hU2hiJKnKztLIneIootQKg1ezYnCLnQXJWbQUGvv75MpbZv/0/M\n",
       "Vu0rYQAAAMVBno5FETw3/wAQV2S0WBWKBE5Pqbi5q6AAcis0usj52f/khD4AVT70t/xQsT0yHyuA\n",
       "u3zCetlR1aW4WG1n7Hbg75Ix0nocsK92fay+JtjS9Tr2tszI4//M0+OWO7pvSCn0URJ21BjuaVxv\n",
       "eckhHunz9pQD8FBdZLzVXwGK7YQtcDqWXXh0rD803TCRe9yILpBn8rZGy4ngEtMl1setfGBAGdSj\n",
       "fH2f/9TFNuUdfIIusOO+8R2t0zDNxbZ0eBGvMr6JgVCXgQAAAGoBnq9qQ38AAmsaRlX34i//V0n+\n",
       "toqu4tj/BUVmLHeIibEqAEqEl5EfNL0b8HMa3M3qN47FaPmqk3hPKUqK4sS2AKLAWCgusHKHVTHW\n",
       "NmQGp3nUZcrcwCETChuCgN9nnCAAADgYQ54X7gQcAAAAkEGasUmoQWiZTAgh//6qVQAAu4hDAr4f\n",
       "u5Lhn9tlfoAceWux2nQ493ppySSOgaBsToXl82GjK0PTZaqBaieW8ZEhqoPZT0pSVdervmQ46Ocv\n",
       "/8D9z59NSAhcjiL/r6GndOZ5M7NEb2afe1YtMFYwFBoiByTQUhaWi67v4KUmJNHIBV5tYiVTfybs\n",
       "6goHSZpWBAAAAFJBmtNJ4QpSZTBREsP//qmWAAGyuYIiEmMMI3gx5HOlyYQhxvVgnl6f6Us0DQkF\n",
       "JjG72xuZ2MrxoLReDgAGrwiREZNkBRHodadrOfOisgL9o+3dAAAAdQGe8mpDfwAQV2S3XXRuozCC\n",
       "nGKStmtvmWYC3a2vBIAP6G1pbqp7eh6DurNPgfG/s8sxFPheOW+//efF/pq/aSpV8aV/4dwdoNi9\n",
       "6XQ626nuONmlh16lJlqreinHZsD156ydo6RJ7Ujl6Z7ud4Db5csJ1nsj0gAAALNBmvRJ4Q6JlMCC\n",
       "H/6qVQAAbzELbgBHyGcjd9IHYdL3LWNJkJWhdWj8tI3jqn5EwJBwtM9YXaGWRr9Mn6GtfLPg+10y\n",
       "431l+8jilZCRlGNK7OT3bXWkygmjbq1qlkgLZu0rY4S6xnL8cEj/XEuvMEBlAMOITcTZGH7TEATz\n",
       "w9/1qwKRc4fbFTSpHume+smWL4xIQEuZKtaNA2htpZHH5gtnBOLanSyLdL1LxCcGGfnVqAA2ygAA\n",
       "APFBmxVJ4Q8mUwIIf/6qVQALuAwsFSzv3/j/QDoAC7ByaVaSk+Ovo1k7UBirElvRb3d6GEAo9w0c\n",
       "CKJ8Im0G9ak/w4IP5+mz4JW+1vsjQqawBPY+hniPgRGu4ox4aTqR5sWSSmsphlbvSUGp39BVTy+T\n",
       "KnZ2u6Ox6+wk4fxVCY8ydWTjUc/BG67MqXTIR/D2e8MgF0tafFerVsWXNylu0IMLj7EVSFnG0U+X\n",
       "wWk0j/FaLk/P0vU5ao0smAZ7a3qIdypAjm+pE3UkTi/lloHku5tSvqVquMqRsse+JCSK9aaloNae\n",
       "eBcYX5JMEQQfqRiWqispAAAAnkGbNknhDyZTAgj//rUqgAu5smiabioM+AfGFbCMXcM7o8olA0qm\n",
       "TFyABCRmWAT6t4BaXe96mlHwyGhYR93ViO+2t6W+r6qNRLBpXmagLdjDJwxctfmDoUxlTrCtt/Ap\n",
       "uMcLtaRFRA06KSeBgRoE2GTmPsK/akCmbEqFrY+welKK+2ovw77RglqMqP8d+t4YobGMK0AH8jI7\n",
       "KkUp036uAAAAaEGbWUnhDyZTAgh//qpVAABgva872uWpHJX9UY4xeNaaADWMmxgXvWcpbxD/N/fG\n",
       "DUph0qRJjaXHTbKIFq05iZNMtzdmahkX0Y1tCuDsHDdUJyEAd71X8tSjeg26116xih6H3L6zzjMh\n",
       "AAAAm0Gfd0URPDf/ABBXZKwsGNoMNtQo9McqYoNPeBSe1zb8aYLxQD9J/zOkOxsAuClhKAeAAOuA\n",
       "WZJn8TcVyWwk2q9gjA97r/SF7h2eO46TVQZ+fYo59Nt5PuSyExojFozt/sQUb5hAgQTyZc+fdBVH\n",
       "NUe4L8gkRrt2tSImfMI89IsL2a4HQmXELEqLB+2UDSa/YSJCCi/iXLd/wN6BAAAAQQGfmGpDfwAA\n",
       "msZKRhsMLy52tifbj6yqKTxAAgrsmEKetObftksUMHZ8icVsATMALjBN4PDsa4m18yRHH2VTMLKA\n",
       "AAAAjUGbnEmoQWiZTAgh//6qVQAALx8NCHn+3UGYgsF8M2JjOH8YmoiQdfngr03iMguNpd4L/umT\n",
       "de8T4olikPuVsCZfuVtGYtOCyN1+gHRyPLCjWYnbc+RzDsDqfJUKN/LbzyspSuph8zFcj8soMs/A\n",
       "/g434UE/uAsYg8XuXCbeITk5RQcyXbmlise88cR0QQAAAHdBn7pFESw3/wAQV2So11y6eQeTlHb3\n",
       "QgGY6DN5L0TYWakNJhRNEuGM8f+v9gwtR8hrBkmadhJQeuIUawn6BRKPfXNnCeIhgODb27/QspUt\n",
       "La9D+4NcEA4ib6UMb8sYg+6YHDQrUwlQN7XgAABW4AAASEAABZA6oAAAAGABn9tqQ38AAJrGSkYb\n",
       "DC6Vj8pIo459auJGr4mp19WC1WTeMOFt035Uepcz28k8bwgBZI86uAMOagprH7iA9uMcnr5wM/Kc\n",
       "5xD07hOSIWP4+3Qlq/12chvcNAy30O1tc/0AAABYQZveSahBbJlMFEwQ//6qVQAAJz8hx6xmQTey\n",
       "lh2MMfGHRCYiOFL/4ikgKOaUpn0SUzGJ08r5gsGHDakb0ttcBJ+B3q939r2b428eUxuBDio6TSW7\n",
       "dj2EXQAAAHABn/1qQ38AEFyMk0swo94mHaAArNcCx6IG/eIuT7i6djlKar/iuTsUcnLBC2aoSrJ8\n",
       "X6CXHowDLRqUJWKL1WSfhKXyT7WEbUZky66D6mxbvxXn7/77fTFWVfl/NA6m0TLW8pdpkkVrA3ul\n",
       "wB2HlgkYAAAAtUGb/0nhClJlMCCH//6qVQAAUDxN4A3CAuRx1pw7Ny9yQBVGbOAQxlAESWL3BLQr\n",
       "rcn/72ob/iKclhSmcl79Wk6JjVQ5EZNIKcD+ERpjF1RVV836Qxnpg8Cm0Es26iPXVK3fy65cOQrM\n",
       "Dz2ONdZ2Xx1qwc6r/airGjbyXmD4LYR2aChzdO81h4sqSn1139d+bqjxWPDvVoyT4XQdxQdCpQu0\n",
       "6d3k12GhkGO8cp8vYHOpHJcWBHwAAAEAQZoCSeEOiZTAgh/+qlUAAF4yuf+P85DwAfwiJM3jZOj6\n",
       "r8I1k7Vi8O4ToLLS7v0CKtbVosLuflYo+1ZxGFfxpCnqNyMURSgaqzJOmTw+IlTvAjVG3f+8mMO0\n",
       "oLwFyjTszkC0IxyVNUEtsd8jV+TwXepfaO9yB6EOA2okVlyAc1hjv4/lDbLWwTHgA1GiGJ86lmBE\n",
       "C4AerblG1/2MSwLni932jE4DwtlVnrQDsa/LG20gbXxZ+XYvkTZ5dDFMx7VUXDro1tqbPi8SONqo\n",
       "AgqhcNaCDKMUC3VUaLw+tAyavWQP/bKE2RDnhzj4JcqQAAAjvIBcxkF51TDCoXDzqpTxgQAAAE5B\n",
       "niBFETw3/wAQV2Sr8I3Ms8zCrjvTyyVeMLSfwAaxT0ZrIL3hSyhMyiM8nS2Jg82r9RapYniRtFCy\n",
       "FtP8N7fG678sitI4+ZCY7YCzyP8AAABrAZ5BakN/AAD9uNbKhgA+zqA+ozQcnBKDb1bvXASQKLQG\n",
       "T7KE1xDbx4Xnw2O2eKN/eKCWa6n6y4gJF6lh6AYSrloHDH16VzNQQV2BKAEiN/iwNWAE0cAIeCN5\n",
       "wOI4QHmztLfDOG8DKhi4UVMAAABQQZpFSahBaJlMCCH//qpVAABePi9eq7HARgmulqXjfD2jhEAw\n",
       "H1BPhkQAaBxBmQ8n0PzR3fvlWO/e7+F5evatcm1608Ct9k6HyZmLg3PgazAAAABxQZ5jRREsN/8A\n",
       "EFdkq+9BW7uR3ocqv5QAFvrau4UVFcZvRTna0N3mOIhHVoD2ZsYH3ey4yfm/PHl4GoZt6b7uHmOh\n",
       "OY/fe20rzHGqrmGjgHC228uWpUdHI36d7239yUTLgrRlrv8q60Iwbqmu1iKjf5EAAABQAZ6EakN/\n",
       "AAD4dxPKTZhLNRwflVHFWHavIx3p8zHwRZhyYKXvSpMVIMwzn/DOJ6iOz2CitjZHS18EqOAcCyQ9\n",
       "4FcFS6Ov7RZox2PyJ8aWNWEAAABhQZqHSahBbJlMFEwQ//6qVQAALx8Xr1XY4CME1O+DafeYlWvY\n",
       "R9HGVxVYDqFBacVcQpAcQIrUPSWxyAE8I/8ZKDIhvwBSYcmLI1T716YDsyqi40AqwyCltMMLfGR6\n",
       "3G4HTQAAAFgBnqZqQ38AEFyMk0upIEr2ElZVY3YCuBjY83Rt1E9hLJ9gL53upwIJ4+tsck5SXFfz\n",
       "lll6JsW1IZDglGYiwYnKcl2HEL+TTJVUsQS7tUk5DUejPY5c/HurAAAAr0GaqEnhClJlMCCH//6q\n",
       "VQAAUDxN4A2F+uXBXFf8LIwoFpFzCQXdv/9vC34lAgIqvkIW5gJDIt6sa2elB72XNc3Cs9tKP5E7\n",
       "R/hdXCwGAgKWEtPGXOA5IOIsC6D7PiKFMNv8oA8M8G9TvGOzaIicOaaYQ6k+XubA1ZvsFdF+Yh8/\n",
       "Ii6o8vu8g9V01iaNILheRKNcYk18mSEdvS7iwcwPo88P64tdstJrmr2gCYj4QcAAAACgQZrLSeEO\n",
       "iZTAgh/+qlUAALt3nYBqK4gwtc6R4w8z/nAxXCZ/4ZeXDGHkS9v/7AkdseDAgv/kHH3yf+63CV8d\n",
       "hVx4ES+xkrIToa93KFIMxPOH6bA3mxwF/hO74ycYrlDJXL/sun1sX4itZE4JH5kw1r6c5794EHD5\n",
       "0SLlVExkfc5P1mRG1vDovKZv0GEMjbdw4aV/Fo/Sze5LKqLrRlg9IAAAAH9BnulFETw3/wAQV2Sz\n",
       "jtbPsyShnWXqoZwVAA9IZzkIBBGmNJ700o7EtvqW/CgCIYgsj7sMRFQA6QYGg2YlrpPKr+rL3eOv\n",
       "RoIcGFz44ED7HHXnavcSox48QcwTMh9UmaBLBuVNLAEzMGrfqSngqI+7qHEtjdAyL2kzbS+rigEP\n",
       "AAAAcwGfCmpDfwAB/AjK8z4l13G8/EXK7F7wACFf0K3wb/J8lahCodoR1VFGSbgNCRzjfrA81jcl\n",
       "Gbex3lT40EalPMsZY2iOXFzrSGFaoMIeVKf3yvt7AhRHeJR3Aqz5mgczChsVF1x0ePbLsjmz9e9V\n",
       "6adH+Z8AAABuQZsMSahBaJlMCCH//qpVAAC7jdRvUrdYV1ugaoRdEtHzqROc3z3SOIgNTz8WU1TQ\n",
       "jz/lpDs5QQORFGHZ/NRpikDuYlAcqgBB+Bh14OxFC4IYI03UGstUALJ+dvNk8cQm8/3YH02oCHym\n",
       "5ISPp1YAAABnQZsuSeEKUmUwURLBD/6qVQAAXcBb/2IANxoB2y7kfOQn6G8BnVQETif3sugCgBBr\n",
       "3bUVd1+XVG2CGa8RUNNGW0DNoOrWN+DdoMhHCMUWTtmlRcrxcEKZLbvRqZVfIGKRLF9lPuWJOQAA\n",
       "AIsBn01qQ38AEFdkq+zF4vQAcygBKhmEC0u1LqNC0a+ba4EKREHXc6bONe+B5pGI69Fv2Ef8WzX+\n",
       "Qrd+2Uwmju1LCOzDU2Li2EyUBKef64soHsr1uMC9jIJNcZ1aAdJ4LdnM6lGNMTA8/j1ODb6zew0B\n",
       "pH0zT3lCDDc25cGpvaml7ZvluaA7RYspGw1JAAAAcUGbT0nhDomUwIIf/qpVAABeP6uADGcoFNy2\n",
       "5xKTB1wCcdv4SLnPUlWe85M76VP+qedvuAbeCtIxRvLd2deieTbRUwXZvoBVsEgBU/NdNGBwEkH4\n",
       "wFGYE/Klgmvz7tpOzyST6aEYrXh6MxMmD0Ui8yodAAAAYkGbcUnhDyZTBRU8EP/+qlUAAFv9/wKx\n",
       "mQThjq8iihaU/f22Oh6O7fBA51REpx7siCAACf83sABYkjWmQAV51nfxz0ok74RCHYwGa4AmLofX\n",
       "9HAKakg96fQ+IvhF5936gGdgAAAAhQGfkGpDfwAQV2Srx24+kijjn1q3ezkJUNrar0zWTeMOFa0h\n",
       "S0trEYUEYAm9vrcEOCLSfrx8ATQSluBBILJwHSsLZaiJYMe2XWspfhsIYZ04dIkiXiC14ax1coWO\n",
       "PvE4urWs5QxwQnoVESChN0tzQ8qNHKZGR8lEKIEqTbEfKW8Z59CwCPgAAABOQZuSSeEPJlMCCH/+\n",
       "qlUAADeYEMCvh+5A+1bzRcigaBhfmQOF13PBzeZnLZhs6eKclZmjRysCpDoMuQylWIVJqyEAJLdW\n",
       "UkahPmG3uubhAAAAjEGbtEnhDyZTBRE8EP/+qlUAAF3AYe4Hig38BRsRYKfw198LecfZc1EmKEIb\n",
       "ntkjp/4AL2VZ6gJJhysP4/sEqKEOz2SYscT3wKfujKaSvmGvRElAbos357o6ABG0AAC4h119Rfy7\n",
       "+95M0L4QklnttwCuHPOA3703JxcK4xSi8FZs9Sp++VJ15Uiz6BNwAAAAygGf02pDfwAQV2OprABt\n",
       "JlxyPLAiA5pnKOkg6SsMrx/v9iKIc7eR2F4h9s1cRjvlE/wzwe/kBeLpzQ5KheJ9BG0fSA6CxNHj\n",
       "oXsIrCcL7mAHd0/gh2Ub+L6jOZK3Ha2c2aTwhpv5NPuq9AphRiWSjeFcVYjdr93vu4K+WT7/FcVw\n",
       "R8Ur9nUijY2Bndui9r7pmuoe5ANWBRieIlzzuByzUhT6N9Crx2v3Z1f3++GHYKR0w0S/WN9Uq1pA\n",
       "wAuhPPAsO4N4/3ATwGKkOOAAAABkQZvWSeEPJlMFPD///qmWAAFuCbJA1AZrnr3lRBAgPdJ3oN9W\n",
       "8Kjs+k7+h3ZnCSr5/a+muBcGL0aDywnE6Bx4EuFZ57s4Oc+uZqw+o5NXXHM18Z0bpgy9chTnOLsE\n",
       "AALE0MUUWQAAAG4Bn/VqQ38AEFdkrC0+VRV0qay3YLHFPdDQNgpWC4OhB7xjg8W5agFhI5pZ389t\n",
       "2UKuZZehZ9h9SSkK+pc+dKMnVWFYpOm17cTRIhLfLzvoUMep1/XJbZehZPRLrd+rJiEBCjh6MhI0\n",
       "oDtM4NSpoAAAAKpBm/dJ4Q8mUwIIf/6qVQAAbyivIAia8BDlxuBsCSeTPvWmJZFhPLisFujbYQj6\n",
       "r/DM6wkPtfpk/Q2sB+IQGIpzOCZZUTnMp3TXipmPFBGp+8ZhU4SljZd8G/ijnFFnwgOmxgSN5YHE\n",
       "9dXc4eB7EGM8nu41Z/91lnIiPTCuk5j49gThxJiSGFePYXSQcId3fHdf1FgAG3gIdzajQXBzaozf\n",
       "1ok4qoaY2jQS8QAAAGtBmhlJ4Q8mUwURPD///qmWAAGyuYIiEmMMIki/6Us0DQkFJ5prOm1McCck\n",
       "784bboFNZx1YuG4EFOIAHgk7aNAXYEza3zE11RtYAGe6RFgcLcvjRz8D9VZlMM9Ch8Ga18P6vr8z\n",
       "5aFyaA2C4wAAAG0BnjhqQ38AEFdkrawJZAughKjrwUsphRxz61dafnqhtbVrdVC8YcNeSEUK7P/f\n",
       "NKb9Myt0JXY0RwDKQM+o258l5B6sWZoJ4iaFk/TD3DHOLLAVVRMFINcVjyblKpPIMuFzdwbTLGHu\n",
       "OW4n7uHtAAAAWUGaOknhDyZTAh///qmWAAGyuYIiEmMMIkgl7QFvsCGgG8vUK0kiCrNmMWHX+J/c\n",
       "3BFwpDDzIspqD9mwgz8NBgtnlKO+ADUETzrtIa8lmWplQlGIuFwbE2ybAAAAbEGaW0nhDyZTAh//\n",
       "/qmWAAGyuYIiEmMMIkjAy9QGa9KdNB0AnCHHDIqOzQXFR1/F3jeZeUjhUJ7UrVrbf8TiWG6AelHx\n",
       "J4GymRjn5B8edQgVqcaYuAexRg1QTApaaQGO9CsQVh7fuKrZ7n0ZxwAAALFBmnxJ4Q8mUwIf//6p\n",
       "lgABOD22gDcDpe9gr0jbrgIyqYwc4Unb3WDqvRPp9HAPpC9IBMff089mQDT9XChDjG5QAIo6R0Ye\n",
       "v/6zI/8Qb1VewLsT1oY4GWUhJw0loXD0tG7HHLOH/w2uWTIXWqLlQ8xQoJk0PWNGWP6UUBwt5m6L\n",
       "A+cWn0A/WMDZelme3JUlo9nOEtmk1+bm/G1PAsnLaUDG+WBM5j7HdN3/irkl3/z8TKkAAACBQZqd\n",
       "SeEPJlMCH//+qZYAAbQ46AmwBFBahKQE0J7Pn8+qlgiiIfi1dfIAd3cjsdfQmOJoC9xV+phCnREf\n",
       "ol7hskn+aiy6ePmkLqEaBm/uMCSa9z+tbanrmqav+3PubgLN0QKyBdtsYS51HPskmniCFBD5sZfI\n",
       "s41lqua4zC1dDtBBAAAA50GavknhDyZTAh///qmWAALfl1f4/zbEABD9VnpGn/nY2vHuGq2hpBiV\n",
       "9/1nL1jOhGJIsw7tQ9GDPYRR3HPsKYKWz6yFk6ipImHh/0xI6nbGpw5MUuJOzD1BnBNsRNlNM7+E\n",
       "NONQ5XImWffmPD5/+zsXtBXJjwwsAjZfHmsMQjyfw6fHWp9jdyCN7XR4MZRXKPokJj1rXKGQDk6z\n",
       "WgMPS6T3f1EhksPmDFwv11l8nJ3Gh8Df8O9YTCoRx3ql+4YOs47JBlBhz29w0APrO/JnWiU84PMS\n",
       "Zwjwk+NyY6U2rS0Mlk1JZ5UPCAAAAFxBmt9J4Q8mUwIf//6plgAC3BMERCTGGETEekH1taNj/dHB\n",
       "E0OK/Vr3aHqDMXn5sQA9q+7TNxo5VO3+KFb2ncTfg6m1e0E+ps7YKFqQ+rjUy3UkLpu/DovP8vyP\n",
       "gAAAAFpBmuBJ4Q8mUwIf//6plgABssbGwBAchjJI5HfJQPKROADdyl6cxrNgn5OByOZ3vbHhGoYB\n",
       "oEdvcnrHb22K8I14iE/84/MjicoXxbGRDpBVKhuLTSRJ7YK7nKEAAAC5QZsBSeEPJlMCH//+qZYA\n",
       "AbK5giISYwwjeDAPnABoHAa54BCN0UvCUi6L3Hhd8dl50cbIw1WO37ouVWjQ2axkn/HBk9UbsVLI\n",
       "3LiGx3RMFs2lsfwBqpP7vmxBT9eRY1qj+VgI7O3sxzkZ4B7UXbG2H4jhTkOsZFm38VnHYdNFamCw\n",
       "IY7fX9SNn58Ghw2fWbNmA0tQO/p5D7SPFClt8RzDg5hQa/JmoffdZhnH6UfLdyIJTpfqLs+rQoIA\n",
       "AABoQZsiSeEPJlMCCH/+qlUAAF3ATmrBbQBG9UCPxgUQZwKXasj6PvmelXdc/WA2h7ZtO/xW26uo\n",
       "o/MNDgjZ4Er/0BgJA2M3gsfw3PnyylpO8491UI5sUWCOJ9GDpa7HNn9Wvh2D6x1rtqEAAABIQZtE\n",
       "SeEPJlMFETw///6plgABb/hW14eoJo7NrdPrEcdMnciMp86DPGDj5axv0IFidgrNSgTSIVmUOiTG\n",
       "Xt4XE8+VdV6qXqggAAAAlgGfY2pDfwAQV2SttADQAUMPGCPnngKDV+RiR7iN9SS7KMRGR5Cvh2r1\n",
       "NqDj1q3pJtlAVtCMr0ar/pENRKlfWhH07xOPykAdWxHIDQtiApNU/TRmItJFYiSEhZ4AAh1TQDQz\n",
       "kTsnswu3iRRPvjpnps7SO4fD3gTJqlczSMK/8ctCjREcoVkwtTbwzQcCjI4L+gHr7lAyoQAAAPVB\n",
       "m2VJ4Q8mUwIf//6plgABOED/gIVbS5YLmuHj+t4ZkVhye3nGSUgpplVa++q2imhuwvUBugs//80d\n",
       "qY2jnY7WIYlGsbTAbVcOj7T5zhYnCYwzDL/0+8sL2LcoAEUdI+80VDy4S8vmMNX//4m0UbE7eqaH\n",
       "FPRERlf3DE8kx3JqDHtT9pUeC12cnzln2XoUz127jh506NbvtAjj/wI94GfJ2xIjRolXF3skWjQN\n",
       "B/dWz4dMQJBTJgeLYipvKILzdptm4Sy2iIrcunAUmoQzsD878UPW5CgSa4VeNctK1HOtLS1K+3wA\n",
       "AXqVF5XAjZBMPHyKn/oiJwAAANBBm4ZJ4Q8mUwIIf/6qVQAAbyivIAia85k7p33XBe+Ktx8Jb8Qj\n",
       "5imVnK1yqxg4pf2ID+FfP/+xkJXGe1x7CG5HzkJ+htYD5C5XgBbUKpb60mx/vLKIuT7v5AVsLEXd\n",
       "xQZ1h8kuisKPZls7YmbI86upEYKlMGr5R9t7NUC+3wht0YeBja1EoG5H6l1Cre046RNoBwIX7e+8\n",
       "Q/I7pTxZ4sGDuJf+/ZVUx1la42YvyANDsKqbeiZ3m3xpZ6njK+l2g4F5sCGfstsKDYrs/iDVQIO7\n",
       "AAAAxkGbp0nhDyZTAgh//qpVAAF4/q4AFI1cQYWuxNjgGb07TtS2LP8MC7in1gqRv/+BI7Y+aqV3\n",
       "/srhA5P/c3xK+OgSWzUI2tishOVq+4b77idasNNgDbY4C/8nd4lGTH0uUnr/121NSFhWcZ96ufwj\n",
       "Jhp/sz+vl7elvynXw/iqqwrU/6Ft7DrXsE03q0B85T4s6vPEkblYalMg9KbYarOUNHau1dRtRfzs\n",
       "0Mm0Fp0sTFhOLGklCQjCQAPqG82NCmdZPBsUbxMNswAAAHtBm8lJ4Q8mUwURPBD//qpVAAFuEKla\n",
       "Al1hYA1XeQq1b0YCrXRoNaNdxwAjFRSlFdPzSy8+QBae6gaon9EL+JelPdNj86B9CA/ZyV6X5zWo\n",
       "UHksdUX/lfi9XmWMOuP4C6IvcANhBzICu7/VrrYtAa+BZNUvI49UfWe6WkAAAAB9AZ/oakN/ABBX\n",
       "ZMMduJxomxV1kTEIPREYtMoOdYmVZ5aAQEXf+9Gt9iVl4uw2kww717xujEsaoQDZrK5s9rWJTR4h\n",
       "Bxho9AlRzu0DFiPSNrxAByfqTBnocMzrfqQO/aDnTvNRUxVUdEZXN+xvsuwASQblkAqgA4AAAB34\n",
       "YY0AAACPQZvrSeEPJlMFPBD//qpVAAC7i0kTZ5vj3wAmYhMZy6H80MqkTreL0CrAbaw60s9OwQrl\n",
       "ABoOBd08yMoQB1WI84WqAAljpfxLNDEfxejbpYBEXB/KsVfLfzJClh1wsrYhxWTo0ihmHQW0lI5+\n",
       "Pm26g2dzBe+bD5KGD0mdJHMHl7qIp94VY5raJVKTKU7tD/EAAACFAZ4KakN/ABBXZLPf+sg9QYlJ\n",
       "05UWc4Qd2U6H28fpZRqwAlsJcjILBKj8ylrVT4H0NsblB8eGhz5ttCxR5gFlia8fA6YHwvS5Qgeb\n",
       "mzGi5XoiSGjOgHFmPlMUomNuCf5RX52FnX3e3t9xLfN1OI0Ws9ywuTrkWWW5oUaWPw1qHRJefO/d\n",
       "gAAAAHNBmgxJ4Q8mUwIIf/6qVQAAvHw0Ief7dQZk2EaoqGACB4h4IuXkHSJ0XI9/A/y7fwZOJVZX\n",
       "arNcfP+EqxoGLe9kZ1kz8EGiLOclKRl23HY/4WecWb//YG5H9KAdZ4hJbwOlXxBSdV68A/NmcOzL\n",
       "+EkeAlvwAAAAakGaLknhDyZTBRE8EP/+qlUAAG8wIYFfD9yB9x4+YRaLAAGgcCEq4ZF4BTMBIlny\n",
       "h/uYZAU2QPQhJE9a77NBjnZUHpb/gAAA3bYuWNi9ZKVrhD1geC2rEmRjhrz6P/cQPmkounq2ToHe\n",
       "I3sAAABFAZ5NakN/ABBXZK2sCWQLoICBefyo0kgtdQW7XMYASQAB0KLCAQ7bZbJnToSlanpvqiMn\n",
       "QCntI6L3XdFzEnhRE33gRoi5AAAA40GaT0nhDyZTAgj//rUqgAAvH+ICCvm31meBv+sKkbU5DRN9\n",
       "XTAlaPazKpUOXU71vRKODxga1rX+H3otCCqyJwbe6ScjygpptA6SNb6DJnX5J2CBnwu9jTAqfrC6\n",
       "ou7lvjRaXLjNVCXKdUwFv/+yUqbDkTat0j3E4iYmoQPY9gSvwYdLQKVb/Pu6DHhe1Yh0Ul1gqiXi\n",
       "aT3iPQlxtVuaJA0oLy+CdotCAQ1ZEUgS2Z0WDTYvSLoZQFQars2+ZmI2Jh860TCkO7VCcdDm6ImZ\n",
       "4hIT02uP2hN2DGVHdBg8vvkcnPmBAAAAmUGacknhDyZTAgh//qpVAAC7gMN8aQAkrDyfx2tRR4nR\n",
       "Y1LsB5fOsiI/TS96Q/rYQMUSmSPWUb2KieVvavHWZlKEIrgmZ/6f9ShKSwcjI42oCY9jXqY3ox8C\n",
       "MqQGUxleI0B19DuEtN/No+MnJiAfPfTieCFTUM3h1T3QWaR0jGZSN+70buvbvSULsee0FvId08c4\n",
       "1LPvEyJvQAAAALpBnpBFETw3/wAQV2Sz4RuZZ5mFaWsAKSlopFYKRAJODknoMZQVeA2oi8cwsH8p\n",
       "AkNNvG1n/7yAtLW0Gx8ArZarEnwAbu7JLaKdPHk5fsuhdpDIlduzvfY3RAVRtseRrQf4FmgOPkHK\n",
       "ho4uvnuHpLN9FVi4imrS0sWENa6x+L9uhGusYUDLZ4YJtm1ihKXSNpbtUty7q6PHrwXBbQTDQ6Ip\n",
       "ljw7VDD0hu5h2soZagsyuISJf4T6jtz8l4AAAADaAZ6xakN/AA/oeIAIfogOR5YEQHNM5R0kHSVh\n",
       "leP9/sRRDnbyOwvBt6H+UX2+UT/DO86rdbNrQVDkqF4n0EbR9IDoLE0RNYhVVhOF9zADu6fwRFKN\n",
       "/F9RnMlceI+8QtJ4Q038mn3VegUwoxLJRvWGOMSK2Gb86aMWJsIE88GMlJBb1t0sKL2hMLrWV+VR\n",
       "fwAihx0jlXkubG5XhXheB4gYhWH40qgj/qMRGUUmaBuo5m0wTDz0SRmBr65IzK1igRSdEVrzO6o7\n",
       "N+cLMDPDvseKSKKgYZ7UN6K0SsEAAABWQZq1SahBaJlMCCH//qpVAAC7iFStAS6wrrZMJX40ZW9n\n",
       "Hr5thX4qYmADRucaMbfp6giI4tOaIyfoN0bLsHgtN6MVea3dZ7bZxX5o56KjD/KcIL/hdYAAAACo\n",
       "QZ7TRREsN/8AEFdks96Ct3cii9MBdABb74RdL/5IQ/gGimspSeoVfJJ0pxq+UR06npr7x8jIsgP0\n",
       "TFloGKdIWsN9ogq8MZLPBvH3MveV3pNgXngCaOFwp45P83O2Mum7H1Z5ryhN/ScKlDzRd1IPa5ou\n",
       "yAlZRYFzCwTPX7e+/lONTEs4WeWzx6axgGPMsRL44P6xgvc2T5DRA7QUHV1sS7xPGrGyeBoQAAAA\n",
       "TwGe9GpDfwABNYyUjDYYXoMNT7hIVd1p4tiaz6BgAcPlUBLZU4Hj8enpxqz66454A1SerHCp9lJY\n",
       "/RFDhziN0OMZrfjSTY9Y1GQ/hiB8FlEAAABbQZr3SahBbJlMFEwQ//6qVQAAXj4vXquxwEYJrrqT\n",
       "zGPhqBD2i+fjvDyamTB8c9BW9GKcZEG9L0xBZ9Q+SLIAKc+CEDteAAZTyB+loizDE3KD6y+wf21I\n",
       "AkZZQAAAAEEBnxZqQ38AEFyMlVNXzpHapFHp3zMKi8TI97OA/cQ/Z+2TvA1R8Npmbtoz0h1PGL/e\n",
       "IAWtoQYrG8OlPTu3ePWdMQAAAMlBmxhJ4QpSZTAgh//+qlUAAFA8TeANjXg7qsZlSlzozVdziMw/\n",
       "drgxX+jSszd0JDb6UEqthw9ffxrdRib6un/L1unmJ73+dOrpzSUN6bE7LPhQLWD9Nzo5+8t6s+Va\n",
       "t/X6D2S5p3/pYURVJxtSJo33VsmdkFijwUCH5b7at30NbX/uk+N7FxeHAjRnQ6wkosZUkj8fIuz2\n",
       "1FZIfYzoxxJ/wmfj4MoKWnBlKLQ9s9irRYwdPPfKa0SddBFKh78ruQ50OmYEOrsYB6UAAABSQZs7\n",
       "SeEOiZTAgh/+qlUAAFBEIYFfD9x/ZCQeuEqtQNtYdaKTsLsyjuuwa8NHwAcnODOsWAocg89DQR/T\n",
       "RWO3aOuEm3//vH7AArhybSO88K1ckAAAAI1Bn1lFETw3/wAQV2StrjtuaAC4gr/QRw+oWJ6ZD5XA\n",
       "y8V+kRP53bZlkCQszckJWqF8jM4dpo6VeVKfimmrSt99bm1+a+FpSNsmgyvfrUamAx3FoXjbx9+X\n",
       "2uYrvkEyg4+oqUU7mSF7jQ/nH9TmTD2HDYWpJi3z71jM6VtKbtK/zpR2+ggUCbRUbO7IZMEAAABj\n",
       "AZ96akN/AAJlIAs8uYfXh2FBj80uRgBcOu9H+z5fEDo0arXk/lVMkezs5zkn9ye7dVAMVNIIZOM6\n",
       "+eR3AWoKR6U4UD6CUf/ivWAIE0oTHzLDWNr/TuSMXzzNVY8kJQGjK0o+AAAAfEGbfEmoQWiZTAgh\n",
       "//6qVQAAb5YVUEa2AImlrsciASFXoTz8DOVBKuN2On6ehQuujOqCnG1fSzg/tu0VbOvW/25aut2S\n",
       "tVK7wJcm4wuOyq15qjMGNQ6vdp6pJaXhXs41iY6IMxPX2NTmakslTrbG1g6XvavncsTU1ykGItsA\n",
       "AADTQZueSeEKUmUwURLBD/6qVQAAvGVz+J2xGoAF0lwZmRGyk9f4yEd+WFX2NWoU41RMTB/9vHQy\n",
       "w84DObhDlR/9Gjv3pXTe87wQI0WsMhqy1s5KA48GivV7thxdcUVBqRDkdPMr4qud+Grj8O1hpi8C\n",
       "fSZG/xSHNBRXn7B8Bcb+AY9+HtArVrJySmvE7ObL0WhZxIU9VEo2TWHT7f+7yQKAK/PdRIegwBlM\n",
       "m9mzGjH8ULcxYkfKRUg/FOZZQF/gy9NIxgaCuhNnDMRN9xmAYgoOhL0CtwAAAJMBn71qQ38AEFdk\n",
       "s+EbmWeZhW6bXp29sxnueNrBwAnbglS3VT29D0NAishqjnGVUZaaixioZJkZKJt/XMU0usTcaaX/\n",
       "vdU3K3DWRXMegn8Q7q+Y9WLhs+j+WaE17Ihj+glXbPyBNeWhulHRC8dt4Pd3PuMOaAi3s+EPaEne\n",
       "fSvJ05hgXes6uU8xHCygKFuRfnPuJ/gAAACyQZu/SeEOiZTAgh/+qlUAALuIDgEVri6Y3UQ2p/uT\n",
       "44mm1eN/v/8OfT5JaQd7qzW76QOw6XuWvrMSoe3fVziZcMDcaHAoANnqRAudgxU4mA7Dobm1ifhM\n",
       "YJkpWtWzEcmi/Ho7OrzIE792yJdmnK7lvA04/p88CgVVgrgdW4hLNYHqEIxYqYgjp6K122YkhPeS\n",
       "jSlqg9sq+b+EH0XVThSD9AG83Bvs7q3QfAxmvJVONJUG9AAAAL5Bm8JJ4Q8mUwIIf/6qVQAAt/v+\n",
       "BWMyCcMcLrLB+rdHWR18mjZ4ZDtZydPiADcIC5HHWnDs3L3JAFUZs4dJZLCN0AXCEFfhW5P/3tQ3\n",
       "8mTel5Usp6AbzkTY1llPOR9N3LWGBhaFFVXzfpDGemDwKbQSzbqJMKKJO3VPr+JCswZr6qf5z8zu\n",
       "IcFI784ufjmNmHLo/gHYQQ8tZ3M8z7nCLXrKOQNGT5GNJygyYpr1w3b1fWa7u4XODBl3oBemLHHB\n",
       "AAAAdEGf4EURPDf/ABBXZLOO3E40UjEGjlUTzudjcyqn7p/V4eCrbKf4C29ToUXgNekyEw0JTYdi\n",
       "IMB7SoQHW/spL4dl7/NeD+Xs6OBWUQOfjIoTuvkCit/Vi09FS6dD4AFJbiXhQSAyiAS8lZdXu0XH\n",
       "VLwB9SXgAAAASgGeAWpDfwAA/Xx5IGwAC4drqb6Du+4G9lDGInp4eaiIwaGqaM1N3hm8PimOWLlv\n",
       "d1LswFEZYcffAhqtZEX+sv+Urne8kvWkZrEPAAAAUEGaBEmoQWiZTBTwQ//+qlUAAF4+GhDz/bqD\n",
       "MRECsmHqs0RlaX02Y8+6Rck/OHSg9WcIzdDqvzO3mzkSnoTM19jQj7AcaYGOB4dwV3XZMHHAAAAA\n",
       "aQGeI2pDfwAQXIyUs7B0WCllMKOOfWrd/GXJrAeCR0NC8YcKtte+ltTLpClhzNU8ws1sE7bJZy9c\n",
       "qd91Qd9NHG+m42oO9mcOvESWOnfQC6qSpjsleAlqmFxopavofi21e/OktIjJydzpgQAAAMJBmiVJ\n",
       "4QpSZTAgh//+qlUAAG8qD8AR8i8yd00NcZFS1cDxwQTSm3QtxTDMKQjv/5Pe6K4AjhwPBew/H59C\n",
       "Kjg5Q3Rg4p4VR/HMQ7P/+PwJhHzxC35usCPJ1H777JN85Cfoq/ZWDAxIGjVcj5XNYNAUAoc9LORA\n",
       "XlvjaHhL7qobCuB8/WogiVG+AWkQIFs9ezOk2O32ouJwuew8hVyIjy5FlKKHPXO58jeLGNjslZoQ\n",
       "j5bVLiq6whc8l3uGCRGtvr8DgQAAAMBBmkdJ4Q6JlMFNEwQ//qpVAABvMCGBXw/cgdr4xoC3WVee\n",
       "oHTlHWCmcUHLU2PGmGgmHz6EFYG2hvbW9KzI08xeL7LscgBrECk8pP84o1UKQ0qY+fxSOn7QuA7F\n",
       "DYlQ5MvevKNM+VYoWhpd9ThoVg1+uBggDia0f0ScRfvTVMOHmYkiYum4t7cV6GRycSkvG9b35VgN\n",
       "Tzyejn/e2FN0eZO8EXfRR4ilZUBaD2euEZAff1GaA7SlRwKhPArM9yQUwS8AAAC1AZ5makN/ABBX\n",
       "ZK2sCWQLoInkruAEyxlTaAD1j4wkNKYljb/vV36EMD0NBPallOMK7eTY4wsYkm2aezyK668hsfz6\n",
       "K4NxbFnQA2PTtgu0M2Wcb6gyY2cZRdByg1XIrjhEyMUfVo7uL8h6TvH7EZD5jAUGwL8FYBRRw0Ra\n",
       "/oak/88TAOmyWVQYucvNhze01z8XoaVdSuUYMmhBk02URTbHh3n29hYTBwp5pFHuDaivA3Bp7ZEI\n",
       "uQAAALFBmmpJ4Q8mUwIIf/6qVQABePi9qad/iduaQgAhLp46roPKsnwFdn4xPiSq7dP9GlYP3bBR\n",
       "bkx5hve7tIdoVtylKHU4iNSKLe8m9Y0IHLIUSJyz34j3ncHWo7kdP1hSOEfibC6dltcEV5A1a4+T\n",
       "eDZuWZoO1b4N9eLiOYNsTYbvnw7Aj2CSa1pAgs2EI4N/vet7A29bxID7pmZ8Xg41rTlakWhz3Abr\n",
       "RSgqrvpjLahp3oAAAAB6QZ6IRRE8N/8AEFdks+EbmWeZhW6Yq8InWVOWslG4A1qGMUtFIrCtqoM5\n",
       "VdkDROJxt7USJowsH8pXbCd2ADEZn3BaSKXSW0pvI4AaTJwe6vdqzmJQvUTpSRcKBnWdBfK882VX\n",
       "nHnhgjhEhPl4vcarGgJh/H8PmXnEk4AAAABZAZ6pakN/AAILXnfKt6kMXPB45+Q3FwSTlpcL5lTw\n",
       "cMg8AG8MZ96ugLejHuNC/NRgRYdyfT+FFniIgACHIfdRPcCFTuZaRuC49UoVfadAB+RTfNVzYIvt\n",
       "DgkAAAC5QZqrSahBaJlMCCH//qpVAAC7gKRbEAH2rEMzpAenN1tJh7Ol6Gul7kRH6aXs5O9oBkR/\n",
       "z2s9crKNkmlcUdjO1kUtjZhj8CCcNPYTaitaIo8rZnPVfs2+LTN3oH5CppH39foPjXHAksgXjUoy\n",
       "I3je8UJfH9OB7eG5xilV7ysbREga+SfJakmzoFG2QTif7eTMrvoEM9qMLBpqcFvqUVZ/uyuLehqa\n",
       "G64Dh6Yz7FB9izr8DMTNdurahiwAAABIQZrOSeEKUmUwIf/+qZYAAt/wra8PUE0dm1loXtO/2jhG\n",
       "cHTUcaqVDVeVARtwVWq8nkw6PWuEYKXuIAWtkxUqgy+n2VeBcIeAAAAAhUGe7EU0TDf/ABBXZLRc\n",
       "YFAJ/ZH00dWJ10ZwiJ6AAh8SKnpKAAcLvFFtPKRy0AvMxIke4jipof9DoAKKEWXaQ7DmLxK+7uLL\n",
       "RfJU2pupV9QFbQjK9Gqot3+371yMUkAmatfPr9OBSCNWbXWw7Q6eOY+mrE8LEMZHoMXgKQH82x66\n",
       "KjoF4ssAAAB2AZ8NakN/AAILXsqFz03RslztI6yKvHCCTlGuXlUcA9UNIAACrrDKGaKBZCJ7F+GU\n",
       "yUjZDBN/Fc9Z3WbcmnXwRbHvC6Qz2JOYJV5GPp2Lj1oAazkXiOFvYiyhTjQ509QrSQIm2JVVvcgO\n",
       "ehG88bzGCgzwv4g9YQAAALRBmw9JqEFomUwIIf/+qlUABeMrn/j/OQ8AEvT00q0lJ8dfRrJ2oDFW\n",
       "JLei3u70MIBR7zi2Ionwm7R73CWvDgXpRXnVgSt9rfZGhVCgAnq3QzxHwIjXcUY8NJ1I82LJJTWU\n",
       "wyt3pJ+dquPqp5fJlTs7XfpSebzDNvmO3PKeiISmMIpCGHHsmHnjnMKo+MwI03e2VXN/+ecCIKSg\n",
       "BczJSRlEHCtHuuI3WAB5iZg56b4bWKzwh6UAAAC6QZswSeEKUmUwIIf//qpVAAXcQqVoCXWFdbJh\n",
       "OD2u4o1cVwMACUSb7gAC5+hv35E2bQam4iqU5x0j+i+//2xE1azyAd9oSib5KZkefhTAjyCDG/7M\n",
       "AmGKh0GC+uY6ptrR0ZZgrrbO9k5xGpnoolsIAWETQ5cepBQD+3GIkSlykayli+WUfKIQAQZTYpiU\n",
       "nSPAAHvBLMwwtAVV/nrL29g60D7qoFd2EjYyuZqICPpclbMzQ3tNgs3yrhvQAAAAlUGbUknhDomU\n",
       "wU0TBD/+qlUAALuAu08EEi8h1mfs6PELxh5n/OA8uh/uzzsayyC8JFijvOZYRMXW1OerYqK1f538\n",
       "i+9LZWJgLDCsmvNpaoAp0qToQEFsA59iY906mdTeLP23Nha4PdOYHq9JHgVIwFzB5DOrplCFuXih\n",
       "AHZ5noSQMpYvFXU/SW4qxZ6+8uLbtZf1cOmAAAAAbQGfcWpDfwAQV2Sz3/rIPUGJSdOVFnOEHdlO\n",
       "h+oNfByvjUi+zMoxJ7Pc8xpLLAK4jQQLR3zhYDrmADqqQKj9dlPeIVqX7CdXcPMcPB7FPD8bzQ6A\n",
       "I3sHC61Fmmv4LqGzuoX9DAADxcZrJ4Vi3hEAAABkQZt0SeEPJlMFPBD//qpVAAC7i0nW2eb498CY\n",
       "4Wom/gAB1mOHyeFRIi8Ldkh6cnCXB/XkOmmV+0nTX2qom/yX6k2Z1q2NAYPp0vrWKPZz0CxDI4cm\n",
       "p56gSDKjKjFnJ/dNzF62YAAAAHMBn5NqQ38AEFdks47WzuKV2D2z9VCwpnAbP74zRqUgWnR3OUmF\n",
       "b6Wre/XA4AHIOgTf0GRZ32JTdk/pQ5inwBaNq9T+1snv7fPcvbG89ZOb0BbT/+aMlJ84r779zqoA\n",
       "7DIAQr6cLBV63dL0IIhBHyUXVIpIAAAAtkGblUnhDyZTAgh//qpVAABdwE4+IAPtoB2y79+wDJPU\n",
       "NHyiunpZR4NSCty26DAnASSu/Kwe5jl+T646KyevtK4C79VGwKtnU7PLyRjxhxZN+sT8a6cfOpn/\n",
       "/V2HZlB6l3KHyUEM3zsGEt1fR2KBeN+NTWwsq3WWnJ+drn1pRKFftfpGOUujkjt9+f9+Ea7hoH40\n",
       "EYmSzs+BWwMzmTYIP4QJeBOWYiqPxjEcY4+EyGHukx8wKATdAAAATUGbuEnhDyZTAgh//qpVAABe\n",
       "Pi9eSO0QXsLqxWTD1WaIytL6bY7n3SQGobpQv9B2jQiAEFPmksmX0rBEoMXe2mBxAAw2GQPX8r+U\n",
       "r4nAAAAApEGf1kURPDf/ABBXZK20ANABQwrofY3kDbkgacZlkEjctIIgf/WErK/kkBCn4E4Dr61b\n",
       "0lCJmA3j5cb1seWiZPnuMrCAz7A22w1mit3xl7TwdyTV3pbC13tYghja3lj6bgKB9t5JHURtGC9C\n",
       "+34LuCKmS0QSUbzHH9r/efemwLvxP7As6Iy+YgOpWH9qNp/YO7OfLdetDHKTBNVpbZl7HxFGbA3p\n",
       "AAAAbQGf92pDfwABNYyUjDYYJopDPCmjyPUeoeo64KZzZ6GKUxVEAHHtMc8UsgxjqcCdf+JmDAC0\n",
       "yMqizxA5zTplaSa60/F3pQ5AAAfWUWrO6USTr/iPhptvONl6QWzF1YWO/dpTf8ol13wG8qsgz4EA\n",
       "AABkQZv5SahBaJlMCG///qeEAANiaESMAAo7IciXu0Rje9kjAIqcv8W9WaJcSnOaWo379buWZVWX\n",
       "qR5CBpWTSjP+vu+9PRdmj2qmw0Pq28A9uv0mjAiHP8khyqQ3MqoOKTnoSgNS7gAADptliIIABL/+\n",
       "963fgU3AQO1rulc4tMurlDQ9UfaUpni2SAAAAwADjh6zXRqSe5rQaAAGAwP4M7/8QUB+6tCc2ZHM\n",
       "d3HOdE5As7317FAUAwAQEBaw3ULg2Vv2EUh3HJOSSmNPAUvkcufVD/4rPShBESO5hDxqJ/Kc7T4/\n",
       "5One2gF6WNzI4D7e2yQOwro+e0nEeG3H50unO5yBRrJrCSOuTMPI+dskseP7kfU9R1Cmm9t6suP2\n",
       "SzTH7y465zEXD2GDuzBjrL9YCmsKKaYOAh8PZgLlAIr2k7r3bTPS5lZ7/Xjhp+NZyVUbcALziqzb\n",
       "EGjGnAX4MnKN618EwMFBAX1NrT14JdaDlusmwMoj1NjuYqr3cmkG2+dUklCTDu3MnCUE8rYINX8u\n",
       "aC0EEPOCfxYxw4JH3jTOtb2QQXI2d9qabLPsHWlWE3gIpC8PzfDvvheAWJ8jhHG6CQBwbpWMxtdp\n",
       "ogMdNCG355EwPDyHPsTGTkzWtRUfo3kk1+Wjmzk+9mVNBl+e/zxP4AfpGnqJ9NZYsZQTVmAb67cw\n",
       "GTTIA+A26soTpW+eb4/IiJeKDdSVlcwAJpA1C7PFBzLd33qsYGy9HpXy8cRm5PJ+2wFcQZnNr+FH\n",
       "Ehjucwh6EfZCVfqfp0JJF1FP4eUXe9zFYhqYjJugctv+JY0m0ziA3TvlJkf7lh57EPgKrtev/pr9\n",
       "lZTq46WOeC2RIoKuTp3tglis2ja0fmZb07IcqfJNzqPV6H9xAavsW3/tCk5xS8N+ZdpIX4nm+GJ/\n",
       "PhuKFYDpi8y4EqMfSylj4Hd5ciq9Olnc5aldpJp2051o/HgEDLZvesj5wmZM2ghVFiAxo+cmgugA\n",
       "Au0eUGdSPXCYlLpiZaaHjTY4gnGrsI15Iq109ccP5nxZjsJClwR0xgR/sMZ/97Tfl8ajA5e3O/3x\n",
       "BDZpfKCNZBkdFcDMt+sOLCSv5S0SH8EB1DyXa8kP3/ifYrzJhufceCad2wsyaC2qhY2m/6QPJeC9\n",
       "Mw2wK52fFcfszR7xffLXtP2jwyM3hD/4gK7IfGOBF6a92wWIH3BRG2QUlM+mKbs313AV47fu2/OD\n",
       "GP5Cafirn59hWIEdo7oKmdACGR5AH4xxVDqAwakhRzjqDaaiuRi/ieAV6FLNekUQa19ZwHn1Fv5Z\n",
       "b0frSf/0D1YSSdd0+Ri4wuVG3gOWGmW6g8fIN9Fo3A3BG2Fmd4+swfQUfMvBH9x17wtkTdOlU3OA\n",
       "RdMNc33qDI645/8hXUOXDXuZbeKQc37tua+Dap+vZ3S2jyaNbcgqNSnUR4vW2MYTfy1K7Nt3uetQ\n",
       "TmmWhLQM1qts6Irdt9VgkM8kT9J/0C3hKuE6PUFg7RisKqiUS2LOFagORYmIYe6IkwrkW5nBH0vp\n",
       "L2eWVSPuo4T1WhNaNIabwgjH3V94o4tmYJCz7wj77Ja90mFtP1hmr/87zpHnkqGll6DlAUccj5sX\n",
       "fRqDgOtLKUu9HKywSWJYNnmJc6IovqgR901fii3Y3ZF4OpTEWhfRSCHlKEIBoaLQeqZXWivKQNUw\n",
       "T435JJyAO+9pmwGlpchF34SJEzNkjggnCcSiwHS5Eq9kv7FXx80LpqK5F9QTj8QFjADVzW0QaL+i\n",
       "42kFxGkb1qSPWjTw4uELsRHki7IhGsLCb4JBS7Y4UeBtNAagNWwBbLWcQk4UfHAapE18ARQQy+jL\n",
       "oqIpWv4YflRdBf5/8Jp/g8scu8QOqakWRWYz5b09vf1IwGA+0neM4rw8R05qZG7hbgUMpUSVJ6j/\n",
       "9/W+wPex5LG8xoChuu8teQjPNyRxeiq6+5H7n24rcR8XXjt/6742nGH/U0WzVFp6IQhfgm+L3D39\n",
       "MjHls4oVEakVV6MUKpegG+59xxcfh7l+CqIBe25BEz/FN92xEyDz3kJIk34GW6K0NNBPJFxzhQbK\n",
       "O1UdSkMbm6+VZGNOCTmdAYLedSFxoO0g9utFq6vO4iBcvJWKX2KK3Ba9iwAuKCsx/AXYS/9veDp1\n",
       "H/X67fj9X8GEUaRBaDjDFx6HGoEUAOCobFTa/OdWzZiybX85x6z/jr20OR9GC8n7Tg78zVZvFBOc\n",
       "fAAf9OMirV+fsmQTV9Tlf6cn0opAuj8lEXtnmuux6qRZ+LSh0sFrPwmP4jorbTGjF3/VjY4CRySa\n",
       "ZwkWNFkHcKObYzmR6t7G2+LCzEAVApeHVtG2kcwQxV0fcj6+jM7oQWzYO9KIEVawBx+YTGUJ9Ruf\n",
       "vliujnan1cxSmH+NwXSgQTw2dD2n1+s34ILfCvGIfaL2Iarb7YYJ4p9Idffz6Xy3Xxzw+7NIxqo5\n",
       "Rivmj/HL61yv2OsnUUU/Twu+lDoQ7XheyBamuaY8bJN+8M/81kYHgf7ucbtGXj0PlGDv0JWWr5Vg\n",
       "xx2mmuW2mMQJ4B/JlhNHU6aTMOEZ0KFvt6UuIIi9VHuME8CyOvY56CIYvIa/zRM+f/ENwLtJVb5E\n",
       "ObDrYr73vZ2f5c32053qUJL+h5PhyG0ELeQHPVNF65eHB22oJu80uvPKPo472XpuLMtPyVMjDDvb\n",
       "9Ecj3pD6em73uL02o+9pdTTQJpRJ7GoDFLWw8GO2Wa4SH7yiEeQsqVhPuQZGhSvRBVeuShXPf0Jy\n",
       "gAlHqdjlon9C6Tb/JJYe8Ju+/Ylebv5hIaegqSidK3/rYSjl1n37ft6Rn+eVFGdhT0QMm2RTckXT\n",
       "BT96Hldb7x5CaOxWSLeTdfzZKPkbqXPp6yJEvfzhy+YglDrut5rqr2LqkzxVoySsum8ODJ8nb7XA\n",
       "ly30mz+D8pJ8mKpwzA52DiAK/jx08KI9oQsfPONQM2BDjsYX2/9xeFBpGudWNa4gCUvz2LzR2rP/\n",
       "Ruthabk1uYiLYUPmuYkV49LdLwBpXP7JmSAJjDRcFfy9IEsba+Y9OzpxYI4UNbE2SxZ4nApmpb2i\n",
       "F/ylF17e68qUK3cVz/g/47bEhcMYvXk0vfBtBspL9nP/oX6nDukKSe0Ehgd7dst4THk6Ak3k/N5z\n",
       "U6F8+CnpVe/7YwwH5bYzPv9vvTjB2L9OAVeoCsPS6wvRxoeDOX4eAUWQcoYnscYPshc0BmCDd5CZ\n",
       "KpZrlZsqMXgn99XBHvEG1dAiY353KwU8IXmbLcw+CsJP0NOjOwvEWpKpiyOMsY4pczoXLasdi341\n",
       "Gg3toLnwt0NNGg9QHPkSJqM13/rpHZhUxcyURc1txhfwzCejBFWRlU8CfILwWNcJoZdDzKkgHQn5\n",
       "DYUD5WLrPvO86AkhJUk5jcXxHMJ0taAeumbNz+by1NKR1kcxanvt3Zc8ODYreYnOb21F0oa/Y9HJ\n",
       "ztOdKgituBsgKG4nRosyIJ4CTiaoHpplmjzu95sMwznvDW+vwKF180ClwrB7Xm1IrO3PzWvw302c\n",
       "c9ijlbWQndcfM2POBW5O1JJ6fHkExwwVhxku7qcm9QfiX9gZnrZ3HLDQb69ig5irvx9BsztgVvha\n",
       "tG3tUzm+V1khgVSjVS8yKKRyQvslF4Faa9YUeHuNkngZ2Q6PWl2SbhjyNpgCOybGwmlwKtjZZm8f\n",
       "rInei/96SrdjmtI1eamldLOST76+MkT5i1+YZsYCD6WpcNmhwsXYC1hZ3Nh5cjP11bO0/hr2jozX\n",
       "D/zf/uy2Ou1Klvcygd080+r5KFut+43Bj6mm2HhckzKjt2ed5WpZ4iJhaR9SDA51oEiFKMOBXyWX\n",
       "Mqxtx50sXFFWHxVRI6sDBXRjyfGH2hZ+4f1EOXxhtfZeAiwXI0FD7QzKU/eN/Pvs+5vOzFSSgXLd\n",
       "A//qZZHKqbRF1kpRYk1a/CofgG1zldXHtH4Q/JxvoBqEFefDTJxbXwavpcLLooIgxXwIkYy58nwx\n",
       "9x4C7UIN5aCuhDdHa/SHe2JYY8FJCh+Y/SHWfTWKVAzb14iQeuOMfom6dYyu13Y1gtM+rkSdEsGz\n",
       "x+CiMho+jcTXSadfAaf6///SDWKW87MzFY/PFj7X31nveVCRSZyRvzNro5U8CnUNFX3RJLjXLjW/\n",
       "KXNtQfzGQsDtmbF1rvUWJ1jaEJiPMe5m5HN4t+zhCbXQVf8Eftr8m3ZHykzyYMb9at7lbCxPfEkJ\n",
       "4SGt/NB+JjgfuaV778bN2gVKoIwU5UjFpMczp1qwHq+lcPYIzQEMWjTclH+bDVkKzDJY58S3zHF5\n",
       "Z9RJP66GMVIDA9/u5Na+6CJ/8ElAxvCdnXawAQwdpVbQoHSop2mEIdvgArIOeJ0pIcgACo81K4vG\n",
       "9yFVEoRygUcRbSCwvmVY+nwaxm+XOZK4gjyY8pFqiygXEFXlBDadkHconlH8DJiEFZme7k0jT/I0\n",
       "476bMATbrbLPIJmYaKJE/lajphDmQBkz6I8uuBic9oqxbc4WNs/0kx1b8QUBYXS6HKR8ppozEdei\n",
       "lbVNd4PM8t4ce3XWEFzzBY5FtAA4ChuRv2p97u5kZCP4DIUh2WFxaOSzPBTpIDqe4CVmLRY+l0UY\n",
       "Zl96Y1ngUOZscv6gYEi7edka6AyLvEgCCzlTpC1Y7Z0xaXUQ4uZypjKytW82g/tg7zb8Pmt1K0rR\n",
       "pbOV0X+4jbhhMHiK/47bB7tmtsFYSudWh4GlwZ1enUa44oqLHuJc2Yyt3SsubTdpFTBJDDWrrL4m\n",
       "zxmp8oYAX9o49IX9Uc3RIVPMqSwPpLNLCISILnhD8g+RqaxVb/y3nKQjcL2aNfBFyiKx8mW725EX\n",
       "F3S0jLk0Y84TE3Q3T0cds96SZ/mhpC4uGmWJjfAn9eRF3rvI/yZSakWTOwwlX0ayAxgb8U8U9OSb\n",
       "TGnCEVWqrSdXufEwBFv1DoArlbxQqpb/KqlEtFI4i/DqjWHzeVPI9RRm9g2+cEEx7xFtSuaIzSUD\n",
       "1kd4QoLxpS/X7JNT8m5WubITmjB0JsD5J9Sfy5hb4n72+DCnG6zq5menY1+4NzpkfMKrWn5GcA7N\n",
       "vq32M47ukplQ/z8djJz0RFozTeirDZoxRy0BXHC3YGkO3u1CuxnwtPKk8wVSg6AsiElwvCEQsC4Y\n",
       "zi7BamOOxQZatfAoZ8abj6YdPYdEz9kAAF9BAAABzUGaIWxBD/6qVQAwuCGYAdFECqV3Eh6+rpl+\n",
       "mNQ05A9aJttX938K/JtJ0pNcDEmA/OqUP/QmeR2gJEwylyrZB84w08eu5AQPSDmbpGQ01U7XBLRp\n",
       "fICzcSQjicFsTyrw5G49di6CRd+Zgf8//Na7KdS5MOdWPEQGZ3T23sTfdOVPcposSN9KYjetjfQa\n",
       "6B9y9y1dv0bYQMYyFCv1lVoyim3gazkwYL7UamMegnYo2PV+HOYtEJRxctjKr0WXrvk1cNOXOqYz\n",
       "wthRkrzaLWeV/gi41fI581GmbPOKO0VKMf6q+mWJwm/BHeadw2xbFo1LI6LZ8onYnI8Tliy3Fgk7\n",
       "K7tlY3b3lCi1asgrmo3IzOVdvwG50weqTE/H+t9S6TjxoMT8OuziGr6KH6F003jDcKq/3ONtA/fw\n",
       "uP79z+CObEzKWnGHWsF3tT9HtLJ8yUTWsggUq317xNfErEl83xpHcWr31RoYvhh7amhhcXbSYz/I\n",
       "qBLr2RDYDwmH0/cpcXtzhLGWtEvaA4Ic2U0AR3BoQ7a4cECzHI+twJ2Q1S+8ORpNGdt0cOJc4lCX\n",
       "YMynbtKWG0jW9wKm4VMBW2tRq1XOuomQS0Xz4NesW2gbgISAAAAAjUGaQzwhkymEEP/+qlUAADeY\n",
       "EMCvh+5A9ceVsBtvTQXAmy2/AA6kIzrg1hqylCQ9RysINQMLR07Q0Kq6qqVXpT5mTRJ3m/TsmJGm\n",
       "R/gHlgdLZaaPKVPvD7kPT5+Chg69QWdtIK8JNk6HXLQdhHz2RAuSfY6lszCnPV8XrkqVhkJ1F07d\n",
       "/LCpHI2bP0ukmQAAAHoBnmJqQ38AAo8wRSYAaACi8QAyzZp3ub7FAjTERhVSM0p6Y2oSBd1/V+8S\n",
       "P6LZQXXM6x6xlt5agyeZPymo7h/Bg16VX4FzSUWBtjeytl3eXsoTPnDUtRI2+0kAZ7i9kRJIy+Pw\n",
       "oDeuf7nt7d5GnCJqaCiWpk3cLExaGQAAAOBBmmRJ4Q8mUwIIf/6qVQAAUD0tQBrEXg7ddUUT8HjB\n",
       "Pz1XK6f7SLbsxijWTtOnmVV1U//hT2AJ1CFHNradAH/8i0iCisBX9qdGjbzBvDuUdkmPX5q3N/Tj\n",
       "pDUIqeySIvtsMCOOPCUqQj//kiwbJzZ5Vxy2Ph1ThE2Dlkt8A8/mr1RqNxipJcTJQi54hRxqAqdd\n",
       "6qK6G3tv7b/p607wnDhI/DUMeOYSrZDXZcxA4ghvo7Ji3f9Ua9wKVaq0w4mZa7A0dVHlapcq/piC\n",
       "cw1hGr+ojNKRaucQQQOaIXFiIOKNRAAAAL9BmodJ4Q8mUwIf//6plgABb8ur4nbo40AGhTj7l/oT\n",
       "Q71Y9Vh3R4DLr1s3J9iAr/tCK+3GsKht3QEpdN6ZG1FW96ESynknwj9Urm2E3HIkZ6rlhcaRaAsO\n",
       "C8zBDo2vQTcaP2ADrKqOYkWAQW1qlKAs8e0qQNOUXn+2d+Tj3ZtJ2J8VGdne70S+H0gmG2bDtcc/\n",
       "nPClt3jtYFj9JbH2epD3LUCEvCd6w3mLUKEhYhKDC/RLZdbC7/ipj569FsXvSAAAAJ9BnqVFETw3\n",
       "/wABNlHwADKPwAyzZp3ub7FAjTERhVSM0p6Y2oSBd2TGA4Ttvc/oQBs2BGLLm5agyeZPymo7h/Bg\n",
       "16VX5UQNweZiIHtHKwiZR5UbwRUrQ/IYSMKPTNjDObVRhuy7/NU8F8sHiFXPxcAcacnVmFkdCgBc\n",
       "OA00I4JaauEPXfQc6Xjh3mOz5Nhxj/TurZKcsOVXf/cqP+idvqEAAAByAZ7GakN/AAE1jJSMNhhB\n",
       "apiNoANXHuuJR1yOv67YPruIUWJA0dlfPbMBXL9i5ZA81lF+Qp9+V61UlRMJLLnozN3nkjlvyFQU\n",
       "Ifq6pPe3LoEkztJhbu31sESAo7C7tL8lq0bH4crJFx9CJvporWjjsN+EAAAAm0GayEmoQWiZTAgh\n",
       "//6qVQAAb4xkdEEARneTymy7D9+ervwU516si9Xk7keAwnlS9VWZWv+9kc8cCP6FL/0DySXKznc9\n",
       "c046GE24txp7gbNTMG7rfh2R8Mp7i4Y0oP9q9crFungzYVBRhclcrkvGixoAABlFIkMnAY/Q/X5i\n",
       "3r951SzJzLXuRuNrXCk5ca9WYXFlRJrB8KfnTelRAAAAYUGa6knhClJlMFESw//+qZYAAbK5giIS\n",
       "YwwjdW0VJ7eEJ/AcNWyGUzVMxe5O2PO16MrzqGPkqAC9m9LaqJLqyx+eAABqdhgNviyAvvtylxmn\n",
       "nVp7oTE93tS+QYGYPoR2YwIAAACYAZ8JakN/AAE1jJSMNhg2KB0z9lmagAJbCXIyCwSo/MqqmH4F\n",
       "wIsZwVkBx4aJWDVcmi1aF49RG2wPUwpiQKclaUz0CZj70w4IaM6ARBWKn4uX5LWeRuxE+XIA3F6l\n",
       "DEb6sbfy6X6oA1g2IuivaTwwvrSJSOonV1J+DRjCjW+JDnzGzCEbWwrqHNpdgcZHQUmcWR6E7JUj\n",
       "OOEAAABcQZsLSeEOiZTAgh/+qlUAAG8wD4ABT+sZt0G6S219Kcb03YebeRPEolUDHozPfp2vVBZQ\n",
       "NSml2DQ5dEBKRKxGRxcSH5lx+HN3vbSB4KXN4PgCAEYwSeUDmBfmdmEAAACEQZstSeEPJlMFFTw/\n",
       "//6plgABsrmCIhJjDCJIv+lLNA0JBSecp8AGI1zVfsXsfWFuL/wjVovg2uGIgnIvEoizVtrdceC4\n",
       "YAEWKdwTx21ujkb+IuWbzSgfrpeMQOKZl+vqJ/fhFGD7MgMrr9HtKUqQ9A0F6jySWVcC5qmmqMvr\n",
       "6jiZEJeBAAAAcAGfTGpDfwABNYyUjDYYTYm+Z5I0NACTiMXWGb8AVqXTKfzDxRxz61bCTV7U6+qR\n",
       "1z27siLU0NpbTY5QAE0Mxz5HjdbtCLt6/rxmUmmeP796ZVXWWfcwM5MxanGyhvyU1V7R90mRKxSR\n",
       "RzXoNgOYDAkAAACsQZtOSeEPJlMCCH/+qlUAAFA8TeAKDR4NSNrT23X4jCa4vcb9JWWfWKJXSYWZ\n",
       "DAPpC1IBL/eYJJLi6poLNGolTIjJpBTgfwjC//rsP/sFoTtZ//nFQjA+yNLaXpK+qXu2q26ffd9E\n",
       "4HskTTmzwnaunnsZwbXrWJcKA0SpNHGycT8/gQErRICVk1MHuB1ZME9UadVmgdmbgZrg6IofoIyV\n",
       "2X7yfSm/W6QkTyBnwAAAAMlBm3BJ4Q8mUwURPD///qmWAALfl1f4/zbEAA0Vsm+V4UPSXheylQ6W\n",
       "i9b9GvloFwjwOCVCM2SVW1HBxelw6JDrDCM1LZLgztz6HOmU9U6fbk8Iwmzyu394TG/BvlvHCois\n",
       "QjiIjzvPWELJsBwPNgNnK1Nq2aQpQyzvYqKr2Qlt4i/NMy2Pa/GPoQx147nn8rzql7KwSM1rGp53\n",
       "TVbWG3JTS8dwIYxfZvLmQgv/kwbcQjmjhwJA2EVm2PrNkSgSrOlegcUxNFUywQsAAABRAZ+PakN/\n",
       "AAH8KEBzno0hua5svD0UgOcyKCjaniwAC4fasl+Ka1sh1pwRS0Fk3KCKYsjbScREqRpNAw6OM4/i\n",
       "3qRnXbGHBGq3uRDhe9CwMIWVAAAAz0GbkUnhDyZTAh///qmWAALfkUP+ITMkE+F0Sr76RQKu7bTl\n",
       "eJKSzrvR8IMVx3JlNB0BKIgaNMBzonlFiqgE1TBrNSIN//5EwLukZc2mHMhkddc3m4s7wPIl46h9\n",
       "90kVTYr0P/qNnSrX/gAj1Xz9YkzeZUBmVHjvXarvKBJWptOb4mSvnpIAOvgg538M3f4C6Rt7kLjM\n",
       "o6M3/3SJUDgo5fly0DuaeVNc8HVj00r90krNWa5DQv2EsWYEiV7j38FQZtZCTRO6tdCkpZeC6PZ8\n",
       "wAAAAG5Bm7JJ4Q8mUwIIf/6qVQAAvHxkIAoqmf4cNfgDQ4TVYsHhq/prvH/25dmcc4RKsemcfcNS\n",
       "FjUGxBj1ZD0c4RaY7I97fSh+1OoHNYWEny+SA6fB3eOxPwmTtZfpDKJxXxV2Z8v4xz7ZlP2/Ui2H\n",
       "LwAAAMJBm9RJ4Q8mUwURPD///qmWABb8ur+EryiAvaRY/RppHLfQtdikBR7RxEyk5MOfw9w1W0KL\n",
       "iEfLbqmpo5j38ArHK+me5TmUvzSWzYUPvqzZI0ltlPSCVShxReqmOmypvi6lRy26JU4CALT6C6Fh\n",
       "zmygJ5nW0H4LUAMqpFoQpdj3D1Zg6aOKB+Kdr/QRrNMTYmhsLiQpq7/jqMfWz3FGhm5ApBK9Ypng\n",
       "dsFfq/Q+0mj1oEHAcQTy1jNZshfyCwdSC5UjKwAAAE8Bn/NqQ38AD+BGV5nxLruN5+IuVymq6X1P\n",
       "qadDlK8bsAHc0elEkPpJgBcPLd6atfri2M4WKiSB/X64unD2rPWB/RZSdfBY8gHtZuz4H5GBAAAA\n",
       "ZEGb9UnhDyZTAh///qmWAAtvydfEsM5Gagydz0LbJ3kCSr3tDRyat3w0a9qBgBa9nxrWQEfwGAZc\n",
       "P8rG/fnRXGC6vhLPaAZYt+v0479TBnHqAhTuHuPyHuCApWae9V0ra3HZwwcAAADlQZoWSeEPJlMC\n",
       "CH/+qlUAAu4CkWxAB9wkGZ67kfOQn6G77nUtrrxT+Zub6DJrpy84HZqOEZ06M1W1YwxPr54GClDQ\n",
       "yMc9QzLtoGwart/7noWhIDf97PhmWUvl+1IgP/BQlmhKk84PZbKiD4nNpm+lsp/QGqBJ41j/HSgE\n",
       "DUm1PX/+IL95HO0tDuTUNQa+e8W3RQ0/MsZZesZd5pizvSzrHPd9NlGvKF3eA+N8hgcSv/aq3SKH\n",
       "d5Idbk5P4AADUPADcoHyS0QIHo6dY3zhx1KY3ixA9lLSTWHzl10DjHj9XO2f40CXgAAAAF5BmjdJ\n",
       "4Q8mUwIIf/6qVQAC7gJzVQ4ABXeHJR9FxOSIdVb2KiM57PTtfUEQvep7zloIrjHjGECShs0uVEH2\n",
       "4yHwz06uRbRVvgWwhdqd+RK4w0M2RWQnBdA5VZNkefsoAAAAakGaWknhDyZTAgh//qpVAALx8Xr1\n",
       "XY4CME10tS8b4eyyF/wHJULESpJnk2+F32ErKYiNgQGzzMI2FSfNX1yboG2tcpVhqhpsS4t+6Yqw\n",
       "8AKxB+FvJTUFjOMEQ+oxFIZ2YVFwZtNhpujyL2kAAABNQZ54RRE8N/8AB++1hGGwwngDNcjNkfGn\n",
       "W4B4AAAGcQPzmQACtgVUHQIeWwiQZbdgJN2Eh80F6Y0K8uS/Lt32FCZjkqkp1f0KhiPAA7oAAABE\n",
       "AZ6ZakN/AAP4EZX66kypKg+44bChkeenlYviVn5/oID4xzCJ5gCHv0kUoJ7FPLvbrSVZiGkjs3UY\n",
       "M4S1Tcv1NOXIZ8AAAABRQZqbSahBaJlMCCH//qpVAAF3ATmH4Sm/5oKZiqhEPT0x47YdcIABL9f1\n",
       "Ha1Q3EQc+h/UVi/sVwiAYa922HsjQAWAJBmRi9ewEpdfJHVEyBPnAAAAekGavUnhClJlMFESwQ/+\n",
       "qlUAAXj4vXquxwEYJrphz1miWlOAAOrz6xtI0QcA5vmuVVTOzd/yV9DFOgbURk1F1jnyww4HscW/\n",
       "4428eh42p/qcBbjT25X4cC1MJLZW9ay8iYHwtMgARU+ipvwC4yyE7vy2c1M6jxLycjGBAAAAZAGe\n",
       "3GpDfwAD99rCMNhhOUavHAsALVbPRm4dx1HzXlPq5NhImZCSgFKzCXjKTzr4A/hv09uJbRvfSQhJ\n",
       "msnbyPD9PFZ3v43oHNn1rtFBn+1SI3zVzzZ+Gav7ZMdvdtW0mRUMMqEAAAB6QZrfSeEOiZTBRMEP\n",
       "/qpVAAC8f1cABQSxT5FrnSAQR2xnNVOXBMqFI3pm0WFeIYa/jIJbta9K97epRoQBXuzreRqc90YE\n",
       "0QOLFYG4igLuVBoOzPP5o62vtEKZ6BFD6Fon4P4KWDDcR31eNuYij67eXzrqJfA3cLuA5QUAAAB+\n",
       "AZ7+akN/AAH8CMrzPiXXcbz8RcsY/tTZEYzxiP6WY43wXFppnlgFcM4Un79+NmcFXYAOrw03ETbI\n",
       "DHqBWXZdVBytW1swaYHyIvnXXydIGr3nORdMp1k8kwefJXBc5HIxiDAQgrkcwPxz1oAM/8pc9DzP\n",
       "MyVIzeq+gjZowSG/AAAAx0Ga4EnhDyZTAgh//qpVAAC3DwjMeN0ETc+p14Qt1PVn3T+p+LgBzP7p\n",
       "j2tT2Lvs0L9Ek67JAFUBiAQh0ICt2wDR2QgQovr7XQyUR8SicelKxI+RwKTju2Ghgm8wr7KXYq9u\n",
       "Q2Y29CMjPV8h4RigePq0fdWw/C0THIv2QIC0jCIppv/ya9fv47XtqAM6EXJfvonGAZkQEAAXcSAE\n",
       "/G+uNP+zZiBPbkfTopDfj6AWdsgte29/Cxh3UZltn2KoP72WdEakGHBoxIEAAABHQZsDSeEPJlMC\n",
       "CH/+qlUAAF3FpImzzfHvf9/bbaTQA1zdUX9kY9gBUwNwAQl4LlrYo7wOuXsW/8NqIX0Qbg2A1X6q\n",
       "A1MaY4sAAACQQZ8hRRE8N/8AAP18eSBsAAuHa6m+g7vuBvDxGWKADJ3/lhK/yAMbr+P/+Afhvi93\n",
       "B59LTdc1uX37AEbHvdDh1LehzZCJFwWgKmQtSUG9JA3F/gd0E0dhjospRpA0RvxX/oW9MZlK9Arc\n",
       "wsDdXohYwaVJHOuk3q6tnczcFTg+RAetSt+0hl8h9Y5o1EZwRCmhAAAAkAGfQmpDfwAA/gRleZ8S\n",
       "67jefiLlqZfdqCeYLg6DuzaTg5SuWn6YiHBlpK78RrCR9bM81kBgAcJB6s/024Bl/kC8KA4GH/no\n",
       "Uo3hRGwpYSszBvqr9xM1YVHIZAD96rmQtjtubAEu1J8DAxzayUXuoc3ZqDJkrFelaBTwiKSxnqq8\n",
       "ev1v8TPcdNeaID57WXCtgQAAAKtBm0RJqEFomUwIIf/+qlUAAG8oryAFvSzIUVUdNU1DN1nopKFt\n",
       "s47noUo+m/eAqM7kfOQn6G1gSYX3Z7nJaZAopTOnPZiXWrn1yRhxVfhtIfhhMdzBTeLRCrc5BQuH\n",
       "xxXL2XrEgOjtTj1ZCNAct30EzefoocMNzcHOXbSAngNqc0Kha6oXSPNLqJ70e+344WsAP8ucJzEz\n",
       "sskS6SogjbCqWB+tys73c9ivFnAAAABxQZtmSeEKUmUwURLBD/6qVQAAbzAhgV8P3IHa+MaAt1lX\n",
       "nqB0xxqqoeO2qa0JRcC1mACiiTxjm6L4B8NQSujznuwNVu+q8894gkAckX+vqk/Q5aJB9zDBUgAC\n",
       "3vpRJRaUOCke8Jr+h8DVXEcrxlfuqYAAAACNAZ+FakN/AAE1jJSMNhhXwxgAlTIBgjBa/4IicLfm\n",
       "qAtaIHtGfujW76qa7nLiPhkxf9nSgMhEzCslEwHnssZc9I7MCXKA5XRK5oQH7Qnj/auf/FWS9EkA\n",
       "F8o5scJMiLfrUDMQvRW9ZIg/COuLVCtV8TzFMuJuUnOSAEMb2M78IPYQqXOe99PcviZe2MXBAAAA\n",
       "cUGbh0nhDomUwIIf/qpVAABvMCGBXw/cgdrpa89NXf7agKEGoWhJGz8CYrA/7fKwLCm78tSkiqsj\n",
       "GGgrlj8hd3eVsGEEJV8iHg676Qcw/lH5fPsC2gbbOtM9/JKCcalaDUIbnN4q/wjqViKm0Gq6WKSA\n",
       "AAAAoEGbqknhDyZTAgh//qpVAABvMCGBXw/cgepMrJ+DXZ8AH737vkp5PEHDIar6yboG2uxSrDVp\n",
       "cD2bv178A6srfYCyJ/gnY57pENuWoq3DeM1hH9yaV6fu6lwa7Ay0Hu1mn6ssTraOkSbygpyNsSs6\n",
       "0I72yagA+jtHufnqGVazQB3Sfg07lHpThYFMj3PveMEF1Qse/pZEl7xUGB2YksAgm6sAAACFQZ/I\n",
       "RRE8N/8AATWMlIw2GFbUE6Mc9K27Agd8mKBG/84FvnqhtbVr7Wm8YcNkzP6W0ydUYhbczEJgcs50\n",
       "xnnDSzWf/KwC+VMJ3rtvXoOMV7B6LJ6K/VCqybs0dY92zdd2lvbgoTKrx1txZj1K+zwTMUSA6xPV\n",
       "057u5yn6nBAQ6VR5lKGC7gAAAH8Bn+lqQ38AANgXSYgrtEh5Qtz8gTYWakNSi9ERhA7yQZmVZLUf\n",
       "l3Fp7nY9nsOF+mznAla5DYbZM75P8FlbCo0j9EdHVbGGnae1/0xtFrD+oHxOihgMTqAARNKfta2c\n",
       "TDZbpRSxDizBbVQNK3CQ860Yqajsw/YAaex2pc97fAI/AAAA1UGb7UmoQWiZTAh///6plgAC3/Cu\n",
       "TGkMhNgA0AjV6DdfFP7DQFVJDieqJEQyzp78uUxUSvJraZb5gqz0vkue4pj9soc9Sq05Y4R8/JaZ\n",
       "Bh1r7NAXTp+bG5yG67tKXaBC74ir1qho+XyKHgMjQ/HJYO6kuPeYImLh0n/Nf/3WfiQ2NxKXhUhZ\n",
       "mZV+QSqZoxESVYY9MikO31GwR7aUgrUc4MZ33QEp72xtb9NMxhoq+D8tRD6LIxSRsFMOMm3BJnNM\n",
       "1nxui7OAh7Luqrg3LGCWKWMrJg4k4QAAAIxBngtFESw3/wABNa9AOc9GkQRAnWEECCr4F2w1i+IA\n",
       "qKrcmRwKgKnEeR3Z7F1KO7lx40kyvqmlsBExdKbRL+soG4NBJEfkdvfOYwxjutfRrfE1I/Qw6TTa\n",
       "eS2euRoCnEFZU0m/rLaaFFYkxB/kdG/P7WEvZjHYMIFc3SUpIItk0CQ/p3pbCz8HvZgMuQAAAMUB\n",
       "nixqQ38AATWvQDnPRpEE6ihf6AADVsY/tyHb2XTlH3ufKR5MMrxBweh1oMbeR3kNl4BZQ6H+pRtC\n",
       "WWfvkpG625AdfJezER4GvkG+YjMbOKF+2EI7j/hzPFOgAAObKZo73R/OePhaZO96ZDxCxQ70b0lQ\n",
       "/pGP+fHDIy4Lpf9OIDnlsFvXmoBGNuW6sPUf4O5Wqh+S5kf6Mvk2nXzDhcTqic0iYwpMW3TQ9n1T\n",
       "2X46RjCxOUv58cGAENhvv2zFE5eipajRgQAAAK5Bmi5JqEFsmUwIf//+qZYAAbK5giISYwwjeC85\n",
       "whwqgi6E9tZyKAEqKWne3wlQoUezrWiye+KbMRtX4Ob5VQnoXMvGCdKM4kM68GDj1o7lDkT3NbWB\n",
       "9/I1XoKyriyTlbS6WKVX5kM17y2W8GW5t3l1/y/SHFy5BjUAAAMAemXml4fpbz08ogRgVXblcalG\n",
       "WhlhjqFf5k/o2PDvKmZuckICv83SDjGjwTFKumplhBwAAAB+QZpPSeEKUmUwId/+qZYAAXj3D1wO\n",
       "PqGR0QgAUu0htOU/LzMb7jjaWwnLjMnG5FGUBDOERXkSG3NfCq77i61WUOE6ICAo7a5Ayp/jDQfW\n",
       "4LI6bR+hYmN82/MTO5Rf+q2m1n1yTpZ5rnhoz6iiGb/tXuUSaGBlgWZ5KTq2Ca+AAAAAY0GacEnh\n",
       "DomUwIb//qeEAANiegKPybPABuENsxx6kmM6BONx52Trv1H790M6NfhJX2Qp0lA8wuV54bjMxpy6\n",
       "R8kANP76jOIMD1CnTSFhoLZ7Bep9oWKVsE0SULFQjR1kp+rVgQAADy5tb292AAAAbG12aGQAAAAA\n",
       "AAAAAAAAAAAAAAPoAAB0zAABAAABAAAAAAAAAAAAAAAAAQAAAAAAAAAAAAAAAAAAAAEAAAAAAAAA\n",
       "AAAAAAAAAEAAAAAAAAAAAAAAAAAAAAAAAAAAAAAAAAAAAAAAAAACAAAOWHRyYWsAAABcdGtoZAAA\n",
       "AAMAAAAAAAAAAAAAAAEAAAAAAAB0zAAAAAAAAAAAAAAAAAAAAAAAAQAAAAAAAAAAAAAAAAAAAAEA\n",
       "AAAAAAAAAAAAAAAAAEAAAAABsAAAASAAAAAAACRlZHRzAAAAHGVsc3QAAAAAAAAAAQAAdMwAAAgA\n",
       "AAEAAAAADdBtZGlhAAAAIG1kaGQAAAAAAAAAAAAAAAAAACgAAASsAFXEAAAAAAAtaGRscgAAAAAA\n",
       "AAAAdmlkZQAAAAAAAAAAAAAAAFZpZGVvSGFuZGxlcgAAAA17bWluZgAAABR2bWhkAAAAAQAAAAAA\n",
       "AAAAAAAAJGRpbmYAAAAcZHJlZgAAAAAAAAABAAAADHVybCAAAAABAAANO3N0YmwAAACzc3RzZAAA\n",
       "AAAAAAABAAAAo2F2YzEAAAAAAAAAAQAAAAAAAAAAAAAAAAAAAAABsAEgAEgAAABIAAAAAAAAAAEA\n",
       "AAAAAAAAAAAAAAAAAAAAAAAAAAAAAAAAAAAAAAAAAAAY//8AAAAxYXZjQwFkABX/4QAYZ2QAFazZ\n",
       "QbCWhAAAAwAEAAADAFA8WLZYAQAGaOvjyyLAAAAAHHV1aWRraEDyXyRPxbo5pRvPAyPzAAAAAAAA\n",
       "ABhzdHRzAAAAAAAAAAEAAAErAAAEAAAAABhzdHNzAAAAAAAAAAIAAAABAAAA+wAAB2BjdHRzAAAA\n",
       "AAAAAOoAAAABAAAIAAAAAAEAAAwAAAAAAQAABAAAAAABAAAQAAAAAAIAAAQAAAAAAQAADAAAAAAB\n",
       "AAAEAAAAAAEAAAgAAAAAAQAAEAAAAAACAAAEAAAAAAEAABAAAAAAAgAABAAAAAABAAAMAAAAAAEA\n",
       "AAQAAAAAAQAACAAAAAABAAAMAAAAAAEAAAQAAAAAAgAACAAAAAABAAAMAAAAAAEAAAQAAAAAAQAA\n",
       "DAAAAAABAAAEAAAAAAIAAAgAAAAAAQAADAAAAAABAAAEAAAAAAEAAAwAAAAAAQAABAAAAAABAAAI\n",
       "AAAAAAEAAAwAAAAAAQAABAAAAAABAAAIAAAAAAEAAAwAAAAAAQAABAAAAAAEAAAIAAAAAAEAAAwA\n",
       "AAAAAQAABAAAAAABAAAIAAAAAAEAAAwAAAAAAQAABAAAAAABAAAMAAAAAAEAAAQAAAAAAwAACAAA\n",
       "AAABAAAMAAAAAAEAAAQAAAAAAQAACAAAAAABAAAUAAAAAAEAAAgAAAAAAQAAAAAAAAABAAAEAAAA\n",
       "AAEAAAwAAAAAAQAABAAAAAABAAAMAAAAAAEAAAQAAAAAAQAACAAAAAABAAAQAAAAAAIAAAQAAAAA\n",
       "AQAACAAAAAABAAAMAAAAAAEAAAQAAAAACAAACAAAAAABAAAMAAAAAAEAAAQAAAAAAQAACAAAAAAB\n",
       "AAAMAAAAAAEAAAQAAAAAAQAACAAAAAABAAAMAAAAAAEAAAQAAAAAAgAACAAAAAABAAAQAAAAAAIA\n",
       "AAQAAAAAAQAACAAAAAABAAAMAAAAAAEAAAQAAAAAAQAACAAAAAABAAAMAAAAAAEAAAQAAAAAAQAA\n",
       "CAAAAAABAAAMAAAAAAEAAAQAAAAAAQAAEAAAAAACAAAEAAAAAAEAAAgAAAAAAQAADAAAAAABAAAE\n",
       "AAAAAAEAAAgAAAAAAQAADAAAAAABAAAEAAAAAAUAAAgAAAAAAQAADAAAAAABAAAEAAAAAAEAAAgA\n",
       "AAAAAQAADAAAAAABAAAEAAAAAAEAAAwAAAAAAQAABAAAAAABAAAIAAAAAAEAAAwAAAAAAQAABAAA\n",
       "AAABAAAQAAAAAAIAAAQAAAAAAQAACAAAAAABAAAMAAAAAAEAAAQAAAAAAQAACAAAAAABAAAMAAAA\n",
       "AAEAAAQAAAAAAQAAEAAAAAACAAAEAAAAAAEAAAgAAAAAAQAADAAAAAABAAAEAAAAAAEAAAwAAAAA\n",
       "AQAABAAAAAABAAAIAAAAAAEAABAAAAAAAgAABAAAAAABAAAIAAAAAAEAAAwAAAAAAQAABAAAAAAD\n",
       "AAAIAAAAAAEAABAAAAAAAgAABAAAAAABAAAQAAAAAAIAAAQAAAAAAQAADAAAAAABAAAEAAAAAAEA\n",
       "AAgAAAAAAQAAEAAAAAACAAAEAAAAAAEAABAAAAAAAgAABAAAAAABAAAMAAAAAAEAAAQAAAAAAQAA\n",
       "CAAAAAABAAAQAAAAAAIAAAQAAAAAAQAACAAAAAABAAAMAAAAAAEAAAQAAAAAAQAACAAAAAABAAAM\n",
       "AAAAAAEAAAQAAAAAAQAACAAAAAABAAAMAAAAAAEAAAQAAAAAAQAADAAAAAABAAAEAAAAAAEAAAgA\n",
       "AAAAAQAADAAAAAABAAAEAAAAAAkAAAgAAAAAAQAADAAAAAABAAAEAAAAAAMAAAgAAAAAAQAADAAA\n",
       "AAABAAAEAAAAAAEAAAwAAAAAAQAABAAAAAABAAAIAAAAAAEAAAwAAAAAAQAABAAAAAABAAAIAAAA\n",
       "AAEAABAAAAAAAgAABAAAAAABAAAQAAAAAAIAAAQAAAAAAQAADAAAAAABAAAEAAAAAAEAAAgAAAAA\n",
       "AQAAEAAAAAACAAAEAAAAAAEAAAgAAAAAAQAADAAAAAABAAAEAAAAAAEAAAgAAAAAAQAAEAAAAAAC\n",
       "AAAEAAAAAAEAAAwAAAAAAQAABAAAAAABAAAIAAAAAAEAAAwAAAAAAQAABAAAAAABAAAQAAAAAAIA\n",
       "AAQAAAAAAQAACAAAAAABAAAQAAAAAAIAAAQAAAAAAgAACAAAAAABAAAMAAAAAAEAAAQAAAAAAQAA\n",
       "DAAAAAABAAAEAAAAAAEAAAgAAAAAAQAAEAAAAAACAAAEAAAAAAMAAAgAAAAAAQAADAAAAAABAAAE\n",
       "AAAAAAEAAAgAAAAAAQAAEAAAAAACAAAEAAAAAAEAAAgAAAAAAQAADAAAAAABAAAEAAAAAAEAAAgA\n",
       "AAAAAQAADAAAAAABAAAEAAAAAAEAAAgAAAAAAQAADAAAAAABAAAEAAAAAAIAAAgAAAAAAQAADAAA\n",
       "AAABAAAEAAAAAAMAAAgAAAAAAQAAEAAAAAACAAAEAAAAAAEAAAgAAAAAAQAADAAAAAABAAAEAAAA\n",
       "AAEAAAwAAAAAAQAABAAAAAABAAAIAAAAAAEAABAAAAAAAgAABAAAAAABAAAIAAAAAAEAAAwAAAAA\n",
       "AQAABAAAAAABAAAIAAAAAAEAABAAAAAAAgAABAAAAAABAAAQAAAAAAIAAAQAAAAAAwAACAAAAAAc\n",
       "c3RzYwAAAAAAAAABAAAAAQAAASsAAAABAAAEwHN0c3oAAAAAAAAAAAAAASsAAA/tAAABiQAAAI0A\n",
       "AABdAAAAmgAAAH8AAADiAAAAeQAAAGkAAADRAAAAfwAAAG8AAAB2AAAAgAAAAEYAAACDAAAAVQAA\n",
       "AMIAAADAAAAAfgAAAHEAAACeAAAAbgAAAHoAAABdAAAAXQAAANAAAACOAAAAvwAAAHsAAABlAAAA\n",
       "iAAAAGIAAAB8AAAAYQAAAKAAAAB9AAAAagAAAFUAAADFAAAAzQAAAIAAAAC0AAAAegAAAGEAAAB4\n",
       "AAAAggAAAGoAAACGAAAA4gAAARgAAADWAAAAigAAAHQAAADEAAAAkwAAAH4AAABzAAAAbwAAAJUA\n",
       "AAC+AAAA0gAAAF8AAACVAAAAYAAAAOUAAABZAAAAaQAAAJAAAABnAAAApgAAAMIAAADQAAAAYAAA\n",
       "AFMAAABsAAAAbgAAALEAAAByAAAAcQAAAFYAAADdAAAAjAAAAHUAAAEdAAAAVQAAAN0AAACmAAAA\n",
       "0QAAAI4AAABkAAAApQAAAHMAAACVAAAAYwAAAHwAAACCAAAAWAAAAHIAAACQAAAArAAAAGYAAAB8\n",
       "AAAA6AAAAHwAAAB8AAAAWwAAAHYAAACIAAAAZwAAAHcAAADOAAAAYgAAAMoAAABzAAAAjAAAAL0A\n",
       "AABqAAAAYgAAAIQAAAC9AAAAVQAAALAAAAB9AAAAXQAAAIMAAABhAAAAzAAAAHAAAABQAAAAwAAA\n",
       "AGAAAABTAAAAvwAAAE0AAABuAAAAewAAAJ0AAABlAAAAbQAAAFUAAAC/AAAA9wAAAMkAAABuAAAA\n",
       "lAAAAFYAAAB5AAAAtwAAAPUAAACiAAAAbAAAAJ8AAABFAAAAkQAAAHsAAABkAAAAXAAAAHQAAAC5\n",
       "AAABBAAAAFIAAABvAAAAVAAAAHUAAABUAAAAZQAAAFwAAACzAAAApAAAAIMAAAB3AAAAcgAAAGsA\n",
       "AACPAAAAdQAAAGYAAACJAAAAUgAAAJAAAADOAAAAaAAAAHIAAACuAAAAbwAAAHEAAABdAAAAcAAA\n",
       "ALUAAACFAAAA6wAAAGAAAABeAAAAvQAAAGwAAABMAAAAmgAAAPkAAADUAAAAygAAAH8AAACBAAAA\n",
       "kwAAAIkAAAB3AAAAbgAAAEkAAADnAAAAnQAAAL4AAADeAAAAWgAAAKwAAABTAAAAXwAAAEUAAADN\n",
       "AAAAVgAAAJEAAABnAAAAgAAAANcAAACXAAAAtgAAAMIAAAB4AAAATgAAAFQAAABtAAAAxgAAAMQA\n",
       "AAC5AAAAtQAAAH4AAABdAAAAvQAAAEwAAACJAAAAegAAALgAAAC+AAAAmQAAAHEAAABoAAAAdwAA\n",
       "ALoAAABRAAAAqAAAAHEAAABoAAAOnwAAAdEAAACRAAAAfgAAAOQAAADDAAAAowAAAHYAAACfAAAA\n",
       "ZQAAAJwAAABgAAAAiAAAAHQAAACwAAAAzQAAAFUAAADTAAAAcgAAAMYAAABTAAAAaAAAAOkAAABi\n",
       "AAAAbgAAAFEAAABIAAAAVQAAAH4AAABoAAAAfgAAAIIAAADLAAAASwAAAJQAAACUAAAArwAAAHUA\n",
       "AACRAAAAdQAAAKQAAACJAAAAgwAAANkAAACQAAAAyQAAALIAAACCAAAAZwAAABRzdGNvAAAAAAAA\n",
       "AAEAAAAsAAAAYnVkdGEAAABabWV0YQAAAAAAAAAhaGRscgAAAAAAAAAAbWRpcmFwcGwAAAAAAAAA\n",
       "AAAAAAAtaWxzdAAAACWpdG9vAAAAHWRhdGEAAAABAAAAAExhdmY1Ny44My4xMDA=\n",
       "\">\n",
       "  Your browser does not support the video tag.\n",
       "</video>"
      ],
      "text/plain": [
       "<IPython.core.display.HTML object>"
      ]
     },
     "execution_count": 69,
     "metadata": {},
     "output_type": "execute_result"
    }
   ],
   "source": [
    "test_anim = ut.create_system_animation(frames, n_episodes * episode_length)\n",
    "plt.close()\n",
    "\n",
    "HTML(test_anim.to_html5_video())"
   ]
  }
 ],
 "metadata": {
  "kernelspec": {
   "display_name": "Python 3",
   "language": "python",
   "name": "python3"
  },
  "language_info": {
   "codemirror_mode": {
    "name": "ipython",
    "version": 3
   },
   "file_extension": ".py",
   "mimetype": "text/x-python",
   "name": "python",
   "nbconvert_exporter": "python",
   "pygments_lexer": "ipython3",
   "version": "3.5.4"
  },
  "toc": {
   "nav_menu": {},
   "number_sections": true,
   "sideBar": true,
   "skip_h1_title": false,
   "title_cell": "Table of Contents",
   "title_sidebar": "Contents",
   "toc_cell": false,
   "toc_position": {},
   "toc_section_display": true,
   "toc_window_display": false
  }
 },
 "nbformat": 4,
 "nbformat_minor": 2
}
